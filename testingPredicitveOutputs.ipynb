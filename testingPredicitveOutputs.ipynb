{
 "cells": [
  {
   "cell_type": "code",
   "execution_count": 61,
   "id": "consistent-baptist",
   "metadata": {},
   "outputs": [],
   "source": [
    "import pandas as pd\n",
    "import numpy as np\n",
    "import pickle\n",
    "import requests\n",
    "import warnings\n",
    "warnings.simplefilter(action='ignore')\n",
    "\n",
    "def formattingJson(forecast_data, day, hour, station_number):\n",
    "    # list weather rows to be added (from api doc)\n",
    "    weatherConditions = [\"Clouds\", \"Clear\", \"Snow\", \"Rain\", \"Drizzle\", \"Thunderstorm\"]\n",
    "\n",
    "    # iterate over the json array to get the hourly data\n",
    "    hourly_data = 0\n",
    "    for k, v in forecast_data.items():\n",
    "        if k == \"hourly\":\n",
    "            hourly_data = v\n",
    "\n",
    "    # create hourly data dataframe\n",
    "    hourly_df = pd.DataFrame.from_dict(pd.json_normalize(hourly_data), orient='columns')\n",
    "    hourly_df = hourly_df.reindex(hourly_df.columns.tolist() + weatherConditions, axis=1)\n",
    "\n",
    "    weatherValues = []\n",
    "    for x in hourly_df[\"weather\"]:\n",
    "        currentRow = x[0]\n",
    "        for key, value in currentRow.items():\n",
    "            if key == \"main\":\n",
    "                weatherValues.append(value)\n",
    "\n",
    "    # give new columns a value of 0 in all cells\n",
    "    for col in hourly_df:\n",
    "        hourly_df[col] = hourly_df[col].replace(np.nan).fillna(0)\n",
    "\n",
    "    # where the\n",
    "    for x in range(len(weatherValues)):\n",
    "        for column in hourly_df.columns:\n",
    "            if weatherValues[x] == column:\n",
    "                hourly_df.at[x, column] = 1\n",
    "\n",
    "    # get rid of the unneeded rows\n",
    "    weather_df = hourly_df[[\"dt\", \"temp\", \"wind_speed\", \"humidity\", \"Clouds\", \"Clear\", \"Snow\", \"Rain\", \"Drizzle\", \"Thunderstorm\"]]\n",
    "\n",
    "    # convert from unix epoch time to useable format...\n",
    "    from datetime import datetime, timedelta\n",
    "    start = datetime(1970, 1, 1)  # Unix epoch start time\n",
    "    weather_df['datetime'] = weather_df.dt.apply(lambda x: start + timedelta(seconds=x))\n",
    "\n",
    "    # Create new column weekday\n",
    "    weather_df['weekday'] = weather_df['datetime'].dt.dayofweek\n",
    "    # Create new column hour\n",
    "    weather_df['hour'] = weather_df['datetime'].dt.hour\n",
    "\n",
    "    # dump now defunct datetime column\n",
    "    weather_df = weather_df.drop(columns=[\"dt\", \"datetime\"])\n",
    "    \n",
    "    desired_row = weather_df[(weather_df[\"hour\"] == hour) & (weather_df[\"weekday\"] == day)].values.tolist()\n",
    "    desired_row[0].insert(0, station_number)\n",
    "    \n",
    "    return desired_row\n",
    "    #correct_hour = weather_df[weather_df[\"hour\"]==]\n",
    "\n"
   ]
  },
  {
   "cell_type": "code",
   "execution_count": 66,
   "id": "reduced-combine",
   "metadata": {},
   "outputs": [
    {
     "data": {
      "text/plain": [
       "<Response [200]>"
      ]
     },
     "execution_count": 66,
     "metadata": {},
     "output_type": "execute_result"
    }
   ],
   "source": [
    "forecast = requests.get(\"https://api.openweathermap.org/data/2.5/onecall?lat=53.33306&lon=-6.24889&exclude=current,minutely&appid=5cf5e19adac515b3f8510d2692fddc43\")\n",
    "forecast"
   ]
  },
  {
   "cell_type": "code",
   "execution_count": 67,
   "id": "linear-earth",
   "metadata": {},
   "outputs": [],
   "source": [
    "forecast_data = forecast.json()\n",
    "#forecast_data"
   ]
  },
  {
   "cell_type": "code",
   "execution_count": 68,
   "id": "statewide-chapel",
   "metadata": {},
   "outputs": [
    {
     "data": {
      "text/plain": [
       "[[12, 279.4, 3.79, 90.0, 1.0, 0.0, 0.0, 0.0, 0.0, 0.0, 2.0, 23.0]]"
      ]
     },
     "execution_count": 68,
     "metadata": {},
     "output_type": "execute_result"
    }
   ],
   "source": [
    "result = formattingJson(forecast_data, 2, 23, 12)\n",
    "result"
   ]
  },
  {
   "cell_type": "code",
   "execution_count": 58,
   "id": "assured-blank",
   "metadata": {},
   "outputs": [],
   "source": [
    "forestPrediction = pickle.load(open('randomForestModel.pkl','rb'))"
   ]
  },
  {
   "cell_type": "code",
   "execution_count": 60,
   "id": "threatened-impact",
   "metadata": {},
   "outputs": [
    {
     "data": {
      "text/plain": [
       "array([11], dtype=int64)"
      ]
     },
     "execution_count": 60,
     "metadata": {},
     "output_type": "execute_result"
    }
   ],
   "source": [
    "forestPrediction.predict(result)"
   ]
  },
  {
   "cell_type": "code",
   "execution_count": null,
   "id": "short-carpet",
   "metadata": {},
   "outputs": [],
   "source": []
  }
 ],
 "metadata": {
  "kernelspec": {
   "display_name": "Python 3",
   "language": "python",
   "name": "python3"
  },
  "language_info": {
   "codemirror_mode": {
    "name": "ipython",
    "version": 3
   },
   "file_extension": ".py",
   "mimetype": "text/x-python",
   "name": "python",
   "nbconvert_exporter": "python",
   "pygments_lexer": "ipython3",
   "version": "3.8.8"
  }
 },
 "nbformat": 4,
 "nbformat_minor": 5
}
