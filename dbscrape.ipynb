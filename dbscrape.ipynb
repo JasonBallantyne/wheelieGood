{
 "cells": [
  {
   "cell_type": "code",
   "execution_count": null,
   "metadata": {},
   "outputs": [],
   "source": [
    "#!conda info\n",
    "#!conda list"
   ]
  },
  {
   "cell_type": "code",
   "execution_count": null,
   "metadata": {},
   "outputs": [],
   "source": [
    "import requests\n",
    "import json\n",
    "import sqlalchemy\n",
    "from IPython.display import JSON\n",
    "from sqlalchemy import Table, Column, Integer, Float, String, MetaData, DateTime, create_engine\n",
    "from sqlalchemy.orm import sessionmaker\n",
    "import datetime\n",
    "import mysql.connector\n",
    "import config #make sure this matches the name of your config file\n",
    "from config import user, passw, uri# from config import user, passw, uri\n",
    " "
   ]
  },
  {
   "cell_type": "code",
   "execution_count": null,
   "metadata": {},
   "outputs": [],
   "source": [
    "engine = create_engine(f\"mysql+mysqlconnector://{config.user}:{config.passw}@{config.uri}:3306/wheelieGood\", echo=True)\n",
    "print(engine.url)"
   ]
  },
  {
   "cell_type": "code",
   "execution_count": null,
   "metadata": {},
   "outputs": [],
   "source": [
    "meta = MetaData()\n",
    "\n",
    "\n",
    "stations = Table(\n",
    "'stations', meta,\n",
    "Column('number', Integer, primary_key = True),\n",
    "Column('name', String(128)),\n",
    "Column('address', String(128)),\n",
    "Column('pos_lat', Float),\n",
    "Column('pos_lng', Float),\n",
    "Column('bike_stands', Integer),\n",
    "Column('available_bike_stands', Integer),\n",
    "Column('available_bikes', Integer),\n",
    "Column('last_update', DateTime)\n",
    ")\n",
    "\n",
    "#print(stations.number)\n",
    "\n",
    "meta.create_all(engine)"
   ]
  },
  {
   "cell_type": "code",
   "execution_count": null,
   "metadata": {},
   "outputs": [],
   "source": [
    "APIKEY = \"faa0b3cb4ae90aba340567484b057e59c72b1a37\"\n",
    "NAME = \"Dublin\"\n",
    "STATIONS = \"https://api.jcdecaux.com/vls/v1/stations\"\n",
    "\n",
    "\n",
    "r = requests.get(STATIONS, params={\"apiKey\": APIKEY, \"contract\": NAME})\n",
    "#x = JSON(json.loads(r.text))\n",
    "\n",
    "# json = json.dumps(x)\n",
    "# f = open(\"test.json\", \"w\")\n",
    "# f.write(json)\n",
    "# f.close()\n",
    "#\n",
    "# print(x)\n"
   ]
  },
  {
   "cell_type": "code",
   "execution_count": null,
   "metadata": {},
   "outputs": [],
   "source": [
    "JSON(r.json())"
   ]
  },
  {
   "cell_type": "code",
   "execution_count": null,
   "metadata": {},
   "outputs": [],
   "source": [
    "def get_station(obj):\n",
    "    return {'number': obj['number'],\n",
    "            'name': obj['name'],\n",
    "            'address': obj['address'],\n",
    "            'pos_lng': obj['position']['lng'],\n",
    "            'pos_lat': obj['position']['lat'],\n",
    "            'bike_stands': obj['bike_stands'],\n",
    "            'available_bike_stands': obj['available_bike_stands'],\n",
    "            'available_bikes': obj['available_bikes'],\n",
    "            'last_update': datetime.datetime.fromtimestamp(int(obj['last_update'] / 1e3))\n",
    "           }\n",
    "\n",
    "values = list(map(get_station, r.json()))\n",
    "#print(values)\n",
    "ins = stations.insert().values(values)\n",
    "engine.execute(ins)"
   ]
  }
 ],
 "metadata": {
  "kernelspec": {
   "display_name": "Python 3",
   "language": "python",
   "name": "python3"
  },
  "language_info": {
   "codemirror_mode": {
    "name": "ipython",
    "version": 3
   },
   "file_extension": ".py",
   "mimetype": "text/x-python",
   "name": "python",
   "nbconvert_exporter": "python",
   "pygments_lexer": "ipython3",
   "version": "3.8.3"
  }
 },
 "nbformat": 4,
 "nbformat_minor": 5
}
