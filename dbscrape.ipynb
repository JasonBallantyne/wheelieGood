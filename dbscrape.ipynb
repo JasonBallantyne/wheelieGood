{
 "cells": [
  {
   "cell_type": "code",
   "execution_count": null,
   "metadata": {},
   "outputs": [],
   "source": [
    "#!conda info\n",
    "#!conda list"
   ]
  },
  {
   "cell_type": "code",
   "execution_count": null,
   "metadata": {},
   "outputs": [],
   "source": [
    "import requests\n",
    "import json\n",
    "import sqlalchemy\n",
    "from IPython.display import JSON\n",
    "from sqlalchemy import Table, Column, Integer, Float, String, MetaData, DateTime, create_engine\n",
    "from sqlalchemy.orm import sessionmaker\n",
    "import datetime\n",
    "import mysql.connector\n",
    "import config #make sure this matches the name of your config file\n",
    "import time"
   ]
  },
  {
   "cell_type": "code",
   "execution_count": null,
   "metadata": {},
   "outputs": [],
   "source": [
    "# Request Data from API\n",
    "engine = create_engine(f\"mysql+mysqlconnector://{config.user}:{config.passw}@{config.uri}:3306/wheelieGood\", echo=True)\n",
    "\n",
    "requests_stations = requests.get(config.STATIONS, params={\"apiKey\": config.APIKEY, \"contract\": config.NAME})\n",
    "weather_request = requests.get(config.WEATHER_INFO, params={\"appid\": config.WAPIKEY, \"id\": config.WNAME})\n",
    "\n",
    "# x = JSON(json.loads(requests_stations.text))\n",
    "\n",
    "# json = json.dumps(x)\n",
    "# f = open(\"test.json\", \"w\")\n",
    "# f.write(json)\n",
    "# f.close()\n"
   ]
  },
  {
   "cell_type": "code",
   "execution_count": null,
   "metadata": {},
   "outputs": [],
   "source": [
    "# Create weather & bike table & columns\n",
    "meta = MetaData()\n",
    "\n",
    "# Creating bike table and columns\n",
    "\n",
    "stations = Table(\n",
    "'stations', meta,\n",
    "Column('number', Integer),\n",
    "Column('name', String(128)),\n",
    "Column('address', String(128)),\n",
    "Column('pos_lat', Float),\n",
    "Column('pos_lng', Float),\n",
    "Column('bike_stands', Integer),\n",
    "Column('available_bike_stands', Integer),\n",
    "Column('available_bikes', Integer),\n",
    "Column('last_update', DateTime)\n",
    ")\n",
    "\n",
    "# Creating weather table and columns\n",
    "\n",
    "weather = Table(\n",
    "'weather', meta,\n",
    "Column('weather_main', String(128)),\n",
    "Column('weather_description', String(128)),\n",
    "Column('weather_icon', String(128)),\n",
    "Column('main_temp', Float),\n",
    "Column('main_pressure', Integer),\n",
    "Column('main_humidity', Integer),\n",
    "Column('main_temp_min', Float),\n",
    "Column('main_temp_max', Float),\n",
    "Column('visibility', Integer),\n",
    "Column('wind_speed', Float),\n",
    "Column('wind_deg', Integer),\n",
    "Column('clouds_all', Integer),\n",
    "Column('dt', DateTime),\n",
    "Column('sys_type', Integer),\n",
    "Column('sys_id', Integer),\n",
    "Column('sys_country', String(128)),\n",
    "Column('sys_sunrise', DateTime),\n",
    "Column('sys_sunset', DateTime),\n",
    "Column('city_id', Integer),\n",
    "Column('city_name', String(128)),\n",
    "Column('cod', Integer)\n",
    ")\n",
    "\n",
    "meta.create_all(engine)"
   ]
  },
  {
   "cell_type": "code",
   "execution_count": null,
   "metadata": {},
   "outputs": [],
   "source": [
    "# Getting bike data\n",
    "\n",
    "def get_station(obj):\n",
    "    return {'number': obj['number'],\n",
    "            'name': obj['name'],\n",
    "            'address': obj['address'],\n",
    "            'pos_lng': obj['position']['lng'],\n",
    "            'pos_lat': obj['position']['lat'],\n",
    "            'bike_stands': obj['bike_stands'],\n",
    "            'available_bike_stands': obj['available_bike_stands'],\n",
    "            'available_bikes': obj['available_bikes'],\n",
    "            'last_update': datetime.datetime.fromtimestamp(int(obj['last_update'] / 1e3))\n",
    "           }\n"
   ]
  },
  {
   "cell_type": "code",
   "execution_count": null,
   "metadata": {},
   "outputs": [],
   "source": [
    "# Getting weather data\n",
    "\n",
    "def get_weather(weather):\n",
    "    \n",
    "    weather = weather_request.json()\n",
    "\n",
    "    weather['weather_id'] = weather['weather'][0]['id']\n",
    "    weather['weather_main'] = weather['weather'][0]['main']\n",
    "    weather['weather_description'] = weather['weather'][0]['description']\n",
    "    weather['weather_icon'] = weather['weather'][0]['icon']\n",
    "    weather['main_temp'] = weather['main']['temp']\n",
    "    weather['main_pressure'] = weather['main']['pressure']\n",
    "    weather['main_humidity'] = weather['main']['humidity']\n",
    "    weather['main_temp_min'] = weather['main']['temp_min']\n",
    "    weather['main_temp_max'] = weather['main']['temp_max']\n",
    "    weather['visibility'] = weather['visibility']\n",
    "    weather['wind_speed'] = weather['wind']['speed']\n",
    "    weather['wind_deg'] = weather['wind']['deg']\n",
    "    weather['clouds_all'] = weather['clouds']['all']\n",
    "    weather['dt'] = datetime.datetime.fromtimestamp(int(weather['dt']))\n",
    "    weather['sys_type'] = weather['sys']['type']\n",
    "    weather['sys_id'] = weather['sys']['id']\n",
    "    weather['sys_country'] = (weather['sys']['country'])\n",
    "    weather['sys_sunrise'] = datetime.datetime.fromtimestamp(int(weather['sys']['sunrise']))\n",
    "    weather['sys_sunset'] = datetime.datetime.fromtimestamp(int(weather['sys']['sunset']))\n",
    "    weather['city_id'] = weather['id']\n",
    "    weather['city_name'] = weather['name']\n",
    "    weather['cod'] = weather['cod']\n",
    "        \n",
    "    return weather\n"
   ]
  },
  {
   "cell_type": "code",
   "execution_count": null,
   "metadata": {},
   "outputs": [],
   "source": [
    "# Execute every 5 minutes\n",
    "\n",
    "while True:\n",
    "    try:\n",
    "        weather_insert = list(map(get_weather, weather_request.json()))\n",
    "        print(weather_insert)\n",
    "        engine.execute(weather.insert(),weather_insert)\n",
    "        \n",
    "        values = list(map(get_station, requests_stations.json()))\n",
    "        print(values)\n",
    "        ins = stations.insert().values(values)\n",
    "        engine.execute(ins)\n",
    "        \n",
    "        time.sleep(5 * 60)\n",
    "    except:\n",
    "        print(\"Please try again\")"
   ]
  },
  {
   "cell_type": "code",
   "execution_count": null,
   "metadata": {},
   "outputs": [],
   "source": []
  }
 ],
 "metadata": {
  "kernelspec": {
   "display_name": "Python 3",
   "language": "python",
   "name": "python3"
  },
  "language_info": {
   "codemirror_mode": {
    "name": "ipython",
    "version": 3
   },
   "file_extension": ".py",
   "mimetype": "text/x-python",
   "name": "python",
   "nbconvert_exporter": "python",
   "pygments_lexer": "ipython3",
   "version": "3.8.3"
  }
 },
 "nbformat": 4,
 "nbformat_minor": 5
}
