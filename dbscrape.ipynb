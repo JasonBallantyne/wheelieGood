{
 "cells": [
  {
   "cell_type": "code",
   "execution_count": 4,
   "id": "completed-coupon",
   "metadata": {},
   "outputs": [],
   "source": [
    "#!conda info\n",
    "#!conda list"
   ]
  },
  {
   "cell_type": "code",
   "execution_count": 17,
   "id": "subjective-publisher",
   "metadata": {},
   "outputs": [],
   "source": [
    "import requests\n",
    "import json\n",
    "import sqlalchemy\n",
    "from IPython.display import JSON\n",
    "from sqlalchemy import Table, Column, Integer, Float, String, MetaData, DateTime, create_engine\n",
    "from sqlalchemy.orm import sessionmaker\n",
    "import import_ipynb\n",
    "import other\n",
    "import datetime\n",
    "import mysql.connector\n"
   ]
  },
  {
   "cell_type": "code",
   "execution_count": 27,
   "id": "norwegian-exercise",
   "metadata": {},
   "outputs": [
    {
     "ename": "SyntaxError",
     "evalue": "f-string: invalid syntax (<ipython-input-27-ef521e96c73a>, line 1)",
     "output_type": "error",
     "traceback": [
      "\u001b[1;36m  File \u001b[1;32m\"<ipython-input-27-ef521e96c73a>\"\u001b[1;36m, line \u001b[1;32m1\u001b[0m\n\u001b[1;33m    engine = create_engine(f'mysql+mysqlconnector://{config.user}:{config.pass}@{config.uri}:3306/dbbikes', echo=True)\u001b[0m\n\u001b[1;37m            ^\u001b[0m\n\u001b[1;31mSyntaxError\u001b[0m\u001b[1;31m:\u001b[0m f-string: invalid syntax\n"
     ]
    }
   ],
   "source": [
    "engine = create_engine(f'mysql+mysqlconnector://{config.user}:{config.pass}@{config.uri}:3306/dbbikes', echo=True)\n",
    "print(engine.url)"
   ]
  },
  {
   "cell_type": "code",
   "execution_count": 13,
   "id": "forty-emerald",
   "metadata": {},
   "outputs": [
    {
     "ename": "InterfaceError",
     "evalue": "(mysql.connector.errors.InterfaceError) 2003: Can't connect to MySQL server on 'mydbbikes.ch3b14m3xpr0.us-east-1.rds.amazonaws.com:3306' (10060 A connection attempt failed because the connected party did not properly respond after a period of time, or established connection failed because connected host has failed to respond)\n(Background on this error at: http://sqlalche.me/e/13/rvf5)",
     "output_type": "error",
     "traceback": [
      "\u001b[1;31m---------------------------------------------------------------------------\u001b[0m",
      "\u001b[1;31mTimeoutError\u001b[0m                              Traceback (most recent call last)",
      "\u001b[1;32m~\\anaconda3\\envs\\testenv\\lib\\site-packages\\mysql\\connector\\network.py\u001b[0m in \u001b[0;36mopen_connection\u001b[1;34m(self)\u001b[0m\n\u001b[0;32m    508\u001b[0m             \u001b[0mself\u001b[0m\u001b[1;33m.\u001b[0m\u001b[0msock\u001b[0m\u001b[1;33m.\u001b[0m\u001b[0msettimeout\u001b[0m\u001b[1;33m(\u001b[0m\u001b[0mself\u001b[0m\u001b[1;33m.\u001b[0m\u001b[0m_connection_timeout\u001b[0m\u001b[1;33m)\u001b[0m\u001b[1;33m\u001b[0m\u001b[1;33m\u001b[0m\u001b[0m\n\u001b[1;32m--> 509\u001b[1;33m             \u001b[0mself\u001b[0m\u001b[1;33m.\u001b[0m\u001b[0msock\u001b[0m\u001b[1;33m.\u001b[0m\u001b[0mconnect\u001b[0m\u001b[1;33m(\u001b[0m\u001b[0msockaddr\u001b[0m\u001b[1;33m)\u001b[0m\u001b[1;33m\u001b[0m\u001b[1;33m\u001b[0m\u001b[0m\n\u001b[0m\u001b[0;32m    510\u001b[0m         \u001b[1;32mexcept\u001b[0m \u001b[0mIOError\u001b[0m \u001b[1;32mas\u001b[0m \u001b[0merr\u001b[0m\u001b[1;33m:\u001b[0m\u001b[1;33m\u001b[0m\u001b[1;33m\u001b[0m\u001b[0m\n",
      "\u001b[1;31mTimeoutError\u001b[0m: [WinError 10060] A connection attempt failed because the connected party did not properly respond after a period of time, or established connection failed because connected host has failed to respond",
      "\nDuring handling of the above exception, another exception occurred:\n",
      "\u001b[1;31mInterfaceError\u001b[0m                            Traceback (most recent call last)",
      "\u001b[1;32m~\\anaconda3\\envs\\testenv\\lib\\site-packages\\sqlalchemy\\engine\\base.py\u001b[0m in \u001b[0;36m_wrap_pool_connect\u001b[1;34m(self, fn, connection)\u001b[0m\n\u001b[0;32m   2335\u001b[0m         \u001b[1;32mtry\u001b[0m\u001b[1;33m:\u001b[0m\u001b[1;33m\u001b[0m\u001b[1;33m\u001b[0m\u001b[0m\n\u001b[1;32m-> 2336\u001b[1;33m             \u001b[1;32mreturn\u001b[0m \u001b[0mfn\u001b[0m\u001b[1;33m(\u001b[0m\u001b[1;33m)\u001b[0m\u001b[1;33m\u001b[0m\u001b[1;33m\u001b[0m\u001b[0m\n\u001b[0m\u001b[0;32m   2337\u001b[0m         \u001b[1;32mexcept\u001b[0m \u001b[0mdialect\u001b[0m\u001b[1;33m.\u001b[0m\u001b[0mdbapi\u001b[0m\u001b[1;33m.\u001b[0m\u001b[0mError\u001b[0m \u001b[1;32mas\u001b[0m \u001b[0me\u001b[0m\u001b[1;33m:\u001b[0m\u001b[1;33m\u001b[0m\u001b[1;33m\u001b[0m\u001b[0m\n",
      "\u001b[1;32m~\\anaconda3\\envs\\testenv\\lib\\site-packages\\sqlalchemy\\pool\\base.py\u001b[0m in \u001b[0;36mconnect\u001b[1;34m(self)\u001b[0m\n\u001b[0;32m    363\u001b[0m         \u001b[1;32mif\u001b[0m \u001b[1;32mnot\u001b[0m \u001b[0mself\u001b[0m\u001b[1;33m.\u001b[0m\u001b[0m_use_threadlocal\u001b[0m\u001b[1;33m:\u001b[0m\u001b[1;33m\u001b[0m\u001b[1;33m\u001b[0m\u001b[0m\n\u001b[1;32m--> 364\u001b[1;33m             \u001b[1;32mreturn\u001b[0m \u001b[0m_ConnectionFairy\u001b[0m\u001b[1;33m.\u001b[0m\u001b[0m_checkout\u001b[0m\u001b[1;33m(\u001b[0m\u001b[0mself\u001b[0m\u001b[1;33m)\u001b[0m\u001b[1;33m\u001b[0m\u001b[1;33m\u001b[0m\u001b[0m\n\u001b[0m\u001b[0;32m    365\u001b[0m \u001b[1;33m\u001b[0m\u001b[0m\n",
      "\u001b[1;32m~\\anaconda3\\envs\\testenv\\lib\\site-packages\\sqlalchemy\\pool\\base.py\u001b[0m in \u001b[0;36m_checkout\u001b[1;34m(cls, pool, threadconns, fairy)\u001b[0m\n\u001b[0;32m    777\u001b[0m         \u001b[1;32mif\u001b[0m \u001b[1;32mnot\u001b[0m \u001b[0mfairy\u001b[0m\u001b[1;33m:\u001b[0m\u001b[1;33m\u001b[0m\u001b[1;33m\u001b[0m\u001b[0m\n\u001b[1;32m--> 778\u001b[1;33m             \u001b[0mfairy\u001b[0m \u001b[1;33m=\u001b[0m \u001b[0m_ConnectionRecord\u001b[0m\u001b[1;33m.\u001b[0m\u001b[0mcheckout\u001b[0m\u001b[1;33m(\u001b[0m\u001b[0mpool\u001b[0m\u001b[1;33m)\u001b[0m\u001b[1;33m\u001b[0m\u001b[1;33m\u001b[0m\u001b[0m\n\u001b[0m\u001b[0;32m    779\u001b[0m \u001b[1;33m\u001b[0m\u001b[0m\n",
      "\u001b[1;32m~\\anaconda3\\envs\\testenv\\lib\\site-packages\\sqlalchemy\\pool\\base.py\u001b[0m in \u001b[0;36mcheckout\u001b[1;34m(cls, pool)\u001b[0m\n\u001b[0;32m    494\u001b[0m     \u001b[1;32mdef\u001b[0m \u001b[0mcheckout\u001b[0m\u001b[1;33m(\u001b[0m\u001b[0mcls\u001b[0m\u001b[1;33m,\u001b[0m \u001b[0mpool\u001b[0m\u001b[1;33m)\u001b[0m\u001b[1;33m:\u001b[0m\u001b[1;33m\u001b[0m\u001b[1;33m\u001b[0m\u001b[0m\n\u001b[1;32m--> 495\u001b[1;33m         \u001b[0mrec\u001b[0m \u001b[1;33m=\u001b[0m \u001b[0mpool\u001b[0m\u001b[1;33m.\u001b[0m\u001b[0m_do_get\u001b[0m\u001b[1;33m(\u001b[0m\u001b[1;33m)\u001b[0m\u001b[1;33m\u001b[0m\u001b[1;33m\u001b[0m\u001b[0m\n\u001b[0m\u001b[0;32m    496\u001b[0m         \u001b[1;32mtry\u001b[0m\u001b[1;33m:\u001b[0m\u001b[1;33m\u001b[0m\u001b[1;33m\u001b[0m\u001b[0m\n",
      "\u001b[1;32m~\\anaconda3\\envs\\testenv\\lib\\site-packages\\sqlalchemy\\pool\\impl.py\u001b[0m in \u001b[0;36m_do_get\u001b[1;34m(self)\u001b[0m\n\u001b[0;32m    139\u001b[0m                 \u001b[1;32mwith\u001b[0m \u001b[0mutil\u001b[0m\u001b[1;33m.\u001b[0m\u001b[0msafe_reraise\u001b[0m\u001b[1;33m(\u001b[0m\u001b[1;33m)\u001b[0m\u001b[1;33m:\u001b[0m\u001b[1;33m\u001b[0m\u001b[1;33m\u001b[0m\u001b[0m\n\u001b[1;32m--> 140\u001b[1;33m                     \u001b[0mself\u001b[0m\u001b[1;33m.\u001b[0m\u001b[0m_dec_overflow\u001b[0m\u001b[1;33m(\u001b[0m\u001b[1;33m)\u001b[0m\u001b[1;33m\u001b[0m\u001b[1;33m\u001b[0m\u001b[0m\n\u001b[0m\u001b[0;32m    141\u001b[0m         \u001b[1;32melse\u001b[0m\u001b[1;33m:\u001b[0m\u001b[1;33m\u001b[0m\u001b[1;33m\u001b[0m\u001b[0m\n",
      "\u001b[1;32m~\\anaconda3\\envs\\testenv\\lib\\site-packages\\sqlalchemy\\util\\langhelpers.py\u001b[0m in \u001b[0;36m__exit__\u001b[1;34m(self, type_, value, traceback)\u001b[0m\n\u001b[0;32m     67\u001b[0m             \u001b[1;32mif\u001b[0m \u001b[1;32mnot\u001b[0m \u001b[0mself\u001b[0m\u001b[1;33m.\u001b[0m\u001b[0mwarn_only\u001b[0m\u001b[1;33m:\u001b[0m\u001b[1;33m\u001b[0m\u001b[1;33m\u001b[0m\u001b[0m\n\u001b[1;32m---> 68\u001b[1;33m                 compat.raise_(\n\u001b[0m\u001b[0;32m     69\u001b[0m                     \u001b[0mexc_value\u001b[0m\u001b[1;33m,\u001b[0m\u001b[1;33m\u001b[0m\u001b[1;33m\u001b[0m\u001b[0m\n",
      "\u001b[1;32m~\\anaconda3\\envs\\testenv\\lib\\site-packages\\sqlalchemy\\util\\compat.py\u001b[0m in \u001b[0;36mraise_\u001b[1;34m(***failed resolving arguments***)\u001b[0m\n\u001b[0;32m    181\u001b[0m         \u001b[1;32mtry\u001b[0m\u001b[1;33m:\u001b[0m\u001b[1;33m\u001b[0m\u001b[1;33m\u001b[0m\u001b[0m\n\u001b[1;32m--> 182\u001b[1;33m             \u001b[1;32mraise\u001b[0m \u001b[0mexception\u001b[0m\u001b[1;33m\u001b[0m\u001b[1;33m\u001b[0m\u001b[0m\n\u001b[0m\u001b[0;32m    183\u001b[0m         \u001b[1;32mfinally\u001b[0m\u001b[1;33m:\u001b[0m\u001b[1;33m\u001b[0m\u001b[1;33m\u001b[0m\u001b[0m\n",
      "\u001b[1;32m~\\anaconda3\\envs\\testenv\\lib\\site-packages\\sqlalchemy\\pool\\impl.py\u001b[0m in \u001b[0;36m_do_get\u001b[1;34m(self)\u001b[0m\n\u001b[0;32m    136\u001b[0m             \u001b[1;32mtry\u001b[0m\u001b[1;33m:\u001b[0m\u001b[1;33m\u001b[0m\u001b[1;33m\u001b[0m\u001b[0m\n\u001b[1;32m--> 137\u001b[1;33m                 \u001b[1;32mreturn\u001b[0m \u001b[0mself\u001b[0m\u001b[1;33m.\u001b[0m\u001b[0m_create_connection\u001b[0m\u001b[1;33m(\u001b[0m\u001b[1;33m)\u001b[0m\u001b[1;33m\u001b[0m\u001b[1;33m\u001b[0m\u001b[0m\n\u001b[0m\u001b[0;32m    138\u001b[0m             \u001b[1;32mexcept\u001b[0m\u001b[1;33m:\u001b[0m\u001b[1;33m\u001b[0m\u001b[1;33m\u001b[0m\u001b[0m\n",
      "\u001b[1;32m~\\anaconda3\\envs\\testenv\\lib\\site-packages\\sqlalchemy\\pool\\base.py\u001b[0m in \u001b[0;36m_create_connection\u001b[1;34m(self)\u001b[0m\n\u001b[0;32m    308\u001b[0m \u001b[1;33m\u001b[0m\u001b[0m\n\u001b[1;32m--> 309\u001b[1;33m         \u001b[1;32mreturn\u001b[0m \u001b[0m_ConnectionRecord\u001b[0m\u001b[1;33m(\u001b[0m\u001b[0mself\u001b[0m\u001b[1;33m)\u001b[0m\u001b[1;33m\u001b[0m\u001b[1;33m\u001b[0m\u001b[0m\n\u001b[0m\u001b[0;32m    310\u001b[0m \u001b[1;33m\u001b[0m\u001b[0m\n",
      "\u001b[1;32m~\\anaconda3\\envs\\testenv\\lib\\site-packages\\sqlalchemy\\pool\\base.py\u001b[0m in \u001b[0;36m__init__\u001b[1;34m(self, pool, connect)\u001b[0m\n\u001b[0;32m    439\u001b[0m         \u001b[1;32mif\u001b[0m \u001b[0mconnect\u001b[0m\u001b[1;33m:\u001b[0m\u001b[1;33m\u001b[0m\u001b[1;33m\u001b[0m\u001b[0m\n\u001b[1;32m--> 440\u001b[1;33m             \u001b[0mself\u001b[0m\u001b[1;33m.\u001b[0m\u001b[0m__connect\u001b[0m\u001b[1;33m(\u001b[0m\u001b[0mfirst_connect_check\u001b[0m\u001b[1;33m=\u001b[0m\u001b[1;32mTrue\u001b[0m\u001b[1;33m)\u001b[0m\u001b[1;33m\u001b[0m\u001b[1;33m\u001b[0m\u001b[0m\n\u001b[0m\u001b[0;32m    441\u001b[0m         \u001b[0mself\u001b[0m\u001b[1;33m.\u001b[0m\u001b[0mfinalize_callback\u001b[0m \u001b[1;33m=\u001b[0m \u001b[0mdeque\u001b[0m\u001b[1;33m(\u001b[0m\u001b[1;33m)\u001b[0m\u001b[1;33m\u001b[0m\u001b[1;33m\u001b[0m\u001b[0m\n",
      "\u001b[1;32m~\\anaconda3\\envs\\testenv\\lib\\site-packages\\sqlalchemy\\pool\\base.py\u001b[0m in \u001b[0;36m__connect\u001b[1;34m(self, first_connect_check)\u001b[0m\n\u001b[0;32m    660\u001b[0m             \u001b[1;32mwith\u001b[0m \u001b[0mutil\u001b[0m\u001b[1;33m.\u001b[0m\u001b[0msafe_reraise\u001b[0m\u001b[1;33m(\u001b[0m\u001b[1;33m)\u001b[0m\u001b[1;33m:\u001b[0m\u001b[1;33m\u001b[0m\u001b[1;33m\u001b[0m\u001b[0m\n\u001b[1;32m--> 661\u001b[1;33m                 \u001b[0mpool\u001b[0m\u001b[1;33m.\u001b[0m\u001b[0mlogger\u001b[0m\u001b[1;33m.\u001b[0m\u001b[0mdebug\u001b[0m\u001b[1;33m(\u001b[0m\u001b[1;34m\"Error on connect(): %s\"\u001b[0m\u001b[1;33m,\u001b[0m \u001b[0me\u001b[0m\u001b[1;33m)\u001b[0m\u001b[1;33m\u001b[0m\u001b[1;33m\u001b[0m\u001b[0m\n\u001b[0m\u001b[0;32m    662\u001b[0m         \u001b[1;32melse\u001b[0m\u001b[1;33m:\u001b[0m\u001b[1;33m\u001b[0m\u001b[1;33m\u001b[0m\u001b[0m\n",
      "\u001b[1;32m~\\anaconda3\\envs\\testenv\\lib\\site-packages\\sqlalchemy\\util\\langhelpers.py\u001b[0m in \u001b[0;36m__exit__\u001b[1;34m(self, type_, value, traceback)\u001b[0m\n\u001b[0;32m     67\u001b[0m             \u001b[1;32mif\u001b[0m \u001b[1;32mnot\u001b[0m \u001b[0mself\u001b[0m\u001b[1;33m.\u001b[0m\u001b[0mwarn_only\u001b[0m\u001b[1;33m:\u001b[0m\u001b[1;33m\u001b[0m\u001b[1;33m\u001b[0m\u001b[0m\n\u001b[1;32m---> 68\u001b[1;33m                 compat.raise_(\n\u001b[0m\u001b[0;32m     69\u001b[0m                     \u001b[0mexc_value\u001b[0m\u001b[1;33m,\u001b[0m\u001b[1;33m\u001b[0m\u001b[1;33m\u001b[0m\u001b[0m\n",
      "\u001b[1;32m~\\anaconda3\\envs\\testenv\\lib\\site-packages\\sqlalchemy\\util\\compat.py\u001b[0m in \u001b[0;36mraise_\u001b[1;34m(***failed resolving arguments***)\u001b[0m\n\u001b[0;32m    181\u001b[0m         \u001b[1;32mtry\u001b[0m\u001b[1;33m:\u001b[0m\u001b[1;33m\u001b[0m\u001b[1;33m\u001b[0m\u001b[0m\n\u001b[1;32m--> 182\u001b[1;33m             \u001b[1;32mraise\u001b[0m \u001b[0mexception\u001b[0m\u001b[1;33m\u001b[0m\u001b[1;33m\u001b[0m\u001b[0m\n\u001b[0m\u001b[0;32m    183\u001b[0m         \u001b[1;32mfinally\u001b[0m\u001b[1;33m:\u001b[0m\u001b[1;33m\u001b[0m\u001b[1;33m\u001b[0m\u001b[0m\n",
      "\u001b[1;32m~\\anaconda3\\envs\\testenv\\lib\\site-packages\\sqlalchemy\\pool\\base.py\u001b[0m in \u001b[0;36m__connect\u001b[1;34m(self, first_connect_check)\u001b[0m\n\u001b[0;32m    655\u001b[0m             \u001b[0mself\u001b[0m\u001b[1;33m.\u001b[0m\u001b[0mstarttime\u001b[0m \u001b[1;33m=\u001b[0m \u001b[0mtime\u001b[0m\u001b[1;33m.\u001b[0m\u001b[0mtime\u001b[0m\u001b[1;33m(\u001b[0m\u001b[1;33m)\u001b[0m\u001b[1;33m\u001b[0m\u001b[1;33m\u001b[0m\u001b[0m\n\u001b[1;32m--> 656\u001b[1;33m             \u001b[0mconnection\u001b[0m \u001b[1;33m=\u001b[0m \u001b[0mpool\u001b[0m\u001b[1;33m.\u001b[0m\u001b[0m_invoke_creator\u001b[0m\u001b[1;33m(\u001b[0m\u001b[0mself\u001b[0m\u001b[1;33m)\u001b[0m\u001b[1;33m\u001b[0m\u001b[1;33m\u001b[0m\u001b[0m\n\u001b[0m\u001b[0;32m    657\u001b[0m             \u001b[0mpool\u001b[0m\u001b[1;33m.\u001b[0m\u001b[0mlogger\u001b[0m\u001b[1;33m.\u001b[0m\u001b[0mdebug\u001b[0m\u001b[1;33m(\u001b[0m\u001b[1;34m\"Created new connection %r\"\u001b[0m\u001b[1;33m,\u001b[0m \u001b[0mconnection\u001b[0m\u001b[1;33m)\u001b[0m\u001b[1;33m\u001b[0m\u001b[1;33m\u001b[0m\u001b[0m\n",
      "\u001b[1;32m~\\anaconda3\\envs\\testenv\\lib\\site-packages\\sqlalchemy\\engine\\strategies.py\u001b[0m in \u001b[0;36mconnect\u001b[1;34m(connection_record)\u001b[0m\n\u001b[0;32m    113\u001b[0m                             \u001b[1;32mreturn\u001b[0m \u001b[0mconnection\u001b[0m\u001b[1;33m\u001b[0m\u001b[1;33m\u001b[0m\u001b[0m\n\u001b[1;32m--> 114\u001b[1;33m                 \u001b[1;32mreturn\u001b[0m \u001b[0mdialect\u001b[0m\u001b[1;33m.\u001b[0m\u001b[0mconnect\u001b[0m\u001b[1;33m(\u001b[0m\u001b[1;33m*\u001b[0m\u001b[0mcargs\u001b[0m\u001b[1;33m,\u001b[0m \u001b[1;33m**\u001b[0m\u001b[0mcparams\u001b[0m\u001b[1;33m)\u001b[0m\u001b[1;33m\u001b[0m\u001b[1;33m\u001b[0m\u001b[0m\n\u001b[0m\u001b[0;32m    115\u001b[0m \u001b[1;33m\u001b[0m\u001b[0m\n",
      "\u001b[1;32m~\\anaconda3\\envs\\testenv\\lib\\site-packages\\sqlalchemy\\engine\\default.py\u001b[0m in \u001b[0;36mconnect\u001b[1;34m(self, *cargs, **cparams)\u001b[0m\n\u001b[0;32m    507\u001b[0m         \u001b[1;31m# inherits the docstring from interfaces.Dialect.connect\u001b[0m\u001b[1;33m\u001b[0m\u001b[1;33m\u001b[0m\u001b[1;33m\u001b[0m\u001b[0m\n\u001b[1;32m--> 508\u001b[1;33m         \u001b[1;32mreturn\u001b[0m \u001b[0mself\u001b[0m\u001b[1;33m.\u001b[0m\u001b[0mdbapi\u001b[0m\u001b[1;33m.\u001b[0m\u001b[0mconnect\u001b[0m\u001b[1;33m(\u001b[0m\u001b[1;33m*\u001b[0m\u001b[0mcargs\u001b[0m\u001b[1;33m,\u001b[0m \u001b[1;33m**\u001b[0m\u001b[0mcparams\u001b[0m\u001b[1;33m)\u001b[0m\u001b[1;33m\u001b[0m\u001b[1;33m\u001b[0m\u001b[0m\n\u001b[0m\u001b[0;32m    509\u001b[0m \u001b[1;33m\u001b[0m\u001b[0m\n",
      "\u001b[1;32m~\\anaconda3\\envs\\testenv\\lib\\site-packages\\mysql\\connector\\__init__.py\u001b[0m in \u001b[0;36mconnect\u001b[1;34m(*args, **kwargs)\u001b[0m\n\u001b[0;32m    178\u001b[0m     \u001b[1;32melse\u001b[0m\u001b[1;33m:\u001b[0m\u001b[1;33m\u001b[0m\u001b[1;33m\u001b[0m\u001b[0m\n\u001b[1;32m--> 179\u001b[1;33m         \u001b[1;32mreturn\u001b[0m \u001b[0mMySQLConnection\u001b[0m\u001b[1;33m(\u001b[0m\u001b[1;33m*\u001b[0m\u001b[0margs\u001b[0m\u001b[1;33m,\u001b[0m \u001b[1;33m**\u001b[0m\u001b[0mkwargs\u001b[0m\u001b[1;33m)\u001b[0m\u001b[1;33m\u001b[0m\u001b[1;33m\u001b[0m\u001b[0m\n\u001b[0m\u001b[0;32m    180\u001b[0m \u001b[0mConnect\u001b[0m \u001b[1;33m=\u001b[0m \u001b[0mconnect\u001b[0m  \u001b[1;31m# pylint: disable=C0103\u001b[0m\u001b[1;33m\u001b[0m\u001b[1;33m\u001b[0m\u001b[0m\n",
      "\u001b[1;32m~\\anaconda3\\envs\\testenv\\lib\\site-packages\\mysql\\connector\\connection.py\u001b[0m in \u001b[0;36m__init__\u001b[1;34m(self, *args, **kwargs)\u001b[0m\n\u001b[0;32m     94\u001b[0m         \u001b[1;32mif\u001b[0m \u001b[0mlen\u001b[0m\u001b[1;33m(\u001b[0m\u001b[0mkwargs\u001b[0m\u001b[1;33m)\u001b[0m \u001b[1;33m>\u001b[0m \u001b[1;36m0\u001b[0m\u001b[1;33m:\u001b[0m\u001b[1;33m\u001b[0m\u001b[1;33m\u001b[0m\u001b[0m\n\u001b[1;32m---> 95\u001b[1;33m             \u001b[0mself\u001b[0m\u001b[1;33m.\u001b[0m\u001b[0mconnect\u001b[0m\u001b[1;33m(\u001b[0m\u001b[1;33m**\u001b[0m\u001b[0mkwargs\u001b[0m\u001b[1;33m)\u001b[0m\u001b[1;33m\u001b[0m\u001b[1;33m\u001b[0m\u001b[0m\n\u001b[0m\u001b[0;32m     96\u001b[0m \u001b[1;33m\u001b[0m\u001b[0m\n",
      "\u001b[1;32m~\\anaconda3\\envs\\testenv\\lib\\site-packages\\mysql\\connector\\abstracts.py\u001b[0m in \u001b[0;36mconnect\u001b[1;34m(self, **kwargs)\u001b[0m\n\u001b[0;32m    715\u001b[0m         \u001b[0mself\u001b[0m\u001b[1;33m.\u001b[0m\u001b[0mdisconnect\u001b[0m\u001b[1;33m(\u001b[0m\u001b[1;33m)\u001b[0m\u001b[1;33m\u001b[0m\u001b[1;33m\u001b[0m\u001b[0m\n\u001b[1;32m--> 716\u001b[1;33m         \u001b[0mself\u001b[0m\u001b[1;33m.\u001b[0m\u001b[0m_open_connection\u001b[0m\u001b[1;33m(\u001b[0m\u001b[1;33m)\u001b[0m\u001b[1;33m\u001b[0m\u001b[1;33m\u001b[0m\u001b[0m\n\u001b[0m\u001b[0;32m    717\u001b[0m         \u001b[0mself\u001b[0m\u001b[1;33m.\u001b[0m\u001b[0m_post_connection\u001b[0m\u001b[1;33m(\u001b[0m\u001b[1;33m)\u001b[0m\u001b[1;33m\u001b[0m\u001b[1;33m\u001b[0m\u001b[0m\n",
      "\u001b[1;32m~\\anaconda3\\envs\\testenv\\lib\\site-packages\\mysql\\connector\\connection.py\u001b[0m in \u001b[0;36m_open_connection\u001b[1;34m(self)\u001b[0m\n\u001b[0;32m    205\u001b[0m         \u001b[0mself\u001b[0m\u001b[1;33m.\u001b[0m\u001b[0m_socket\u001b[0m \u001b[1;33m=\u001b[0m \u001b[0mself\u001b[0m\u001b[1;33m.\u001b[0m\u001b[0m_get_connection\u001b[0m\u001b[1;33m(\u001b[0m\u001b[1;33m)\u001b[0m\u001b[1;33m\u001b[0m\u001b[1;33m\u001b[0m\u001b[0m\n\u001b[1;32m--> 206\u001b[1;33m         \u001b[0mself\u001b[0m\u001b[1;33m.\u001b[0m\u001b[0m_socket\u001b[0m\u001b[1;33m.\u001b[0m\u001b[0mopen_connection\u001b[0m\u001b[1;33m(\u001b[0m\u001b[1;33m)\u001b[0m\u001b[1;33m\u001b[0m\u001b[1;33m\u001b[0m\u001b[0m\n\u001b[0m\u001b[0;32m    207\u001b[0m         \u001b[0mself\u001b[0m\u001b[1;33m.\u001b[0m\u001b[0m_do_handshake\u001b[0m\u001b[1;33m(\u001b[0m\u001b[1;33m)\u001b[0m\u001b[1;33m\u001b[0m\u001b[1;33m\u001b[0m\u001b[0m\n",
      "\u001b[1;32m~\\anaconda3\\envs\\testenv\\lib\\site-packages\\mysql\\connector\\network.py\u001b[0m in \u001b[0;36mopen_connection\u001b[1;34m(self)\u001b[0m\n\u001b[0;32m    510\u001b[0m         \u001b[1;32mexcept\u001b[0m \u001b[0mIOError\u001b[0m \u001b[1;32mas\u001b[0m \u001b[0merr\u001b[0m\u001b[1;33m:\u001b[0m\u001b[1;33m\u001b[0m\u001b[1;33m\u001b[0m\u001b[0m\n\u001b[1;32m--> 511\u001b[1;33m             raise errors.InterfaceError(\n\u001b[0m\u001b[0;32m    512\u001b[0m                 errno=2003, values=(self.get_address(), _strioerror(err)))\n",
      "\u001b[1;31mInterfaceError\u001b[0m: 2003: Can't connect to MySQL server on 'mydbbikes.ch3b14m3xpr0.us-east-1.rds.amazonaws.com:3306' (10060 A connection attempt failed because the connected party did not properly respond after a period of time, or established connection failed because connected host has failed to respond)",
      "\nThe above exception was the direct cause of the following exception:\n",
      "\u001b[1;31mInterfaceError\u001b[0m                            Traceback (most recent call last)",
      "\u001b[1;32m<ipython-input-13-4639bcdeec9e>\u001b[0m in \u001b[0;36m<module>\u001b[1;34m\u001b[0m\n\u001b[0;32m     16\u001b[0m \u001b[1;31m#print(stations.columns)\u001b[0m\u001b[1;33m\u001b[0m\u001b[1;33m\u001b[0m\u001b[1;33m\u001b[0m\u001b[0m\n\u001b[0;32m     17\u001b[0m \u001b[1;33m\u001b[0m\u001b[0m\n\u001b[1;32m---> 18\u001b[1;33m \u001b[0mmeta\u001b[0m\u001b[1;33m.\u001b[0m\u001b[0mcreate_all\u001b[0m\u001b[1;33m(\u001b[0m\u001b[0mengine\u001b[0m\u001b[1;33m)\u001b[0m\u001b[1;33m\u001b[0m\u001b[1;33m\u001b[0m\u001b[0m\n\u001b[0m",
      "\u001b[1;32m~\\anaconda3\\envs\\testenv\\lib\\site-packages\\sqlalchemy\\sql\\schema.py\u001b[0m in \u001b[0;36mcreate_all\u001b[1;34m(self, bind, tables, checkfirst)\u001b[0m\n\u001b[0;32m   4661\u001b[0m         \u001b[1;32mif\u001b[0m \u001b[0mbind\u001b[0m \u001b[1;32mis\u001b[0m \u001b[1;32mNone\u001b[0m\u001b[1;33m:\u001b[0m\u001b[1;33m\u001b[0m\u001b[1;33m\u001b[0m\u001b[0m\n\u001b[0;32m   4662\u001b[0m             \u001b[0mbind\u001b[0m \u001b[1;33m=\u001b[0m \u001b[0m_bind_or_error\u001b[0m\u001b[1;33m(\u001b[0m\u001b[0mself\u001b[0m\u001b[1;33m)\u001b[0m\u001b[1;33m\u001b[0m\u001b[1;33m\u001b[0m\u001b[0m\n\u001b[1;32m-> 4663\u001b[1;33m         bind._run_visitor(\n\u001b[0m\u001b[0;32m   4664\u001b[0m             \u001b[0mddl\u001b[0m\u001b[1;33m.\u001b[0m\u001b[0mSchemaGenerator\u001b[0m\u001b[1;33m,\u001b[0m \u001b[0mself\u001b[0m\u001b[1;33m,\u001b[0m \u001b[0mcheckfirst\u001b[0m\u001b[1;33m=\u001b[0m\u001b[0mcheckfirst\u001b[0m\u001b[1;33m,\u001b[0m \u001b[0mtables\u001b[0m\u001b[1;33m=\u001b[0m\u001b[0mtables\u001b[0m\u001b[1;33m\u001b[0m\u001b[1;33m\u001b[0m\u001b[0m\n\u001b[0;32m   4665\u001b[0m         )\n",
      "\u001b[1;32m~\\anaconda3\\envs\\testenv\\lib\\site-packages\\sqlalchemy\\engine\\base.py\u001b[0m in \u001b[0;36m_run_visitor\u001b[1;34m(self, visitorcallable, element, connection, **kwargs)\u001b[0m\n\u001b[0;32m   2092\u001b[0m         \u001b[0mself\u001b[0m\u001b[1;33m,\u001b[0m \u001b[0mvisitorcallable\u001b[0m\u001b[1;33m,\u001b[0m \u001b[0melement\u001b[0m\u001b[1;33m,\u001b[0m \u001b[0mconnection\u001b[0m\u001b[1;33m=\u001b[0m\u001b[1;32mNone\u001b[0m\u001b[1;33m,\u001b[0m \u001b[1;33m**\u001b[0m\u001b[0mkwargs\u001b[0m\u001b[1;33m\u001b[0m\u001b[1;33m\u001b[0m\u001b[0m\n\u001b[0;32m   2093\u001b[0m     ):\n\u001b[1;32m-> 2094\u001b[1;33m         \u001b[1;32mwith\u001b[0m \u001b[0mself\u001b[0m\u001b[1;33m.\u001b[0m\u001b[0m_optional_conn_ctx_manager\u001b[0m\u001b[1;33m(\u001b[0m\u001b[0mconnection\u001b[0m\u001b[1;33m)\u001b[0m \u001b[1;32mas\u001b[0m \u001b[0mconn\u001b[0m\u001b[1;33m:\u001b[0m\u001b[1;33m\u001b[0m\u001b[1;33m\u001b[0m\u001b[0m\n\u001b[0m\u001b[0;32m   2095\u001b[0m             \u001b[0mconn\u001b[0m\u001b[1;33m.\u001b[0m\u001b[0m_run_visitor\u001b[0m\u001b[1;33m(\u001b[0m\u001b[0mvisitorcallable\u001b[0m\u001b[1;33m,\u001b[0m \u001b[0melement\u001b[0m\u001b[1;33m,\u001b[0m \u001b[1;33m**\u001b[0m\u001b[0mkwargs\u001b[0m\u001b[1;33m)\u001b[0m\u001b[1;33m\u001b[0m\u001b[1;33m\u001b[0m\u001b[0m\n\u001b[0;32m   2096\u001b[0m \u001b[1;33m\u001b[0m\u001b[0m\n",
      "\u001b[1;32m~\\anaconda3\\envs\\testenv\\lib\\contextlib.py\u001b[0m in \u001b[0;36m__enter__\u001b[1;34m(self)\u001b[0m\n\u001b[0;32m    115\u001b[0m         \u001b[1;32mdel\u001b[0m \u001b[0mself\u001b[0m\u001b[1;33m.\u001b[0m\u001b[0margs\u001b[0m\u001b[1;33m,\u001b[0m \u001b[0mself\u001b[0m\u001b[1;33m.\u001b[0m\u001b[0mkwds\u001b[0m\u001b[1;33m,\u001b[0m \u001b[0mself\u001b[0m\u001b[1;33m.\u001b[0m\u001b[0mfunc\u001b[0m\u001b[1;33m\u001b[0m\u001b[1;33m\u001b[0m\u001b[0m\n\u001b[0;32m    116\u001b[0m         \u001b[1;32mtry\u001b[0m\u001b[1;33m:\u001b[0m\u001b[1;33m\u001b[0m\u001b[1;33m\u001b[0m\u001b[0m\n\u001b[1;32m--> 117\u001b[1;33m             \u001b[1;32mreturn\u001b[0m \u001b[0mnext\u001b[0m\u001b[1;33m(\u001b[0m\u001b[0mself\u001b[0m\u001b[1;33m.\u001b[0m\u001b[0mgen\u001b[0m\u001b[1;33m)\u001b[0m\u001b[1;33m\u001b[0m\u001b[1;33m\u001b[0m\u001b[0m\n\u001b[0m\u001b[0;32m    118\u001b[0m         \u001b[1;32mexcept\u001b[0m \u001b[0mStopIteration\u001b[0m\u001b[1;33m:\u001b[0m\u001b[1;33m\u001b[0m\u001b[1;33m\u001b[0m\u001b[0m\n\u001b[0;32m    119\u001b[0m             \u001b[1;32mraise\u001b[0m \u001b[0mRuntimeError\u001b[0m\u001b[1;33m(\u001b[0m\u001b[1;34m\"generator didn't yield\"\u001b[0m\u001b[1;33m)\u001b[0m \u001b[1;32mfrom\u001b[0m \u001b[1;32mNone\u001b[0m\u001b[1;33m\u001b[0m\u001b[1;33m\u001b[0m\u001b[0m\n",
      "\u001b[1;32m~\\anaconda3\\envs\\testenv\\lib\\site-packages\\sqlalchemy\\engine\\base.py\u001b[0m in \u001b[0;36m_optional_conn_ctx_manager\u001b[1;34m(self, connection)\u001b[0m\n\u001b[0;32m   2084\u001b[0m     \u001b[1;32mdef\u001b[0m \u001b[0m_optional_conn_ctx_manager\u001b[0m\u001b[1;33m(\u001b[0m\u001b[0mself\u001b[0m\u001b[1;33m,\u001b[0m \u001b[0mconnection\u001b[0m\u001b[1;33m=\u001b[0m\u001b[1;32mNone\u001b[0m\u001b[1;33m)\u001b[0m\u001b[1;33m:\u001b[0m\u001b[1;33m\u001b[0m\u001b[1;33m\u001b[0m\u001b[0m\n\u001b[0;32m   2085\u001b[0m         \u001b[1;32mif\u001b[0m \u001b[0mconnection\u001b[0m \u001b[1;32mis\u001b[0m \u001b[1;32mNone\u001b[0m\u001b[1;33m:\u001b[0m\u001b[1;33m\u001b[0m\u001b[1;33m\u001b[0m\u001b[0m\n\u001b[1;32m-> 2086\u001b[1;33m             \u001b[1;32mwith\u001b[0m \u001b[0mself\u001b[0m\u001b[1;33m.\u001b[0m\u001b[0m_contextual_connect\u001b[0m\u001b[1;33m(\u001b[0m\u001b[1;33m)\u001b[0m \u001b[1;32mas\u001b[0m \u001b[0mconn\u001b[0m\u001b[1;33m:\u001b[0m\u001b[1;33m\u001b[0m\u001b[1;33m\u001b[0m\u001b[0m\n\u001b[0m\u001b[0;32m   2087\u001b[0m                 \u001b[1;32myield\u001b[0m \u001b[0mconn\u001b[0m\u001b[1;33m\u001b[0m\u001b[1;33m\u001b[0m\u001b[0m\n\u001b[0;32m   2088\u001b[0m         \u001b[1;32melse\u001b[0m\u001b[1;33m:\u001b[0m\u001b[1;33m\u001b[0m\u001b[1;33m\u001b[0m\u001b[0m\n",
      "\u001b[1;32m~\\anaconda3\\envs\\testenv\\lib\\site-packages\\sqlalchemy\\engine\\base.py\u001b[0m in \u001b[0;36m_contextual_connect\u001b[1;34m(self, close_with_result, **kwargs)\u001b[0m\n\u001b[0;32m   2300\u001b[0m         return self._connection_cls(\n\u001b[0;32m   2301\u001b[0m             \u001b[0mself\u001b[0m\u001b[1;33m,\u001b[0m\u001b[1;33m\u001b[0m\u001b[1;33m\u001b[0m\u001b[0m\n\u001b[1;32m-> 2302\u001b[1;33m             \u001b[0mself\u001b[0m\u001b[1;33m.\u001b[0m\u001b[0m_wrap_pool_connect\u001b[0m\u001b[1;33m(\u001b[0m\u001b[0mself\u001b[0m\u001b[1;33m.\u001b[0m\u001b[0mpool\u001b[0m\u001b[1;33m.\u001b[0m\u001b[0mconnect\u001b[0m\u001b[1;33m,\u001b[0m \u001b[1;32mNone\u001b[0m\u001b[1;33m)\u001b[0m\u001b[1;33m,\u001b[0m\u001b[1;33m\u001b[0m\u001b[1;33m\u001b[0m\u001b[0m\n\u001b[0m\u001b[0;32m   2303\u001b[0m             \u001b[0mclose_with_result\u001b[0m\u001b[1;33m=\u001b[0m\u001b[0mclose_with_result\u001b[0m\u001b[1;33m,\u001b[0m\u001b[1;33m\u001b[0m\u001b[1;33m\u001b[0m\u001b[0m\n\u001b[0;32m   2304\u001b[0m             \u001b[1;33m**\u001b[0m\u001b[0mkwargs\u001b[0m\u001b[1;33m\u001b[0m\u001b[1;33m\u001b[0m\u001b[0m\n",
      "\u001b[1;32m~\\anaconda3\\envs\\testenv\\lib\\site-packages\\sqlalchemy\\engine\\base.py\u001b[0m in \u001b[0;36m_wrap_pool_connect\u001b[1;34m(self, fn, connection)\u001b[0m\n\u001b[0;32m   2337\u001b[0m         \u001b[1;32mexcept\u001b[0m \u001b[0mdialect\u001b[0m\u001b[1;33m.\u001b[0m\u001b[0mdbapi\u001b[0m\u001b[1;33m.\u001b[0m\u001b[0mError\u001b[0m \u001b[1;32mas\u001b[0m \u001b[0me\u001b[0m\u001b[1;33m:\u001b[0m\u001b[1;33m\u001b[0m\u001b[1;33m\u001b[0m\u001b[0m\n\u001b[0;32m   2338\u001b[0m             \u001b[1;32mif\u001b[0m \u001b[0mconnection\u001b[0m \u001b[1;32mis\u001b[0m \u001b[1;32mNone\u001b[0m\u001b[1;33m:\u001b[0m\u001b[1;33m\u001b[0m\u001b[1;33m\u001b[0m\u001b[0m\n\u001b[1;32m-> 2339\u001b[1;33m                 Connection._handle_dbapi_exception_noconnection(\n\u001b[0m\u001b[0;32m   2340\u001b[0m                     \u001b[0me\u001b[0m\u001b[1;33m,\u001b[0m \u001b[0mdialect\u001b[0m\u001b[1;33m,\u001b[0m \u001b[0mself\u001b[0m\u001b[1;33m\u001b[0m\u001b[1;33m\u001b[0m\u001b[0m\n\u001b[0;32m   2341\u001b[0m                 )\n",
      "\u001b[1;32m~\\anaconda3\\envs\\testenv\\lib\\site-packages\\sqlalchemy\\engine\\base.py\u001b[0m in \u001b[0;36m_handle_dbapi_exception_noconnection\u001b[1;34m(cls, e, dialect, engine)\u001b[0m\n\u001b[0;32m   1581\u001b[0m             \u001b[0mutil\u001b[0m\u001b[1;33m.\u001b[0m\u001b[0mraise_\u001b[0m\u001b[1;33m(\u001b[0m\u001b[0mnewraise\u001b[0m\u001b[1;33m,\u001b[0m \u001b[0mwith_traceback\u001b[0m\u001b[1;33m=\u001b[0m\u001b[0mexc_info\u001b[0m\u001b[1;33m[\u001b[0m\u001b[1;36m2\u001b[0m\u001b[1;33m]\u001b[0m\u001b[1;33m,\u001b[0m \u001b[0mfrom_\u001b[0m\u001b[1;33m=\u001b[0m\u001b[0me\u001b[0m\u001b[1;33m)\u001b[0m\u001b[1;33m\u001b[0m\u001b[1;33m\u001b[0m\u001b[0m\n\u001b[0;32m   1582\u001b[0m         \u001b[1;32melif\u001b[0m \u001b[0mshould_wrap\u001b[0m\u001b[1;33m:\u001b[0m\u001b[1;33m\u001b[0m\u001b[1;33m\u001b[0m\u001b[0m\n\u001b[1;32m-> 1583\u001b[1;33m             util.raise_(\n\u001b[0m\u001b[0;32m   1584\u001b[0m                 \u001b[0msqlalchemy_exception\u001b[0m\u001b[1;33m,\u001b[0m \u001b[0mwith_traceback\u001b[0m\u001b[1;33m=\u001b[0m\u001b[0mexc_info\u001b[0m\u001b[1;33m[\u001b[0m\u001b[1;36m2\u001b[0m\u001b[1;33m]\u001b[0m\u001b[1;33m,\u001b[0m \u001b[0mfrom_\u001b[0m\u001b[1;33m=\u001b[0m\u001b[0me\u001b[0m\u001b[1;33m\u001b[0m\u001b[1;33m\u001b[0m\u001b[0m\n\u001b[0;32m   1585\u001b[0m             )\n",
      "\u001b[1;32m~\\anaconda3\\envs\\testenv\\lib\\site-packages\\sqlalchemy\\util\\compat.py\u001b[0m in \u001b[0;36mraise_\u001b[1;34m(***failed resolving arguments***)\u001b[0m\n\u001b[0;32m    180\u001b[0m \u001b[1;33m\u001b[0m\u001b[0m\n\u001b[0;32m    181\u001b[0m         \u001b[1;32mtry\u001b[0m\u001b[1;33m:\u001b[0m\u001b[1;33m\u001b[0m\u001b[1;33m\u001b[0m\u001b[0m\n\u001b[1;32m--> 182\u001b[1;33m             \u001b[1;32mraise\u001b[0m \u001b[0mexception\u001b[0m\u001b[1;33m\u001b[0m\u001b[1;33m\u001b[0m\u001b[0m\n\u001b[0m\u001b[0;32m    183\u001b[0m         \u001b[1;32mfinally\u001b[0m\u001b[1;33m:\u001b[0m\u001b[1;33m\u001b[0m\u001b[1;33m\u001b[0m\u001b[0m\n\u001b[0;32m    184\u001b[0m             \u001b[1;31m# credit to\u001b[0m\u001b[1;33m\u001b[0m\u001b[1;33m\u001b[0m\u001b[1;33m\u001b[0m\u001b[0m\n",
      "\u001b[1;32m~\\anaconda3\\envs\\testenv\\lib\\site-packages\\sqlalchemy\\engine\\base.py\u001b[0m in \u001b[0;36m_wrap_pool_connect\u001b[1;34m(self, fn, connection)\u001b[0m\n\u001b[0;32m   2334\u001b[0m         \u001b[0mdialect\u001b[0m \u001b[1;33m=\u001b[0m \u001b[0mself\u001b[0m\u001b[1;33m.\u001b[0m\u001b[0mdialect\u001b[0m\u001b[1;33m\u001b[0m\u001b[1;33m\u001b[0m\u001b[0m\n\u001b[0;32m   2335\u001b[0m         \u001b[1;32mtry\u001b[0m\u001b[1;33m:\u001b[0m\u001b[1;33m\u001b[0m\u001b[1;33m\u001b[0m\u001b[0m\n\u001b[1;32m-> 2336\u001b[1;33m             \u001b[1;32mreturn\u001b[0m \u001b[0mfn\u001b[0m\u001b[1;33m(\u001b[0m\u001b[1;33m)\u001b[0m\u001b[1;33m\u001b[0m\u001b[1;33m\u001b[0m\u001b[0m\n\u001b[0m\u001b[0;32m   2337\u001b[0m         \u001b[1;32mexcept\u001b[0m \u001b[0mdialect\u001b[0m\u001b[1;33m.\u001b[0m\u001b[0mdbapi\u001b[0m\u001b[1;33m.\u001b[0m\u001b[0mError\u001b[0m \u001b[1;32mas\u001b[0m \u001b[0me\u001b[0m\u001b[1;33m:\u001b[0m\u001b[1;33m\u001b[0m\u001b[1;33m\u001b[0m\u001b[0m\n\u001b[0;32m   2338\u001b[0m             \u001b[1;32mif\u001b[0m \u001b[0mconnection\u001b[0m \u001b[1;32mis\u001b[0m \u001b[1;32mNone\u001b[0m\u001b[1;33m:\u001b[0m\u001b[1;33m\u001b[0m\u001b[1;33m\u001b[0m\u001b[0m\n",
      "\u001b[1;32m~\\anaconda3\\envs\\testenv\\lib\\site-packages\\sqlalchemy\\pool\\base.py\u001b[0m in \u001b[0;36mconnect\u001b[1;34m(self)\u001b[0m\n\u001b[0;32m    362\u001b[0m         \"\"\"\n\u001b[0;32m    363\u001b[0m         \u001b[1;32mif\u001b[0m \u001b[1;32mnot\u001b[0m \u001b[0mself\u001b[0m\u001b[1;33m.\u001b[0m\u001b[0m_use_threadlocal\u001b[0m\u001b[1;33m:\u001b[0m\u001b[1;33m\u001b[0m\u001b[1;33m\u001b[0m\u001b[0m\n\u001b[1;32m--> 364\u001b[1;33m             \u001b[1;32mreturn\u001b[0m \u001b[0m_ConnectionFairy\u001b[0m\u001b[1;33m.\u001b[0m\u001b[0m_checkout\u001b[0m\u001b[1;33m(\u001b[0m\u001b[0mself\u001b[0m\u001b[1;33m)\u001b[0m\u001b[1;33m\u001b[0m\u001b[1;33m\u001b[0m\u001b[0m\n\u001b[0m\u001b[0;32m    365\u001b[0m \u001b[1;33m\u001b[0m\u001b[0m\n\u001b[0;32m    366\u001b[0m         \u001b[1;32mtry\u001b[0m\u001b[1;33m:\u001b[0m\u001b[1;33m\u001b[0m\u001b[1;33m\u001b[0m\u001b[0m\n",
      "\u001b[1;32m~\\anaconda3\\envs\\testenv\\lib\\site-packages\\sqlalchemy\\pool\\base.py\u001b[0m in \u001b[0;36m_checkout\u001b[1;34m(cls, pool, threadconns, fairy)\u001b[0m\n\u001b[0;32m    776\u001b[0m     \u001b[1;32mdef\u001b[0m \u001b[0m_checkout\u001b[0m\u001b[1;33m(\u001b[0m\u001b[0mcls\u001b[0m\u001b[1;33m,\u001b[0m \u001b[0mpool\u001b[0m\u001b[1;33m,\u001b[0m \u001b[0mthreadconns\u001b[0m\u001b[1;33m=\u001b[0m\u001b[1;32mNone\u001b[0m\u001b[1;33m,\u001b[0m \u001b[0mfairy\u001b[0m\u001b[1;33m=\u001b[0m\u001b[1;32mNone\u001b[0m\u001b[1;33m)\u001b[0m\u001b[1;33m:\u001b[0m\u001b[1;33m\u001b[0m\u001b[1;33m\u001b[0m\u001b[0m\n\u001b[0;32m    777\u001b[0m         \u001b[1;32mif\u001b[0m \u001b[1;32mnot\u001b[0m \u001b[0mfairy\u001b[0m\u001b[1;33m:\u001b[0m\u001b[1;33m\u001b[0m\u001b[1;33m\u001b[0m\u001b[0m\n\u001b[1;32m--> 778\u001b[1;33m             \u001b[0mfairy\u001b[0m \u001b[1;33m=\u001b[0m \u001b[0m_ConnectionRecord\u001b[0m\u001b[1;33m.\u001b[0m\u001b[0mcheckout\u001b[0m\u001b[1;33m(\u001b[0m\u001b[0mpool\u001b[0m\u001b[1;33m)\u001b[0m\u001b[1;33m\u001b[0m\u001b[1;33m\u001b[0m\u001b[0m\n\u001b[0m\u001b[0;32m    779\u001b[0m \u001b[1;33m\u001b[0m\u001b[0m\n\u001b[0;32m    780\u001b[0m             \u001b[0mfairy\u001b[0m\u001b[1;33m.\u001b[0m\u001b[0m_pool\u001b[0m \u001b[1;33m=\u001b[0m \u001b[0mpool\u001b[0m\u001b[1;33m\u001b[0m\u001b[1;33m\u001b[0m\u001b[0m\n",
      "\u001b[1;32m~\\anaconda3\\envs\\testenv\\lib\\site-packages\\sqlalchemy\\pool\\base.py\u001b[0m in \u001b[0;36mcheckout\u001b[1;34m(cls, pool)\u001b[0m\n\u001b[0;32m    493\u001b[0m     \u001b[1;33m@\u001b[0m\u001b[0mclassmethod\u001b[0m\u001b[1;33m\u001b[0m\u001b[1;33m\u001b[0m\u001b[0m\n\u001b[0;32m    494\u001b[0m     \u001b[1;32mdef\u001b[0m \u001b[0mcheckout\u001b[0m\u001b[1;33m(\u001b[0m\u001b[0mcls\u001b[0m\u001b[1;33m,\u001b[0m \u001b[0mpool\u001b[0m\u001b[1;33m)\u001b[0m\u001b[1;33m:\u001b[0m\u001b[1;33m\u001b[0m\u001b[1;33m\u001b[0m\u001b[0m\n\u001b[1;32m--> 495\u001b[1;33m         \u001b[0mrec\u001b[0m \u001b[1;33m=\u001b[0m \u001b[0mpool\u001b[0m\u001b[1;33m.\u001b[0m\u001b[0m_do_get\u001b[0m\u001b[1;33m(\u001b[0m\u001b[1;33m)\u001b[0m\u001b[1;33m\u001b[0m\u001b[1;33m\u001b[0m\u001b[0m\n\u001b[0m\u001b[0;32m    496\u001b[0m         \u001b[1;32mtry\u001b[0m\u001b[1;33m:\u001b[0m\u001b[1;33m\u001b[0m\u001b[1;33m\u001b[0m\u001b[0m\n\u001b[0;32m    497\u001b[0m             \u001b[0mdbapi_connection\u001b[0m \u001b[1;33m=\u001b[0m \u001b[0mrec\u001b[0m\u001b[1;33m.\u001b[0m\u001b[0mget_connection\u001b[0m\u001b[1;33m(\u001b[0m\u001b[1;33m)\u001b[0m\u001b[1;33m\u001b[0m\u001b[1;33m\u001b[0m\u001b[0m\n",
      "\u001b[1;32m~\\anaconda3\\envs\\testenv\\lib\\site-packages\\sqlalchemy\\pool\\impl.py\u001b[0m in \u001b[0;36m_do_get\u001b[1;34m(self)\u001b[0m\n\u001b[0;32m    138\u001b[0m             \u001b[1;32mexcept\u001b[0m\u001b[1;33m:\u001b[0m\u001b[1;33m\u001b[0m\u001b[1;33m\u001b[0m\u001b[0m\n\u001b[0;32m    139\u001b[0m                 \u001b[1;32mwith\u001b[0m \u001b[0mutil\u001b[0m\u001b[1;33m.\u001b[0m\u001b[0msafe_reraise\u001b[0m\u001b[1;33m(\u001b[0m\u001b[1;33m)\u001b[0m\u001b[1;33m:\u001b[0m\u001b[1;33m\u001b[0m\u001b[1;33m\u001b[0m\u001b[0m\n\u001b[1;32m--> 140\u001b[1;33m                     \u001b[0mself\u001b[0m\u001b[1;33m.\u001b[0m\u001b[0m_dec_overflow\u001b[0m\u001b[1;33m(\u001b[0m\u001b[1;33m)\u001b[0m\u001b[1;33m\u001b[0m\u001b[1;33m\u001b[0m\u001b[0m\n\u001b[0m\u001b[0;32m    141\u001b[0m         \u001b[1;32melse\u001b[0m\u001b[1;33m:\u001b[0m\u001b[1;33m\u001b[0m\u001b[1;33m\u001b[0m\u001b[0m\n\u001b[0;32m    142\u001b[0m             \u001b[1;32mreturn\u001b[0m \u001b[0mself\u001b[0m\u001b[1;33m.\u001b[0m\u001b[0m_do_get\u001b[0m\u001b[1;33m(\u001b[0m\u001b[1;33m)\u001b[0m\u001b[1;33m\u001b[0m\u001b[1;33m\u001b[0m\u001b[0m\n",
      "\u001b[1;32m~\\anaconda3\\envs\\testenv\\lib\\site-packages\\sqlalchemy\\util\\langhelpers.py\u001b[0m in \u001b[0;36m__exit__\u001b[1;34m(self, type_, value, traceback)\u001b[0m\n\u001b[0;32m     66\u001b[0m             \u001b[0mself\u001b[0m\u001b[1;33m.\u001b[0m\u001b[0m_exc_info\u001b[0m \u001b[1;33m=\u001b[0m \u001b[1;32mNone\u001b[0m  \u001b[1;31m# remove potential circular references\u001b[0m\u001b[1;33m\u001b[0m\u001b[1;33m\u001b[0m\u001b[0m\n\u001b[0;32m     67\u001b[0m             \u001b[1;32mif\u001b[0m \u001b[1;32mnot\u001b[0m \u001b[0mself\u001b[0m\u001b[1;33m.\u001b[0m\u001b[0mwarn_only\u001b[0m\u001b[1;33m:\u001b[0m\u001b[1;33m\u001b[0m\u001b[1;33m\u001b[0m\u001b[0m\n\u001b[1;32m---> 68\u001b[1;33m                 compat.raise_(\n\u001b[0m\u001b[0;32m     69\u001b[0m                     \u001b[0mexc_value\u001b[0m\u001b[1;33m,\u001b[0m\u001b[1;33m\u001b[0m\u001b[1;33m\u001b[0m\u001b[0m\n\u001b[0;32m     70\u001b[0m                     \u001b[0mwith_traceback\u001b[0m\u001b[1;33m=\u001b[0m\u001b[0mexc_tb\u001b[0m\u001b[1;33m,\u001b[0m\u001b[1;33m\u001b[0m\u001b[1;33m\u001b[0m\u001b[0m\n",
      "\u001b[1;32m~\\anaconda3\\envs\\testenv\\lib\\site-packages\\sqlalchemy\\util\\compat.py\u001b[0m in \u001b[0;36mraise_\u001b[1;34m(***failed resolving arguments***)\u001b[0m\n\u001b[0;32m    180\u001b[0m \u001b[1;33m\u001b[0m\u001b[0m\n\u001b[0;32m    181\u001b[0m         \u001b[1;32mtry\u001b[0m\u001b[1;33m:\u001b[0m\u001b[1;33m\u001b[0m\u001b[1;33m\u001b[0m\u001b[0m\n\u001b[1;32m--> 182\u001b[1;33m             \u001b[1;32mraise\u001b[0m \u001b[0mexception\u001b[0m\u001b[1;33m\u001b[0m\u001b[1;33m\u001b[0m\u001b[0m\n\u001b[0m\u001b[0;32m    183\u001b[0m         \u001b[1;32mfinally\u001b[0m\u001b[1;33m:\u001b[0m\u001b[1;33m\u001b[0m\u001b[1;33m\u001b[0m\u001b[0m\n\u001b[0;32m    184\u001b[0m             \u001b[1;31m# credit to\u001b[0m\u001b[1;33m\u001b[0m\u001b[1;33m\u001b[0m\u001b[1;33m\u001b[0m\u001b[0m\n",
      "\u001b[1;32m~\\anaconda3\\envs\\testenv\\lib\\site-packages\\sqlalchemy\\pool\\impl.py\u001b[0m in \u001b[0;36m_do_get\u001b[1;34m(self)\u001b[0m\n\u001b[0;32m    135\u001b[0m         \u001b[1;32mif\u001b[0m \u001b[0mself\u001b[0m\u001b[1;33m.\u001b[0m\u001b[0m_inc_overflow\u001b[0m\u001b[1;33m(\u001b[0m\u001b[1;33m)\u001b[0m\u001b[1;33m:\u001b[0m\u001b[1;33m\u001b[0m\u001b[1;33m\u001b[0m\u001b[0m\n\u001b[0;32m    136\u001b[0m             \u001b[1;32mtry\u001b[0m\u001b[1;33m:\u001b[0m\u001b[1;33m\u001b[0m\u001b[1;33m\u001b[0m\u001b[0m\n\u001b[1;32m--> 137\u001b[1;33m                 \u001b[1;32mreturn\u001b[0m \u001b[0mself\u001b[0m\u001b[1;33m.\u001b[0m\u001b[0m_create_connection\u001b[0m\u001b[1;33m(\u001b[0m\u001b[1;33m)\u001b[0m\u001b[1;33m\u001b[0m\u001b[1;33m\u001b[0m\u001b[0m\n\u001b[0m\u001b[0;32m    138\u001b[0m             \u001b[1;32mexcept\u001b[0m\u001b[1;33m:\u001b[0m\u001b[1;33m\u001b[0m\u001b[1;33m\u001b[0m\u001b[0m\n\u001b[0;32m    139\u001b[0m                 \u001b[1;32mwith\u001b[0m \u001b[0mutil\u001b[0m\u001b[1;33m.\u001b[0m\u001b[0msafe_reraise\u001b[0m\u001b[1;33m(\u001b[0m\u001b[1;33m)\u001b[0m\u001b[1;33m:\u001b[0m\u001b[1;33m\u001b[0m\u001b[1;33m\u001b[0m\u001b[0m\n",
      "\u001b[1;32m~\\anaconda3\\envs\\testenv\\lib\\site-packages\\sqlalchemy\\pool\\base.py\u001b[0m in \u001b[0;36m_create_connection\u001b[1;34m(self)\u001b[0m\n\u001b[0;32m    307\u001b[0m         \u001b[1;34m\"\"\"Called by subclasses to create a new ConnectionRecord.\"\"\"\u001b[0m\u001b[1;33m\u001b[0m\u001b[1;33m\u001b[0m\u001b[0m\n\u001b[0;32m    308\u001b[0m \u001b[1;33m\u001b[0m\u001b[0m\n\u001b[1;32m--> 309\u001b[1;33m         \u001b[1;32mreturn\u001b[0m \u001b[0m_ConnectionRecord\u001b[0m\u001b[1;33m(\u001b[0m\u001b[0mself\u001b[0m\u001b[1;33m)\u001b[0m\u001b[1;33m\u001b[0m\u001b[1;33m\u001b[0m\u001b[0m\n\u001b[0m\u001b[0;32m    310\u001b[0m \u001b[1;33m\u001b[0m\u001b[0m\n\u001b[0;32m    311\u001b[0m     \u001b[1;32mdef\u001b[0m \u001b[0m_invalidate\u001b[0m\u001b[1;33m(\u001b[0m\u001b[0mself\u001b[0m\u001b[1;33m,\u001b[0m \u001b[0mconnection\u001b[0m\u001b[1;33m,\u001b[0m \u001b[0mexception\u001b[0m\u001b[1;33m=\u001b[0m\u001b[1;32mNone\u001b[0m\u001b[1;33m,\u001b[0m \u001b[0m_checkin\u001b[0m\u001b[1;33m=\u001b[0m\u001b[1;32mTrue\u001b[0m\u001b[1;33m)\u001b[0m\u001b[1;33m:\u001b[0m\u001b[1;33m\u001b[0m\u001b[1;33m\u001b[0m\u001b[0m\n",
      "\u001b[1;32m~\\anaconda3\\envs\\testenv\\lib\\site-packages\\sqlalchemy\\pool\\base.py\u001b[0m in \u001b[0;36m__init__\u001b[1;34m(self, pool, connect)\u001b[0m\n\u001b[0;32m    438\u001b[0m         \u001b[0mself\u001b[0m\u001b[1;33m.\u001b[0m\u001b[0m__pool\u001b[0m \u001b[1;33m=\u001b[0m \u001b[0mpool\u001b[0m\u001b[1;33m\u001b[0m\u001b[1;33m\u001b[0m\u001b[0m\n\u001b[0;32m    439\u001b[0m         \u001b[1;32mif\u001b[0m \u001b[0mconnect\u001b[0m\u001b[1;33m:\u001b[0m\u001b[1;33m\u001b[0m\u001b[1;33m\u001b[0m\u001b[0m\n\u001b[1;32m--> 440\u001b[1;33m             \u001b[0mself\u001b[0m\u001b[1;33m.\u001b[0m\u001b[0m__connect\u001b[0m\u001b[1;33m(\u001b[0m\u001b[0mfirst_connect_check\u001b[0m\u001b[1;33m=\u001b[0m\u001b[1;32mTrue\u001b[0m\u001b[1;33m)\u001b[0m\u001b[1;33m\u001b[0m\u001b[1;33m\u001b[0m\u001b[0m\n\u001b[0m\u001b[0;32m    441\u001b[0m         \u001b[0mself\u001b[0m\u001b[1;33m.\u001b[0m\u001b[0mfinalize_callback\u001b[0m \u001b[1;33m=\u001b[0m \u001b[0mdeque\u001b[0m\u001b[1;33m(\u001b[0m\u001b[1;33m)\u001b[0m\u001b[1;33m\u001b[0m\u001b[1;33m\u001b[0m\u001b[0m\n\u001b[0;32m    442\u001b[0m \u001b[1;33m\u001b[0m\u001b[0m\n",
      "\u001b[1;32m~\\anaconda3\\envs\\testenv\\lib\\site-packages\\sqlalchemy\\pool\\base.py\u001b[0m in \u001b[0;36m__connect\u001b[1;34m(self, first_connect_check)\u001b[0m\n\u001b[0;32m    659\u001b[0m         \u001b[1;32mexcept\u001b[0m \u001b[0mException\u001b[0m \u001b[1;32mas\u001b[0m \u001b[0me\u001b[0m\u001b[1;33m:\u001b[0m\u001b[1;33m\u001b[0m\u001b[1;33m\u001b[0m\u001b[0m\n\u001b[0;32m    660\u001b[0m             \u001b[1;32mwith\u001b[0m \u001b[0mutil\u001b[0m\u001b[1;33m.\u001b[0m\u001b[0msafe_reraise\u001b[0m\u001b[1;33m(\u001b[0m\u001b[1;33m)\u001b[0m\u001b[1;33m:\u001b[0m\u001b[1;33m\u001b[0m\u001b[1;33m\u001b[0m\u001b[0m\n\u001b[1;32m--> 661\u001b[1;33m                 \u001b[0mpool\u001b[0m\u001b[1;33m.\u001b[0m\u001b[0mlogger\u001b[0m\u001b[1;33m.\u001b[0m\u001b[0mdebug\u001b[0m\u001b[1;33m(\u001b[0m\u001b[1;34m\"Error on connect(): %s\"\u001b[0m\u001b[1;33m,\u001b[0m \u001b[0me\u001b[0m\u001b[1;33m)\u001b[0m\u001b[1;33m\u001b[0m\u001b[1;33m\u001b[0m\u001b[0m\n\u001b[0m\u001b[0;32m    662\u001b[0m         \u001b[1;32melse\u001b[0m\u001b[1;33m:\u001b[0m\u001b[1;33m\u001b[0m\u001b[1;33m\u001b[0m\u001b[0m\n\u001b[0;32m    663\u001b[0m             \u001b[1;32mif\u001b[0m \u001b[0mfirst_connect_check\u001b[0m\u001b[1;33m:\u001b[0m\u001b[1;33m\u001b[0m\u001b[1;33m\u001b[0m\u001b[0m\n",
      "\u001b[1;32m~\\anaconda3\\envs\\testenv\\lib\\site-packages\\sqlalchemy\\util\\langhelpers.py\u001b[0m in \u001b[0;36m__exit__\u001b[1;34m(self, type_, value, traceback)\u001b[0m\n\u001b[0;32m     66\u001b[0m             \u001b[0mself\u001b[0m\u001b[1;33m.\u001b[0m\u001b[0m_exc_info\u001b[0m \u001b[1;33m=\u001b[0m \u001b[1;32mNone\u001b[0m  \u001b[1;31m# remove potential circular references\u001b[0m\u001b[1;33m\u001b[0m\u001b[1;33m\u001b[0m\u001b[0m\n\u001b[0;32m     67\u001b[0m             \u001b[1;32mif\u001b[0m \u001b[1;32mnot\u001b[0m \u001b[0mself\u001b[0m\u001b[1;33m.\u001b[0m\u001b[0mwarn_only\u001b[0m\u001b[1;33m:\u001b[0m\u001b[1;33m\u001b[0m\u001b[1;33m\u001b[0m\u001b[0m\n\u001b[1;32m---> 68\u001b[1;33m                 compat.raise_(\n\u001b[0m\u001b[0;32m     69\u001b[0m                     \u001b[0mexc_value\u001b[0m\u001b[1;33m,\u001b[0m\u001b[1;33m\u001b[0m\u001b[1;33m\u001b[0m\u001b[0m\n\u001b[0;32m     70\u001b[0m                     \u001b[0mwith_traceback\u001b[0m\u001b[1;33m=\u001b[0m\u001b[0mexc_tb\u001b[0m\u001b[1;33m,\u001b[0m\u001b[1;33m\u001b[0m\u001b[1;33m\u001b[0m\u001b[0m\n",
      "\u001b[1;32m~\\anaconda3\\envs\\testenv\\lib\\site-packages\\sqlalchemy\\util\\compat.py\u001b[0m in \u001b[0;36mraise_\u001b[1;34m(***failed resolving arguments***)\u001b[0m\n\u001b[0;32m    180\u001b[0m \u001b[1;33m\u001b[0m\u001b[0m\n\u001b[0;32m    181\u001b[0m         \u001b[1;32mtry\u001b[0m\u001b[1;33m:\u001b[0m\u001b[1;33m\u001b[0m\u001b[1;33m\u001b[0m\u001b[0m\n\u001b[1;32m--> 182\u001b[1;33m             \u001b[1;32mraise\u001b[0m \u001b[0mexception\u001b[0m\u001b[1;33m\u001b[0m\u001b[1;33m\u001b[0m\u001b[0m\n\u001b[0m\u001b[0;32m    183\u001b[0m         \u001b[1;32mfinally\u001b[0m\u001b[1;33m:\u001b[0m\u001b[1;33m\u001b[0m\u001b[1;33m\u001b[0m\u001b[0m\n\u001b[0;32m    184\u001b[0m             \u001b[1;31m# credit to\u001b[0m\u001b[1;33m\u001b[0m\u001b[1;33m\u001b[0m\u001b[1;33m\u001b[0m\u001b[0m\n",
      "\u001b[1;32m~\\anaconda3\\envs\\testenv\\lib\\site-packages\\sqlalchemy\\pool\\base.py\u001b[0m in \u001b[0;36m__connect\u001b[1;34m(self, first_connect_check)\u001b[0m\n\u001b[0;32m    654\u001b[0m         \u001b[1;32mtry\u001b[0m\u001b[1;33m:\u001b[0m\u001b[1;33m\u001b[0m\u001b[1;33m\u001b[0m\u001b[0m\n\u001b[0;32m    655\u001b[0m             \u001b[0mself\u001b[0m\u001b[1;33m.\u001b[0m\u001b[0mstarttime\u001b[0m \u001b[1;33m=\u001b[0m \u001b[0mtime\u001b[0m\u001b[1;33m.\u001b[0m\u001b[0mtime\u001b[0m\u001b[1;33m(\u001b[0m\u001b[1;33m)\u001b[0m\u001b[1;33m\u001b[0m\u001b[1;33m\u001b[0m\u001b[0m\n\u001b[1;32m--> 656\u001b[1;33m             \u001b[0mconnection\u001b[0m \u001b[1;33m=\u001b[0m \u001b[0mpool\u001b[0m\u001b[1;33m.\u001b[0m\u001b[0m_invoke_creator\u001b[0m\u001b[1;33m(\u001b[0m\u001b[0mself\u001b[0m\u001b[1;33m)\u001b[0m\u001b[1;33m\u001b[0m\u001b[1;33m\u001b[0m\u001b[0m\n\u001b[0m\u001b[0;32m    657\u001b[0m             \u001b[0mpool\u001b[0m\u001b[1;33m.\u001b[0m\u001b[0mlogger\u001b[0m\u001b[1;33m.\u001b[0m\u001b[0mdebug\u001b[0m\u001b[1;33m(\u001b[0m\u001b[1;34m\"Created new connection %r\"\u001b[0m\u001b[1;33m,\u001b[0m \u001b[0mconnection\u001b[0m\u001b[1;33m)\u001b[0m\u001b[1;33m\u001b[0m\u001b[1;33m\u001b[0m\u001b[0m\n\u001b[0;32m    658\u001b[0m             \u001b[0mself\u001b[0m\u001b[1;33m.\u001b[0m\u001b[0mconnection\u001b[0m \u001b[1;33m=\u001b[0m \u001b[0mconnection\u001b[0m\u001b[1;33m\u001b[0m\u001b[1;33m\u001b[0m\u001b[0m\n",
      "\u001b[1;32m~\\anaconda3\\envs\\testenv\\lib\\site-packages\\sqlalchemy\\engine\\strategies.py\u001b[0m in \u001b[0;36mconnect\u001b[1;34m(connection_record)\u001b[0m\n\u001b[0;32m    112\u001b[0m                         \u001b[1;32mif\u001b[0m \u001b[0mconnection\u001b[0m \u001b[1;32mis\u001b[0m \u001b[1;32mnot\u001b[0m \u001b[1;32mNone\u001b[0m\u001b[1;33m:\u001b[0m\u001b[1;33m\u001b[0m\u001b[1;33m\u001b[0m\u001b[0m\n\u001b[0;32m    113\u001b[0m                             \u001b[1;32mreturn\u001b[0m \u001b[0mconnection\u001b[0m\u001b[1;33m\u001b[0m\u001b[1;33m\u001b[0m\u001b[0m\n\u001b[1;32m--> 114\u001b[1;33m                 \u001b[1;32mreturn\u001b[0m \u001b[0mdialect\u001b[0m\u001b[1;33m.\u001b[0m\u001b[0mconnect\u001b[0m\u001b[1;33m(\u001b[0m\u001b[1;33m*\u001b[0m\u001b[0mcargs\u001b[0m\u001b[1;33m,\u001b[0m \u001b[1;33m**\u001b[0m\u001b[0mcparams\u001b[0m\u001b[1;33m)\u001b[0m\u001b[1;33m\u001b[0m\u001b[1;33m\u001b[0m\u001b[0m\n\u001b[0m\u001b[0;32m    115\u001b[0m \u001b[1;33m\u001b[0m\u001b[0m\n\u001b[0;32m    116\u001b[0m             \u001b[0mcreator\u001b[0m \u001b[1;33m=\u001b[0m \u001b[0mpop_kwarg\u001b[0m\u001b[1;33m(\u001b[0m\u001b[1;34m\"creator\"\u001b[0m\u001b[1;33m,\u001b[0m \u001b[0mconnect\u001b[0m\u001b[1;33m)\u001b[0m\u001b[1;33m\u001b[0m\u001b[1;33m\u001b[0m\u001b[0m\n",
      "\u001b[1;32m~\\anaconda3\\envs\\testenv\\lib\\site-packages\\sqlalchemy\\engine\\default.py\u001b[0m in \u001b[0;36mconnect\u001b[1;34m(self, *cargs, **cparams)\u001b[0m\n\u001b[0;32m    506\u001b[0m     \u001b[1;32mdef\u001b[0m \u001b[0mconnect\u001b[0m\u001b[1;33m(\u001b[0m\u001b[0mself\u001b[0m\u001b[1;33m,\u001b[0m \u001b[1;33m*\u001b[0m\u001b[0mcargs\u001b[0m\u001b[1;33m,\u001b[0m \u001b[1;33m**\u001b[0m\u001b[0mcparams\u001b[0m\u001b[1;33m)\u001b[0m\u001b[1;33m:\u001b[0m\u001b[1;33m\u001b[0m\u001b[1;33m\u001b[0m\u001b[0m\n\u001b[0;32m    507\u001b[0m         \u001b[1;31m# inherits the docstring from interfaces.Dialect.connect\u001b[0m\u001b[1;33m\u001b[0m\u001b[1;33m\u001b[0m\u001b[1;33m\u001b[0m\u001b[0m\n\u001b[1;32m--> 508\u001b[1;33m         \u001b[1;32mreturn\u001b[0m \u001b[0mself\u001b[0m\u001b[1;33m.\u001b[0m\u001b[0mdbapi\u001b[0m\u001b[1;33m.\u001b[0m\u001b[0mconnect\u001b[0m\u001b[1;33m(\u001b[0m\u001b[1;33m*\u001b[0m\u001b[0mcargs\u001b[0m\u001b[1;33m,\u001b[0m \u001b[1;33m**\u001b[0m\u001b[0mcparams\u001b[0m\u001b[1;33m)\u001b[0m\u001b[1;33m\u001b[0m\u001b[1;33m\u001b[0m\u001b[0m\n\u001b[0m\u001b[0;32m    509\u001b[0m \u001b[1;33m\u001b[0m\u001b[0m\n\u001b[0;32m    510\u001b[0m     \u001b[1;32mdef\u001b[0m \u001b[0mcreate_connect_args\u001b[0m\u001b[1;33m(\u001b[0m\u001b[0mself\u001b[0m\u001b[1;33m,\u001b[0m \u001b[0murl\u001b[0m\u001b[1;33m)\u001b[0m\u001b[1;33m:\u001b[0m\u001b[1;33m\u001b[0m\u001b[1;33m\u001b[0m\u001b[0m\n",
      "\u001b[1;32m~\\anaconda3\\envs\\testenv\\lib\\site-packages\\mysql\\connector\\__init__.py\u001b[0m in \u001b[0;36mconnect\u001b[1;34m(*args, **kwargs)\u001b[0m\n\u001b[0;32m    177\u001b[0m         \u001b[1;32mreturn\u001b[0m \u001b[0mCMySQLConnection\u001b[0m\u001b[1;33m(\u001b[0m\u001b[1;33m*\u001b[0m\u001b[0margs\u001b[0m\u001b[1;33m,\u001b[0m \u001b[1;33m**\u001b[0m\u001b[0mkwargs\u001b[0m\u001b[1;33m)\u001b[0m\u001b[1;33m\u001b[0m\u001b[1;33m\u001b[0m\u001b[0m\n\u001b[0;32m    178\u001b[0m     \u001b[1;32melse\u001b[0m\u001b[1;33m:\u001b[0m\u001b[1;33m\u001b[0m\u001b[1;33m\u001b[0m\u001b[0m\n\u001b[1;32m--> 179\u001b[1;33m         \u001b[1;32mreturn\u001b[0m \u001b[0mMySQLConnection\u001b[0m\u001b[1;33m(\u001b[0m\u001b[1;33m*\u001b[0m\u001b[0margs\u001b[0m\u001b[1;33m,\u001b[0m \u001b[1;33m**\u001b[0m\u001b[0mkwargs\u001b[0m\u001b[1;33m)\u001b[0m\u001b[1;33m\u001b[0m\u001b[1;33m\u001b[0m\u001b[0m\n\u001b[0m\u001b[0;32m    180\u001b[0m \u001b[0mConnect\u001b[0m \u001b[1;33m=\u001b[0m \u001b[0mconnect\u001b[0m  \u001b[1;31m# pylint: disable=C0103\u001b[0m\u001b[1;33m\u001b[0m\u001b[1;33m\u001b[0m\u001b[0m\n\u001b[0;32m    181\u001b[0m \u001b[1;33m\u001b[0m\u001b[0m\n",
      "\u001b[1;32m~\\anaconda3\\envs\\testenv\\lib\\site-packages\\mysql\\connector\\connection.py\u001b[0m in \u001b[0;36m__init__\u001b[1;34m(self, *args, **kwargs)\u001b[0m\n\u001b[0;32m     93\u001b[0m \u001b[1;33m\u001b[0m\u001b[0m\n\u001b[0;32m     94\u001b[0m         \u001b[1;32mif\u001b[0m \u001b[0mlen\u001b[0m\u001b[1;33m(\u001b[0m\u001b[0mkwargs\u001b[0m\u001b[1;33m)\u001b[0m \u001b[1;33m>\u001b[0m \u001b[1;36m0\u001b[0m\u001b[1;33m:\u001b[0m\u001b[1;33m\u001b[0m\u001b[1;33m\u001b[0m\u001b[0m\n\u001b[1;32m---> 95\u001b[1;33m             \u001b[0mself\u001b[0m\u001b[1;33m.\u001b[0m\u001b[0mconnect\u001b[0m\u001b[1;33m(\u001b[0m\u001b[1;33m**\u001b[0m\u001b[0mkwargs\u001b[0m\u001b[1;33m)\u001b[0m\u001b[1;33m\u001b[0m\u001b[1;33m\u001b[0m\u001b[0m\n\u001b[0m\u001b[0;32m     96\u001b[0m \u001b[1;33m\u001b[0m\u001b[0m\n\u001b[0;32m     97\u001b[0m     \u001b[1;32mdef\u001b[0m \u001b[0m_do_handshake\u001b[0m\u001b[1;33m(\u001b[0m\u001b[0mself\u001b[0m\u001b[1;33m)\u001b[0m\u001b[1;33m:\u001b[0m\u001b[1;33m\u001b[0m\u001b[1;33m\u001b[0m\u001b[0m\n",
      "\u001b[1;32m~\\anaconda3\\envs\\testenv\\lib\\site-packages\\mysql\\connector\\abstracts.py\u001b[0m in \u001b[0;36mconnect\u001b[1;34m(self, **kwargs)\u001b[0m\n\u001b[0;32m    714\u001b[0m \u001b[1;33m\u001b[0m\u001b[0m\n\u001b[0;32m    715\u001b[0m         \u001b[0mself\u001b[0m\u001b[1;33m.\u001b[0m\u001b[0mdisconnect\u001b[0m\u001b[1;33m(\u001b[0m\u001b[1;33m)\u001b[0m\u001b[1;33m\u001b[0m\u001b[1;33m\u001b[0m\u001b[0m\n\u001b[1;32m--> 716\u001b[1;33m         \u001b[0mself\u001b[0m\u001b[1;33m.\u001b[0m\u001b[0m_open_connection\u001b[0m\u001b[1;33m(\u001b[0m\u001b[1;33m)\u001b[0m\u001b[1;33m\u001b[0m\u001b[1;33m\u001b[0m\u001b[0m\n\u001b[0m\u001b[0;32m    717\u001b[0m         \u001b[0mself\u001b[0m\u001b[1;33m.\u001b[0m\u001b[0m_post_connection\u001b[0m\u001b[1;33m(\u001b[0m\u001b[1;33m)\u001b[0m\u001b[1;33m\u001b[0m\u001b[1;33m\u001b[0m\u001b[0m\n\u001b[0;32m    718\u001b[0m \u001b[1;33m\u001b[0m\u001b[0m\n",
      "\u001b[1;32m~\\anaconda3\\envs\\testenv\\lib\\site-packages\\mysql\\connector\\connection.py\u001b[0m in \u001b[0;36m_open_connection\u001b[1;34m(self)\u001b[0m\n\u001b[0;32m    204\u001b[0m         \u001b[0mself\u001b[0m\u001b[1;33m.\u001b[0m\u001b[0m_protocol\u001b[0m \u001b[1;33m=\u001b[0m \u001b[0mMySQLProtocol\u001b[0m\u001b[1;33m(\u001b[0m\u001b[1;33m)\u001b[0m\u001b[1;33m\u001b[0m\u001b[1;33m\u001b[0m\u001b[0m\n\u001b[0;32m    205\u001b[0m         \u001b[0mself\u001b[0m\u001b[1;33m.\u001b[0m\u001b[0m_socket\u001b[0m \u001b[1;33m=\u001b[0m \u001b[0mself\u001b[0m\u001b[1;33m.\u001b[0m\u001b[0m_get_connection\u001b[0m\u001b[1;33m(\u001b[0m\u001b[1;33m)\u001b[0m\u001b[1;33m\u001b[0m\u001b[1;33m\u001b[0m\u001b[0m\n\u001b[1;32m--> 206\u001b[1;33m         \u001b[0mself\u001b[0m\u001b[1;33m.\u001b[0m\u001b[0m_socket\u001b[0m\u001b[1;33m.\u001b[0m\u001b[0mopen_connection\u001b[0m\u001b[1;33m(\u001b[0m\u001b[1;33m)\u001b[0m\u001b[1;33m\u001b[0m\u001b[1;33m\u001b[0m\u001b[0m\n\u001b[0m\u001b[0;32m    207\u001b[0m         \u001b[0mself\u001b[0m\u001b[1;33m.\u001b[0m\u001b[0m_do_handshake\u001b[0m\u001b[1;33m(\u001b[0m\u001b[1;33m)\u001b[0m\u001b[1;33m\u001b[0m\u001b[1;33m\u001b[0m\u001b[0m\n\u001b[0;32m    208\u001b[0m         self._do_auth(self._user, self._password,\n",
      "\u001b[1;32m~\\anaconda3\\envs\\testenv\\lib\\site-packages\\mysql\\connector\\network.py\u001b[0m in \u001b[0;36mopen_connection\u001b[1;34m(self)\u001b[0m\n\u001b[0;32m    509\u001b[0m             \u001b[0mself\u001b[0m\u001b[1;33m.\u001b[0m\u001b[0msock\u001b[0m\u001b[1;33m.\u001b[0m\u001b[0mconnect\u001b[0m\u001b[1;33m(\u001b[0m\u001b[0msockaddr\u001b[0m\u001b[1;33m)\u001b[0m\u001b[1;33m\u001b[0m\u001b[1;33m\u001b[0m\u001b[0m\n\u001b[0;32m    510\u001b[0m         \u001b[1;32mexcept\u001b[0m \u001b[0mIOError\u001b[0m \u001b[1;32mas\u001b[0m \u001b[0merr\u001b[0m\u001b[1;33m:\u001b[0m\u001b[1;33m\u001b[0m\u001b[1;33m\u001b[0m\u001b[0m\n\u001b[1;32m--> 511\u001b[1;33m             raise errors.InterfaceError(\n\u001b[0m\u001b[0;32m    512\u001b[0m                 errno=2003, values=(self.get_address(), _strioerror(err)))\n\u001b[0;32m    513\u001b[0m         \u001b[1;32mexcept\u001b[0m \u001b[0mException\u001b[0m \u001b[1;32mas\u001b[0m \u001b[0merr\u001b[0m\u001b[1;33m:\u001b[0m\u001b[1;33m\u001b[0m\u001b[1;33m\u001b[0m\u001b[0m\n",
      "\u001b[1;31mInterfaceError\u001b[0m: (mysql.connector.errors.InterfaceError) 2003: Can't connect to MySQL server on 'mydbbikes.ch3b14m3xpr0.us-east-1.rds.amazonaws.com:3306' (10060 A connection attempt failed because the connected party did not properly respond after a period of time, or established connection failed because connected host has failed to respond)\n(Background on this error at: http://sqlalche.me/e/13/rvf5)"
     ]
    }
   ],
   "source": [
    "meta = MetaData()\n",
    "\n",
    "stations = Table(\n",
    "'stations', meta,\n",
    "Column('number', Integer, primary_key = True),\n",
    "Column('name', String(128)),\n",
    "Column('address', String(128)),\n",
    "Column('pos_lat', Float),\n",
    "Column('pos_lng', Float),\n",
    "Column('bike_stands', Integer),\n",
    "Column('available_bike_stands', Integer),\n",
    "Column('available bikes', Integer),\n",
    "Column('last_update', DateTime)\n",
    ")\n",
    "\n",
    "#print(stations.columns)\n",
    "\n",
    "meta.create_all(engine)"
   ]
  },
  {
   "cell_type": "code",
   "execution_count": null,
   "id": "level-involvement",
   "metadata": {},
   "outputs": [],
   "source": []
  },
  {
   "cell_type": "code",
   "execution_count": null,
   "id": "romantic-moldova",
   "metadata": {},
   "outputs": [],
   "source": []
  },
  {
   "cell_type": "code",
   "execution_count": 7,
   "id": "monthly-museum",
   "metadata": {},
   "outputs": [],
   "source": [
    "APIKEY = \"faa0b3cb4ae90aba340567484b057e59c72b1a37\"\n",
    "NAME = \"Dublin\"\n",
    "STATIONS = \"https://api.jcdecaux.com/vls/v1/stations\"\n",
    "\n",
    "\n",
    "r = requests.get(STATIONS, params={\"apiKey\": APIKEY, \"contract\": NAME})\n",
    "#x = JSON(json.loads(r.text))\n",
    "\n",
    "# json = json.dumps(x)\n",
    "# f = open(\"test.json\", \"w\")\n",
    "# f.write(json)\n",
    "# f.close()\n",
    "#\n",
    "# print(x)\n"
   ]
  },
  {
   "cell_type": "code",
   "execution_count": 8,
   "id": "digital-knowing",
   "metadata": {},
   "outputs": [
    {
     "data": {
      "application/json": [
       {
        "address": "Smithfield North",
        "available_bike_stands": 10,
        "available_bikes": 20,
        "banking": true,
        "bike_stands": 30,
        "bonus": false,
        "contract_name": "dublin",
        "last_update": 1614024233000,
        "name": "SMITHFIELD NORTH",
        "number": 42,
        "position": {
         "lat": 53.349562,
         "lng": -6.278198
        },
        "status": "OPEN"
       },
       {
        "address": "Parnell Square North",
        "available_bike_stands": 16,
        "available_bikes": 4,
        "banking": true,
        "bike_stands": 20,
        "bonus": false,
        "contract_name": "dublin",
        "last_update": 1614023998000,
        "name": "PARNELL SQUARE NORTH",
        "number": 30,
        "position": {
         "lat": 53.353462,
         "lng": -6.265305
        },
        "status": "OPEN"
       },
       {
        "address": "Clonmel Street",
        "available_bike_stands": 24,
        "available_bikes": 9,
        "banking": false,
        "bike_stands": 33,
        "bonus": false,
        "contract_name": "dublin",
        "last_update": 1614024194000,
        "name": "CLONMEL STREET",
        "number": 54,
        "position": {
         "lat": 53.336021,
         "lng": -6.26298
        },
        "status": "OPEN"
       },
       {
        "address": "Avondale Road",
        "available_bike_stands": 26,
        "available_bikes": 14,
        "banking": false,
        "bike_stands": 40,
        "bonus": false,
        "contract_name": "dublin",
        "last_update": 1614023935000,
        "name": "AVONDALE ROAD",
        "number": 108,
        "position": {
         "lat": 53.359405,
         "lng": -6.276142
        },
        "status": "OPEN"
       },
       {
        "address": "Mount Street Lower",
        "available_bike_stands": 25,
        "available_bikes": 15,
        "banking": false,
        "bike_stands": 40,
        "bonus": false,
        "contract_name": "dublin",
        "last_update": 1614024305000,
        "name": "MOUNT STREET LOWER",
        "number": 56,
        "position": {
         "lat": 53.33796,
         "lng": -6.24153
        },
        "status": "OPEN"
       },
       {
        "address": "Christchurch Place",
        "available_bike_stands": 20,
        "available_bikes": 0,
        "banking": false,
        "bike_stands": 20,
        "bonus": false,
        "contract_name": "dublin",
        "last_update": 1614023961000,
        "name": "CHRISTCHURCH PLACE",
        "number": 6,
        "position": {
         "lat": 53.343368,
         "lng": -6.27012
        },
        "status": "OPEN"
       },
       {
        "address": "Grantham Street",
        "available_bike_stands": 16,
        "available_bikes": 14,
        "banking": true,
        "bike_stands": 30,
        "bonus": false,
        "contract_name": "dublin",
        "last_update": 1614024423000,
        "name": "GRANTHAM STREET",
        "number": 18,
        "position": {
         "lat": 53.334123,
         "lng": -6.265436
        },
        "status": "OPEN"
       },
       {
        "address": "Pearse Street",
        "available_bike_stands": 26,
        "available_bikes": 4,
        "banking": true,
        "bike_stands": 30,
        "bonus": false,
        "contract_name": "dublin",
        "last_update": 1614023984000,
        "name": "PEARSE STREET",
        "number": 32,
        "position": {
         "lat": 53.344304,
         "lng": -6.250427
        },
        "status": "OPEN"
       },
       {
        "address": "York Street East",
        "available_bike_stands": 30,
        "available_bikes": 2,
        "banking": false,
        "bike_stands": 32,
        "bonus": false,
        "contract_name": "dublin",
        "last_update": 1614024495000,
        "name": "YORK STREET EAST",
        "number": 52,
        "position": {
         "lat": 53.338755,
         "lng": -6.262003
        },
        "status": "OPEN"
       },
       {
        "address": "Excise Walk",
        "available_bike_stands": 29,
        "available_bikes": 11,
        "banking": false,
        "bike_stands": 40,
        "bonus": false,
        "contract_name": "dublin",
        "last_update": 1614024209000,
        "name": "EXCISE WALK",
        "number": 48,
        "position": {
         "lat": 53.347777,
         "lng": -6.244239
        },
        "status": "OPEN"
       },
       {
        "address": "Fitzwilliam Square West",
        "available_bike_stands": 21,
        "available_bikes": 9,
        "banking": false,
        "bike_stands": 30,
        "bonus": false,
        "contract_name": "dublin",
        "last_update": 1614024286000,
        "name": "FITZWILLIAM SQUARE WEST",
        "number": 13,
        "position": {
         "lat": 53.336074,
         "lng": -6.252825
        },
        "status": "OPEN"
       },
       {
        "address": "Portobello Road",
        "available_bike_stands": 12,
        "available_bikes": 18,
        "banking": false,
        "bike_stands": 30,
        "bonus": false,
        "contract_name": "dublin",
        "last_update": 1614024137000,
        "name": "PORTOBELLO ROAD",
        "number": 43,
        "position": {
         "lat": 53.330091,
         "lng": -6.268044
        },
        "status": "OPEN"
       },
       {
        "address": "Parnell Street",
        "available_bike_stands": 12,
        "available_bikes": 8,
        "banking": false,
        "bike_stands": 20,
        "bonus": false,
        "contract_name": "dublin",
        "last_update": 1614024435000,
        "name": "PARNELL STREET",
        "number": 31,
        "position": {
         "lat": 53.350929,
         "lng": -6.265125
        },
        "status": "OPEN"
       },
       {
        "address": "Frederick Street South",
        "available_bike_stands": 33,
        "available_bikes": 7,
        "banking": false,
        "bike_stands": 40,
        "bonus": false,
        "contract_name": "dublin",
        "last_update": 1614024397000,
        "name": "FREDERICK STREET SOUTH",
        "number": 98,
        "position": {
         "lat": 53.341515,
         "lng": -6.256853
        },
        "status": "OPEN"
       },
       {
        "address": "Custom House",
        "available_bike_stands": 23,
        "available_bikes": 7,
        "banking": false,
        "bike_stands": 30,
        "bonus": false,
        "contract_name": "dublin",
        "last_update": 1614024518000,
        "name": "CUSTOM HOUSE",
        "number": 23,
        "position": {
         "lat": 53.348279,
         "lng": -6.254662
        },
        "status": "OPEN"
       },
       {
        "address": "Rathdown Road",
        "available_bike_stands": 24,
        "available_bikes": 16,
        "banking": false,
        "bike_stands": 40,
        "bonus": false,
        "contract_name": "dublin",
        "last_update": 1614024271000,
        "name": "RATHDOWN ROAD",
        "number": 106,
        "position": {
         "lat": 53.35893,
         "lng": -6.280337
        },
        "status": "OPEN"
       },
       {
        "address": "North Circular Road (O'Connell's)",
        "available_bike_stands": 11,
        "available_bikes": 19,
        "banking": false,
        "bike_stands": 30,
        "bonus": false,
        "contract_name": "dublin",
        "last_update": 1614024511000,
        "name": "NORTH CIRCULAR ROAD (O'CONNELL'S)",
        "number": 112,
        "position": {
         "lat": 53.357841,
         "lng": -6.251557
        },
        "status": "OPEN"
       },
       {
        "address": "Hanover Quay",
        "available_bike_stands": 33,
        "available_bikes": 7,
        "banking": true,
        "bike_stands": 40,
        "bonus": false,
        "contract_name": "dublin",
        "last_update": 1614024187000,
        "name": "HANOVER QUAY",
        "number": 68,
        "position": {
         "lat": 53.344115,
         "lng": -6.237153
        },
        "status": "OPEN"
       },
       {
        "address": "Oliver Bond Street",
        "available_bike_stands": 12,
        "available_bikes": 18,
        "banking": false,
        "bike_stands": 30,
        "bonus": false,
        "contract_name": "dublin",
        "last_update": 1614024163000,
        "name": "OLIVER BOND STREET",
        "number": 74,
        "position": {
         "lat": 53.343893,
         "lng": -6.280531
        },
        "status": "OPEN"
       },
       {
        "address": "Collins Barracks Museum",
        "available_bike_stands": 20,
        "available_bikes": 18,
        "banking": true,
        "bike_stands": 38,
        "bonus": false,
        "contract_name": "dublin",
        "last_update": 1614024089000,
        "name": "COLLINS BARRACKS MUSEUM",
        "number": 87,
        "position": {
         "lat": 53.347477,
         "lng": -6.28525
        },
        "status": "OPEN"
       },
       {
        "address": "Brookfield Road",
        "available_bike_stands": 19,
        "available_bikes": 11,
        "banking": false,
        "bike_stands": 30,
        "bonus": false,
        "contract_name": "dublin",
        "last_update": 1614024518000,
        "name": "BROOKFIELD ROAD",
        "number": 84,
        "position": {
         "lat": 53.339005,
         "lng": -6.300217
        },
        "status": "OPEN"
       },
       {
        "address": "Benson Street",
        "available_bike_stands": 31,
        "available_bikes": 9,
        "banking": false,
        "bike_stands": 40,
        "bonus": false,
        "contract_name": "dublin",
        "last_update": 1614024444000,
        "name": "BENSON STREET",
        "number": 90,
        "position": {
         "lat": 53.344153,
         "lng": -6.233451
        },
        "status": "OPEN"
       },
       {
        "address": "Earlsfort Terrace",
        "available_bike_stands": 23,
        "available_bikes": 7,
        "banking": false,
        "bike_stands": 30,
        "bonus": false,
        "contract_name": "dublin",
        "last_update": 1614024516000,
        "name": "EARLSFORT TERRACE",
        "number": 11,
        "position": {
         "lat": 53.334295,
         "lng": -6.258503
        },
        "status": "OPEN"
       },
       {
        "address": "Golden Lane",
        "available_bike_stands": 11,
        "available_bikes": 9,
        "banking": false,
        "bike_stands": 20,
        "bonus": false,
        "contract_name": "dublin",
        "last_update": 1614024339000,
        "name": "GOLDEN LANE",
        "number": 17,
        "position": {
         "lat": 53.340803,
         "lng": -6.267732
        },
        "status": "OPEN"
       },
       {
        "address": "Deverell Place",
        "available_bike_stands": 21,
        "available_bikes": 9,
        "banking": false,
        "bike_stands": 30,
        "bonus": false,
        "contract_name": "dublin",
        "last_update": 1614024132000,
        "name": "DEVERELL PLACE",
        "number": 45,
        "position": {
         "lat": 53.351464,
         "lng": -6.255265
        },
        "status": "OPEN"
       },
       {
        "address": "Wilton Terrace (Park)",
        "available_bike_stands": 33,
        "available_bikes": 7,
        "banking": true,
        "bike_stands": 40,
        "bonus": false,
        "contract_name": "dublin",
        "last_update": 1614024306000,
        "name": "WILTON TERRACE (PARK)",
        "number": 114,
        "position": {
         "lat": 53.333653,
         "lng": -6.248345
        },
        "status": "OPEN"
       },
       {
        "address": "John Street West",
        "available_bike_stands": 17,
        "available_bikes": 14,
        "banking": false,
        "bike_stands": 31,
        "bonus": false,
        "contract_name": "dublin",
        "last_update": 1614023959000,
        "name": "JOHN STREET WEST",
        "number": 72,
        "position": {
         "lat": 53.343105,
         "lng": -6.277167
        },
        "status": "OPEN"
       },
       {
        "address": "Fenian Street",
        "available_bike_stands": 27,
        "available_bikes": 8,
        "banking": false,
        "bike_stands": 35,
        "bonus": false,
        "contract_name": "dublin",
        "last_update": 1614024484000,
        "name": "FENIAN STREET",
        "number": 63,
        "position": {
         "lat": 53.341428,
         "lng": -6.24672
        },
        "status": "OPEN"
       },
       {
        "address": "Merrion Square South",
        "available_bike_stands": 39,
        "available_bikes": 1,
        "banking": true,
        "bike_stands": 40,
        "bonus": false,
        "contract_name": "dublin",
        "last_update": 1614023996000,
        "name": "MERRION SQUARE SOUTH",
        "number": 113,
        "position": {
         "lat": 53.338614,
         "lng": -6.248606
        },
        "status": "OPEN"
       },
       {
        "address": "South Dock Road",
        "available_bike_stands": 10,
        "available_bikes": 20,
        "banking": false,
        "bike_stands": 30,
        "bonus": false,
        "contract_name": "dublin",
        "last_update": 1614024239000,
        "name": "SOUTH DOCK ROAD",
        "number": 91,
        "position": {
         "lat": 53.341833,
         "lng": -6.231291
        },
        "status": "OPEN"
       },
       {
        "address": "City Quay",
        "available_bike_stands": 29,
        "available_bikes": 1,
        "banking": false,
        "bike_stands": 30,
        "bonus": false,
        "contract_name": "dublin",
        "last_update": 1614023944000,
        "name": "CITY QUAY",
        "number": 99,
        "position": {
         "lat": 53.346637,
         "lng": -6.246154
        },
        "status": "OPEN"
       },
       {
        "address": "Exchequer Street",
        "available_bike_stands": 23,
        "available_bikes": 1,
        "banking": false,
        "bike_stands": 24,
        "bonus": false,
        "contract_name": "dublin",
        "last_update": 1614024484000,
        "name": "EXCHEQUER STREET",
        "number": 9,
        "position": {
         "lat": 53.343034,
         "lng": -6.263578
        },
        "status": "OPEN"
       },
       {
        "address": "The Point",
        "available_bike_stands": 26,
        "available_bikes": 14,
        "banking": false,
        "bike_stands": 40,
        "bonus": false,
        "contract_name": "dublin",
        "last_update": 1614024029000,
        "name": "THE POINT",
        "number": 67,
        "position": {
         "lat": 53.346867,
         "lng": -6.230852
        },
        "status": "OPEN"
       },
       {
        "address": "Broadstone",
        "available_bike_stands": 19,
        "available_bikes": 11,
        "banking": true,
        "bike_stands": 30,
        "bonus": false,
        "contract_name": "dublin",
        "last_update": 1614024290000,
        "name": "BROADSTONE",
        "number": 116,
        "position": {
         "lat": 53.3547,
         "lng": -6.272314
        },
        "status": "OPEN"
       },
       {
        "address": "Hatch Street",
        "available_bike_stands": 30,
        "available_bikes": 6,
        "banking": false,
        "bike_stands": 36,
        "bonus": false,
        "contract_name": "dublin",
        "last_update": 1614024336000,
        "name": "HATCH STREET",
        "number": 55,
        "position": {
         "lat": 53.33403,
         "lng": -6.260714
        },
        "status": "OPEN"
       },
       {
        "address": "Lime Street",
        "available_bike_stands": 40,
        "available_bikes": 0,
        "banking": false,
        "bike_stands": 40,
        "bonus": false,
        "contract_name": "dublin",
        "last_update": 1614024461000,
        "name": "LIME STREET",
        "number": 62,
        "position": {
         "lat": 53.346026,
         "lng": -6.243576
        },
        "status": "OPEN"
       },
       {
        "address": "Charlemont Street",
        "available_bike_stands": 17,
        "available_bikes": 23,
        "banking": false,
        "bike_stands": 40,
        "bonus": false,
        "contract_name": "dublin",
        "last_update": 1614024101000,
        "name": "CHARLEMONT PLACE",
        "number": 5,
        "position": {
         "lat": 53.330662,
         "lng": -6.260177
        },
        "status": "OPEN"
       },
       {
        "address": "Kilmainham Gaol",
        "available_bike_stands": 2,
        "available_bikes": 38,
        "banking": false,
        "bike_stands": 40,
        "bonus": false,
        "contract_name": "dublin",
        "last_update": 1614024401000,
        "name": "KILMAINHAM GAOL",
        "number": 97,
        "position": {
         "lat": 53.342113,
         "lng": -6.310015
        },
        "status": "OPEN"
       },
       {
        "address": "Hardwicke Place",
        "available_bike_stands": 12,
        "available_bikes": 12,
        "banking": true,
        "bike_stands": 25,
        "bonus": false,
        "contract_name": "dublin",
        "last_update": 1614024418000,
        "name": "HARDWICKE PLACE",
        "number": 61,
        "position": {
         "lat": 53.357043,
         "lng": -6.263232
        },
        "status": "OPEN"
       },
       {
        "address": "Wolfe Tone Street",
        "available_bike_stands": 24,
        "available_bikes": 5,
        "banking": false,
        "bike_stands": 29,
        "bonus": false,
        "contract_name": "dublin",
        "last_update": 1614024090000,
        "name": "WOLFE TONE STREET",
        "number": 77,
        "position": {
         "lat": 53.348875,
         "lng": -6.267459
        },
        "status": "OPEN"
       },
       {
        "address": "Francis Street",
        "available_bike_stands": 23,
        "available_bikes": 7,
        "banking": false,
        "bike_stands": 30,
        "bonus": false,
        "contract_name": "dublin",
        "last_update": 1614024040000,
        "name": "FRANCIS STREET",
        "number": 73,
        "position": {
         "lat": 53.342081,
         "lng": -6.275233
        },
        "status": "OPEN"
       },
       {
        "address": "Greek Street",
        "available_bike_stands": 18,
        "available_bikes": 2,
        "banking": false,
        "bike_stands": 20,
        "bonus": false,
        "contract_name": "dublin",
        "last_update": 1614024008000,
        "name": "GREEK STREET",
        "number": 4,
        "position": {
         "lat": 53.346874,
         "lng": -6.272976
        },
        "status": "OPEN"
       },
       {
        "address": "Guild Street",
        "available_bike_stands": 29,
        "available_bikes": 11,
        "banking": false,
        "bike_stands": 40,
        "bonus": false,
        "contract_name": "dublin",
        "last_update": 1614023959000,
        "name": "GUILD STREET",
        "number": 49,
        "position": {
         "lat": 53.347932,
         "lng": -6.240928
        },
        "status": "OPEN"
       },
       {
        "address": "Herbert Place",
        "available_bike_stands": 26,
        "available_bikes": 4,
        "banking": false,
        "bike_stands": 30,
        "bonus": false,
        "contract_name": "dublin",
        "last_update": 1614024098000,
        "name": "HERBERT PLACE",
        "number": 19,
        "position": {
         "lat": 53.334432,
         "lng": -6.245575
        },
        "status": "OPEN"
       },
       {
        "address": "High Street",
        "available_bike_stands": 17,
        "available_bikes": 7,
        "banking": true,
        "bike_stands": 29,
        "bonus": false,
        "contract_name": "dublin",
        "last_update": 1614024294000,
        "name": "HIGH STREET",
        "number": 7,
        "position": {
         "lat": 53.343565,
         "lng": -6.275071
        },
        "status": "OPEN"
       },
       {
        "address": "Western Way",
        "available_bike_stands": 25,
        "available_bikes": 15,
        "banking": false,
        "bike_stands": 40,
        "bonus": false,
        "contract_name": "dublin",
        "last_update": 1614023988000,
        "name": "WESTERN WAY",
        "number": 102,
        "position": {
         "lat": 53.354929,
         "lng": -6.269425
        },
        "status": "OPEN"
       },
       {
        "address": "Talbot Street",
        "available_bike_stands": 22,
        "available_bikes": 18,
        "banking": false,
        "bike_stands": 40,
        "bonus": false,
        "contract_name": "dublin",
        "last_update": 1614024501000,
        "name": "TALBOT STREET",
        "number": 38,
        "position": {
         "lat": 53.350974,
         "lng": -6.25294
        },
        "status": "OPEN"
       },
       {
        "address": "Newman House",
        "available_bike_stands": 31,
        "available_bikes": 9,
        "banking": false,
        "bike_stands": 40,
        "bonus": false,
        "contract_name": "dublin",
        "last_update": 1614024339000,
        "name": "NEWMAN HOUSE",
        "number": 53,
        "position": {
         "lat": 53.337132,
         "lng": -6.26059
        },
        "status": "OPEN"
       },
       {
        "address": "Sir Patrick's Dun",
        "available_bike_stands": 31,
        "available_bikes": 9,
        "banking": true,
        "bike_stands": 40,
        "bonus": false,
        "contract_name": "dublin",
        "last_update": 1614024132000,
        "name": "SIR PATRICK DUN'S",
        "number": 58,
        "position": {
         "lat": 53.339218,
         "lng": -6.240642
        },
        "status": "OPEN"
       },
       {
        "address": "New Central Bank",
        "available_bike_stands": 29,
        "available_bikes": 11,
        "banking": false,
        "bike_stands": 40,
        "bonus": false,
        "contract_name": "dublin",
        "last_update": 1614024214000,
        "name": "NEW CENTRAL BANK",
        "number": 66,
        "position": {
         "lat": 53.347122,
         "lng": -6.234749
        },
        "status": "OPEN"
       },
       {
        "address": "Grangegorman Lower (Central)",
        "available_bike_stands": 40,
        "available_bikes": 0,
        "banking": true,
        "bike_stands": 40,
        "bonus": false,
        "contract_name": "dublin",
        "last_update": 1614024078000,
        "name": "GRANGEGORMAN LOWER (CENTRAL)",
        "number": 104,
        "position": {
         "lat": 53.355173,
         "lng": -6.278424
        },
        "status": "OPEN"
       },
       {
        "address": "King Street North",
        "available_bike_stands": 10,
        "available_bikes": 20,
        "banking": false,
        "bike_stands": 30,
        "bonus": false,
        "contract_name": "dublin",
        "last_update": 1614024510000,
        "name": "KING STREET NORTH",
        "number": 101,
        "position": {
         "lat": 53.350291,
         "lng": -6.273507
        },
        "status": "OPEN"
       },
       {
        "address": "Killarney Street",
        "available_bike_stands": 1,
        "available_bikes": 29,
        "banking": false,
        "bike_stands": 30,
        "bonus": false,
        "contract_name": "dublin",
        "last_update": 1614024200000,
        "name": "KILLARNEY STREET",
        "number": 115,
        "position": {
         "lat": 53.354845,
         "lng": -6.247579
        },
        "status": "OPEN"
       },
       {
        "address": "Herbert Street",
        "available_bike_stands": 35,
        "available_bikes": 5,
        "banking": false,
        "bike_stands": 40,
        "bonus": false,
        "contract_name": "dublin",
        "last_update": 1614024022000,
        "name": "HERBERT STREET",
        "number": 47,
        "position": {
         "lat": 53.335742,
         "lng": -6.24551
        },
        "status": "OPEN"
       },
       {
        "address": "Hanover Quay East",
        "available_bike_stands": 35,
        "available_bikes": 5,
        "banking": false,
        "bike_stands": 40,
        "bonus": false,
        "contract_name": "dublin",
        "last_update": 1614024233000,
        "name": "HANOVER QUAY EAST",
        "number": 117,
        "position": {
         "lat": 53.343653,
         "lng": -6.231755
        },
        "status": "OPEN"
       },
       {
        "address": "Custom House Quay",
        "available_bike_stands": 23,
        "available_bikes": 7,
        "banking": false,
        "bike_stands": 30,
        "bonus": false,
        "contract_name": "dublin",
        "last_update": 1614024212000,
        "name": "CUSTOM HOUSE QUAY",
        "number": 8,
        "position": {
         "lat": 53.347884,
         "lng": -6.248048
        },
        "status": "OPEN"
       },
       {
        "address": "Molesworth Street",
        "available_bike_stands": 9,
        "available_bikes": 11,
        "banking": false,
        "bike_stands": 20,
        "bonus": false,
        "contract_name": "dublin",
        "last_update": 1614024377000,
        "name": "MOLESWORTH STREET",
        "number": 27,
        "position": {
         "lat": 53.341288,
         "lng": -6.258117
        },
        "status": "OPEN"
       },
       {
        "address": "Georges Quay",
        "available_bike_stands": 12,
        "available_bikes": 8,
        "banking": false,
        "bike_stands": 20,
        "bonus": false,
        "contract_name": "dublin",
        "last_update": 1614024121000,
        "name": "GEORGES QUAY",
        "number": 16,
        "position": {
         "lat": 53.347508,
         "lng": -6.252192
        },
        "status": "OPEN"
       },
       {
        "address": "Kilmainham Lane",
        "available_bike_stands": 23,
        "available_bikes": 7,
        "banking": false,
        "bike_stands": 30,
        "bonus": false,
        "contract_name": "dublin",
        "last_update": 1614024433000,
        "name": "KILMAINHAM LANE",
        "number": 96,
        "position": {
         "lat": 53.341805,
         "lng": -6.305085
        },
        "status": "OPEN"
       },
       {
        "address": "Mount Brown",
        "available_bike_stands": 12,
        "available_bikes": 10,
        "banking": false,
        "bike_stands": 22,
        "bonus": false,
        "contract_name": "dublin",
        "last_update": 1614024081000,
        "name": "MOUNT BROWN",
        "number": 82,
        "position": {
         "lat": 53.341645,
         "lng": -6.29719
        },
        "status": "OPEN"
       },
       {
        "address": "Market Street South",
        "available_bike_stands": 23,
        "available_bikes": 15,
        "banking": false,
        "bike_stands": 38,
        "bonus": false,
        "contract_name": "dublin",
        "last_update": 1614024246000,
        "name": "MARKET STREET SOUTH",
        "number": 76,
        "position": {
         "lat": 53.342296,
         "lng": -6.287661
        },
        "status": "OPEN"
       },
       {
        "address": "Kevin Street",
        "available_bike_stands": 33,
        "available_bikes": 7,
        "banking": true,
        "bike_stands": 40,
        "bonus": false,
        "contract_name": "dublin",
        "last_update": 1614024504000,
        "name": "KEVIN STREET",
        "number": 71,
        "position": {
         "lat": 53.337757,
         "lng": -6.267699
        },
        "status": "OPEN"
       },
       {
        "address": "Eccles Street East",
        "available_bike_stands": 23,
        "available_bikes": 4,
        "banking": false,
        "bike_stands": 27,
        "bonus": false,
        "contract_name": "dublin",
        "last_update": 1614024018000,
        "name": "ECCLES STREET EAST",
        "number": 79,
        "position": {
         "lat": 53.358115,
         "lng": -6.265601
        },
        "status": "OPEN"
       },
       {
        "address": "Grand Canal Dock",
        "available_bike_stands": 9,
        "available_bikes": 31,
        "banking": false,
        "bike_stands": 40,
        "bonus": false,
        "contract_name": "dublin",
        "last_update": 1614024205000,
        "name": "GRAND CANAL DOCK",
        "number": 69,
        "position": {
         "lat": 53.342638,
         "lng": -6.238695
        },
        "status": "OPEN"
       },
       {
        "address": "Merrion Square East",
        "available_bike_stands": 26,
        "available_bikes": 4,
        "banking": false,
        "bike_stands": 30,
        "bonus": false,
        "contract_name": "dublin",
        "last_update": 1614024020000,
        "name": "MERRION SQUARE EAST",
        "number": 25,
        "position": {
         "lat": 53.339434,
         "lng": -6.246548
        },
        "status": "OPEN"
       },
       {
        "address": "York Street West",
        "available_bike_stands": 25,
        "available_bikes": 15,
        "banking": false,
        "bike_stands": 40,
        "bonus": false,
        "contract_name": "dublin",
        "last_update": 1614024020000,
        "name": "YORK STREET WEST",
        "number": 51,
        "position": {
         "lat": 53.339334,
         "lng": -6.264699
        },
        "status": "OPEN"
       },
       {
        "address": "St. Stephen's Green South",
        "available_bike_stands": 23,
        "available_bikes": 7,
        "banking": false,
        "bike_stands": 30,
        "bonus": false,
        "contract_name": "dublin",
        "last_update": 1614024433000,
        "name": "ST. STEPHEN'S GREEN SOUTH",
        "number": 37,
        "position": {
         "lat": 53.337494,
         "lng": -6.26199
        },
        "status": "OPEN"
       },
       {
        "address": "Denmark Street Great",
        "available_bike_stands": 6,
        "available_bikes": 14,
        "banking": false,
        "bike_stands": 20,
        "bonus": false,
        "contract_name": "dublin",
        "last_update": 1614023923000,
        "name": "DENMARK STREET GREAT",
        "number": 59,
        "position": {
         "lat": 53.35561,
         "lng": -6.261397
        },
        "status": "OPEN"
       },
       {
        "address": "Royal Hospital",
        "available_bike_stands": 11,
        "available_bikes": 29,
        "banking": true,
        "bike_stands": 40,
        "bonus": false,
        "contract_name": "dublin",
        "last_update": 1614024203000,
        "name": "ROYAL HOSPITAL",
        "number": 95,
        "position": {
         "lat": 53.343897,
         "lng": -6.29706
        },
        "status": "OPEN"
       },
       {
        "address": "Heuston Station (Car Park)",
        "available_bike_stands": 35,
        "available_bikes": 5,
        "banking": false,
        "bike_stands": 40,
        "bonus": false,
        "contract_name": "dublin",
        "last_update": 1614023932000,
        "name": "HEUSTON STATION (CAR PARK)",
        "number": 94,
        "position": {
         "lat": 53.346985,
         "lng": -6.297804
        },
        "status": "OPEN"
       },
       {
        "address": "Grangegorman Lower (North)",
        "available_bike_stands": 28,
        "available_bikes": 8,
        "banking": false,
        "bike_stands": 36,
        "bonus": false,
        "contract_name": "dublin",
        "last_update": 1614023996000,
        "name": "GRANGEGORMAN LOWER (NORTH)",
        "number": 105,
        "position": {
         "lat": 53.355954,
         "lng": -6.278378
        },
        "status": "OPEN"
       },
       {
        "address": "St. Stephen's Green East",
        "available_bike_stands": 32,
        "available_bikes": 8,
        "banking": true,
        "bike_stands": 40,
        "bonus": false,
        "contract_name": "dublin",
        "last_update": 1614024462000,
        "name": "ST. STEPHEN'S GREEN EAST",
        "number": 36,
        "position": {
         "lat": 53.337824,
         "lng": -6.256035
        },
        "status": "OPEN"
       },
       {
        "address": "Heuston Station (Central)",
        "available_bike_stands": 31,
        "available_bikes": 9,
        "banking": false,
        "bike_stands": 40,
        "bonus": false,
        "contract_name": "dublin",
        "last_update": 1614023998000,
        "name": "HEUSTON STATION (CENTRAL)",
        "number": 93,
        "position": {
         "lat": 53.346603,
         "lng": -6.296924
        },
        "status": "OPEN"
       },
       {
        "address": "Townsend Street",
        "available_bike_stands": 9,
        "available_bikes": 11,
        "banking": false,
        "bike_stands": 20,
        "bonus": false,
        "contract_name": "dublin",
        "last_update": 1614024090000,
        "name": "TOWNSEND STREET",
        "number": 22,
        "position": {
         "lat": 53.345922,
         "lng": -6.254614
        },
        "status": "OPEN"
       },
       {
        "address": "George's Lane",
        "available_bike_stands": 19,
        "available_bikes": 21,
        "banking": false,
        "bike_stands": 40,
        "bonus": false,
        "contract_name": "dublin",
        "last_update": 1614024259000,
        "name": "GEORGES LANE",
        "number": 50,
        "position": {
         "lat": 53.35023,
         "lng": -6.279696
        },
        "status": "OPEN"
       },
       {
        "address": "Phibsborough Road",
        "available_bike_stands": 25,
        "available_bikes": 15,
        "banking": false,
        "bike_stands": 40,
        "bonus": false,
        "contract_name": "dublin",
        "last_update": 1614024018000,
        "name": "PHIBSBOROUGH ROAD",
        "number": 110,
        "position": {
         "lat": 53.356307,
         "lng": -6.273717
        },
        "status": "OPEN"
       },
       {
        "address": "Eccles Street",
        "available_bike_stands": 10,
        "available_bikes": 10,
        "banking": false,
        "bike_stands": 20,
        "bonus": false,
        "contract_name": "dublin",
        "last_update": 1614024472000,
        "name": "ECCLES STREET",
        "number": 12,
        "position": {
         "lat": 53.359246,
         "lng": -6.269779
        },
        "status": "OPEN"
       },
       {
        "address": "Portobello Harbour",
        "available_bike_stands": 2,
        "available_bikes": 28,
        "banking": false,
        "bike_stands": 30,
        "bonus": false,
        "contract_name": "dublin",
        "last_update": 1614024424000,
        "name": "PORTOBELLO HARBOUR",
        "number": 34,
        "position": {
         "lat": 53.330362,
         "lng": -6.265163
        },
        "status": "OPEN"
       },
       {
        "address": "Mater Hospital",
        "available_bike_stands": 16,
        "available_bikes": 23,
        "banking": false,
        "bike_stands": 40,
        "bonus": false,
        "contract_name": "dublin",
        "last_update": 1614023994000,
        "name": "MATER HOSPITAL",
        "number": 78,
        "position": {
         "lat": 53.359967,
         "lng": -6.264828
        },
        "status": "OPEN"
       },
       {
        "address": "Blessington Street",
        "available_bike_stands": 14,
        "available_bikes": 6,
        "banking": true,
        "bike_stands": 20,
        "bonus": false,
        "contract_name": "dublin",
        "last_update": 1614024474000,
        "name": "BLESSINGTON STREET",
        "number": 2,
        "position": {
         "lat": 53.356769,
         "lng": -6.26814
        },
        "status": "OPEN"
       },
       {
        "address": "James Street",
        "available_bike_stands": 29,
        "available_bikes": 11,
        "banking": true,
        "bike_stands": 40,
        "bonus": false,
        "contract_name": "dublin",
        "last_update": 1614024178000,
        "name": "JAMES STREET",
        "number": 75,
        "position": {
         "lat": 53.343456,
         "lng": -6.287409
        },
        "status": "OPEN"
       },
       {
        "address": "Mountjoy Square East",
        "available_bike_stands": 25,
        "available_bikes": 15,
        "banking": true,
        "bike_stands": 40,
        "bonus": false,
        "contract_name": "dublin",
        "last_update": 1614024011000,
        "name": "MOUNTJOY SQUARE EAST",
        "number": 111,
        "position": {
         "lat": 53.356717,
         "lng": -6.256359
        },
        "status": "OPEN"
       },
       {
        "address": "Merrion Square West",
        "available_bike_stands": 7,
        "available_bikes": 13,
        "banking": false,
        "bike_stands": 20,
        "bonus": false,
        "contract_name": "dublin",
        "last_update": 1614024101000,
        "name": "MERRION SQUARE WEST",
        "number": 26,
        "position": {
         "lat": 53.339764,
         "lng": -6.251988
        },
        "status": "OPEN"
       },
       {
        "address": "Convention Centre",
        "available_bike_stands": 38,
        "available_bikes": 2,
        "banking": false,
        "bike_stands": 40,
        "bonus": false,
        "contract_name": "dublin",
        "last_update": 1614024091000,
        "name": "CONVENTION CENTRE",
        "number": 65,
        "position": {
         "lat": 53.34744,
         "lng": -6.238523
        },
        "status": "OPEN"
       },
       {
        "address": "Hardwicke Street",
        "available_bike_stands": 9,
        "available_bikes": 7,
        "banking": false,
        "bike_stands": 16,
        "bonus": false,
        "contract_name": "dublin",
        "last_update": 1614023911000,
        "name": "HARDWICKE STREET",
        "number": 15,
        "position": {
         "lat": 53.355473,
         "lng": -6.264423
        },
        "status": "OPEN"
       },
       {
        "address": "Parkgate Street",
        "available_bike_stands": 27,
        "available_bikes": 11,
        "banking": true,
        "bike_stands": 38,
        "bonus": false,
        "contract_name": "dublin",
        "last_update": 1614024460000,
        "name": "PARKGATE STREET",
        "number": 86,
        "position": {
         "lat": 53.347972,
         "lng": -6.291804
        },
        "status": "OPEN"
       },
       {
        "address": "Dame Street",
        "available_bike_stands": 4,
        "available_bikes": 12,
        "banking": false,
        "bike_stands": 16,
        "bonus": false,
        "contract_name": "dublin",
        "last_update": 1614024401000,
        "name": "DAME STREET",
        "number": 10,
        "position": {
         "lat": 53.344007,
         "lng": -6.266802
        },
        "status": "OPEN"
       },
       {
        "address": "Heuston Bridge (South)",
        "available_bike_stands": 3,
        "available_bikes": 22,
        "banking": false,
        "bike_stands": 25,
        "bonus": false,
        "contract_name": "dublin",
        "last_update": 1614024309000,
        "name": "HEUSTON BRIDGE (SOUTH)",
        "number": 100,
        "position": {
         "lat": 53.347106,
         "lng": -6.292041
        },
        "status": "OPEN"
       },
       {
        "address": "Cathal Brugha Street",
        "available_bike_stands": 8,
        "available_bikes": 12,
        "banking": false,
        "bike_stands": 20,
        "bonus": false,
        "contract_name": "dublin",
        "last_update": 1614023924000,
        "name": "CATHAL BRUGHA STREET",
        "number": 24,
        "position": {
         "lat": 53.352149,
         "lng": -6.260533
        },
        "status": "OPEN"
       },
       {
        "address": "Sandwith Street",
        "available_bike_stands": 31,
        "available_bikes": 9,
        "banking": true,
        "bike_stands": 40,
        "bonus": false,
        "contract_name": "dublin",
        "last_update": 1614024162000,
        "name": "SANDWITH STREET",
        "number": 64,
        "position": {
         "lat": 53.345203,
         "lng": -6.247163
        },
        "status": "OPEN"
       },
       {
        "address": "Buckingham Street Lower",
        "available_bike_stands": 12,
        "available_bikes": 17,
        "banking": false,
        "bike_stands": 29,
        "bonus": false,
        "contract_name": "dublin",
        "last_update": 1614024034000,
        "name": "BUCKINGHAM STREET LOWER",
        "number": 109,
        "position": {
         "lat": 53.353331,
         "lng": -6.249319
        },
        "status": "OPEN"
       },
       {
        "address": "Rothe Abbey",
        "available_bike_stands": 19,
        "available_bikes": 16,
        "banking": true,
        "bike_stands": 35,
        "bonus": false,
        "contract_name": "dublin",
        "last_update": 1614023976000,
        "name": "ROTHE ABBEY",
        "number": 85,
        "position": {
         "lat": 53.338776,
         "lng": -6.30395
        },
        "status": "OPEN"
       },
       {
        "address": "Charleville Road",
        "available_bike_stands": 22,
        "available_bikes": 18,
        "banking": true,
        "bike_stands": 40,
        "bonus": false,
        "contract_name": "dublin",
        "last_update": 1614024305000,
        "name": "CHARLEVILLE ROAD",
        "number": 107,
        "position": {
         "lat": 53.359157,
         "lng": -6.281866
        },
        "status": "OPEN"
       },
       {
        "address": "Princes Street / O'Connell Street",
        "available_bike_stands": 21,
        "available_bikes": 2,
        "banking": false,
        "bike_stands": 23,
        "bonus": false,
        "contract_name": "dublin",
        "last_update": 1614024334000,
        "name": "PRINCES STREET / O'CONNELL STREET",
        "number": 33,
        "position": {
         "lat": 53.349013,
         "lng": -6.260311
        },
        "status": "OPEN"
       },
       {
        "address": "Upper Sherrard Street",
        "available_bike_stands": 11,
        "available_bikes": 19,
        "banking": false,
        "bike_stands": 30,
        "bonus": false,
        "contract_name": "dublin",
        "last_update": 1614024249000,
        "name": "UPPER SHERRARD STREET",
        "number": 44,
        "position": {
         "lat": 53.358437,
         "lng": -6.260641
        },
        "status": "OPEN"
       },
       {
        "address": "Fitzwilliam Square East",
        "available_bike_stands": 39,
        "available_bikes": 1,
        "banking": true,
        "bike_stands": 40,
        "bonus": false,
        "contract_name": "dublin",
        "last_update": 1614024462000,
        "name": "FITZWILLIAM SQUARE EAST",
        "number": 89,
        "position": {
         "lat": 53.335211,
         "lng": -6.2509
        },
        "status": "OPEN"
       },
       {
        "address": "Grattan Street",
        "available_bike_stands": 17,
        "available_bikes": 6,
        "banking": false,
        "bike_stands": 23,
        "bonus": false,
        "contract_name": "dublin",
        "last_update": 1614024024000,
        "name": "GRATTAN STREET",
        "number": 57,
        "position": {
         "lat": 53.339629,
         "lng": -6.243778
        },
        "status": "OPEN"
       },
       {
        "address": "St James Hospital (Luas)",
        "available_bike_stands": 38,
        "available_bikes": 2,
        "banking": false,
        "bike_stands": 40,
        "bonus": false,
        "contract_name": "dublin",
        "last_update": 1614024341000,
        "name": "ST JAMES HOSPITAL (LUAS)",
        "number": 80,
        "position": {
         "lat": 53.341359,
         "lng": -6.292951
        },
        "status": "OPEN"
       },
       {
        "address": "Harcourt Terrace",
        "available_bike_stands": 17,
        "available_bikes": 3,
        "banking": false,
        "bike_stands": 20,
        "bonus": false,
        "contract_name": "dublin",
        "last_update": 1614024492000,
        "name": "HARCOURT TERRACE",
        "number": 41,
        "position": {
         "lat": 53.332763,
         "lng": -6.257942
        },
        "status": "OPEN"
       },
       {
        "address": "Bolton Street",
        "available_bike_stands": 17,
        "available_bikes": 3,
        "banking": false,
        "bike_stands": 20,
        "bonus": false,
        "contract_name": "dublin",
        "last_update": 1614024219000,
        "name": "BOLTON STREET",
        "number": 3,
        "position": {
         "lat": 53.351182,
         "lng": -6.269859
        },
        "status": "OPEN"
       },
       {
        "address": "Jervis Street",
        "available_bike_stands": 8,
        "available_bikes": 13,
        "banking": true,
        "bike_stands": 21,
        "bonus": false,
        "contract_name": "dublin",
        "last_update": 1614024274000,
        "name": "JERVIS STREET",
        "number": 40,
        "position": {
         "lat": 53.3483,
         "lng": -6.266651
        },
        "status": "OPEN"
       },
       {
        "address": "Ormond Quay Upper",
        "available_bike_stands": 21,
        "available_bikes": 7,
        "banking": true,
        "bike_stands": 29,
        "bonus": false,
        "contract_name": "dublin",
        "last_update": 1614024468000,
        "name": "ORMOND QUAY UPPER",
        "number": 29,
        "position": {
         "lat": 53.346057,
         "lng": -6.268001
        },
        "status": "OPEN"
       },
       {
        "address": "Grangegorman Lower (South)",
        "available_bike_stands": 24,
        "available_bikes": 16,
        "banking": false,
        "bike_stands": 40,
        "bonus": false,
        "contract_name": "dublin",
        "last_update": 1614024247000,
        "name": "GRANGEGORMAN LOWER (SOUTH)",
        "number": 103,
        "position": {
         "lat": 53.354663,
         "lng": -6.278681
        },
        "status": "OPEN"
       },
       {
        "address": "Mountjoy Square West",
        "available_bike_stands": 17,
        "available_bikes": 13,
        "banking": false,
        "bike_stands": 30,
        "bonus": false,
        "contract_name": "dublin",
        "last_update": 1614024217000,
        "name": "MOUNTJOY SQUARE WEST",
        "number": 28,
        "position": {
         "lat": 53.356299,
         "lng": -6.258586
        },
        "status": "OPEN"
       },
       {
        "address": "Wilton Terrace",
        "available_bike_stands": 10,
        "available_bikes": 10,
        "banking": true,
        "bike_stands": 20,
        "bonus": false,
        "contract_name": "dublin",
        "last_update": 1614024017000,
        "name": "WILTON TERRACE",
        "number": 39,
        "position": {
         "lat": 53.332383,
         "lng": -6.252717
        },
        "status": "OPEN"
       },
       {
        "address": "Emmet Road",
        "available_bike_stands": 6,
        "available_bikes": 34,
        "banking": false,
        "bike_stands": 40,
        "bonus": false,
        "contract_name": "dublin",
        "last_update": 1614024278000,
        "name": "EMMET ROAD",
        "number": 83,
        "position": {
         "lat": 53.340714,
         "lng": -6.308191
        },
        "status": "OPEN"
       },
       {
        "address": "Heuston Bridge (North)",
        "available_bike_stands": 16,
        "available_bikes": 24,
        "banking": false,
        "bike_stands": 40,
        "bonus": false,
        "contract_name": "dublin",
        "last_update": 1614024134000,
        "name": "HEUSTON BRIDGE (NORTH)",
        "number": 92,
        "position": {
         "lat": 53.347802,
         "lng": -6.292432
        },
        "status": "OPEN"
       },
       {
        "address": "Leinster Street South",
        "available_bike_stands": 28,
        "available_bikes": 2,
        "banking": false,
        "bike_stands": 30,
        "bonus": false,
        "contract_name": "dublin",
        "last_update": 1614024377000,
        "name": "LEINSTER STREET SOUTH",
        "number": 21,
        "position": {
         "lat": 53.34218,
         "lng": -6.254485
        },
        "status": "OPEN"
       },
       {
        "address": "Blackhall Place",
        "available_bike_stands": 8,
        "available_bikes": 22,
        "banking": false,
        "bike_stands": 30,
        "bonus": false,
        "contract_name": "dublin",
        "last_update": 1614024494000,
        "name": "BLACKHALL PLACE",
        "number": 88,
        "position": {
         "lat": 53.3488,
         "lng": -6.281637
        },
        "status": "OPEN"
       }
      ],
      "text/plain": [
       "<IPython.core.display.JSON object>"
      ]
     },
     "execution_count": 8,
     "metadata": {
      "application/json": {
       "expanded": false,
       "root": "root"
      }
     },
     "output_type": "execute_result"
    }
   ],
   "source": [
    "JSON(r.json())"
   ]
  },
  {
   "cell_type": "code",
   "execution_count": null,
   "id": "radio-whale",
   "metadata": {},
   "outputs": [],
   "source": []
  }
 ],
 "metadata": {
  "kernelspec": {
   "display_name": "dublinbikes",
   "language": "python",
   "name": "dublinbikes"
  },
  "language_info": {
   "codemirror_mode": {
    "name": "ipython",
    "version": 3
   },
   "file_extension": ".py",
   "mimetype": "text/x-python",
   "name": "python",
   "nbconvert_exporter": "python",
   "pygments_lexer": "ipython3",
   "version": "3.9.1"
  }
 },
 "nbformat": 4,
 "nbformat_minor": 5
}
