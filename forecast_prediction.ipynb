{
 "cells": [
  {
   "cell_type": "code",
   "execution_count": 17,
   "id": "motivated-costs",
   "metadata": {},
   "outputs": [],
   "source": [
    "import pandas as pd\n",
    "import numpy as np\n",
    "import pickle\n",
    "import requests\n",
    "import warnings\n",
    "warnings.simplefilter(action='ignore')\n",
    "\n",
    "def formattingJson(forecast_data, day, hour):\n",
    "    # list weather rows to be added (from api doc)\n",
    "    weatherConditions = [\"Clouds\", \"Clear\", \"Snow\", \"Rain\", \"Drizzle\", \"Thunderstorm\"]\n",
    "\n",
    "    # iterate over the json array to get the hourly data\n",
    "    hourly_data = 0\n",
    "    for k, v in forecast_data.items():\n",
    "        if k == \"hourly\":\n",
    "            hourly_data = v\n",
    "\n",
    "    # create hourly data dataframe\n",
    "    hourly_df = pd.DataFrame.from_dict(pd.json_normalize(hourly_data), orient='columns')\n",
    "    hourly_df = hourly_df.reindex(hourly_df.columns.tolist() + weatherConditions, axis=1)\n",
    "\n",
    "    weatherValues = []\n",
    "    for x in hourly_df[\"weather\"]:\n",
    "        currentRow = x[0]\n",
    "        for key, value in currentRow.items():\n",
    "            if key == \"main\":\n",
    "                weatherValues.append(value)\n",
    "\n",
    "    # give new columns a value of 0 in all cells\n",
    "    for col in hourly_df:\n",
    "        hourly_df[col] = hourly_df[col].replace(np.nan).fillna(0)\n",
    "\n",
    "    # where the values match the weather column, make 1\n",
    "    for x in range(len(weatherValues)):\n",
    "        for column in hourly_df.columns:\n",
    "            if weatherValues[x] == column:\n",
    "                hourly_df.at[x, column] = 1\n",
    "\n",
    "    # get rid of the unneeded rows\n",
    "    weather_df = hourly_df[[\"dt\", \"temp\", \"wind_speed\", \"humidity\", \"Clouds\", \"Clear\", \"Snow\", \"Rain\", \"Drizzle\", \"Thunderstorm\"]]\n",
    "  \n",
    "    # convert from unix epoch time to useable format...\n",
    "    from datetime import datetime, timedelta\n",
    "    start = datetime(1970, 1, 1)  # Unix epoch start time\n",
    "    weather_df['datetime'] = weather_df.dt.apply(lambda x: start + timedelta(seconds=x))\n",
    "\n",
    "    # Create new column weekday\n",
    "    weather_df['weekday'] = weather_df['datetime'].dt.dayofweek\n",
    "    # Create new column hour\n",
    "    weather_df['hour'] = weather_df['datetime'].dt.hour\n",
    "\n",
    "    # dump now defunct datetime column\n",
    "    weather_df = weather_df.drop(columns=[\"dt\", \"datetime\"])\n",
    "\n",
    "    desired_row = weather_df[(weather_df[\"hour\"] == hour) & (weather_df[\"weekday\"] == day)].values.tolist()\n",
    "    \n",
    "    return desired_row"
   ]
  },
  {
   "cell_type": "code",
   "execution_count": 56,
   "id": "rising-design",
   "metadata": {},
   "outputs": [],
   "source": [
    "def formattingDailyJson(forecast_data, day):\n",
    "    # list weather rows to be added (from api doc)\n",
    "    weatherConditions = [\"Clouds\", \"Clear\", \"Snow\", \"Rain\", \"Drizzle\", \"Thunderstorm\"]\n",
    "\n",
    "    # iterate over the json array to get the hourly data\n",
    "    daily_data = 0\n",
    "    for k, v in forecast_data.items():\n",
    "        if k == \"daily\":\n",
    "            daily_data = v\n",
    "    \n",
    "    # create dailly data dataframe\n",
    "    daily_df = pd.DataFrame.from_dict(pd.json_normalize(daily_data), orient='columns')\n",
    "    daily_df = daily_df.reindex(daily_df.columns.tolist() + weatherConditions, axis=1)\n",
    "    \n",
    "    weatherValues = []\n",
    "    for x in daily_df[\"weather\"]:\n",
    "        currentRow = x[0]\n",
    "        for key, value in currentRow.items():\n",
    "            if key == \"main\":\n",
    "                weatherValues.append(value)\n",
    "\n",
    "    # give new columns a value of 0 in all cells\n",
    "    for col in daily_df:\n",
    "        daily_df[col] = daily_df[col].replace(np.nan).fillna(0)\n",
    "        \n",
    "    # where the values match the weather column, make 1\n",
    "    for x in range(len(weatherValues)):\n",
    "        for column in daily_df.columns:\n",
    "            if weatherValues[x] == column:\n",
    "                daily_df.at[x, column] = 1\n",
    "\n",
    "    # get rid of the unneeded rows\n",
    "    weather_df = daily_df[[\"dt\", \"temp.day\", \"wind_speed\", \"humidity\", \"Clouds\", \"Clear\", \"Snow\", \"Rain\", \"Drizzle\", \"Thunderstorm\"]]\n",
    "\n",
    "    # convert from unix epoch time to useable format...\n",
    "    from datetime import datetime, timedelta\n",
    "    start = datetime(1970, 1, 1)  # Unix epoch start time\n",
    "    weather_df['datetime'] = weather_df.dt.apply(lambda x: start + timedelta(seconds=x))\n",
    "\n",
    "    # Create new column weekday\n",
    "    weather_df['weekday'] = weather_df['datetime'].dt.dayofweek\n",
    "    \n",
    "    # dump now defunct datetime column\n",
    "    weather_df = weather_df.drop(columns=[\"dt\", \"datetime\"])\n",
    "    # the forecast returns a duplicate day, which will affect our model. we will drop the duplicate\n",
    "    weather_df = weather_df.drop(weather_df.index[[7]])\n",
    "\n",
    "    desired_row = weather_df[(weather_df[\"weekday\"] == day)].values.tolist()\n",
    "    \n",
    "    return weather_df"
   ]
  },
  {
   "cell_type": "code",
   "execution_count": 57,
   "id": "balanced-therapy",
   "metadata": {},
   "outputs": [
    {
     "data": {
      "text/html": [
       "<div>\n",
       "<style scoped>\n",
       "    .dataframe tbody tr th:only-of-type {\n",
       "        vertical-align: middle;\n",
       "    }\n",
       "\n",
       "    .dataframe tbody tr th {\n",
       "        vertical-align: top;\n",
       "    }\n",
       "\n",
       "    .dataframe thead th {\n",
       "        text-align: right;\n",
       "    }\n",
       "</style>\n",
       "<table border=\"1\" class=\"dataframe\">\n",
       "  <thead>\n",
       "    <tr style=\"text-align: right;\">\n",
       "      <th></th>\n",
       "      <th>temp.day</th>\n",
       "      <th>wind_speed</th>\n",
       "      <th>humidity</th>\n",
       "      <th>Clouds</th>\n",
       "      <th>Clear</th>\n",
       "      <th>Snow</th>\n",
       "      <th>Rain</th>\n",
       "      <th>Drizzle</th>\n",
       "      <th>Thunderstorm</th>\n",
       "      <th>weekday</th>\n",
       "    </tr>\n",
       "  </thead>\n",
       "  <tbody>\n",
       "    <tr>\n",
       "      <th>0</th>\n",
       "      <td>278.91</td>\n",
       "      <td>3.94</td>\n",
       "      <td>65</td>\n",
       "      <td>0.0</td>\n",
       "      <td>0.0</td>\n",
       "      <td>0.0</td>\n",
       "      <td>1.0</td>\n",
       "      <td>0.0</td>\n",
       "      <td>0.0</td>\n",
       "      <td>4</td>\n",
       "    </tr>\n",
       "    <tr>\n",
       "      <th>1</th>\n",
       "      <td>279.64</td>\n",
       "      <td>4.39</td>\n",
       "      <td>49</td>\n",
       "      <td>0.0</td>\n",
       "      <td>1.0</td>\n",
       "      <td>0.0</td>\n",
       "      <td>0.0</td>\n",
       "      <td>0.0</td>\n",
       "      <td>0.0</td>\n",
       "      <td>5</td>\n",
       "    </tr>\n",
       "    <tr>\n",
       "      <th>2</th>\n",
       "      <td>279.88</td>\n",
       "      <td>3.67</td>\n",
       "      <td>43</td>\n",
       "      <td>1.0</td>\n",
       "      <td>0.0</td>\n",
       "      <td>0.0</td>\n",
       "      <td>0.0</td>\n",
       "      <td>0.0</td>\n",
       "      <td>0.0</td>\n",
       "      <td>6</td>\n",
       "    </tr>\n",
       "    <tr>\n",
       "      <th>3</th>\n",
       "      <td>282.24</td>\n",
       "      <td>4.96</td>\n",
       "      <td>65</td>\n",
       "      <td>0.0</td>\n",
       "      <td>0.0</td>\n",
       "      <td>0.0</td>\n",
       "      <td>1.0</td>\n",
       "      <td>0.0</td>\n",
       "      <td>0.0</td>\n",
       "      <td>0</td>\n",
       "    </tr>\n",
       "    <tr>\n",
       "      <th>4</th>\n",
       "      <td>284.29</td>\n",
       "      <td>0.85</td>\n",
       "      <td>64</td>\n",
       "      <td>0.0</td>\n",
       "      <td>0.0</td>\n",
       "      <td>0.0</td>\n",
       "      <td>1.0</td>\n",
       "      <td>0.0</td>\n",
       "      <td>0.0</td>\n",
       "      <td>1</td>\n",
       "    </tr>\n",
       "    <tr>\n",
       "      <th>5</th>\n",
       "      <td>285.60</td>\n",
       "      <td>3.58</td>\n",
       "      <td>53</td>\n",
       "      <td>1.0</td>\n",
       "      <td>0.0</td>\n",
       "      <td>0.0</td>\n",
       "      <td>0.0</td>\n",
       "      <td>0.0</td>\n",
       "      <td>0.0</td>\n",
       "      <td>2</td>\n",
       "    </tr>\n",
       "    <tr>\n",
       "      <th>6</th>\n",
       "      <td>283.96</td>\n",
       "      <td>6.73</td>\n",
       "      <td>64</td>\n",
       "      <td>1.0</td>\n",
       "      <td>0.0</td>\n",
       "      <td>0.0</td>\n",
       "      <td>0.0</td>\n",
       "      <td>0.0</td>\n",
       "      <td>0.0</td>\n",
       "      <td>3</td>\n",
       "    </tr>\n",
       "  </tbody>\n",
       "</table>\n",
       "</div>"
      ],
      "text/plain": [
       "   temp.day  wind_speed  humidity  Clouds  Clear  Snow  Rain  Drizzle  \\\n",
       "0    278.91        3.94        65     0.0    0.0   0.0   1.0      0.0   \n",
       "1    279.64        4.39        49     0.0    1.0   0.0   0.0      0.0   \n",
       "2    279.88        3.67        43     1.0    0.0   0.0   0.0      0.0   \n",
       "3    282.24        4.96        65     0.0    0.0   0.0   1.0      0.0   \n",
       "4    284.29        0.85        64     0.0    0.0   0.0   1.0      0.0   \n",
       "5    285.60        3.58        53     1.0    0.0   0.0   0.0      0.0   \n",
       "6    283.96        6.73        64     1.0    0.0   0.0   0.0      0.0   \n",
       "\n",
       "   Thunderstorm  weekday  \n",
       "0           0.0        4  \n",
       "1           0.0        5  \n",
       "2           0.0        6  \n",
       "3           0.0        0  \n",
       "4           0.0        1  \n",
       "5           0.0        2  \n",
       "6           0.0        3  "
      ]
     },
     "execution_count": 57,
     "metadata": {},
     "output_type": "execute_result"
    }
   ],
   "source": [
    "daily = formattingDailyJson(forecast_data, 3)\n",
    "daily"
   ]
  },
  {
   "cell_type": "code",
   "execution_count": 50,
   "id": "composed-deviation",
   "metadata": {},
   "outputs": [
    {
     "data": {
      "text/plain": [
       "(8, 10)"
      ]
     },
     "execution_count": 50,
     "metadata": {},
     "output_type": "execute_result"
    }
   ],
   "source": [
    "daily.shape"
   ]
  },
  {
   "cell_type": "code",
   "execution_count": 2,
   "id": "proper-blowing",
   "metadata": {},
   "outputs": [
    {
     "data": {
      "text/plain": [
       "<Response [200]>"
      ]
     },
     "execution_count": 2,
     "metadata": {},
     "output_type": "execute_result"
    }
   ],
   "source": [
    "forecast = requests.get(\"https://api.openweathermap.org/data/2.5/onecall?lat=53.33306&lon=-6.24889&exclude=current,minutely&appid=5cf5e19adac515b3f8510d2692fddc43\")\n",
    "forecast"
   ]
  },
  {
   "cell_type": "code",
   "execution_count": 3,
   "id": "eligible-growth",
   "metadata": {},
   "outputs": [],
   "source": [
    "forecast_data = forecast.json()\n",
    "#forecast_data"
   ]
  },
  {
   "cell_type": "code",
   "execution_count": 66,
   "id": "defensive-tourism",
   "metadata": {},
   "outputs": [
    {
     "data": {
      "text/plain": [
       "[[273.43, 3.39, 81.0, 1.0, 0.0, 0.0, 0.0, 0.0, 0.0, 5.0, 23.0]]"
      ]
     },
     "execution_count": 66,
     "metadata": {},
     "output_type": "execute_result"
    }
   ],
   "source": [
    "result = formattingJson(forecast_data, 5, 23)\n",
    "result"
   ]
  },
  {
   "cell_type": "code",
   "execution_count": 67,
   "id": "legislative-lodge",
   "metadata": {},
   "outputs": [],
   "source": [
    "forestPrediction = pickle.load(open(f'pickle_jar/hourlyModels/randForest{5}.pkl','rb'))"
   ]
  },
  {
   "cell_type": "code",
   "execution_count": 68,
   "id": "subjective-click",
   "metadata": {},
   "outputs": [
    {
     "data": {
      "text/plain": [
       "array([0], dtype=int64)"
      ]
     },
     "execution_count": 68,
     "metadata": {},
     "output_type": "execute_result"
    }
   ],
   "source": [
    "forestPrediction.predict(result)"
   ]
  },
  {
   "cell_type": "code",
   "execution_count": null,
   "id": "ethical-hazard",
   "metadata": {},
   "outputs": [],
   "source": []
  }
 ],
 "metadata": {
  "kernelspec": {
   "display_name": "Python 3",
   "language": "python",
   "name": "python3"
  },
  "language_info": {
   "codemirror_mode": {
    "name": "ipython",
    "version": 3
   },
   "file_extension": ".py",
   "mimetype": "text/x-python",
   "name": "python",
   "nbconvert_exporter": "python",
   "pygments_lexer": "ipython3",
   "version": "3.8.8"
  }
 },
 "nbformat": 4,
 "nbformat_minor": 5
}
