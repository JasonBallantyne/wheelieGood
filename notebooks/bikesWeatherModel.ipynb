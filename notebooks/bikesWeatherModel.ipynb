{
 "cells": [
  {
   "cell_type": "code",
   "execution_count": 2,
   "metadata": {},
   "outputs": [],
   "source": [
    "from sqlalchemy import create_engine\n",
    "from pandas import pandas as pd\n",
    "from sklearn.tree import DecisionTreeRegressor\n",
    "from sklearn.model_selection import train_test_split\n",
    "from sklearn.ensemble import RandomForestRegressor\n",
    "from sklearn.neighbors import KNeighborsRegressor\n",
    "from sklearn.linear_model import LinearRegression\n",
    "from sklearn.metrics import f1_score\n",
    "from sklearn.metrics import r2_score\n",
    "from sklearn import tree\n",
    "import matplotlib.pyplot as plt\n",
    "import pickle\n",
    "import requests\n",
    "import json\n",
    "import numpy as np\n",
    "import datetime\n",
    "import config\n",
    "\n",
    "import warnings\n",
    "warnings.filterwarnings('ignore')"
   ]
  },
  {
   "cell_type": "markdown",
   "metadata": {},
   "source": [
    "# 1. Clean the data and build the models"
   ]
  },
  {
   "cell_type": "markdown",
   "metadata": {},
   "source": [
    "## _Call the data from the database_"
   ]
  },
  {
   "cell_type": "code",
   "execution_count": 5,
   "metadata": {},
   "outputs": [],
   "source": [
    "def static_bikes():\n",
    "    # Request Data from API\n",
    "    engine = create_engine(f\"mysql+mysqlconnector://{config.user}:{config.passw}@{config.uri}:3306/wheelieGood\",\n",
    "                           echo=True)\n",
    "    # Using static bike table\n",
    "    bike_data = pd.read_sql(\"SELECT * FROM wheelieGood.static_bikes;\", engine)\n",
    "    return bike_data\n",
    "\n",
    "def dynamic_bikes():\n",
    "    # Request Data from API\n",
    "    engine = create_engine(f\"mysql+mysqlconnector://{config.user}:{config.passw}@{config.uri}:3306/wheelieGood\",\n",
    "                           echo=True)\n",
    "    # Using static bike table\n",
    "    bike_data = pd.read_sql(\"SELECT * FROM wheelieGood.dynamic_bikes;\", engine)\n",
    "    return bike_data\n",
    "\n",
    "def historical_weather():\n",
    "    # Request Data from API\n",
    "    engine = create_engine(f\"mysql+mysqlconnector://{config.user}:{config.passw}@{config.uri}:3306/wheelieGood\",\n",
    "                           echo=True)\n",
    "    # Using static bike table\n",
    "    historical_weather = pd.read_sql(\"SELECT * from weather\", engine)\n",
    "    return historical_weather"
   ]
  },
  {
   "cell_type": "code",
   "execution_count": 6,
   "metadata": {},
   "outputs": [
    {
     "name": "stdout",
     "output_type": "stream",
     "text": [
      "2021-04-16 09:47:03,497 INFO sqlalchemy.engine.base.Engine SHOW VARIABLES LIKE 'sql_mode'\n",
      "2021-04-16 09:47:03,497 INFO sqlalchemy.engine.base.Engine {}\n",
      "2021-04-16 09:47:03,893 INFO sqlalchemy.engine.base.Engine SHOW VARIABLES LIKE 'lower_case_table_names'\n",
      "2021-04-16 09:47:03,893 INFO sqlalchemy.engine.base.Engine {}\n",
      "2021-04-16 09:47:04,617 INFO sqlalchemy.engine.base.Engine SELECT DATABASE()\n",
      "2021-04-16 09:47:04,617 INFO sqlalchemy.engine.base.Engine {}\n",
      "2021-04-16 09:47:05,367 INFO sqlalchemy.engine.base.Engine SELECT CAST('test plain returns' AS CHAR(60)) AS anon_1\n",
      "2021-04-16 09:47:05,371 INFO sqlalchemy.engine.base.Engine {}\n",
      "2021-04-16 09:47:05,736 INFO sqlalchemy.engine.base.Engine SELECT CAST('test unicode returns' AS CHAR(60)) AS anon_1\n",
      "2021-04-16 09:47:05,740 INFO sqlalchemy.engine.base.Engine {}\n",
      "2021-04-16 09:47:06,216 INFO sqlalchemy.engine.base.Engine DESCRIBE `SELECT * from weather`\n",
      "2021-04-16 09:47:06,216 INFO sqlalchemy.engine.base.Engine {}\n",
      "2021-04-16 09:47:06,344 INFO sqlalchemy.engine.base.Engine ROLLBACK\n",
      "2021-04-16 09:47:06,857 INFO sqlalchemy.engine.base.OptionEngine SELECT * from weather\n",
      "2021-04-16 09:47:06,857 INFO sqlalchemy.engine.base.OptionEngine {}\n",
      "2021-04-16 09:47:18,127 INFO sqlalchemy.engine.base.Engine SHOW VARIABLES LIKE 'sql_mode'\n",
      "2021-04-16 09:47:18,127 INFO sqlalchemy.engine.base.Engine {}\n",
      "2021-04-16 09:47:18,532 INFO sqlalchemy.engine.base.Engine SHOW VARIABLES LIKE 'lower_case_table_names'\n",
      "2021-04-16 09:47:18,536 INFO sqlalchemy.engine.base.Engine {}\n",
      "2021-04-16 09:47:19,292 INFO sqlalchemy.engine.base.Engine SELECT DATABASE()\n",
      "2021-04-16 09:47:19,296 INFO sqlalchemy.engine.base.Engine {}\n",
      "2021-04-16 09:47:20,016 INFO sqlalchemy.engine.base.Engine SELECT CAST('test plain returns' AS CHAR(60)) AS anon_1\n",
      "2021-04-16 09:47:20,016 INFO sqlalchemy.engine.base.Engine {}\n",
      "2021-04-16 09:47:20,389 INFO sqlalchemy.engine.base.Engine SELECT CAST('test unicode returns' AS CHAR(60)) AS anon_1\n",
      "2021-04-16 09:47:20,389 INFO sqlalchemy.engine.base.Engine {}\n",
      "2021-04-16 09:47:20,873 INFO sqlalchemy.engine.base.Engine DESCRIBE `SELECT * FROM wheelieGood.dynamic_bikes;`\n",
      "2021-04-16 09:47:20,873 INFO sqlalchemy.engine.base.Engine {}\n",
      "2021-04-16 09:47:20,997 INFO sqlalchemy.engine.base.Engine ROLLBACK\n",
      "2021-04-16 09:47:21,481 INFO sqlalchemy.engine.base.OptionEngine SELECT * FROM wheelieGood.dynamic_bikes;\n",
      "2021-04-16 09:47:21,481 INFO sqlalchemy.engine.base.OptionEngine {}\n",
      "2021-04-16 09:48:57,892 INFO sqlalchemy.engine.base.Engine SHOW VARIABLES LIKE 'sql_mode'\n",
      "2021-04-16 09:48:57,892 INFO sqlalchemy.engine.base.Engine {}\n",
      "2021-04-16 09:48:58,280 INFO sqlalchemy.engine.base.Engine SHOW VARIABLES LIKE 'lower_case_table_names'\n",
      "2021-04-16 09:48:58,280 INFO sqlalchemy.engine.base.Engine {}\n",
      "2021-04-16 09:48:59,016 INFO sqlalchemy.engine.base.Engine SELECT DATABASE()\n",
      "2021-04-16 09:48:59,016 INFO sqlalchemy.engine.base.Engine {}\n",
      "2021-04-16 09:48:59,743 INFO sqlalchemy.engine.base.Engine SELECT CAST('test plain returns' AS CHAR(60)) AS anon_1\n",
      "2021-04-16 09:48:59,746 INFO sqlalchemy.engine.base.Engine {}\n",
      "2021-04-16 09:49:00,123 INFO sqlalchemy.engine.base.Engine SELECT CAST('test unicode returns' AS CHAR(60)) AS anon_1\n",
      "2021-04-16 09:49:00,123 INFO sqlalchemy.engine.base.Engine {}\n",
      "2021-04-16 09:49:00,600 INFO sqlalchemy.engine.base.Engine DESCRIBE `SELECT * FROM wheelieGood.static_bikes;`\n",
      "2021-04-16 09:49:00,600 INFO sqlalchemy.engine.base.Engine {}\n",
      "2021-04-16 09:49:00,720 INFO sqlalchemy.engine.base.Engine ROLLBACK\n",
      "2021-04-16 09:49:01,225 INFO sqlalchemy.engine.base.OptionEngine SELECT * FROM wheelieGood.static_bikes;\n",
      "2021-04-16 09:49:01,225 INFO sqlalchemy.engine.base.OptionEngine {}\n"
     ]
    }
   ],
   "source": [
    "weather = historical_weather()\n",
    "bikes = dynamic_bikes()\n",
    "static = static_bikes()"
   ]
  },
  {
   "cell_type": "markdown",
   "metadata": {},
   "source": [
    "## _Assess the data_"
   ]
  },
  {
   "cell_type": "code",
   "execution_count": 12,
   "metadata": {},
   "outputs": [
    {
     "data": {
      "text/html": [
       "<div>\n",
       "<style scoped>\n",
       "    .dataframe tbody tr th:only-of-type {\n",
       "        vertical-align: middle;\n",
       "    }\n",
       "\n",
       "    .dataframe tbody tr th {\n",
       "        vertical-align: top;\n",
       "    }\n",
       "\n",
       "    .dataframe thead th {\n",
       "        text-align: right;\n",
       "    }\n",
       "</style>\n",
       "<table border=\"1\" class=\"dataframe\">\n",
       "  <thead>\n",
       "    <tr style=\"text-align: right;\">\n",
       "      <th></th>\n",
       "      <th>number</th>\n",
       "      <th>available_bike_stands</th>\n",
       "      <th>available_bikes</th>\n",
       "      <th>last_update</th>\n",
       "    </tr>\n",
       "  </thead>\n",
       "  <tbody>\n",
       "    <tr>\n",
       "      <th>0</th>\n",
       "      <td>42</td>\n",
       "      <td>22</td>\n",
       "      <td>8</td>\n",
       "      <td>2021-03-08 13:44:23</td>\n",
       "    </tr>\n",
       "    <tr>\n",
       "      <th>1</th>\n",
       "      <td>30</td>\n",
       "      <td>16</td>\n",
       "      <td>4</td>\n",
       "      <td>2021-03-08 13:45:14</td>\n",
       "    </tr>\n",
       "    <tr>\n",
       "      <th>2</th>\n",
       "      <td>54</td>\n",
       "      <td>31</td>\n",
       "      <td>2</td>\n",
       "      <td>2021-03-08 13:36:34</td>\n",
       "    </tr>\n",
       "    <tr>\n",
       "      <th>3</th>\n",
       "      <td>108</td>\n",
       "      <td>37</td>\n",
       "      <td>3</td>\n",
       "      <td>2021-03-08 13:44:45</td>\n",
       "    </tr>\n",
       "    <tr>\n",
       "      <th>4</th>\n",
       "      <td>56</td>\n",
       "      <td>31</td>\n",
       "      <td>9</td>\n",
       "      <td>2021-03-08 13:44:20</td>\n",
       "    </tr>\n",
       "  </tbody>\n",
       "</table>\n",
       "</div>"
      ],
      "text/plain": [
       "   number  available_bike_stands  available_bikes         last_update\n",
       "0      42                     22                8 2021-03-08 13:44:23\n",
       "1      30                     16                4 2021-03-08 13:45:14\n",
       "2      54                     31                2 2021-03-08 13:36:34\n",
       "3     108                     37                3 2021-03-08 13:44:45\n",
       "4      56                     31                9 2021-03-08 13:44:20"
      ]
     },
     "execution_count": 12,
     "metadata": {},
     "output_type": "execute_result"
    }
   ],
   "source": [
    "bikes.head(5)"
   ]
  },
  {
   "cell_type": "code",
   "execution_count": 13,
   "metadata": {},
   "outputs": [
    {
     "data": {
      "text/html": [
       "<div>\n",
       "<style scoped>\n",
       "    .dataframe tbody tr th:only-of-type {\n",
       "        vertical-align: middle;\n",
       "    }\n",
       "\n",
       "    .dataframe tbody tr th {\n",
       "        vertical-align: top;\n",
       "    }\n",
       "\n",
       "    .dataframe thead th {\n",
       "        text-align: right;\n",
       "    }\n",
       "</style>\n",
       "<table border=\"1\" class=\"dataframe\">\n",
       "  <thead>\n",
       "    <tr style=\"text-align: right;\">\n",
       "      <th></th>\n",
       "      <th>coord_lon</th>\n",
       "      <th>coord_lat</th>\n",
       "      <th>weather_main</th>\n",
       "      <th>weather_description</th>\n",
       "      <th>weather_icon</th>\n",
       "      <th>main_temp</th>\n",
       "      <th>main_pressure</th>\n",
       "      <th>main_humidity</th>\n",
       "      <th>main_temp_min</th>\n",
       "      <th>main_temp_max</th>\n",
       "      <th>...</th>\n",
       "      <th>dt</th>\n",
       "      <th>sys_type</th>\n",
       "      <th>sys_id</th>\n",
       "      <th>sys_country</th>\n",
       "      <th>sys_sunrise</th>\n",
       "      <th>sys_sunset</th>\n",
       "      <th>city_id</th>\n",
       "      <th>city_name</th>\n",
       "      <th>cod</th>\n",
       "      <th>Current Time</th>\n",
       "    </tr>\n",
       "  </thead>\n",
       "  <tbody>\n",
       "    <tr>\n",
       "      <th>0</th>\n",
       "      <td>-6.2672</td>\n",
       "      <td>53.344</td>\n",
       "      <td>Clouds</td>\n",
       "      <td>broken clouds</td>\n",
       "      <td>04d</td>\n",
       "      <td>283.48</td>\n",
       "      <td>1022</td>\n",
       "      <td>62</td>\n",
       "      <td>282.04</td>\n",
       "      <td>284.82</td>\n",
       "      <td>...</td>\n",
       "      <td>2021-03-08 13:37:42</td>\n",
       "      <td>1</td>\n",
       "      <td>1565</td>\n",
       "      <td>IE</td>\n",
       "      <td>2021-03-08 06:56:16</td>\n",
       "      <td>2021-03-08 18:15:39</td>\n",
       "      <td>2964574</td>\n",
       "      <td>Dublin</td>\n",
       "      <td>200</td>\n",
       "      <td>2021-03-08 13:46:06</td>\n",
       "    </tr>\n",
       "    <tr>\n",
       "      <th>1</th>\n",
       "      <td>-6.2672</td>\n",
       "      <td>53.344</td>\n",
       "      <td>Clouds</td>\n",
       "      <td>broken clouds</td>\n",
       "      <td>04d</td>\n",
       "      <td>283.48</td>\n",
       "      <td>1022</td>\n",
       "      <td>62</td>\n",
       "      <td>282.04</td>\n",
       "      <td>284.82</td>\n",
       "      <td>...</td>\n",
       "      <td>2021-03-08 13:38:36</td>\n",
       "      <td>1</td>\n",
       "      <td>1565</td>\n",
       "      <td>IE</td>\n",
       "      <td>2021-03-08 06:56:16</td>\n",
       "      <td>2021-03-08 18:15:39</td>\n",
       "      <td>2964574</td>\n",
       "      <td>Dublin</td>\n",
       "      <td>200</td>\n",
       "      <td>2021-03-08 13:51:06</td>\n",
       "    </tr>\n",
       "    <tr>\n",
       "      <th>2</th>\n",
       "      <td>-6.2672</td>\n",
       "      <td>53.344</td>\n",
       "      <td>Clouds</td>\n",
       "      <td>broken clouds</td>\n",
       "      <td>04d</td>\n",
       "      <td>284.34</td>\n",
       "      <td>1022</td>\n",
       "      <td>58</td>\n",
       "      <td>283.71</td>\n",
       "      <td>284.82</td>\n",
       "      <td>...</td>\n",
       "      <td>2021-03-08 13:56:06</td>\n",
       "      <td>1</td>\n",
       "      <td>1565</td>\n",
       "      <td>IE</td>\n",
       "      <td>2021-03-08 06:56:16</td>\n",
       "      <td>2021-03-08 18:15:39</td>\n",
       "      <td>2964574</td>\n",
       "      <td>Dublin</td>\n",
       "      <td>200</td>\n",
       "      <td>2021-03-08 13:56:07</td>\n",
       "    </tr>\n",
       "    <tr>\n",
       "      <th>3</th>\n",
       "      <td>-6.2672</td>\n",
       "      <td>53.344</td>\n",
       "      <td>Clouds</td>\n",
       "      <td>broken clouds</td>\n",
       "      <td>04d</td>\n",
       "      <td>283.74</td>\n",
       "      <td>1022</td>\n",
       "      <td>58</td>\n",
       "      <td>281.48</td>\n",
       "      <td>284.82</td>\n",
       "      <td>...</td>\n",
       "      <td>2021-03-08 13:51:36</td>\n",
       "      <td>1</td>\n",
       "      <td>1565</td>\n",
       "      <td>IE</td>\n",
       "      <td>2021-03-08 06:56:16</td>\n",
       "      <td>2021-03-08 18:15:39</td>\n",
       "      <td>2964574</td>\n",
       "      <td>Dublin</td>\n",
       "      <td>200</td>\n",
       "      <td>2021-03-08 14:01:08</td>\n",
       "    </tr>\n",
       "    <tr>\n",
       "      <th>4</th>\n",
       "      <td>-6.2672</td>\n",
       "      <td>53.344</td>\n",
       "      <td>Clouds</td>\n",
       "      <td>broken clouds</td>\n",
       "      <td>04d</td>\n",
       "      <td>284.45</td>\n",
       "      <td>1022</td>\n",
       "      <td>58</td>\n",
       "      <td>283.71</td>\n",
       "      <td>285.37</td>\n",
       "      <td>...</td>\n",
       "      <td>2021-03-08 14:01:41</td>\n",
       "      <td>1</td>\n",
       "      <td>1565</td>\n",
       "      <td>IE</td>\n",
       "      <td>2021-03-08 06:56:16</td>\n",
       "      <td>2021-03-08 18:15:39</td>\n",
       "      <td>2964574</td>\n",
       "      <td>Dublin</td>\n",
       "      <td>200</td>\n",
       "      <td>2021-03-08 14:06:08</td>\n",
       "    </tr>\n",
       "  </tbody>\n",
       "</table>\n",
       "<p>5 rows × 24 columns</p>\n",
       "</div>"
      ],
      "text/plain": [
       "   coord_lon  coord_lat weather_main weather_description weather_icon  \\\n",
       "0    -6.2672     53.344       Clouds       broken clouds          04d   \n",
       "1    -6.2672     53.344       Clouds       broken clouds          04d   \n",
       "2    -6.2672     53.344       Clouds       broken clouds          04d   \n",
       "3    -6.2672     53.344       Clouds       broken clouds          04d   \n",
       "4    -6.2672     53.344       Clouds       broken clouds          04d   \n",
       "\n",
       "   main_temp  main_pressure  main_humidity  main_temp_min  main_temp_max  ...  \\\n",
       "0     283.48           1022             62         282.04         284.82  ...   \n",
       "1     283.48           1022             62         282.04         284.82  ...   \n",
       "2     284.34           1022             58         283.71         284.82  ...   \n",
       "3     283.74           1022             58         281.48         284.82  ...   \n",
       "4     284.45           1022             58         283.71         285.37  ...   \n",
       "\n",
       "                   dt  sys_type  sys_id  sys_country         sys_sunrise  \\\n",
       "0 2021-03-08 13:37:42         1    1565           IE 2021-03-08 06:56:16   \n",
       "1 2021-03-08 13:38:36         1    1565           IE 2021-03-08 06:56:16   \n",
       "2 2021-03-08 13:56:06         1    1565           IE 2021-03-08 06:56:16   \n",
       "3 2021-03-08 13:51:36         1    1565           IE 2021-03-08 06:56:16   \n",
       "4 2021-03-08 14:01:41         1    1565           IE 2021-03-08 06:56:16   \n",
       "\n",
       "           sys_sunset  city_id city_name  cod        Current Time  \n",
       "0 2021-03-08 18:15:39  2964574    Dublin  200 2021-03-08 13:46:06  \n",
       "1 2021-03-08 18:15:39  2964574    Dublin  200 2021-03-08 13:51:06  \n",
       "2 2021-03-08 18:15:39  2964574    Dublin  200 2021-03-08 13:56:07  \n",
       "3 2021-03-08 18:15:39  2964574    Dublin  200 2021-03-08 14:01:08  \n",
       "4 2021-03-08 18:15:39  2964574    Dublin  200 2021-03-08 14:06:08  \n",
       "\n",
       "[5 rows x 24 columns]"
      ]
     },
     "execution_count": 13,
     "metadata": {},
     "output_type": "execute_result"
    }
   ],
   "source": [
    "weather.head(5)"
   ]
  },
  {
   "cell_type": "code",
   "execution_count": 7,
   "metadata": {},
   "outputs": [
    {
     "data": {
      "text/plain": [
       "coord_lon                     float64\n",
       "coord_lat                     float64\n",
       "weather_main                   object\n",
       "weather_description            object\n",
       "weather_icon                   object\n",
       "main_temp                     float64\n",
       "main_pressure                   int64\n",
       "main_humidity                   int64\n",
       "main_temp_min                 float64\n",
       "main_temp_max                 float64\n",
       "visibility                      int64\n",
       "wind_speed                    float64\n",
       "wind_deg                        int64\n",
       "clouds_all                      int64\n",
       "dt                     datetime64[ns]\n",
       "sys_type                        int64\n",
       "sys_id                          int64\n",
       "sys_country                    object\n",
       "sys_sunrise            datetime64[ns]\n",
       "sys_sunset             datetime64[ns]\n",
       "city_id                         int64\n",
       "city_name                      object\n",
       "cod                             int64\n",
       "Current Time           datetime64[ns]\n",
       "dtype: object"
      ]
     },
     "execution_count": 7,
     "metadata": {},
     "output_type": "execute_result"
    }
   ],
   "source": [
    "weather.dtypes"
   ]
  },
  {
   "cell_type": "code",
   "execution_count": 14,
   "metadata": {},
   "outputs": [
    {
     "name": "stdout",
     "output_type": "stream",
     "text": [
      "Index(['coord_lon', 'coord_lat', 'weather_main', 'weather_description',\n",
      "       'weather_icon', 'main_temp', 'main_pressure', 'main_humidity',\n",
      "       'main_temp_min', 'main_temp_max', 'visibility', 'wind_speed',\n",
      "       'wind_deg', 'clouds_all', 'dt', 'sys_type', 'sys_id', 'sys_country',\n",
      "       'sys_sunrise', 'sys_sunset', 'city_id', 'city_name', 'cod',\n",
      "       'Current Time'],\n",
      "      dtype='object')\n",
      "Index(['number', 'available_bike_stands', 'available_bikes', 'last_update'], dtype='object')\n",
      "Index(['number', 'name', 'address', 'pos_lat', 'pos_lng', 'bike_stands'], dtype='object')\n"
     ]
    }
   ],
   "source": [
    "print(weather.columns)\n",
    "print(bikes.columns)\n",
    "print(static.columns)"
   ]
  },
  {
   "cell_type": "markdown",
   "metadata": {},
   "source": [
    "## _Data Modification_"
   ]
  },
  {
   "cell_type": "code",
   "execution_count": 15,
   "metadata": {},
   "outputs": [],
   "source": [
    "# Select columns containing categorical data\n",
    "weather_categorical_columns = weather[['weather_description', 'weather_icon', 'sys_country']].columns\n",
    "\n",
    "# Convert data type to category for these columns\n",
    "for column in weather_categorical_columns:\n",
    "    weather[column] = weather[column].astype('category')"
   ]
  },
  {
   "cell_type": "code",
   "execution_count": 18,
   "metadata": {},
   "outputs": [],
   "source": [
    "weather_datetime_columns = weather[['Current Time', 'dt', 'sys_sunset', 'sys_sunrise']].columns\n",
    "\n",
    "# Convert data type to datetime for these columns\n",
    "for column in weather_datetime_columns:\n",
    "    weather[column] = weather[column].astype('datetime64[ns]')"
   ]
  },
  {
   "cell_type": "markdown",
   "metadata": {},
   "source": [
    "## _Sort the data, pre-merge_"
   ]
  },
  {
   "cell_type": "code",
   "execution_count": 19,
   "metadata": {},
   "outputs": [],
   "source": [
    "bikes.sort_values('last_update', inplace=True)\n",
    "weather.sort_values('dt', inplace=True)"
   ]
  },
  {
   "cell_type": "markdown",
   "metadata": {},
   "source": [
    "### Trim the data set for the columns we want in our model"
   ]
  },
  {
   "cell_type": "code",
   "execution_count": 20,
   "metadata": {},
   "outputs": [
    {
     "data": {
      "text/html": [
       "<div>\n",
       "<style scoped>\n",
       "    .dataframe tbody tr th:only-of-type {\n",
       "        vertical-align: middle;\n",
       "    }\n",
       "\n",
       "    .dataframe tbody tr th {\n",
       "        vertical-align: top;\n",
       "    }\n",
       "\n",
       "    .dataframe thead th {\n",
       "        text-align: right;\n",
       "    }\n",
       "</style>\n",
       "<table border=\"1\" class=\"dataframe\">\n",
       "  <thead>\n",
       "    <tr style=\"text-align: right;\">\n",
       "      <th></th>\n",
       "      <th>weather_main</th>\n",
       "      <th>wind_speed</th>\n",
       "      <th>main_temp</th>\n",
       "      <th>main_humidity</th>\n",
       "      <th>dt</th>\n",
       "    </tr>\n",
       "  </thead>\n",
       "  <tbody>\n",
       "    <tr>\n",
       "      <th>0</th>\n",
       "      <td>Clouds</td>\n",
       "      <td>4.63</td>\n",
       "      <td>283.48</td>\n",
       "      <td>62</td>\n",
       "      <td>2021-03-08 13:37:42</td>\n",
       "    </tr>\n",
       "    <tr>\n",
       "      <th>1</th>\n",
       "      <td>Clouds</td>\n",
       "      <td>4.63</td>\n",
       "      <td>283.48</td>\n",
       "      <td>62</td>\n",
       "      <td>2021-03-08 13:38:36</td>\n",
       "    </tr>\n",
       "    <tr>\n",
       "      <th>3</th>\n",
       "      <td>Clouds</td>\n",
       "      <td>3.60</td>\n",
       "      <td>283.74</td>\n",
       "      <td>58</td>\n",
       "      <td>2021-03-08 13:51:36</td>\n",
       "    </tr>\n",
       "  </tbody>\n",
       "</table>\n",
       "</div>"
      ],
      "text/plain": [
       "  weather_main  wind_speed  main_temp  main_humidity                  dt\n",
       "0       Clouds        4.63     283.48             62 2021-03-08 13:37:42\n",
       "1       Clouds        4.63     283.48             62 2021-03-08 13:38:36\n",
       "3       Clouds        3.60     283.74             58 2021-03-08 13:51:36"
      ]
     },
     "execution_count": 20,
     "metadata": {},
     "output_type": "execute_result"
    }
   ],
   "source": [
    "weatherTrim = weather[[\"weather_main\", \"wind_speed\", \"main_temp\", \"main_humidity\", \"dt\"]]\n",
    "weatherTrim.head(3)"
   ]
  },
  {
   "cell_type": "markdown",
   "metadata": {},
   "source": [
    "## _Add weather types to weather table_ \n",
    "###  - from api documentation"
   ]
  },
  {
   "cell_type": "markdown",
   "metadata": {},
   "source": [
    "Add these new columns to the dataframe. Initially set them to a value of zero, then change them where they match the weather_main column values to a 1. "
   ]
  },
  {
   "cell_type": "code",
   "execution_count": 21,
   "metadata": {},
   "outputs": [
    {
     "data": {
      "text/html": [
       "<div>\n",
       "<style scoped>\n",
       "    .dataframe tbody tr th:only-of-type {\n",
       "        vertical-align: middle;\n",
       "    }\n",
       "\n",
       "    .dataframe tbody tr th {\n",
       "        vertical-align: top;\n",
       "    }\n",
       "\n",
       "    .dataframe thead th {\n",
       "        text-align: right;\n",
       "    }\n",
       "</style>\n",
       "<table border=\"1\" class=\"dataframe\">\n",
       "  <thead>\n",
       "    <tr style=\"text-align: right;\">\n",
       "      <th></th>\n",
       "      <th>weather_main</th>\n",
       "      <th>wind_speed</th>\n",
       "      <th>main_temp</th>\n",
       "      <th>main_humidity</th>\n",
       "      <th>dt</th>\n",
       "      <th>Clouds</th>\n",
       "      <th>Clear</th>\n",
       "      <th>Snow</th>\n",
       "      <th>Rain</th>\n",
       "      <th>Drizzle</th>\n",
       "      <th>Thunderstorm</th>\n",
       "    </tr>\n",
       "  </thead>\n",
       "  <tbody>\n",
       "    <tr>\n",
       "      <th>0</th>\n",
       "      <td>Clouds</td>\n",
       "      <td>4.63</td>\n",
       "      <td>283.48</td>\n",
       "      <td>62</td>\n",
       "      <td>2021-03-08 13:37:42</td>\n",
       "      <td>1.0</td>\n",
       "      <td>0.0</td>\n",
       "      <td>0.0</td>\n",
       "      <td>0.0</td>\n",
       "      <td>0.0</td>\n",
       "      <td>0.0</td>\n",
       "    </tr>\n",
       "    <tr>\n",
       "      <th>1</th>\n",
       "      <td>Clouds</td>\n",
       "      <td>4.63</td>\n",
       "      <td>283.48</td>\n",
       "      <td>62</td>\n",
       "      <td>2021-03-08 13:38:36</td>\n",
       "      <td>1.0</td>\n",
       "      <td>0.0</td>\n",
       "      <td>0.0</td>\n",
       "      <td>0.0</td>\n",
       "      <td>0.0</td>\n",
       "      <td>0.0</td>\n",
       "    </tr>\n",
       "  </tbody>\n",
       "</table>\n",
       "</div>"
      ],
      "text/plain": [
       "  weather_main  wind_speed  main_temp  main_humidity                  dt  \\\n",
       "0       Clouds        4.63     283.48             62 2021-03-08 13:37:42   \n",
       "1       Clouds        4.63     283.48             62 2021-03-08 13:38:36   \n",
       "\n",
       "   Clouds  Clear  Snow  Rain  Drizzle  Thunderstorm  \n",
       "0     1.0    0.0   0.0   0.0      0.0           0.0  \n",
       "1     1.0    0.0   0.0   0.0      0.0           0.0  "
      ]
     },
     "execution_count": 21,
     "metadata": {},
     "output_type": "execute_result"
    }
   ],
   "source": [
    "weatherConditions = [\"Clouds\", \"Clear\", \"Snow\", \"Rain\", \"Drizzle\", \"Thunderstorm\"]\n",
    "\n",
    "\n",
    "weatherTrim = weatherTrim.reindex(weatherTrim.columns.tolist() + weatherConditions, axis=1)\n",
    "for col in weatherConditions:\n",
    "    weatherTrim[col] = weatherTrim[col].replace(np.nan).fillna(0)\n",
    "    \n",
    "weatherTrim.loc[(weatherTrim['weather_main'] == 'Clouds'), 'Clouds'] = 1\n",
    "weatherTrim.loc[(weatherTrim['weather_main'] == 'Clear'), 'Clear'] = 1\n",
    "weatherTrim.loc[(weatherTrim['weather_main'] == 'Snow'), 'Snow'] = 1\n",
    "weatherTrim.loc[(weatherTrim['weather_main'] == 'Rain'), 'Rain'] = 1\n",
    "weatherTrim.loc[(weatherTrim['weather_main'] == 'Drizzle'), 'Drizzle'] = 1\n",
    "weatherTrim.loc[(weatherTrim['weather_main'] == 'Thunderstorm'), 'Thunderstorm'] = 1\n",
    "weatherTrim.head(2)"
   ]
  },
  {
   "cell_type": "markdown",
   "metadata": {},
   "source": [
    "### Weather main column is no longer needed"
   ]
  },
  {
   "cell_type": "code",
   "execution_count": 22,
   "metadata": {},
   "outputs": [
    {
     "data": {
      "text/html": [
       "<div>\n",
       "<style scoped>\n",
       "    .dataframe tbody tr th:only-of-type {\n",
       "        vertical-align: middle;\n",
       "    }\n",
       "\n",
       "    .dataframe tbody tr th {\n",
       "        vertical-align: top;\n",
       "    }\n",
       "\n",
       "    .dataframe thead th {\n",
       "        text-align: right;\n",
       "    }\n",
       "</style>\n",
       "<table border=\"1\" class=\"dataframe\">\n",
       "  <thead>\n",
       "    <tr style=\"text-align: right;\">\n",
       "      <th></th>\n",
       "      <th>wind_speed</th>\n",
       "      <th>main_temp</th>\n",
       "      <th>main_humidity</th>\n",
       "      <th>dt</th>\n",
       "      <th>Clouds</th>\n",
       "      <th>Clear</th>\n",
       "      <th>Snow</th>\n",
       "      <th>Rain</th>\n",
       "      <th>Drizzle</th>\n",
       "      <th>Thunderstorm</th>\n",
       "    </tr>\n",
       "  </thead>\n",
       "  <tbody>\n",
       "    <tr>\n",
       "      <th>0</th>\n",
       "      <td>4.63</td>\n",
       "      <td>283.48</td>\n",
       "      <td>62</td>\n",
       "      <td>2021-03-08 13:37:42</td>\n",
       "      <td>1.0</td>\n",
       "      <td>0.0</td>\n",
       "      <td>0.0</td>\n",
       "      <td>0.0</td>\n",
       "      <td>0.0</td>\n",
       "      <td>0.0</td>\n",
       "    </tr>\n",
       "    <tr>\n",
       "      <th>1</th>\n",
       "      <td>4.63</td>\n",
       "      <td>283.48</td>\n",
       "      <td>62</td>\n",
       "      <td>2021-03-08 13:38:36</td>\n",
       "      <td>1.0</td>\n",
       "      <td>0.0</td>\n",
       "      <td>0.0</td>\n",
       "      <td>0.0</td>\n",
       "      <td>0.0</td>\n",
       "      <td>0.0</td>\n",
       "    </tr>\n",
       "  </tbody>\n",
       "</table>\n",
       "</div>"
      ],
      "text/plain": [
       "   wind_speed  main_temp  main_humidity                  dt  Clouds  Clear  \\\n",
       "0        4.63     283.48             62 2021-03-08 13:37:42     1.0    0.0   \n",
       "1        4.63     283.48             62 2021-03-08 13:38:36     1.0    0.0   \n",
       "\n",
       "   Snow  Rain  Drizzle  Thunderstorm  \n",
       "0   0.0   0.0      0.0           0.0  \n",
       "1   0.0   0.0      0.0           0.0  "
      ]
     },
     "execution_count": 22,
     "metadata": {},
     "output_type": "execute_result"
    }
   ],
   "source": [
    "weatherTrim = weatherTrim.drop(columns=\"weather_main\")\n",
    "weatherTrim.head(2)"
   ]
  },
  {
   "cell_type": "code",
   "execution_count": 23,
   "metadata": {},
   "outputs": [
    {
     "data": {
      "text/plain": [
       "number                            int64\n",
       "available_bike_stands             int64\n",
       "available_bikes                   int64\n",
       "last_update              datetime64[ns]\n",
       "dtype: object"
      ]
     },
     "execution_count": 23,
     "metadata": {},
     "output_type": "execute_result"
    }
   ],
   "source": [
    "bikes.dtypes"
   ]
  },
  {
   "cell_type": "code",
   "execution_count": 24,
   "metadata": {},
   "outputs": [
    {
     "data": {
      "text/plain": [
       "wind_speed              float64\n",
       "main_temp               float64\n",
       "main_humidity             int64\n",
       "dt               datetime64[ns]\n",
       "Clouds                  float64\n",
       "Clear                   float64\n",
       "Snow                    float64\n",
       "Rain                    float64\n",
       "Drizzle                 float64\n",
       "Thunderstorm            float64\n",
       "dtype: object"
      ]
     },
     "execution_count": 24,
     "metadata": {},
     "output_type": "execute_result"
    }
   ],
   "source": [
    "weatherTrim.dtypes"
   ]
  },
  {
   "cell_type": "markdown",
   "metadata": {},
   "source": [
    "### _Merge the weather and bikes data sets on closest matching datetimes_"
   ]
  },
  {
   "cell_type": "code",
   "execution_count": 35,
   "metadata": {},
   "outputs": [],
   "source": [
    "merged_data = pd.merge_asof(bikes, weatherTrim, left_on=\"last_update\", right_on=\"dt\")"
   ]
  },
  {
   "cell_type": "code",
   "execution_count": 36,
   "metadata": {},
   "outputs": [],
   "source": [
    "#for inspection\n",
    "#merged_data.to_csv(\"mergeddf.csv\")"
   ]
  },
  {
   "cell_type": "code",
   "execution_count": 37,
   "metadata": {},
   "outputs": [
    {
     "data": {
      "text/plain": [
       "(1214642, 4)"
      ]
     },
     "execution_count": 37,
     "metadata": {},
     "output_type": "execute_result"
    }
   ],
   "source": [
    "bikes.shape"
   ]
  },
  {
   "cell_type": "code",
   "execution_count": 38,
   "metadata": {},
   "outputs": [
    {
     "data": {
      "text/plain": [
       "(1214642, 14)"
      ]
     },
     "execution_count": 38,
     "metadata": {},
     "output_type": "execute_result"
    }
   ],
   "source": [
    "merged_data.shape"
   ]
  },
  {
   "cell_type": "markdown",
   "metadata": {},
   "source": [
    "An apparent issue with the first 20 rows in the df. They will be dropped. The data set is 997732 rows long at the time of this decision, so 20 is not a concern."
   ]
  },
  {
   "cell_type": "code",
   "execution_count": 39,
   "metadata": {},
   "outputs": [],
   "source": [
    "#merged_data.head(25)"
   ]
  },
  {
   "cell_type": "code",
   "execution_count": 40,
   "metadata": {},
   "outputs": [
    {
     "data": {
      "text/html": [
       "<div>\n",
       "<style scoped>\n",
       "    .dataframe tbody tr th:only-of-type {\n",
       "        vertical-align: middle;\n",
       "    }\n",
       "\n",
       "    .dataframe tbody tr th {\n",
       "        vertical-align: top;\n",
       "    }\n",
       "\n",
       "    .dataframe thead th {\n",
       "        text-align: right;\n",
       "    }\n",
       "</style>\n",
       "<table border=\"1\" class=\"dataframe\">\n",
       "  <thead>\n",
       "    <tr style=\"text-align: right;\">\n",
       "      <th></th>\n",
       "      <th>number</th>\n",
       "      <th>available_bike_stands</th>\n",
       "      <th>available_bikes</th>\n",
       "      <th>last_update</th>\n",
       "      <th>wind_speed</th>\n",
       "      <th>main_temp</th>\n",
       "      <th>main_humidity</th>\n",
       "      <th>dt</th>\n",
       "      <th>Clouds</th>\n",
       "      <th>Clear</th>\n",
       "      <th>Snow</th>\n",
       "      <th>Rain</th>\n",
       "      <th>Drizzle</th>\n",
       "      <th>Thunderstorm</th>\n",
       "    </tr>\n",
       "  </thead>\n",
       "  <tbody>\n",
       "    <tr>\n",
       "      <th>20</th>\n",
       "      <td>5</td>\n",
       "      <td>20</td>\n",
       "      <td>20</td>\n",
       "      <td>2021-03-08 13:40:07</td>\n",
       "      <td>4.63</td>\n",
       "      <td>283.48</td>\n",
       "      <td>62.0</td>\n",
       "      <td>2021-03-08 13:38:36</td>\n",
       "      <td>1.0</td>\n",
       "      <td>0.0</td>\n",
       "      <td>0.0</td>\n",
       "      <td>0.0</td>\n",
       "      <td>0.0</td>\n",
       "      <td>0.0</td>\n",
       "    </tr>\n",
       "    <tr>\n",
       "      <th>21</th>\n",
       "      <td>89</td>\n",
       "      <td>26</td>\n",
       "      <td>14</td>\n",
       "      <td>2021-03-08 13:42:06</td>\n",
       "      <td>4.63</td>\n",
       "      <td>283.48</td>\n",
       "      <td>62.0</td>\n",
       "      <td>2021-03-08 13:38:36</td>\n",
       "      <td>1.0</td>\n",
       "      <td>0.0</td>\n",
       "      <td>0.0</td>\n",
       "      <td>0.0</td>\n",
       "      <td>0.0</td>\n",
       "      <td>0.0</td>\n",
       "    </tr>\n",
       "  </tbody>\n",
       "</table>\n",
       "</div>"
      ],
      "text/plain": [
       "    number  available_bike_stands  available_bikes         last_update  \\\n",
       "20       5                     20               20 2021-03-08 13:40:07   \n",
       "21      89                     26               14 2021-03-08 13:42:06   \n",
       "\n",
       "    wind_speed  main_temp  main_humidity                  dt  Clouds  Clear  \\\n",
       "20        4.63     283.48           62.0 2021-03-08 13:38:36     1.0    0.0   \n",
       "21        4.63     283.48           62.0 2021-03-08 13:38:36     1.0    0.0   \n",
       "\n",
       "    Snow  Rain  Drizzle  Thunderstorm  \n",
       "20   0.0   0.0      0.0           0.0  \n",
       "21   0.0   0.0      0.0           0.0  "
      ]
     },
     "execution_count": 40,
     "metadata": {},
     "output_type": "execute_result"
    }
   ],
   "source": [
    "data = merged_data.loc[20:684575]\n",
    "data.head(2)"
   ]
  },
  {
   "cell_type": "code",
   "execution_count": 41,
   "metadata": {},
   "outputs": [
    {
     "data": {
      "text/plain": [
       "number                      110\n",
       "available_bike_stands        41\n",
       "available_bikes              41\n",
       "last_update              281954\n",
       "wind_speed                   27\n",
       "main_temp                  1001\n",
       "main_humidity                24\n",
       "dt                         4609\n",
       "Clouds                        2\n",
       "Clear                         2\n",
       "Snow                          1\n",
       "Rain                          2\n",
       "Drizzle                       2\n",
       "Thunderstorm                  1\n",
       "weekday                       7\n",
       "hour                         24\n",
       "dtype: int64"
      ]
     },
     "execution_count": 41,
     "metadata": {},
     "output_type": "execute_result"
    }
   ],
   "source": [
    "# Create new column weekday\n",
    "data['weekday'] = data['last_update'].dt.dayofweek\n",
    "# Create new column hour\n",
    "data['hour'] = data['last_update'].dt.hour\n",
    "data.nunique()"
   ]
  },
  {
   "cell_type": "code",
   "execution_count": 42,
   "metadata": {},
   "outputs": [
    {
     "data": {
      "text/html": [
       "<div>\n",
       "<style scoped>\n",
       "    .dataframe tbody tr th:only-of-type {\n",
       "        vertical-align: middle;\n",
       "    }\n",
       "\n",
       "    .dataframe tbody tr th {\n",
       "        vertical-align: top;\n",
       "    }\n",
       "\n",
       "    .dataframe thead th {\n",
       "        text-align: right;\n",
       "    }\n",
       "</style>\n",
       "<table border=\"1\" class=\"dataframe\">\n",
       "  <thead>\n",
       "    <tr style=\"text-align: right;\">\n",
       "      <th></th>\n",
       "      <th>number</th>\n",
       "      <th>available_bike_stands</th>\n",
       "      <th>available_bikes</th>\n",
       "      <th>last_update</th>\n",
       "      <th>wind_speed</th>\n",
       "      <th>main_temp</th>\n",
       "      <th>main_humidity</th>\n",
       "      <th>dt</th>\n",
       "      <th>Clouds</th>\n",
       "      <th>Clear</th>\n",
       "      <th>Snow</th>\n",
       "      <th>Rain</th>\n",
       "      <th>Drizzle</th>\n",
       "      <th>Thunderstorm</th>\n",
       "      <th>weekday</th>\n",
       "      <th>hour</th>\n",
       "    </tr>\n",
       "  </thead>\n",
       "  <tbody>\n",
       "    <tr>\n",
       "      <th>20</th>\n",
       "      <td>5</td>\n",
       "      <td>20</td>\n",
       "      <td>20</td>\n",
       "      <td>2021-03-08 13:40:07</td>\n",
       "      <td>4.63</td>\n",
       "      <td>283.48</td>\n",
       "      <td>62.0</td>\n",
       "      <td>2021-03-08 13:38:36</td>\n",
       "      <td>1.0</td>\n",
       "      <td>0.0</td>\n",
       "      <td>0.0</td>\n",
       "      <td>0.0</td>\n",
       "      <td>0.0</td>\n",
       "      <td>0.0</td>\n",
       "      <td>0</td>\n",
       "      <td>13</td>\n",
       "    </tr>\n",
       "    <tr>\n",
       "      <th>21</th>\n",
       "      <td>89</td>\n",
       "      <td>26</td>\n",
       "      <td>14</td>\n",
       "      <td>2021-03-08 13:42:06</td>\n",
       "      <td>4.63</td>\n",
       "      <td>283.48</td>\n",
       "      <td>62.0</td>\n",
       "      <td>2021-03-08 13:38:36</td>\n",
       "      <td>1.0</td>\n",
       "      <td>0.0</td>\n",
       "      <td>0.0</td>\n",
       "      <td>0.0</td>\n",
       "      <td>0.0</td>\n",
       "      <td>0.0</td>\n",
       "      <td>0</td>\n",
       "      <td>13</td>\n",
       "    </tr>\n",
       "  </tbody>\n",
       "</table>\n",
       "</div>"
      ],
      "text/plain": [
       "    number  available_bike_stands  available_bikes         last_update  \\\n",
       "20       5                     20               20 2021-03-08 13:40:07   \n",
       "21      89                     26               14 2021-03-08 13:42:06   \n",
       "\n",
       "    wind_speed  main_temp  main_humidity                  dt  Clouds  Clear  \\\n",
       "20        4.63     283.48           62.0 2021-03-08 13:38:36     1.0    0.0   \n",
       "21        4.63     283.48           62.0 2021-03-08 13:38:36     1.0    0.0   \n",
       "\n",
       "    Snow  Rain  Drizzle  Thunderstorm  weekday  hour  \n",
       "20   0.0   0.0      0.0           0.0        0    13  \n",
       "21   0.0   0.0      0.0           0.0        0    13  "
      ]
     },
     "execution_count": 42,
     "metadata": {},
     "output_type": "execute_result"
    }
   ],
   "source": [
    "data.head(2)"
   ]
  },
  {
   "cell_type": "markdown",
   "metadata": {},
   "source": [
    "### _Investigate prevelance of 0 values for available bikes in the data set_\n",
    "\n",
    "Upon creation of the models, we noticed that there were a number of stations returning a lot of 0s. "
   ]
  },
  {
   "cell_type": "code",
   "execution_count": 44,
   "metadata": {},
   "outputs": [
    {
     "name": "stdout",
     "output_type": "stream",
     "text": [
      "110\n",
      "[9.79, 4.2, 1.96, 3.8, 2.84, 4.51, 3.72, 0.13, 2.54, 8.56, 1.54, 3.73, 2.07, 1.78, 11.61, 0.24, 1.12, 8.26, 0.46, 7.0, 3.44, 7.29, 2.36, 1.31, 3.01, 1.51, 3.55, 8.18, 3.0, 30.36, 2.21, 2.71, 4.98, 6.66, 1.74, 3.98, 1.54, 5.43, 2.73, 3.24, 1.14, 0.73, 2.5, 1.81, 0.83, 1.83, 1.43, 7.75, 1.87, 5.17, 1.44, 6.9, 1.4, 6.51, 7.95, 1.2, 2.89, 1.77, 3.72, 18.15, 3.06, 2.71, 6.03, 1.54, 28.72, 1.11, 23.65, 0.69, 2.77, 1.49, 2.23, 4.2, 25.19, 2.43, 4.26, 10.63, 4.14, 4.05, 4.89, 0.93, 9.65, 3.69, 1.32, 2.67, 2.8, 1.49, 1.77, 1.28, 3.99, 1.33, 0.49, 1.18, 1.62, 1.96, 6.37, 1.1, 5.88, 1.49, 5.67, 1.21, 19.14, 2.71, 5.22, 3.18, 2.85, 2.07, 6.75, 3.82, 2.77, 9.67]\n"
     ]
    }
   ],
   "source": [
    "stations = []\n",
    "bikes_zero_percentages = []\n",
    "\n",
    "for value in bikes[\"number\"].unique():\n",
    "    stations.append(value)\n",
    "\n",
    "for station in stations:\n",
    "    bikes_zero = bikes[(bikes[\"number\"] == station) & (bikes[\"available_bikes\"] == 0)]\n",
    "    all_rows = bikes[bikes[\"number\"] == station]\n",
    "    \n",
    "    num_no_bikes  = bikes_zero[\"number\"].count()\n",
    "    num_all_rows = all_rows[\"number\"].count()\n",
    "    \n",
    "    percentage = round((num_no_bikes/num_all_rows)*100, 2)\n",
    "    bikes_zero_percentages.append(percentage)\n",
    "    \n",
    "#print zero values tuples    \n",
    "print(bikes_zero_percentages)"
   ]
  },
  {
   "cell_type": "markdown",
   "metadata": {},
   "source": [
    "### _Certain stations are returning very large percentages of their data as zero bikes. Will cautiously purge these until they are closer to the date set average._\n",
    "\n",
    "Let's see the average zero returns"
   ]
  },
  {
   "cell_type": "code",
   "execution_count": 45,
   "metadata": {},
   "outputs": [
    {
     "name": "stdout",
     "output_type": "stream",
     "text": [
      "Data frame 0 bikes average: 5.607877220692098\n"
     ]
    }
   ],
   "source": [
    "perc_zero_list = []\n",
    "large_perc_zero = []\n",
    "total = 0\n",
    "\n",
    "for station in stations:\n",
    "    for day in range(0, 7):\n",
    "        day_and_station = data[(data[\"number\"] == station) & (data[\"weekday\"] == day)]\n",
    "        zero_bikes = day_and_station[day_and_station[\"available_bikes\"] == 0]\n",
    "        \n",
    "        x = day_and_station[\"available_bikes\"].shape[0]\n",
    "        y = zero_bikes[\"available_bikes\"].shape[0]\n",
    "        if y > 0:\n",
    "            percent_zero = (y/x)*100\n",
    "        else:\n",
    "            percent_zero = 0\n",
    "            \n",
    "        if percent_zero > 15:\n",
    "            large_perc_zero.append((station, day))\n",
    "        perc_zero_list.append(percent_zero)\n",
    "        total += percent_zero\n",
    "\n",
    "average = total/len(perc_zero_list)\n",
    "print(f\"Data frame 0 bikes average: {average}\")"
   ]
  },
  {
   "cell_type": "code",
   "execution_count": 46,
   "metadata": {},
   "outputs": [
    {
     "name": "stdout",
     "output_type": "stream",
     "text": [
      "Total rows:  684556\n",
      "Total rows containing zero values:  38067\n"
     ]
    }
   ],
   "source": [
    "# assess number of rows containing zero at available bikes\n",
    "pre_clean_zeros = data[data[\"available_bikes\"]==0].shape\n",
    "pre_clean_totals = data.shape\n",
    "print(\"Total rows: \", pre_clean_totals[0])\n",
    "print(\"Total rows containing zero values: \", pre_clean_zeros[0])"
   ]
  },
  {
   "cell_type": "code",
   "execution_count": 47,
   "metadata": {},
   "outputs": [
    {
     "name": "stdout",
     "output_type": "stream",
     "text": [
      "[(3, 2), (33, 6), (100, 6), (25, 4), (25, 5), (59, 6), (84, 6), (103, 6), (54, 0), (54, 6), (39, 6), (52, 6), (89, 2), (107, 6), (71, 6), (105, 6), (117, 0), (117, 1), (117, 3), (117, 4), (117, 5), (117, 6), (97, 6), (114, 3), (114, 5), (2, 3), (2, 6), (79, 4), (37, 6), (85, 6), (21, 1), (21, 2), (21, 6), (86, 6), (104, 6), (102, 0), (102, 6), (53, 5), (80, 3), (80, 4), (80, 5), (36, 6), (45, 6), (9, 0), (9, 1), (9, 2), (9, 3), (9, 6), (6, 0), (6, 3), (6, 5), (6, 6), (98, 0), (98, 1), (98, 2), (98, 3), (98, 5), (98, 6), (95, 6), (116, 6), (27, 0), (27, 1), (27, 3), (27, 4), (27, 5), (27, 6), (17, 0), (17, 6), (15, 2), (93, 1), (62, 3), (62, 4), (62, 6), (57, 6), (82, 6), (19, 3), (77, 6), (94, 4), (30, 0), (30, 3), (30, 4), (30, 5), (30, 6), (65, 3), (7, 4), (7, 6), (507, 4)]\n"
     ]
    }
   ],
   "source": [
    "# print days/stations where zero values exceeds 15%\n",
    "print(large_perc_zero)"
   ]
  },
  {
   "cell_type": "markdown",
   "metadata": {},
   "source": [
    "### _Clean the data set of excess zero values_"
   ]
  },
  {
   "cell_type": "code",
   "execution_count": 48,
   "metadata": {},
   "outputs": [],
   "source": [
    "for x in range(len(large_perc_zero)):\n",
    "    current = large_perc_zero[x]\n",
    "    values = (data[(data[\"number\"] == current[0]) & \n",
    "                     (data[\"available_bikes\"] == 0) & \n",
    "                     (data[\"weekday\"] == current[1])]).sample(frac=.5).index\n",
    "    \n",
    "    data.drop(values, inplace=True)"
   ]
  },
  {
   "cell_type": "code",
   "execution_count": 49,
   "metadata": {},
   "outputs": [
    {
     "name": "stdout",
     "output_type": "stream",
     "text": [
      "Total rows:  675860\n",
      "Total rows containing zero values:  29371\n"
     ]
    }
   ],
   "source": [
    "# display rows total and zero again, post-clean\n",
    "post_clean_zeros = data[data[\"available_bikes\"]==0].shape\n",
    "post_clean_totals = data.shape\n",
    "print(\"Total rows: \", post_clean_totals[0])\n",
    "print(\"Total rows containing zero values: \", post_clean_zeros[0])"
   ]
  },
  {
   "cell_type": "markdown",
   "metadata": {},
   "source": [
    "### We should have a conservative decrease in zero percentages"
   ]
  },
  {
   "cell_type": "code",
   "execution_count": 50,
   "metadata": {},
   "outputs": [
    {
     "name": "stdout",
     "output_type": "stream",
     "text": [
      "Pre-clean zeros as percentage of whole data set 5.560830669806414\n",
      "Post-clean zeros as percentage of whole data set 4.345722486905572\n"
     ]
    }
   ],
   "source": [
    "print(f\"Pre-clean zeros as percentage of whole data set {(pre_clean_zeros[0]/pre_clean_totals[0])*100}\")\n",
    "print(f\"Post-clean zeros as percentage of whole data set {(post_clean_zeros[0]/post_clean_totals[0])*100}\")"
   ]
  },
  {
   "cell_type": "markdown",
   "metadata": {},
   "source": [
    "### _Check the tuples (rows) with high percentages of zeros for available bikes again_"
   ]
  },
  {
   "cell_type": "code",
   "execution_count": 55,
   "metadata": {},
   "outputs": [
    {
     "name": "stdout",
     "output_type": "stream",
     "text": [
      "22\n",
      "[(54, 6), (117, 0), (117, 3), (117, 4), (117, 6), (21, 1), (6, 3), (6, 5), (6, 6), (98, 3), (98, 5), (98, 6), (27, 0), (27, 1), (27, 6), (17, 6), (62, 4), (30, 0), (30, 4), (30, 5), (30, 6), (65, 3)]\n"
     ]
    }
   ],
   "source": [
    "large_percent_zero = []\n",
    "\n",
    "for station in stations:\n",
    "    for day in range(0, 7):\n",
    "        day_and_station = data[(data[\"number\"] == station) & (data[\"weekday\"] == day)]\n",
    "        zero_bikes = day_and_station[day_and_station[\"available_bikes\"] == 0]\n",
    "        \n",
    "        x = day_and_station[\"available_bikes\"].shape[0]\n",
    "        y = zero_bikes[\"available_bikes\"].shape[0]\n",
    "        \n",
    "        # we only need the rows that return zeros at any point\n",
    "        if y > 0:\n",
    "            percent_zero = (y/x)*100\n",
    "        else:\n",
    "            percent_zero = 0\n",
    "            \n",
    "        if percent_zero > 15:\n",
    "            large_percent_zero.append((station, day))\n",
    "      \n",
    "    \n",
    "#print high zero values tuples \n",
    "print(len(large_percent_zero))\n",
    "print(large_percent_zero)"
   ]
  },
  {
   "cell_type": "markdown",
   "metadata": {},
   "source": [
    "## _Build and test initial models_"
   ]
  },
  {
   "cell_type": "markdown",
   "metadata": {},
   "source": [
    "There is a choice made here to build and test the initial models on only one output column. This is because the accuracy score test does not support multi-ouput. It is probable that the final model will be dual output (available bikes and available bike stands). \n",
    "\n",
    "However, this may also be achieved through a calculation using df data."
   ]
  },
  {
   "cell_type": "code",
   "execution_count": 56,
   "metadata": {},
   "outputs": [],
   "source": [
    "# X for the input data to be predicted on\n",
    "X = data.drop(columns = [\"available_bikes\", \"available_bike_stands\", \"last_update\", \"dt\"])\n",
    "# y for the out/goal set\n",
    "y = data[[\"available_bikes\"]]"
   ]
  },
  {
   "cell_type": "code",
   "execution_count": 57,
   "metadata": {},
   "outputs": [
    {
     "data": {
      "text/html": [
       "<div>\n",
       "<style scoped>\n",
       "    .dataframe tbody tr th:only-of-type {\n",
       "        vertical-align: middle;\n",
       "    }\n",
       "\n",
       "    .dataframe tbody tr th {\n",
       "        vertical-align: top;\n",
       "    }\n",
       "\n",
       "    .dataframe thead th {\n",
       "        text-align: right;\n",
       "    }\n",
       "</style>\n",
       "<table border=\"1\" class=\"dataframe\">\n",
       "  <thead>\n",
       "    <tr style=\"text-align: right;\">\n",
       "      <th></th>\n",
       "      <th>number</th>\n",
       "      <th>wind_speed</th>\n",
       "      <th>main_temp</th>\n",
       "      <th>main_humidity</th>\n",
       "      <th>Clouds</th>\n",
       "      <th>Clear</th>\n",
       "      <th>Snow</th>\n",
       "      <th>Rain</th>\n",
       "      <th>Drizzle</th>\n",
       "      <th>Thunderstorm</th>\n",
       "      <th>weekday</th>\n",
       "      <th>hour</th>\n",
       "    </tr>\n",
       "  </thead>\n",
       "  <tbody>\n",
       "  </tbody>\n",
       "</table>\n",
       "</div>"
      ],
      "text/plain": [
       "Empty DataFrame\n",
       "Columns: [number, wind_speed, main_temp, main_humidity, Clouds, Clear, Snow, Rain, Drizzle, Thunderstorm, weekday, hour]\n",
       "Index: []"
      ]
     },
     "execution_count": 57,
     "metadata": {},
     "output_type": "execute_result"
    }
   ],
   "source": [
    "X.head(0)"
   ]
  },
  {
   "cell_type": "markdown",
   "metadata": {},
   "source": [
    "## _Divide into training and testing set, and test for accuracy_"
   ]
  },
  {
   "cell_type": "code",
   "execution_count": 58,
   "metadata": {},
   "outputs": [],
   "source": [
    "X_train, X_test, y_train, y_test = train_test_split(X, y, test_size=0.2, random_state=20)"
   ]
  },
  {
   "cell_type": "markdown",
   "metadata": {},
   "source": [
    "## _Decision Tree Model_\n",
    "\n",
    "Build and check accuracy"
   ]
  },
  {
   "cell_type": "code",
   "execution_count": 59,
   "metadata": {},
   "outputs": [
    {
     "data": {
      "text/plain": [
       "0.9809357888590492"
      ]
     },
     "execution_count": 59,
     "metadata": {},
     "output_type": "execute_result"
    }
   ],
   "source": [
    "decisionTree = DecisionTreeRegressor()\n",
    "decisionTree.fit(X_train, y_train)\n",
    "predictions = decisionTree.predict(X_test)\n",
    "r2_score(y_test, predictions)"
   ]
  },
  {
   "cell_type": "markdown",
   "metadata": {},
   "source": [
    "### Test sample predictions"
   ]
  },
  {
   "cell_type": "code",
   "execution_count": 60,
   "metadata": {},
   "outputs": [
    {
     "name": "stdout",
     "output_type": "stream",
     "text": [
      "Predicted bikes available: 11.0\n"
     ]
    }
   ],
   "source": [
    "# give test predictor the stand number, the wind speed, the main temp (kelvin) \n",
    "# the humidity, the weekday number, and the hour of the day\n",
    "prediction = decisionTree.predict([[25, 40, 300, 80, 1, 0, 0, 0, 0, 0, 6, 20]])\n",
    "prediction_values = prediction[0]\n",
    "print(f\"Predicted bikes available: {prediction_values}\")"
   ]
  },
  {
   "cell_type": "markdown",
   "metadata": {},
   "source": [
    "## _Random Forest_\n",
    "\n",
    "Build and check accuracy"
   ]
  },
  {
   "cell_type": "code",
   "execution_count": 61,
   "metadata": {},
   "outputs": [
    {
     "data": {
      "text/plain": [
       "0.9833935462408014"
      ]
     },
     "execution_count": 61,
     "metadata": {},
     "output_type": "execute_result"
    }
   ],
   "source": [
    "randForestModel = RandomForestRegressor(n_estimators = 10, random_state=10)\n",
    "randForestModel.fit(X_train, y_train.values.ravel())\n",
    "\n",
    "predictionTest = randForestModel.predict(X_test)\n",
    "forestScore = r2_score(y_test, predictionTest)\n",
    "forestScore"
   ]
  },
  {
   "cell_type": "markdown",
   "metadata": {},
   "source": [
    "### Sample prediction"
   ]
  },
  {
   "cell_type": "code",
   "execution_count": 62,
   "metadata": {},
   "outputs": [
    {
     "data": {
      "text/plain": [
       "array([16.5])"
      ]
     },
     "execution_count": 62,
     "metadata": {},
     "output_type": "execute_result"
    }
   ],
   "source": [
    "forestPrediction = randForestModel.predict([[12, 40, 300, 80, 1, 0, 0, 0, 0, 0, 6, 20]])\n",
    "forestPrediction"
   ]
  },
  {
   "cell_type": "markdown",
   "metadata": {},
   "source": [
    "### - Results of 98% for both decision tree and random forest is a good result. "
   ]
  },
  {
   "cell_type": "markdown",
   "metadata": {},
   "source": [
    "## _Check feature importances_"
   ]
  },
  {
   "cell_type": "code",
   "execution_count": 64,
   "metadata": {},
   "outputs": [
    {
     "data": {
      "text/plain": [
       "number           0.439203\n",
       "main_temp        0.144598\n",
       "weekday          0.141856\n",
       "hour             0.112744\n",
       "wind_speed       0.081909\n",
       "main_humidity    0.060174\n",
       "Clear            0.011124\n",
       "Clouds           0.004741\n",
       "Rain             0.003239\n",
       "Drizzle          0.000411\n",
       "Snow             0.000000\n",
       "Thunderstorm     0.000000\n",
       "dtype: float64"
      ]
     },
     "execution_count": 64,
     "metadata": {},
     "output_type": "execute_result"
    }
   ],
   "source": [
    "feature_list = list(X.columns)\n",
    "feature_imp = pd.Series(randForestModel.feature_importances_, index=feature_list)\n",
    "feature_imp.sort_values(ascending=False)"
   ]
  },
  {
   "cell_type": "markdown",
   "metadata": {},
   "source": [
    "### - It is likely that the unimportance of thunderstorm and snow is due to the lack of training data containing these values"
   ]
  },
  {
   "cell_type": "markdown",
   "metadata": {},
   "source": [
    "## K-Nearest Neighbour\n",
    "\n",
    "Build and check accuracy"
   ]
  },
  {
   "cell_type": "code",
   "execution_count": 65,
   "metadata": {},
   "outputs": [
    {
     "data": {
      "text/plain": [
       "0.7036704472161888"
      ]
     },
     "execution_count": 65,
     "metadata": {},
     "output_type": "execute_result"
    }
   ],
   "source": [
    "knn_model = KNeighborsRegressor(n_neighbors = 10)\n",
    "knn_model.fit(X_train, y_train.values.ravel())\n",
    "knnTest = knn_model.predict(X_test)\n",
    "knnScore = r2_score(y_test, knnTest)\n",
    "knnScore"
   ]
  },
  {
   "cell_type": "code",
   "execution_count": 66,
   "metadata": {},
   "outputs": [
    {
     "data": {
      "text/plain": [
       "array([9.5])"
      ]
     },
     "execution_count": 66,
     "metadata": {},
     "output_type": "execute_result"
    }
   ],
   "source": [
    "knn_prediction = knn_model.predict([[12, 40, 300, 80, 1, 0, 0, 0, 0, 0, 6, 20]])\n",
    "knn_prediction"
   ]
  },
  {
   "cell_type": "markdown",
   "metadata": {},
   "source": [
    "### Knn model is siginifcantly less accurate, than the tree based models. Discarding as option."
   ]
  },
  {
   "cell_type": "markdown",
   "metadata": {},
   "source": [
    "## Linear Regression\n",
    "\n",
    "Build and test"
   ]
  },
  {
   "cell_type": "code",
   "execution_count": 67,
   "metadata": {},
   "outputs": [
    {
     "data": {
      "text/plain": [
       "array([[1.33231368]])"
      ]
     },
     "execution_count": 67,
     "metadata": {},
     "output_type": "execute_result"
    }
   ],
   "source": [
    "linearModel = LinearRegression()\n",
    "linearModel.fit(X_train, y_train)\n",
    "linear_prediction = linearModel.predict([[12, 40, 300, 80, 1, 0, 0, 0, 0, 0, 6, 20]])\n",
    "linear_prediction"
   ]
  },
  {
   "cell_type": "code",
   "execution_count": 68,
   "metadata": {},
   "outputs": [
    {
     "data": {
      "text/plain": [
       "0.03611385734711159"
      ]
     },
     "execution_count": 68,
     "metadata": {},
     "output_type": "execute_result"
    }
   ],
   "source": [
    "linear_test = linearModel.predict(X_test)\n",
    "linear_score = r2_score(y_test, linear_test)\n",
    "linear_score"
   ]
  },
  {
   "cell_type": "markdown",
   "metadata": {},
   "source": [
    "### - Linear model returns very poor results and we will use tree based models instead"
   ]
  },
  {
   "cell_type": "markdown",
   "metadata": {},
   "source": [
    "## _Building an assessing models on a per station basis_"
   ]
  },
  {
   "cell_type": "markdown",
   "metadata": {},
   "source": [
    "### _Let's re-assess accuracy of our models if we look at per station basis._ "
   ]
  },
  {
   "cell_type": "code",
   "execution_count": 69,
   "metadata": {},
   "outputs": [],
   "source": [
    "# let's take only station 12\n",
    "station = data[data[\"number\"]== 12]\n",
    "X = station.drop(columns= [\"number\", \"available_bikes\", \"available_bike_stands\", \"last_update\", \"dt\"])\n",
    "y = station[[\"available_bikes\"]]\n",
    "X_train, X_test, y_train, y_test = train_test_split(X, y, test_size=0.2, random_state=20)"
   ]
  },
  {
   "cell_type": "markdown",
   "metadata": {},
   "source": [
    "- Note: Num of estimators needed to peak at 9, for file size reasons. Github limits a max file size of 100mb"
   ]
  },
  {
   "cell_type": "code",
   "execution_count": 70,
   "metadata": {},
   "outputs": [
    {
     "data": {
      "text/plain": [
       "array([10.125])"
      ]
     },
     "execution_count": 70,
     "metadata": {},
     "output_type": "execute_result"
    }
   ],
   "source": [
    "randForestModel = RandomForestRegressor(n_estimators = 8, random_state=20)\n",
    "randForestModel.fit(X_train, y_train.values.ravel())\n",
    "forestPrediction = randForestModel.predict([[40, 300, 80, 1, 0, 0, 0, 0, 0, 6, 20]])\n",
    "forestPrediction"
   ]
  },
  {
   "cell_type": "code",
   "execution_count": 71,
   "metadata": {},
   "outputs": [
    {
     "data": {
      "text/plain": [
       "0.9716034074244717"
      ]
     },
     "execution_count": 71,
     "metadata": {},
     "output_type": "execute_result"
    }
   ],
   "source": [
    "predictions = randForestModel.predict(X_test)\n",
    "r2_score(y_test, predictions)"
   ]
  },
  {
   "cell_type": "code",
   "execution_count": 72,
   "metadata": {},
   "outputs": [
    {
     "data": {
      "text/plain": [
       "main_temp        0.285955\n",
       "main_humidity    0.243244\n",
       "weekday          0.171406\n",
       "hour             0.165779\n",
       "wind_speed       0.116738\n",
       "Rain             0.007883\n",
       "Clouds           0.006912\n",
       "Clear            0.001779\n",
       "Drizzle          0.000304\n",
       "Snow             0.000000\n",
       "Thunderstorm     0.000000\n",
       "dtype: float64"
      ]
     },
     "execution_count": 72,
     "metadata": {},
     "output_type": "execute_result"
    }
   ],
   "source": [
    "feature_list = list(X.columns)\n",
    "feature_imp = pd.Series(randForestModel.feature_importances_, index=feature_list)\n",
    "feature_imp.sort_values(ascending=False)"
   ]
  },
  {
   "cell_type": "markdown",
   "metadata": {},
   "source": [
    "### Let's check across all stations"
   ]
  },
  {
   "cell_type": "code",
   "execution_count": 99,
   "metadata": {},
   "outputs": [],
   "source": [
    "stationsList = data[\"number\"].unique().tolist()\n",
    "sortedStations = sorted(stationsList)"
   ]
  },
  {
   "cell_type": "code",
   "execution_count": 101,
   "metadata": {},
   "outputs": [],
   "source": [
    "RF_accuracy = []\n",
    "DT_accuracy = []\n",
    "\n",
    "for station in sortedStations:\n",
    "    station = data[data[\"number\"]== station]\n",
    "    X = station.drop(columns= [\"number\", \"available_bikes\", \"available_bike_stands\", \"last_update\", \"dt\"])\n",
    "    y = station[[\"available_bikes\"]]\n",
    "    \n",
    "    X_train, X_test, y_train, y_test = train_test_split(X, y, test_size=0.2, random_state=20)\n",
    "    \n",
    "    decisionTree = DecisionTreeRegressor()\n",
    "    decisionTree.fit(X_train, y_train)\n",
    "    predictions = decisionTree.predict(X_test)\n",
    "    DT_score = r2_score(y_test, predictions)\n",
    "    DT_accuracy.append(DT_score)\n",
    "    \n",
    "    randForestModel = RandomForestRegressor(n_estimators = 8, random_state=20)\n",
    "    randForestModel.fit(X_train, y_train.values.ravel())\n",
    "    forestPrediction = randForestModel.predict([[40, 300, 80, 1, 0, 0, 0, 0, 0, 6, 20]])\n",
    "    predictions = randForestModel.predict(X_test)\n",
    "    RF_score = r2_score(y_test, predictions)\n",
    "    RF_accuracy.append(RF_score)"
   ]
  },
  {
   "cell_type": "code",
   "execution_count": 116,
   "metadata": {},
   "outputs": [
    {
     "data": {
      "text/plain": [
       "<matplotlib.legend.Legend at 0x189dce32e50>"
      ]
     },
     "execution_count": 116,
     "metadata": {},
     "output_type": "execute_result"
    },
    {
     "data": {
      "image/png": "[encoded data removed]",
      "text/plain": [
       "<Figure size 432x288 with 1 Axes>"
      ]
     },
     "metadata": {
      "needs_background": "light"
     },
     "output_type": "display_data"
    }
   ],
   "source": [
    "plt.plot(RF_accuracy, label=\"Random Forest\")\n",
    "plt.plot(DT_accuracy, label=\"Decision Tree\")\n",
    "plt.legend()"
   ]
  },
  {
   "cell_type": "markdown",
   "metadata": {},
   "source": [
    "There is one outlier. Dublin bikes recently added a sample hybrid bike at a new stand. \n",
    "Let's see what the graph looks like without it"
   ]
  },
  {
   "cell_type": "code",
   "execution_count": 117,
   "metadata": {},
   "outputs": [
    {
     "data": {
      "text/plain": [
       "<matplotlib.legend.Legend at 0x189dcd255b0>"
      ]
     },
     "execution_count": 117,
     "metadata": {},
     "output_type": "execute_result"
    },
    {
     "data": {
      "image/png": "[encoded data removed]",
      "text/plain": [
       "<Figure size 432x288 with 1 Axes>"
      ]
     },
     "metadata": {
      "needs_background": "light"
     },
     "output_type": "display_data"
    }
   ],
   "source": [
    "plt.plot(RF_accuracy[0:len(RF_accuracy)-1], label=\"Random Forest\")\n",
    "plt.plot(DT_accuracy[0:len(DT_accuracy)-1], label=\"Decision Tree\")\n",
    "plt.legend()"
   ]
  },
  {
   "cell_type": "markdown",
   "metadata": {},
   "source": [
    "- There appears to be a near identical accuracy from both methods. However, the decision tree results appear to tend towards slightly greater aberrancy"
   ]
  },
  {
   "cell_type": "markdown",
   "metadata": {},
   "source": [
    "### _Let's create a model for every station_\n",
    "We will use random forest to make a model for each station for hourly available data, and one for when our hourly forecast limit is exceeded."
   ]
  },
  {
   "cell_type": "markdown",
   "metadata": {},
   "source": [
    "### Daily Models"
   ]
  },
  {
   "cell_type": "code",
   "execution_count": 118,
   "metadata": {},
   "outputs": [
    {
     "data": {
      "text/html": [
       "<div>\n",
       "<style scoped>\n",
       "    .dataframe tbody tr th:only-of-type {\n",
       "        vertical-align: middle;\n",
       "    }\n",
       "\n",
       "    .dataframe tbody tr th {\n",
       "        vertical-align: top;\n",
       "    }\n",
       "\n",
       "    .dataframe thead th {\n",
       "        text-align: right;\n",
       "    }\n",
       "</style>\n",
       "<table border=\"1\" class=\"dataframe\">\n",
       "  <thead>\n",
       "    <tr style=\"text-align: right;\">\n",
       "      <th></th>\n",
       "      <th>number</th>\n",
       "      <th>available_bike_stands</th>\n",
       "      <th>available_bikes</th>\n",
       "      <th>last_update</th>\n",
       "      <th>wind_speed</th>\n",
       "      <th>main_temp</th>\n",
       "      <th>main_humidity</th>\n",
       "      <th>dt</th>\n",
       "      <th>Clouds</th>\n",
       "      <th>Clear</th>\n",
       "      <th>Snow</th>\n",
       "      <th>Rain</th>\n",
       "      <th>Drizzle</th>\n",
       "      <th>Thunderstorm</th>\n",
       "      <th>weekday</th>\n",
       "      <th>hour</th>\n",
       "    </tr>\n",
       "  </thead>\n",
       "  <tbody>\n",
       "    <tr>\n",
       "      <th>20</th>\n",
       "      <td>5</td>\n",
       "      <td>20</td>\n",
       "      <td>20</td>\n",
       "      <td>2021-03-08 13:40:07</td>\n",
       "      <td>4.63</td>\n",
       "      <td>283.48</td>\n",
       "      <td>62.0</td>\n",
       "      <td>2021-03-08 13:38:36</td>\n",
       "      <td>1.0</td>\n",
       "      <td>0.0</td>\n",
       "      <td>0.0</td>\n",
       "      <td>0.0</td>\n",
       "      <td>0.0</td>\n",
       "      <td>0.0</td>\n",
       "      <td>0</td>\n",
       "      <td>13</td>\n",
       "    </tr>\n",
       "    <tr>\n",
       "      <th>21</th>\n",
       "      <td>89</td>\n",
       "      <td>26</td>\n",
       "      <td>14</td>\n",
       "      <td>2021-03-08 13:42:06</td>\n",
       "      <td>4.63</td>\n",
       "      <td>283.48</td>\n",
       "      <td>62.0</td>\n",
       "      <td>2021-03-08 13:38:36</td>\n",
       "      <td>1.0</td>\n",
       "      <td>0.0</td>\n",
       "      <td>0.0</td>\n",
       "      <td>0.0</td>\n",
       "      <td>0.0</td>\n",
       "      <td>0.0</td>\n",
       "      <td>0</td>\n",
       "      <td>13</td>\n",
       "    </tr>\n",
       "  </tbody>\n",
       "</table>\n",
       "</div>"
      ],
      "text/plain": [
       "    number  available_bike_stands  available_bikes         last_update  \\\n",
       "20       5                     20               20 2021-03-08 13:40:07   \n",
       "21      89                     26               14 2021-03-08 13:42:06   \n",
       "\n",
       "    wind_speed  main_temp  main_humidity                  dt  Clouds  Clear  \\\n",
       "20        4.63     283.48           62.0 2021-03-08 13:38:36     1.0    0.0   \n",
       "21        4.63     283.48           62.0 2021-03-08 13:38:36     1.0    0.0   \n",
       "\n",
       "    Snow  Rain  Drizzle  Thunderstorm  weekday  hour  \n",
       "20   0.0   0.0      0.0           0.0        0    13  \n",
       "21   0.0   0.0      0.0           0.0        0    13  "
      ]
     },
     "execution_count": 118,
     "metadata": {},
     "output_type": "execute_result"
    }
   ],
   "source": [
    "data.head(2)"
   ]
  },
  {
   "cell_type": "code",
   "execution_count": 119,
   "metadata": {},
   "outputs": [],
   "source": [
    "for x in data.number.unique():\n",
    "    station = data[data[\"number\"] == x]\n",
    "    X = station.drop(columns= [\"number\", \"hour\", \"available_bikes\", \"available_bike_stands\", \"last_update\", \"dt\"])\n",
    "    y = station[[\"available_bike_stands\"]]\n",
    "    X_train, X_test, y_train, y_test = train_test_split(X, y, test_size=0.2, random_state=20)\n",
    "    randForestModel = RandomForestRegressor(n_estimators = 9, random_state=20)\n",
    "    randForestModel.fit(X, y.values.ravel())\n",
    "    pickle.dump(randForestModel, open(f'pickle_jar/dailyModels/randForest{x}.pkl','wb'))"
   ]
  },
  {
   "cell_type": "code",
   "execution_count": 120,
   "metadata": {},
   "outputs": [],
   "source": [
    "for x in data.number.unique():\n",
    "    station = data[data[\"number\"]== x]\n",
    "    X = station.drop(columns= [\"number\", \"available_bikes\", \"available_bike_stands\", \"last_update\", \"dt\"])\n",
    "    y = station[[\"available_bikes\"]]\n",
    "    X_train, X_test, y_train, y_test = train_test_split(X, y, test_size=0.2, random_state=20)\n",
    "    randForestModel = RandomForestRegressor(n_estimators = 9, random_state=20)\n",
    "    randForestModel.fit(X_train, y_train.values.ravel())\n",
    "    pickle.dump(randForestModel, open(f'pickle_jar/hourlyModels/randForest{x}.pkl','wb'))"
   ]
  },
  {
   "cell_type": "markdown",
   "metadata": {},
   "source": [
    "# 2. _Take incoming data and format to meet model requirements_"
   ]
  },
  {
   "cell_type": "markdown",
   "metadata": {},
   "source": [
    "This will be the structure of a script for parsing weather data for the model."
   ]
  },
  {
   "cell_type": "code",
   "execution_count": 121,
   "metadata": {},
   "outputs": [
    {
     "data": {
      "text/plain": [
       "<Response [200]>"
      ]
     },
     "execution_count": 121,
     "metadata": {},
     "output_type": "execute_result"
    }
   ],
   "source": [
    "forecast = requests.get(\"https://api.openweathermap.org/data/2.5/onecall?lat=53.33306&lon=-6.24889&exclude=current,minutely&appid=5cf5e19adac515b3f8510d2692fddc43\")\n",
    "forecast"
   ]
  },
  {
   "cell_type": "code",
   "execution_count": 36,
   "metadata": {},
   "outputs": [],
   "source": [
    "forecast_data = forecast.json()"
   ]
  },
  {
   "cell_type": "code",
   "execution_count": 37,
   "metadata": {},
   "outputs": [
    {
     "name": "stdout",
     "output_type": "stream",
     "text": [
      "<class 'list'>\n"
     ]
    }
   ],
   "source": [
    "# iterate over the json array to get the hourly data\n",
    "hourly_data = 0\n",
    "for k, v in forecast_data.items():\n",
    "    if k == \"hourly\":\n",
    "        hourly_data = v\n",
    "\n",
    "# for x in range(len(hourly_data)):\n",
    "#     hourly_data[x]\n",
    "print(type(hourly_data))"
   ]
  },
  {
   "cell_type": "code",
   "execution_count": 38,
   "metadata": {},
   "outputs": [
    {
     "data": {
      "text/html": [
       "<div>\n",
       "<style scoped>\n",
       "    .dataframe tbody tr th:only-of-type {\n",
       "        vertical-align: middle;\n",
       "    }\n",
       "\n",
       "    .dataframe tbody tr th {\n",
       "        vertical-align: top;\n",
       "    }\n",
       "\n",
       "    .dataframe thead th {\n",
       "        text-align: right;\n",
       "    }\n",
       "</style>\n",
       "<table border=\"1\" class=\"dataframe\">\n",
       "  <thead>\n",
       "    <tr style=\"text-align: right;\">\n",
       "      <th></th>\n",
       "      <th>dt</th>\n",
       "      <th>temp</th>\n",
       "      <th>feels_like</th>\n",
       "      <th>pressure</th>\n",
       "      <th>humidity</th>\n",
       "      <th>dew_point</th>\n",
       "      <th>uvi</th>\n",
       "      <th>clouds</th>\n",
       "      <th>visibility</th>\n",
       "      <th>wind_speed</th>\n",
       "      <th>wind_deg</th>\n",
       "      <th>wind_gust</th>\n",
       "      <th>weather</th>\n",
       "      <th>pop</th>\n",
       "    </tr>\n",
       "  </thead>\n",
       "  <tbody>\n",
       "    <tr>\n",
       "      <th>0</th>\n",
       "      <td>1618347600</td>\n",
       "      <td>278.69</td>\n",
       "      <td>278.69</td>\n",
       "      <td>1032</td>\n",
       "      <td>75</td>\n",
       "      <td>274.62</td>\n",
       "      <td>0.0</td>\n",
       "      <td>40</td>\n",
       "      <td>10000</td>\n",
       "      <td>1.09</td>\n",
       "      <td>232</td>\n",
       "      <td>1.04</td>\n",
       "      <td>[{'id': 802, 'main': 'Clouds', 'description': ...</td>\n",
       "      <td>0.01</td>\n",
       "    </tr>\n",
       "    <tr>\n",
       "      <th>1</th>\n",
       "      <td>1618351200</td>\n",
       "      <td>278.59</td>\n",
       "      <td>278.59</td>\n",
       "      <td>1032</td>\n",
       "      <td>77</td>\n",
       "      <td>274.89</td>\n",
       "      <td>0.0</td>\n",
       "      <td>37</td>\n",
       "      <td>10000</td>\n",
       "      <td>1.24</td>\n",
       "      <td>241</td>\n",
       "      <td>1.22</td>\n",
       "      <td>[{'id': 802, 'main': 'Clouds', 'description': ...</td>\n",
       "      <td>0.00</td>\n",
       "    </tr>\n",
       "  </tbody>\n",
       "</table>\n",
       "</div>"
      ],
      "text/plain": [
       "           dt    temp  feels_like  pressure  humidity  dew_point  uvi  clouds  \\\n",
       "0  1618347600  278.69      278.69      1032        75     274.62  0.0      40   \n",
       "1  1618351200  278.59      278.59      1032        77     274.89  0.0      37   \n",
       "\n",
       "   visibility  wind_speed  wind_deg  wind_gust  \\\n",
       "0       10000        1.09       232       1.04   \n",
       "1       10000        1.24       241       1.22   \n",
       "\n",
       "                                             weather   pop  \n",
       "0  [{'id': 802, 'main': 'Clouds', 'description': ...  0.01  \n",
       "1  [{'id': 802, 'main': 'Clouds', 'description': ...  0.00  "
      ]
     },
     "execution_count": 38,
     "metadata": {},
     "output_type": "execute_result"
    }
   ],
   "source": [
    "# convert the hourly data to a dataframe\n",
    "df = pd.DataFrame.from_dict(pd.json_normalize(hourly_data), orient='columns')\n",
    "df.head(2)"
   ]
  },
  {
   "cell_type": "markdown",
   "metadata": {},
   "source": [
    "### Create a list of weather values that corresponds with the value in the inner array per row"
   ]
  },
  {
   "cell_type": "code",
   "execution_count": 39,
   "metadata": {},
   "outputs": [
    {
     "name": "stdout",
     "output_type": "stream",
     "text": [
      "['Clouds', 'Clouds', 'Clouds', 'Clouds', 'Clouds', 'Clear', 'Clear', 'Clear', 'Clear', 'Clouds', 'Clouds', 'Clouds', 'Clouds', 'Clouds', 'Clouds', 'Clouds', 'Clouds', 'Clouds', 'Clouds', 'Clouds', 'Clouds', 'Clouds', 'Clear', 'Clear', 'Clear', 'Clear', 'Clear', 'Clear', 'Clear', 'Clear', 'Clear', 'Clear', 'Clear', 'Clear', 'Clouds', 'Clear', 'Clear', 'Clear', 'Clear', 'Clear', 'Clouds', 'Clouds', 'Clouds', 'Clouds', 'Clouds', 'Clouds', 'Clouds', 'Clouds']\n"
     ]
    }
   ],
   "source": [
    "weatherValues = []\n",
    "for x in df[\"weather\"]:\n",
    "    currentRow = x[0]\n",
    "    for key, value in currentRow.items():\n",
    "        if key == \"main\":\n",
    "            weatherValues.append(value)\n",
    "            \n",
    "print(weatherValues)"
   ]
  },
  {
   "cell_type": "markdown",
   "metadata": {},
   "source": [
    "### As we did before, create rows that correspond to these values"
   ]
  },
  {
   "cell_type": "code",
   "execution_count": 48,
   "metadata": {},
   "outputs": [
    {
     "data": {
      "text/html": [
       "<div>\n",
       "<style scoped>\n",
       "    .dataframe tbody tr th:only-of-type {\n",
       "        vertical-align: middle;\n",
       "    }\n",
       "\n",
       "    .dataframe tbody tr th {\n",
       "        vertical-align: top;\n",
       "    }\n",
       "\n",
       "    .dataframe thead th {\n",
       "        text-align: right;\n",
       "    }\n",
       "</style>\n",
       "<table border=\"1\" class=\"dataframe\">\n",
       "  <thead>\n",
       "    <tr style=\"text-align: right;\">\n",
       "      <th></th>\n",
       "      <th>dt</th>\n",
       "      <th>temp</th>\n",
       "      <th>feels_like</th>\n",
       "      <th>pressure</th>\n",
       "      <th>humidity</th>\n",
       "      <th>dew_point</th>\n",
       "      <th>uvi</th>\n",
       "      <th>clouds</th>\n",
       "      <th>visibility</th>\n",
       "      <th>wind_speed</th>\n",
       "      <th>wind_deg</th>\n",
       "      <th>wind_gust</th>\n",
       "      <th>weather</th>\n",
       "      <th>pop</th>\n",
       "      <th>Clouds</th>\n",
       "      <th>Clear</th>\n",
       "      <th>Snow</th>\n",
       "      <th>Rain</th>\n",
       "      <th>Drizzle</th>\n",
       "      <th>Thunderstorm</th>\n",
       "    </tr>\n",
       "  </thead>\n",
       "  <tbody>\n",
       "    <tr>\n",
       "      <th>0</th>\n",
       "      <td>1618347600</td>\n",
       "      <td>278.69</td>\n",
       "      <td>278.69</td>\n",
       "      <td>1032</td>\n",
       "      <td>75</td>\n",
       "      <td>274.62</td>\n",
       "      <td>0.0</td>\n",
       "      <td>40</td>\n",
       "      <td>10000</td>\n",
       "      <td>1.09</td>\n",
       "      <td>232</td>\n",
       "      <td>1.04</td>\n",
       "      <td>[{'id': 802, 'main': 'Clouds', 'description': ...</td>\n",
       "      <td>0.01</td>\n",
       "      <td>0.0</td>\n",
       "      <td>0.0</td>\n",
       "      <td>0.0</td>\n",
       "      <td>0.0</td>\n",
       "      <td>0.0</td>\n",
       "      <td>0.0</td>\n",
       "    </tr>\n",
       "    <tr>\n",
       "      <th>1</th>\n",
       "      <td>1618351200</td>\n",
       "      <td>278.59</td>\n",
       "      <td>278.59</td>\n",
       "      <td>1032</td>\n",
       "      <td>77</td>\n",
       "      <td>274.89</td>\n",
       "      <td>0.0</td>\n",
       "      <td>37</td>\n",
       "      <td>10000</td>\n",
       "      <td>1.24</td>\n",
       "      <td>241</td>\n",
       "      <td>1.22</td>\n",
       "      <td>[{'id': 802, 'main': 'Clouds', 'description': ...</td>\n",
       "      <td>0.00</td>\n",
       "      <td>0.0</td>\n",
       "      <td>0.0</td>\n",
       "      <td>0.0</td>\n",
       "      <td>0.0</td>\n",
       "      <td>0.0</td>\n",
       "      <td>0.0</td>\n",
       "    </tr>\n",
       "  </tbody>\n",
       "</table>\n",
       "</div>"
      ],
      "text/plain": [
       "           dt    temp  feels_like  pressure  humidity  dew_point  uvi  clouds  \\\n",
       "0  1618347600  278.69      278.69      1032        75     274.62  0.0      40   \n",
       "1  1618351200  278.59      278.59      1032        77     274.89  0.0      37   \n",
       "\n",
       "   visibility  wind_speed  wind_deg  wind_gust  \\\n",
       "0       10000        1.09       232       1.04   \n",
       "1       10000        1.24       241       1.22   \n",
       "\n",
       "                                             weather   pop  Clouds  Clear  \\\n",
       "0  [{'id': 802, 'main': 'Clouds', 'description': ...  0.01     0.0    0.0   \n",
       "1  [{'id': 802, 'main': 'Clouds', 'description': ...  0.00     0.0    0.0   \n",
       "\n",
       "   Snow  Rain  Drizzle  Thunderstorm  \n",
       "0   0.0   0.0      0.0           0.0  \n",
       "1   0.0   0.0      0.0           0.0  "
      ]
     },
     "execution_count": 48,
     "metadata": {},
     "output_type": "execute_result"
    }
   ],
   "source": [
    "weatherConditions = [\"Clouds\", \"Clear\", \"Snow\", \"Rain\", \"Drizzle\", \"Thunderstorm\"]\n",
    "df = df.reindex(df.columns.tolist() + weatherConditions, axis=1)\n",
    "for col in df:\n",
    "    df[col] = df[col].replace(np.nan).fillna(0)\n",
    "df.head(2)"
   ]
  },
  {
   "cell_type": "code",
   "execution_count": 49,
   "metadata": {},
   "outputs": [
    {
     "data": {
      "text/html": [
       "<div>\n",
       "<style scoped>\n",
       "    .dataframe tbody tr th:only-of-type {\n",
       "        vertical-align: middle;\n",
       "    }\n",
       "\n",
       "    .dataframe tbody tr th {\n",
       "        vertical-align: top;\n",
       "    }\n",
       "\n",
       "    .dataframe thead th {\n",
       "        text-align: right;\n",
       "    }\n",
       "</style>\n",
       "<table border=\"1\" class=\"dataframe\">\n",
       "  <thead>\n",
       "    <tr style=\"text-align: right;\">\n",
       "      <th></th>\n",
       "      <th>dt</th>\n",
       "      <th>temp</th>\n",
       "      <th>feels_like</th>\n",
       "      <th>pressure</th>\n",
       "      <th>humidity</th>\n",
       "      <th>dew_point</th>\n",
       "      <th>uvi</th>\n",
       "      <th>clouds</th>\n",
       "      <th>visibility</th>\n",
       "      <th>wind_speed</th>\n",
       "      <th>wind_deg</th>\n",
       "      <th>wind_gust</th>\n",
       "      <th>weather</th>\n",
       "      <th>pop</th>\n",
       "      <th>Clouds</th>\n",
       "      <th>Clear</th>\n",
       "      <th>Snow</th>\n",
       "      <th>Rain</th>\n",
       "      <th>Drizzle</th>\n",
       "      <th>Thunderstorm</th>\n",
       "    </tr>\n",
       "  </thead>\n",
       "  <tbody>\n",
       "    <tr>\n",
       "      <th>0</th>\n",
       "      <td>1618347600</td>\n",
       "      <td>278.69</td>\n",
       "      <td>278.69</td>\n",
       "      <td>1032</td>\n",
       "      <td>75</td>\n",
       "      <td>274.62</td>\n",
       "      <td>0.0</td>\n",
       "      <td>40</td>\n",
       "      <td>10000</td>\n",
       "      <td>1.09</td>\n",
       "      <td>232</td>\n",
       "      <td>1.04</td>\n",
       "      <td>[{'id': 802, 'main': 'Clouds', 'description': ...</td>\n",
       "      <td>0.01</td>\n",
       "      <td>1.0</td>\n",
       "      <td>0.0</td>\n",
       "      <td>0.0</td>\n",
       "      <td>0.0</td>\n",
       "      <td>0.0</td>\n",
       "      <td>0.0</td>\n",
       "    </tr>\n",
       "    <tr>\n",
       "      <th>1</th>\n",
       "      <td>1618351200</td>\n",
       "      <td>278.59</td>\n",
       "      <td>278.59</td>\n",
       "      <td>1032</td>\n",
       "      <td>77</td>\n",
       "      <td>274.89</td>\n",
       "      <td>0.0</td>\n",
       "      <td>37</td>\n",
       "      <td>10000</td>\n",
       "      <td>1.24</td>\n",
       "      <td>241</td>\n",
       "      <td>1.22</td>\n",
       "      <td>[{'id': 802, 'main': 'Clouds', 'description': ...</td>\n",
       "      <td>0.00</td>\n",
       "      <td>1.0</td>\n",
       "      <td>0.0</td>\n",
       "      <td>0.0</td>\n",
       "      <td>0.0</td>\n",
       "      <td>0.0</td>\n",
       "      <td>0.0</td>\n",
       "    </tr>\n",
       "  </tbody>\n",
       "</table>\n",
       "</div>"
      ],
      "text/plain": [
       "           dt    temp  feels_like  pressure  humidity  dew_point  uvi  clouds  \\\n",
       "0  1618347600  278.69      278.69      1032        75     274.62  0.0      40   \n",
       "1  1618351200  278.59      278.59      1032        77     274.89  0.0      37   \n",
       "\n",
       "   visibility  wind_speed  wind_deg  wind_gust  \\\n",
       "0       10000        1.09       232       1.04   \n",
       "1       10000        1.24       241       1.22   \n",
       "\n",
       "                                             weather   pop  Clouds  Clear  \\\n",
       "0  [{'id': 802, 'main': 'Clouds', 'description': ...  0.01     1.0    0.0   \n",
       "1  [{'id': 802, 'main': 'Clouds', 'description': ...  0.00     1.0    0.0   \n",
       "\n",
       "   Snow  Rain  Drizzle  Thunderstorm  \n",
       "0   0.0   0.0      0.0           0.0  \n",
       "1   0.0   0.0      0.0           0.0  "
      ]
     },
     "execution_count": 49,
     "metadata": {},
     "output_type": "execute_result"
    }
   ],
   "source": [
    "for x in range(len(weatherValues)):\n",
    "    for column in df.columns:\n",
    "        if weatherValues[x] == column:\n",
    "            df.at[x, column] = 1\n",
    "df.head(2)"
   ]
  },
  {
   "cell_type": "markdown",
   "metadata": {},
   "source": [
    "### Dump un-needed columns"
   ]
  },
  {
   "cell_type": "code",
   "execution_count": 55,
   "metadata": {},
   "outputs": [
    {
     "data": {
      "text/html": [
       "<div>\n",
       "<style scoped>\n",
       "    .dataframe tbody tr th:only-of-type {\n",
       "        vertical-align: middle;\n",
       "    }\n",
       "\n",
       "    .dataframe tbody tr th {\n",
       "        vertical-align: top;\n",
       "    }\n",
       "\n",
       "    .dataframe thead th {\n",
       "        text-align: right;\n",
       "    }\n",
       "</style>\n",
       "<table border=\"1\" class=\"dataframe\">\n",
       "  <thead>\n",
       "    <tr style=\"text-align: right;\">\n",
       "      <th></th>\n",
       "      <th>dt</th>\n",
       "      <th>temp</th>\n",
       "      <th>wind_speed</th>\n",
       "      <th>humidity</th>\n",
       "      <th>Clouds</th>\n",
       "      <th>Clear</th>\n",
       "      <th>Snow</th>\n",
       "      <th>Rain</th>\n",
       "      <th>Drizzle</th>\n",
       "      <th>Thunderstorm</th>\n",
       "    </tr>\n",
       "  </thead>\n",
       "  <tbody>\n",
       "    <tr>\n",
       "      <th>0</th>\n",
       "      <td>1618347600</td>\n",
       "      <td>278.69</td>\n",
       "      <td>1.09</td>\n",
       "      <td>75</td>\n",
       "      <td>1.0</td>\n",
       "      <td>0.0</td>\n",
       "      <td>0.0</td>\n",
       "      <td>0.0</td>\n",
       "      <td>0.0</td>\n",
       "      <td>0.0</td>\n",
       "    </tr>\n",
       "    <tr>\n",
       "      <th>1</th>\n",
       "      <td>1618351200</td>\n",
       "      <td>278.59</td>\n",
       "      <td>1.24</td>\n",
       "      <td>77</td>\n",
       "      <td>1.0</td>\n",
       "      <td>0.0</td>\n",
       "      <td>0.0</td>\n",
       "      <td>0.0</td>\n",
       "      <td>0.0</td>\n",
       "      <td>0.0</td>\n",
       "    </tr>\n",
       "  </tbody>\n",
       "</table>\n",
       "</div>"
      ],
      "text/plain": [
       "           dt    temp  wind_speed  humidity  Clouds  Clear  Snow  Rain  \\\n",
       "0  1618347600  278.69        1.09        75     1.0    0.0   0.0   0.0   \n",
       "1  1618351200  278.59        1.24        77     1.0    0.0   0.0   0.0   \n",
       "\n",
       "   Drizzle  Thunderstorm  \n",
       "0      0.0           0.0  \n",
       "1      0.0           0.0  "
      ]
     },
     "execution_count": 55,
     "metadata": {},
     "output_type": "execute_result"
    }
   ],
   "source": [
    "# get rid of the unneeded rows\n",
    "weather_df = df[[\"dt\", \"temp\", \"wind_speed\", \"humidity\", \"Clouds\", \"Clear\", \"Snow\", \"Rain\", \"Drizzle\", \"Thunderstorm\"]]\n",
    "weather_df.head(2)"
   ]
  },
  {
   "cell_type": "code",
   "execution_count": 56,
   "metadata": {},
   "outputs": [
    {
     "data": {
      "text/plain": [
       "dt                int64\n",
       "temp            float64\n",
       "feels_like      float64\n",
       "pressure          int64\n",
       "humidity          int64\n",
       "dew_point       float64\n",
       "uvi             float64\n",
       "clouds            int64\n",
       "visibility        int64\n",
       "wind_speed      float64\n",
       "wind_deg          int64\n",
       "wind_gust       float64\n",
       "weather          object\n",
       "pop             float64\n",
       "Clouds          float64\n",
       "Clear           float64\n",
       "Snow            float64\n",
       "Rain            float64\n",
       "Drizzle         float64\n",
       "Thunderstorm    float64\n",
       "dtype: object"
      ]
     },
     "execution_count": 56,
     "metadata": {},
     "output_type": "execute_result"
    }
   ],
   "source": [
    "df.dtypes"
   ]
  },
  {
   "cell_type": "code",
   "execution_count": 57,
   "metadata": {},
   "outputs": [],
   "source": [
    "# convert from unix epoch time to useable format...\n",
    "from datetime import datetime, timedelta\n",
    "start = datetime(1970, 1, 1)  # Unix epoch start time\n",
    "weather_df['dt'] = weather_df.dt.apply(lambda x: start + timedelta(seconds=x))"
   ]
  },
  {
   "cell_type": "code",
   "execution_count": 58,
   "metadata": {},
   "outputs": [
    {
     "data": {
      "text/html": [
       "<div>\n",
       "<style scoped>\n",
       "    .dataframe tbody tr th:only-of-type {\n",
       "        vertical-align: middle;\n",
       "    }\n",
       "\n",
       "    .dataframe tbody tr th {\n",
       "        vertical-align: top;\n",
       "    }\n",
       "\n",
       "    .dataframe thead th {\n",
       "        text-align: right;\n",
       "    }\n",
       "</style>\n",
       "<table border=\"1\" class=\"dataframe\">\n",
       "  <thead>\n",
       "    <tr style=\"text-align: right;\">\n",
       "      <th></th>\n",
       "      <th>dt</th>\n",
       "      <th>temp</th>\n",
       "      <th>wind_speed</th>\n",
       "      <th>humidity</th>\n",
       "      <th>Clouds</th>\n",
       "      <th>Clear</th>\n",
       "      <th>Snow</th>\n",
       "      <th>Rain</th>\n",
       "      <th>Drizzle</th>\n",
       "      <th>Thunderstorm</th>\n",
       "    </tr>\n",
       "  </thead>\n",
       "  <tbody>\n",
       "    <tr>\n",
       "      <th>0</th>\n",
       "      <td>2021-04-13 21:00:00</td>\n",
       "      <td>278.69</td>\n",
       "      <td>1.09</td>\n",
       "      <td>75</td>\n",
       "      <td>1.0</td>\n",
       "      <td>0.0</td>\n",
       "      <td>0.0</td>\n",
       "      <td>0.0</td>\n",
       "      <td>0.0</td>\n",
       "      <td>0.0</td>\n",
       "    </tr>\n",
       "    <tr>\n",
       "      <th>1</th>\n",
       "      <td>2021-04-13 22:00:00</td>\n",
       "      <td>278.59</td>\n",
       "      <td>1.24</td>\n",
       "      <td>77</td>\n",
       "      <td>1.0</td>\n",
       "      <td>0.0</td>\n",
       "      <td>0.0</td>\n",
       "      <td>0.0</td>\n",
       "      <td>0.0</td>\n",
       "      <td>0.0</td>\n",
       "    </tr>\n",
       "  </tbody>\n",
       "</table>\n",
       "</div>"
      ],
      "text/plain": [
       "                   dt    temp  wind_speed  humidity  Clouds  Clear  Snow  \\\n",
       "0 2021-04-13 21:00:00  278.69        1.09        75     1.0    0.0   0.0   \n",
       "1 2021-04-13 22:00:00  278.59        1.24        77     1.0    0.0   0.0   \n",
       "\n",
       "   Rain  Drizzle  Thunderstorm  \n",
       "0   0.0      0.0           0.0  \n",
       "1   0.0      0.0           0.0  "
      ]
     },
     "execution_count": 58,
     "metadata": {},
     "output_type": "execute_result"
    }
   ],
   "source": [
    "weather_df.head(2)"
   ]
  },
  {
   "cell_type": "code",
   "execution_count": 59,
   "metadata": {},
   "outputs": [],
   "source": [
    "# Create new column weekday\n",
    "weather_df['weekday'] = weather_df['dt'].dt.dayofweek\n",
    "# Create new column hour\n",
    "weather_df['hour'] = weather_df['dt'].dt.hour\n",
    "\n",
    "# dump now defunct datetime column\n",
    "weather_df = weather_df.drop(columns= [\"dt\"])"
   ]
  },
  {
   "cell_type": "code",
   "execution_count": 60,
   "metadata": {},
   "outputs": [
    {
     "data": {
      "text/html": [
       "<div>\n",
       "<style scoped>\n",
       "    .dataframe tbody tr th:only-of-type {\n",
       "        vertical-align: middle;\n",
       "    }\n",
       "\n",
       "    .dataframe tbody tr th {\n",
       "        vertical-align: top;\n",
       "    }\n",
       "\n",
       "    .dataframe thead th {\n",
       "        text-align: right;\n",
       "    }\n",
       "</style>\n",
       "<table border=\"1\" class=\"dataframe\">\n",
       "  <thead>\n",
       "    <tr style=\"text-align: right;\">\n",
       "      <th></th>\n",
       "      <th>temp</th>\n",
       "      <th>wind_speed</th>\n",
       "      <th>humidity</th>\n",
       "      <th>Clouds</th>\n",
       "      <th>Clear</th>\n",
       "      <th>Snow</th>\n",
       "      <th>Rain</th>\n",
       "      <th>Drizzle</th>\n",
       "      <th>Thunderstorm</th>\n",
       "      <th>weekday</th>\n",
       "      <th>hour</th>\n",
       "    </tr>\n",
       "  </thead>\n",
       "  <tbody>\n",
       "    <tr>\n",
       "      <th>0</th>\n",
       "      <td>278.69</td>\n",
       "      <td>1.09</td>\n",
       "      <td>75</td>\n",
       "      <td>1.0</td>\n",
       "      <td>0.0</td>\n",
       "      <td>0.0</td>\n",
       "      <td>0.0</td>\n",
       "      <td>0.0</td>\n",
       "      <td>0.0</td>\n",
       "      <td>1</td>\n",
       "      <td>21</td>\n",
       "    </tr>\n",
       "    <tr>\n",
       "      <th>1</th>\n",
       "      <td>278.59</td>\n",
       "      <td>1.24</td>\n",
       "      <td>77</td>\n",
       "      <td>1.0</td>\n",
       "      <td>0.0</td>\n",
       "      <td>0.0</td>\n",
       "      <td>0.0</td>\n",
       "      <td>0.0</td>\n",
       "      <td>0.0</td>\n",
       "      <td>1</td>\n",
       "      <td>22</td>\n",
       "    </tr>\n",
       "    <tr>\n",
       "      <th>2</th>\n",
       "      <td>278.35</td>\n",
       "      <td>1.10</td>\n",
       "      <td>79</td>\n",
       "      <td>1.0</td>\n",
       "      <td>0.0</td>\n",
       "      <td>0.0</td>\n",
       "      <td>0.0</td>\n",
       "      <td>0.0</td>\n",
       "      <td>0.0</td>\n",
       "      <td>1</td>\n",
       "      <td>23</td>\n",
       "    </tr>\n",
       "    <tr>\n",
       "      <th>3</th>\n",
       "      <td>277.88</td>\n",
       "      <td>1.02</td>\n",
       "      <td>81</td>\n",
       "      <td>1.0</td>\n",
       "      <td>0.0</td>\n",
       "      <td>0.0</td>\n",
       "      <td>0.0</td>\n",
       "      <td>0.0</td>\n",
       "      <td>0.0</td>\n",
       "      <td>2</td>\n",
       "      <td>0</td>\n",
       "    </tr>\n",
       "    <tr>\n",
       "      <th>4</th>\n",
       "      <td>277.40</td>\n",
       "      <td>1.06</td>\n",
       "      <td>83</td>\n",
       "      <td>1.0</td>\n",
       "      <td>0.0</td>\n",
       "      <td>0.0</td>\n",
       "      <td>0.0</td>\n",
       "      <td>0.0</td>\n",
       "      <td>0.0</td>\n",
       "      <td>2</td>\n",
       "      <td>1</td>\n",
       "    </tr>\n",
       "    <tr>\n",
       "      <th>5</th>\n",
       "      <td>276.95</td>\n",
       "      <td>0.92</td>\n",
       "      <td>86</td>\n",
       "      <td>0.0</td>\n",
       "      <td>1.0</td>\n",
       "      <td>0.0</td>\n",
       "      <td>0.0</td>\n",
       "      <td>0.0</td>\n",
       "      <td>0.0</td>\n",
       "      <td>2</td>\n",
       "      <td>2</td>\n",
       "    </tr>\n",
       "    <tr>\n",
       "      <th>6</th>\n",
       "      <td>276.75</td>\n",
       "      <td>0.80</td>\n",
       "      <td>86</td>\n",
       "      <td>0.0</td>\n",
       "      <td>1.0</td>\n",
       "      <td>0.0</td>\n",
       "      <td>0.0</td>\n",
       "      <td>0.0</td>\n",
       "      <td>0.0</td>\n",
       "      <td>2</td>\n",
       "      <td>3</td>\n",
       "    </tr>\n",
       "    <tr>\n",
       "      <th>7</th>\n",
       "      <td>276.55</td>\n",
       "      <td>0.48</td>\n",
       "      <td>87</td>\n",
       "      <td>0.0</td>\n",
       "      <td>1.0</td>\n",
       "      <td>0.0</td>\n",
       "      <td>0.0</td>\n",
       "      <td>0.0</td>\n",
       "      <td>0.0</td>\n",
       "      <td>2</td>\n",
       "      <td>4</td>\n",
       "    </tr>\n",
       "    <tr>\n",
       "      <th>8</th>\n",
       "      <td>276.58</td>\n",
       "      <td>0.30</td>\n",
       "      <td>88</td>\n",
       "      <td>0.0</td>\n",
       "      <td>1.0</td>\n",
       "      <td>0.0</td>\n",
       "      <td>0.0</td>\n",
       "      <td>0.0</td>\n",
       "      <td>0.0</td>\n",
       "      <td>2</td>\n",
       "      <td>5</td>\n",
       "    </tr>\n",
       "    <tr>\n",
       "      <th>9</th>\n",
       "      <td>277.05</td>\n",
       "      <td>0.58</td>\n",
       "      <td>89</td>\n",
       "      <td>1.0</td>\n",
       "      <td>0.0</td>\n",
       "      <td>0.0</td>\n",
       "      <td>0.0</td>\n",
       "      <td>0.0</td>\n",
       "      <td>0.0</td>\n",
       "      <td>2</td>\n",
       "      <td>6</td>\n",
       "    </tr>\n",
       "    <tr>\n",
       "      <th>10</th>\n",
       "      <td>279.14</td>\n",
       "      <td>0.79</td>\n",
       "      <td>85</td>\n",
       "      <td>1.0</td>\n",
       "      <td>0.0</td>\n",
       "      <td>0.0</td>\n",
       "      <td>0.0</td>\n",
       "      <td>0.0</td>\n",
       "      <td>0.0</td>\n",
       "      <td>2</td>\n",
       "      <td>7</td>\n",
       "    </tr>\n",
       "    <tr>\n",
       "      <th>11</th>\n",
       "      <td>281.13</td>\n",
       "      <td>1.36</td>\n",
       "      <td>77</td>\n",
       "      <td>1.0</td>\n",
       "      <td>0.0</td>\n",
       "      <td>0.0</td>\n",
       "      <td>0.0</td>\n",
       "      <td>0.0</td>\n",
       "      <td>0.0</td>\n",
       "      <td>2</td>\n",
       "      <td>8</td>\n",
       "    </tr>\n",
       "    <tr>\n",
       "      <th>12</th>\n",
       "      <td>282.45</td>\n",
       "      <td>1.92</td>\n",
       "      <td>69</td>\n",
       "      <td>1.0</td>\n",
       "      <td>0.0</td>\n",
       "      <td>0.0</td>\n",
       "      <td>0.0</td>\n",
       "      <td>0.0</td>\n",
       "      <td>0.0</td>\n",
       "      <td>2</td>\n",
       "      <td>9</td>\n",
       "    </tr>\n",
       "    <tr>\n",
       "      <th>13</th>\n",
       "      <td>283.16</td>\n",
       "      <td>2.55</td>\n",
       "      <td>64</td>\n",
       "      <td>1.0</td>\n",
       "      <td>0.0</td>\n",
       "      <td>0.0</td>\n",
       "      <td>0.0</td>\n",
       "      <td>0.0</td>\n",
       "      <td>0.0</td>\n",
       "      <td>2</td>\n",
       "      <td>10</td>\n",
       "    </tr>\n",
       "    <tr>\n",
       "      <th>14</th>\n",
       "      <td>283.31</td>\n",
       "      <td>2.91</td>\n",
       "      <td>63</td>\n",
       "      <td>1.0</td>\n",
       "      <td>0.0</td>\n",
       "      <td>0.0</td>\n",
       "      <td>0.0</td>\n",
       "      <td>0.0</td>\n",
       "      <td>0.0</td>\n",
       "      <td>2</td>\n",
       "      <td>11</td>\n",
       "    </tr>\n",
       "    <tr>\n",
       "      <th>15</th>\n",
       "      <td>283.42</td>\n",
       "      <td>3.30</td>\n",
       "      <td>62</td>\n",
       "      <td>1.0</td>\n",
       "      <td>0.0</td>\n",
       "      <td>0.0</td>\n",
       "      <td>0.0</td>\n",
       "      <td>0.0</td>\n",
       "      <td>0.0</td>\n",
       "      <td>2</td>\n",
       "      <td>12</td>\n",
       "    </tr>\n",
       "    <tr>\n",
       "      <th>16</th>\n",
       "      <td>283.65</td>\n",
       "      <td>3.16</td>\n",
       "      <td>62</td>\n",
       "      <td>1.0</td>\n",
       "      <td>0.0</td>\n",
       "      <td>0.0</td>\n",
       "      <td>0.0</td>\n",
       "      <td>0.0</td>\n",
       "      <td>0.0</td>\n",
       "      <td>2</td>\n",
       "      <td>13</td>\n",
       "    </tr>\n",
       "    <tr>\n",
       "      <th>17</th>\n",
       "      <td>283.72</td>\n",
       "      <td>3.06</td>\n",
       "      <td>63</td>\n",
       "      <td>1.0</td>\n",
       "      <td>0.0</td>\n",
       "      <td>0.0</td>\n",
       "      <td>0.0</td>\n",
       "      <td>0.0</td>\n",
       "      <td>0.0</td>\n",
       "      <td>2</td>\n",
       "      <td>14</td>\n",
       "    </tr>\n",
       "    <tr>\n",
       "      <th>18</th>\n",
       "      <td>283.42</td>\n",
       "      <td>3.32</td>\n",
       "      <td>65</td>\n",
       "      <td>1.0</td>\n",
       "      <td>0.0</td>\n",
       "      <td>0.0</td>\n",
       "      <td>0.0</td>\n",
       "      <td>0.0</td>\n",
       "      <td>0.0</td>\n",
       "      <td>2</td>\n",
       "      <td>15</td>\n",
       "    </tr>\n",
       "    <tr>\n",
       "      <th>19</th>\n",
       "      <td>282.92</td>\n",
       "      <td>3.30</td>\n",
       "      <td>67</td>\n",
       "      <td>1.0</td>\n",
       "      <td>0.0</td>\n",
       "      <td>0.0</td>\n",
       "      <td>0.0</td>\n",
       "      <td>0.0</td>\n",
       "      <td>0.0</td>\n",
       "      <td>2</td>\n",
       "      <td>16</td>\n",
       "    </tr>\n",
       "  </tbody>\n",
       "</table>\n",
       "</div>"
      ],
      "text/plain": [
       "      temp  wind_speed  humidity  Clouds  Clear  Snow  Rain  Drizzle  \\\n",
       "0   278.69        1.09        75     1.0    0.0   0.0   0.0      0.0   \n",
       "1   278.59        1.24        77     1.0    0.0   0.0   0.0      0.0   \n",
       "2   278.35        1.10        79     1.0    0.0   0.0   0.0      0.0   \n",
       "3   277.88        1.02        81     1.0    0.0   0.0   0.0      0.0   \n",
       "4   277.40        1.06        83     1.0    0.0   0.0   0.0      0.0   \n",
       "5   276.95        0.92        86     0.0    1.0   0.0   0.0      0.0   \n",
       "6   276.75        0.80        86     0.0    1.0   0.0   0.0      0.0   \n",
       "7   276.55        0.48        87     0.0    1.0   0.0   0.0      0.0   \n",
       "8   276.58        0.30        88     0.0    1.0   0.0   0.0      0.0   \n",
       "9   277.05        0.58        89     1.0    0.0   0.0   0.0      0.0   \n",
       "10  279.14        0.79        85     1.0    0.0   0.0   0.0      0.0   \n",
       "11  281.13        1.36        77     1.0    0.0   0.0   0.0      0.0   \n",
       "12  282.45        1.92        69     1.0    0.0   0.0   0.0      0.0   \n",
       "13  283.16        2.55        64     1.0    0.0   0.0   0.0      0.0   \n",
       "14  283.31        2.91        63     1.0    0.0   0.0   0.0      0.0   \n",
       "15  283.42        3.30        62     1.0    0.0   0.0   0.0      0.0   \n",
       "16  283.65        3.16        62     1.0    0.0   0.0   0.0      0.0   \n",
       "17  283.72        3.06        63     1.0    0.0   0.0   0.0      0.0   \n",
       "18  283.42        3.32        65     1.0    0.0   0.0   0.0      0.0   \n",
       "19  282.92        3.30        67     1.0    0.0   0.0   0.0      0.0   \n",
       "\n",
       "    Thunderstorm  weekday  hour  \n",
       "0            0.0        1    21  \n",
       "1            0.0        1    22  \n",
       "2            0.0        1    23  \n",
       "3            0.0        2     0  \n",
       "4            0.0        2     1  \n",
       "5            0.0        2     2  \n",
       "6            0.0        2     3  \n",
       "7            0.0        2     4  \n",
       "8            0.0        2     5  \n",
       "9            0.0        2     6  \n",
       "10           0.0        2     7  \n",
       "11           0.0        2     8  \n",
       "12           0.0        2     9  \n",
       "13           0.0        2    10  \n",
       "14           0.0        2    11  \n",
       "15           0.0        2    12  \n",
       "16           0.0        2    13  \n",
       "17           0.0        2    14  \n",
       "18           0.0        2    15  \n",
       "19           0.0        2    16  "
      ]
     },
     "execution_count": 60,
     "metadata": {},
     "output_type": "execute_result"
    }
   ],
   "source": [
    "weather_df.head(20)"
   ]
  },
  {
   "cell_type": "code",
   "execution_count": 61,
   "metadata": {},
   "outputs": [
    {
     "data": {
      "text/plain": [
       "temp            46\n",
       "wind_speed      44\n",
       "humidity        27\n",
       "Clouds           2\n",
       "Clear            2\n",
       "Snow             1\n",
       "Rain             1\n",
       "Drizzle          1\n",
       "Thunderstorm     1\n",
       "weekday          3\n",
       "hour            24\n",
       "dtype: int64"
      ]
     },
     "execution_count": 61,
     "metadata": {},
     "output_type": "execute_result"
    }
   ],
   "source": [
    "weather_df.nunique()"
   ]
  },
  {
   "cell_type": "code",
   "execution_count": 62,
   "metadata": {},
   "outputs": [
    {
     "data": {
      "text/plain": [
       "(48, 11)"
      ]
     },
     "execution_count": 62,
     "metadata": {},
     "output_type": "execute_result"
    }
   ],
   "source": [
    "weather_df.shape"
   ]
  },
  {
   "cell_type": "markdown",
   "metadata": {},
   "source": [
    "## Create a dummy weather data set and insert a station number at the first index"
   ]
  },
  {
   "cell_type": "code",
   "execution_count": 81,
   "metadata": {},
   "outputs": [
    {
     "name": "stdout",
     "output_type": "stream",
     "text": [
      "03n\n"
     ]
    }
   ],
   "source": [
    "desired_row = df.iloc[1]\n",
    "weather_details = desired_row[\"weather\"][0]\n",
    "\n",
    "for key, value in weather_details.items():\n",
    "    if key == \"icon\":\n",
    "        icon = value"
   ]
  },
  {
   "cell_type": "code",
   "execution_count": 87,
   "metadata": {},
   "outputs": [
    {
     "data": {
      "text/html": [
       "<div>\n",
       "<style scoped>\n",
       "    .dataframe tbody tr th:only-of-type {\n",
       "        vertical-align: middle;\n",
       "    }\n",
       "\n",
       "    .dataframe tbody tr th {\n",
       "        vertical-align: top;\n",
       "    }\n",
       "\n",
       "    .dataframe thead th {\n",
       "        text-align: right;\n",
       "    }\n",
       "</style>\n",
       "<table border=\"1\" class=\"dataframe\">\n",
       "  <thead>\n",
       "    <tr style=\"text-align: right;\">\n",
       "      <th></th>\n",
       "      <th>dt</th>\n",
       "      <th>temp</th>\n",
       "      <th>feels_like</th>\n",
       "      <th>pressure</th>\n",
       "      <th>humidity</th>\n",
       "      <th>dew_point</th>\n",
       "      <th>uvi</th>\n",
       "      <th>clouds</th>\n",
       "      <th>visibility</th>\n",
       "      <th>wind_speed</th>\n",
       "      <th>wind_deg</th>\n",
       "      <th>wind_gust</th>\n",
       "      <th>weather</th>\n",
       "      <th>pop</th>\n",
       "      <th>Clouds</th>\n",
       "      <th>Clear</th>\n",
       "      <th>Snow</th>\n",
       "      <th>Rain</th>\n",
       "      <th>Drizzle</th>\n",
       "      <th>Thunderstorm</th>\n",
       "    </tr>\n",
       "  </thead>\n",
       "  <tbody>\n",
       "  </tbody>\n",
       "</table>\n",
       "</div>"
      ],
      "text/plain": [
       "Empty DataFrame\n",
       "Columns: [dt, temp, feels_like, pressure, humidity, dew_point, uvi, clouds, visibility, wind_speed, wind_deg, wind_gust, weather, pop, Clouds, Clear, Snow, Rain, Drizzle, Thunderstorm]\n",
       "Index: []"
      ]
     },
     "execution_count": 87,
     "metadata": {},
     "output_type": "execute_result"
    }
   ],
   "source": [
    "df.head(0)"
   ]
  },
  {
   "cell_type": "code",
   "execution_count": 85,
   "metadata": {},
   "outputs": [
    {
     "ename": "KeyError",
     "evalue": "'hour'",
     "output_type": "error",
     "traceback": [
      "\u001b[1;31m---------------------------------------------------------------------------\u001b[0m",
      "\u001b[1;31mKeyError\u001b[0m                                  Traceback (most recent call last)",
      "\u001b[1;32m~\\anaconda3\\envs\\wheelie\\lib\\site-packages\\pandas\\core\\indexes\\base.py\u001b[0m in \u001b[0;36mget_loc\u001b[1;34m(self, key, method, tolerance)\u001b[0m\n\u001b[0;32m   3079\u001b[0m             \u001b[1;32mtry\u001b[0m\u001b[1;33m:\u001b[0m\u001b[1;33m\u001b[0m\u001b[1;33m\u001b[0m\u001b[0m\n\u001b[1;32m-> 3080\u001b[1;33m                 \u001b[1;32mreturn\u001b[0m \u001b[0mself\u001b[0m\u001b[1;33m.\u001b[0m\u001b[0m_engine\u001b[0m\u001b[1;33m.\u001b[0m\u001b[0mget_loc\u001b[0m\u001b[1;33m(\u001b[0m\u001b[0mcasted_key\u001b[0m\u001b[1;33m)\u001b[0m\u001b[1;33m\u001b[0m\u001b[1;33m\u001b[0m\u001b[0m\n\u001b[0m\u001b[0;32m   3081\u001b[0m             \u001b[1;32mexcept\u001b[0m \u001b[0mKeyError\u001b[0m \u001b[1;32mas\u001b[0m \u001b[0merr\u001b[0m\u001b[1;33m:\u001b[0m\u001b[1;33m\u001b[0m\u001b[1;33m\u001b[0m\u001b[0m\n",
      "\u001b[1;32mpandas\\_libs\\index.pyx\u001b[0m in \u001b[0;36mpandas._libs.index.IndexEngine.get_loc\u001b[1;34m()\u001b[0m\n",
      "\u001b[1;32mpandas\\_libs\\index.pyx\u001b[0m in \u001b[0;36mpandas._libs.index.IndexEngine.get_loc\u001b[1;34m()\u001b[0m\n",
      "\u001b[1;32mpandas\\_libs\\hashtable_class_helper.pxi\u001b[0m in \u001b[0;36mpandas._libs.hashtable.PyObjectHashTable.get_item\u001b[1;34m()\u001b[0m\n",
      "\u001b[1;32mpandas\\_libs\\hashtable_class_helper.pxi\u001b[0m in \u001b[0;36mpandas._libs.hashtable.PyObjectHashTable.get_item\u001b[1;34m()\u001b[0m\n",
      "\u001b[1;31mKeyError\u001b[0m: 'hour'",
      "\nThe above exception was the direct cause of the following exception:\n",
      "\u001b[1;31mKeyError\u001b[0m                                  Traceback (most recent call last)",
      "\u001b[1;32m<ipython-input-85-dc12b9fce831>\u001b[0m in \u001b[0;36m<module>\u001b[1;34m\u001b[0m\n\u001b[1;32m----> 1\u001b[1;33m \u001b[0mdesired_row\u001b[0m \u001b[1;33m=\u001b[0m \u001b[0mdf\u001b[0m\u001b[1;33m[\u001b[0m\u001b[1;33m(\u001b[0m\u001b[0mdf\u001b[0m\u001b[1;33m[\u001b[0m\u001b[1;34m\"hour\"\u001b[0m\u001b[1;33m]\u001b[0m \u001b[1;33m==\u001b[0m \u001b[0mhour\u001b[0m\u001b[1;33m)\u001b[0m \u001b[1;33m&\u001b[0m \u001b[1;33m(\u001b[0m\u001b[0mdf\u001b[0m\u001b[1;33m[\u001b[0m\u001b[1;34m\"weekday\"\u001b[0m\u001b[1;33m]\u001b[0m \u001b[1;33m==\u001b[0m \u001b[0mday\u001b[0m\u001b[1;33m)\u001b[0m\u001b[1;33m]\u001b[0m\u001b[1;33m\u001b[0m\u001b[1;33m\u001b[0m\u001b[0m\n\u001b[0m",
      "\u001b[1;32m~\\anaconda3\\envs\\wheelie\\lib\\site-packages\\pandas\\core\\frame.py\u001b[0m in \u001b[0;36m__getitem__\u001b[1;34m(self, key)\u001b[0m\n\u001b[0;32m   3022\u001b[0m             \u001b[1;32mif\u001b[0m \u001b[0mself\u001b[0m\u001b[1;33m.\u001b[0m\u001b[0mcolumns\u001b[0m\u001b[1;33m.\u001b[0m\u001b[0mnlevels\u001b[0m \u001b[1;33m>\u001b[0m \u001b[1;36m1\u001b[0m\u001b[1;33m:\u001b[0m\u001b[1;33m\u001b[0m\u001b[1;33m\u001b[0m\u001b[0m\n\u001b[0;32m   3023\u001b[0m                 \u001b[1;32mreturn\u001b[0m \u001b[0mself\u001b[0m\u001b[1;33m.\u001b[0m\u001b[0m_getitem_multilevel\u001b[0m\u001b[1;33m(\u001b[0m\u001b[0mkey\u001b[0m\u001b[1;33m)\u001b[0m\u001b[1;33m\u001b[0m\u001b[1;33m\u001b[0m\u001b[0m\n\u001b[1;32m-> 3024\u001b[1;33m             \u001b[0mindexer\u001b[0m \u001b[1;33m=\u001b[0m \u001b[0mself\u001b[0m\u001b[1;33m.\u001b[0m\u001b[0mcolumns\u001b[0m\u001b[1;33m.\u001b[0m\u001b[0mget_loc\u001b[0m\u001b[1;33m(\u001b[0m\u001b[0mkey\u001b[0m\u001b[1;33m)\u001b[0m\u001b[1;33m\u001b[0m\u001b[1;33m\u001b[0m\u001b[0m\n\u001b[0m\u001b[0;32m   3025\u001b[0m             \u001b[1;32mif\u001b[0m \u001b[0mis_integer\u001b[0m\u001b[1;33m(\u001b[0m\u001b[0mindexer\u001b[0m\u001b[1;33m)\u001b[0m\u001b[1;33m:\u001b[0m\u001b[1;33m\u001b[0m\u001b[1;33m\u001b[0m\u001b[0m\n\u001b[0;32m   3026\u001b[0m                 \u001b[0mindexer\u001b[0m \u001b[1;33m=\u001b[0m \u001b[1;33m[\u001b[0m\u001b[0mindexer\u001b[0m\u001b[1;33m]\u001b[0m\u001b[1;33m\u001b[0m\u001b[1;33m\u001b[0m\u001b[0m\n",
      "\u001b[1;32m~\\anaconda3\\envs\\wheelie\\lib\\site-packages\\pandas\\core\\indexes\\base.py\u001b[0m in \u001b[0;36mget_loc\u001b[1;34m(self, key, method, tolerance)\u001b[0m\n\u001b[0;32m   3080\u001b[0m                 \u001b[1;32mreturn\u001b[0m \u001b[0mself\u001b[0m\u001b[1;33m.\u001b[0m\u001b[0m_engine\u001b[0m\u001b[1;33m.\u001b[0m\u001b[0mget_loc\u001b[0m\u001b[1;33m(\u001b[0m\u001b[0mcasted_key\u001b[0m\u001b[1;33m)\u001b[0m\u001b[1;33m\u001b[0m\u001b[1;33m\u001b[0m\u001b[0m\n\u001b[0;32m   3081\u001b[0m             \u001b[1;32mexcept\u001b[0m \u001b[0mKeyError\u001b[0m \u001b[1;32mas\u001b[0m \u001b[0merr\u001b[0m\u001b[1;33m:\u001b[0m\u001b[1;33m\u001b[0m\u001b[1;33m\u001b[0m\u001b[0m\n\u001b[1;32m-> 3082\u001b[1;33m                 \u001b[1;32mraise\u001b[0m \u001b[0mKeyError\u001b[0m\u001b[1;33m(\u001b[0m\u001b[0mkey\u001b[0m\u001b[1;33m)\u001b[0m \u001b[1;32mfrom\u001b[0m \u001b[0merr\u001b[0m\u001b[1;33m\u001b[0m\u001b[1;33m\u001b[0m\u001b[0m\n\u001b[0m\u001b[0;32m   3083\u001b[0m \u001b[1;33m\u001b[0m\u001b[0m\n\u001b[0;32m   3084\u001b[0m         \u001b[1;32mif\u001b[0m \u001b[0mtolerance\u001b[0m \u001b[1;32mis\u001b[0m \u001b[1;32mnot\u001b[0m \u001b[1;32mNone\u001b[0m\u001b[1;33m:\u001b[0m\u001b[1;33m\u001b[0m\u001b[1;33m\u001b[0m\u001b[0m\n",
      "\u001b[1;31mKeyError\u001b[0m: 'hour'"
     ]
    }
   ],
   "source": [
    "desired_row = df[(df[\"hour\"] == hour) & (df[\"weekday\"] == day)]"
   ]
  },
  {
   "cell_type": "code",
   "execution_count": 84,
   "metadata": {},
   "outputs": [
    {
     "data": {
      "text/plain": [
       "[12, 278.59, 1.24, 77.0, 1.0, 0.0, 0.0, 0.0, 0.0, 0.0, 1.0, 22.0]"
      ]
     },
     "execution_count": 84,
     "metadata": {},
     "output_type": "execute_result"
    }
   ],
   "source": [
    "#insert station number\n",
    "desired_row = weather_df.iloc[1].tolist()\n",
    "desired_row.insert(0, 12)\n",
    "desired_row.append(icon)\n",
    "desired_row[0:12]"
   ]
  },
  {
   "cell_type": "code",
   "execution_count": null,
   "metadata": {},
   "outputs": [],
   "source": [
    "# give test predictor the list of user input variables (in this case, a dummy set)\n",
    "prediction = model.predict([desired_row])\n",
    "prediction_values = prediction[0]\n",
    "\n",
    "#sample output\n",
    "print(f\"Station number {desired_row[0]}\")\n",
    "print(\"-------------------\")\n",
    "print(f\"Predicted available bikes at  : {prediction_values[0]} \")\n",
    "print(f\"Predicted available bike stands : {prediction_values[1]}\")"
   ]
  },
  {
   "cell_type": "markdown",
   "metadata": {},
   "source": [
    "# Formatting Static Bikes info"
   ]
  },
  {
   "cell_type": "code",
   "execution_count": 24,
   "metadata": {},
   "outputs": [
    {
     "data": {
      "text/html": [
       "<div>\n",
       "<style scoped>\n",
       "    .dataframe tbody tr th:only-of-type {\n",
       "        vertical-align: middle;\n",
       "    }\n",
       "\n",
       "    .dataframe tbody tr th {\n",
       "        vertical-align: top;\n",
       "    }\n",
       "\n",
       "    .dataframe thead th {\n",
       "        text-align: right;\n",
       "    }\n",
       "</style>\n",
       "<table border=\"1\" class=\"dataframe\">\n",
       "  <thead>\n",
       "    <tr style=\"text-align: right;\">\n",
       "      <th></th>\n",
       "      <th>number</th>\n",
       "      <th>name</th>\n",
       "      <th>address</th>\n",
       "      <th>pos_lat</th>\n",
       "      <th>pos_lng</th>\n",
       "      <th>bike_stands</th>\n",
       "    </tr>\n",
       "  </thead>\n",
       "  <tbody>\n",
       "  </tbody>\n",
       "</table>\n",
       "</div>"
      ],
      "text/plain": [
       "Empty DataFrame\n",
       "Columns: [number, name, address, pos_lat, pos_lng, bike_stands]\n",
       "Index: []"
      ]
     },
     "execution_count": 24,
     "metadata": {},
     "output_type": "execute_result"
    }
   ],
   "source": [
    "static.head(0)"
   ]
  },
  {
   "cell_type": "code",
   "execution_count": 23,
   "metadata": {},
   "outputs": [
    {
     "name": "stdout",
     "output_type": "stream",
     "text": [
      "[42 'SMITHFIELD NORTH' 'Smithfield North' 53.3496 -6.2782 30]\n"
     ]
    }
   ],
   "source": [
    "desired = static[static[\"number\"]==42]\n",
    "desired_list = list(desired.values)\n",
    "formatted_list = (desired_list[0])\n",
    "print(formatted_list)"
   ]
  },
  {
   "cell_type": "code",
   "execution_count": 31,
   "metadata": {},
   "outputs": [
    {
     "data": {
      "text/plain": [
       "[1, 2, 4, 30, 'SMITHFIELD NORTH']"
      ]
     },
     "execution_count": 31,
     "metadata": {},
     "output_type": "execute_result"
    }
   ],
   "source": [
    "listed = [1, 2, 4]\n",
    "\n",
    "listed.extend((formatted_list[5], formatted_list[1]))\n",
    "listed"
   ]
  },
  {
   "cell_type": "code",
   "execution_count": 89,
   "metadata": {},
   "outputs": [
    {
     "data": {
      "text/plain": [
       "'03d'"
      ]
     },
     "execution_count": 89,
     "metadata": {},
     "output_type": "execute_result"
    }
   ],
   "source": [
    "mine = [[283.16, 2.55, 64, 1.0, 0.0, 0.0, 0.0, 0.0, 0.0, '03d', 2, 10]]\n",
    "mine[0][9]"
   ]
  },
  {
   "cell_type": "code",
   "execution_count": 94,
   "metadata": {},
   "outputs": [
    {
     "name": "stdout",
     "output_type": "stream",
     "text": [
      "[283.16, 2.55, 64, 1.0, 0.0, 0.0, 0.0, 0.0, 0.0, 2, 10]\n"
     ]
    }
   ],
   "source": [
    "test = [283.16, 2.55, 64, 1.0, 0.0, 0.0, 0.0, 0.0, 0.0, 2, 10, '03d']\n",
    "print(test[0:11])"
   ]
  },
  {
   "cell_type": "code",
   "execution_count": 96,
   "metadata": {},
   "outputs": [
    {
     "data": {
      "text/plain": [
       "'03d'"
      ]
     },
     "execution_count": 96,
     "metadata": {},
     "output_type": "execute_result"
    }
   ],
   "source": [
    "test[11]"
   ]
  },
  {
   "cell_type": "code",
   "execution_count": 122,
   "metadata": {},
   "outputs": [
    {
     "ename": "NameError",
     "evalue": "name 'df' is not defined",
     "output_type": "error",
     "traceback": [
      "\u001b[1;31m---------------------------------------------------------------------------\u001b[0m",
      "\u001b[1;31mNameError\u001b[0m                                 Traceback (most recent call last)",
      "\u001b[1;32m<ipython-input-122-24124546b005>\u001b[0m in \u001b[0;36m<module>\u001b[1;34m\u001b[0m\n\u001b[1;32m----> 1\u001b[1;33m \u001b[0mdf\u001b[0m \u001b[1;33m=\u001b[0m \u001b[0mdf\u001b[0m\u001b[1;33m.\u001b[0m\u001b[0mrename\u001b[0m\u001b[1;33m(\u001b[0m\u001b[0mcolumns\u001b[0m \u001b[1;33m=\u001b[0m \u001b[1;33m{\u001b[0m\u001b[1;34m'temp'\u001b[0m\u001b[1;33m:\u001b[0m\u001b[1;34m'test'\u001b[0m\u001b[1;33m}\u001b[0m\u001b[1;33m)\u001b[0m\u001b[1;33m\u001b[0m\u001b[1;33m\u001b[0m\u001b[0m\n\u001b[0m\u001b[0;32m      2\u001b[0m \u001b[0mdf\u001b[0m\u001b[1;33m.\u001b[0m\u001b[0mhead\u001b[0m\u001b[1;33m(\u001b[0m\u001b[1;36m2\u001b[0m\u001b[1;33m)\u001b[0m\u001b[1;33m\u001b[0m\u001b[1;33m\u001b[0m\u001b[0m\n",
      "\u001b[1;31mNameError\u001b[0m: name 'df' is not defined"
     ]
    }
   ],
   "source": [
    "df = df.rename(columns = {'temp':'test'})\n",
    "df.head(2)"
   ]
  },
  {
   "cell_type": "code",
   "execution_count": null,
   "metadata": {},
   "outputs": [],
   "source": []
  }
 ],
 "metadata": {
  "kernelspec": {
   "display_name": "Python 3",
   "language": "python",
   "name": "python3"
  },
  "language_info": {
   "codemirror_mode": {
    "name": "ipython",
    "version": 3
   },
   "file_extension": ".py",
   "mimetype": "text/x-python",
   "name": "python",
   "nbconvert_exporter": "python",
   "pygments_lexer": "ipython3",
   "version": "3.8.8"
  }
 },
 "nbformat": 4,
 "nbformat_minor": 4
}
