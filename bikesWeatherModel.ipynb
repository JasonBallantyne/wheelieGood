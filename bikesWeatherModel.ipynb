{
 "cells": [
  {
   "cell_type": "code",
   "execution_count": 1,
   "metadata": {},
   "outputs": [],
   "source": [
    "user = \"admin\"\n",
    "passw = \"AsH3saUzNX\"\n",
    "uri = \"wheeliegood.cpd1upycyviv.us-east-1.rds.amazonaws.com\"\n",
    "# APIKEY = \"faa0b3cb4ae90aba340567484b057e59c72b1a37\"\n",
    "APIKEY = \"937848f62521aa822495dbe1716d5ca9ecf84fba\"\n",
    "NAME = \"Dublin\"\n",
    "STATIONS = \"https://api.jcdecaux.com/vls/v1/stations\"\n",
    "WEATHER_INFO = \"https://api.openweathermap.org/data/2.5/weather\"\n",
    "FORECAST_INFO = \"https://api.openweathermap.org/data/2.5/onecall\"\n",
    "FORECAST_API = \"5cf5e19adac515b3f8510d2692fddc43\"\n",
    "WAPIKEY = \"4f52f429445505a8554ffaf9b514990d\"\n",
    "WNAME = \"2964574\"\n",
    "#https://api.openweathermap.org/data/2.5/onecall?lat=53.33306&lon=-6.24889&appid=5cf5e19adac515b3f8510d2692fddc43"
   ]
  },
  {
   "cell_type": "code",
   "execution_count": 43,
   "metadata": {},
   "outputs": [],
   "source": [
    "from sqlalchemy import create_engine\n",
    "from pandas import pandas as pd\n",
    "from functools import lru_cache\n",
    "from sklearn.tree import DecisionTreeClassifier\n",
    "from sklearn.model_selection import train_test_split\n",
    "import requests\n",
    "import json\n",
    "import numpy as np\n",
    "import datetime"
   ]
  },
  {
   "cell_type": "code",
   "execution_count": 4,
   "metadata": {},
   "outputs": [],
   "source": [
    "def dynamic_bikes():\n",
    "    # Request Data from API\n",
    "    engine = create_engine(f\"mysql+mysqlconnector://{user}:{passw}@{uri}:3306/wheelieGood\",\n",
    "                           echo=True)\n",
    "    # Using static bike table\n",
    "    bike_data = pd.read_sql(\"SELECT * FROM wheelieGood.dynamic_bikes;\", engine)\n",
    "    return bike_data\n",
    "\n",
    "def dynamic_weather():\n",
    "    # Request Data from API\n",
    "    engine = create_engine(f\"mysql+mysqlconnector://{user}:{passw}@{uri}:3306/wheelieGood\",\n",
    "                           echo=True)\n",
    "    # Using static bike table\n",
    "    weather_data = pd.read_sql(\"SELECT * from weather\", engine)\n",
    "    return weather_data"
   ]
  },
  {
   "cell_type": "code",
   "execution_count": 5,
   "metadata": {},
   "outputs": [
    {
     "name": "stdout",
     "output_type": "stream",
     "text": [
      "2021-04-05 15:54:08,056 INFO sqlalchemy.engine.base.Engine SHOW VARIABLES LIKE 'sql_mode'\n",
      "2021-04-05 15:54:08,059 INFO sqlalchemy.engine.base.Engine {}\n",
      "2021-04-05 15:54:08,388 INFO sqlalchemy.engine.base.Engine SHOW VARIABLES LIKE 'lower_case_table_names'\n",
      "2021-04-05 15:54:08,388 INFO sqlalchemy.engine.base.Engine {}\n",
      "2021-04-05 15:54:09,058 INFO sqlalchemy.engine.base.Engine SELECT DATABASE()\n",
      "2021-04-05 15:54:09,059 INFO sqlalchemy.engine.base.Engine {}\n",
      "2021-04-05 15:54:09,730 INFO sqlalchemy.engine.base.Engine SELECT CAST('test plain returns' AS CHAR(60)) AS anon_1\n",
      "2021-04-05 15:54:09,731 INFO sqlalchemy.engine.base.Engine {}\n",
      "2021-04-05 15:54:10,062 INFO sqlalchemy.engine.base.Engine SELECT CAST('test unicode returns' AS CHAR(60)) AS anon_1\n",
      "2021-04-05 15:54:10,063 INFO sqlalchemy.engine.base.Engine {}\n",
      "2021-04-05 15:54:10,521 INFO sqlalchemy.engine.base.Engine DESCRIBE `SELECT * from weather`\n",
      "2021-04-05 15:54:10,522 INFO sqlalchemy.engine.base.Engine {}\n",
      "2021-04-05 15:54:10,632 INFO sqlalchemy.engine.base.Engine ROLLBACK\n",
      "2021-04-05 15:54:11,081 INFO sqlalchemy.engine.base.OptionEngine SELECT * from weather\n",
      "2021-04-05 15:54:11,081 INFO sqlalchemy.engine.base.OptionEngine {}\n",
      "2021-04-05 15:54:13,554 INFO sqlalchemy.engine.base.Engine SHOW VARIABLES LIKE 'sql_mode'\n",
      "2021-04-05 15:54:13,555 INFO sqlalchemy.engine.base.Engine {}\n",
      "2021-04-05 15:54:13,887 INFO sqlalchemy.engine.base.Engine SHOW VARIABLES LIKE 'lower_case_table_names'\n",
      "2021-04-05 15:54:13,888 INFO sqlalchemy.engine.base.Engine {}\n",
      "2021-04-05 15:54:14,566 INFO sqlalchemy.engine.base.Engine SELECT DATABASE()\n",
      "2021-04-05 15:54:14,567 INFO sqlalchemy.engine.base.Engine {}\n",
      "2021-04-05 15:54:15,243 INFO sqlalchemy.engine.base.Engine SELECT CAST('test plain returns' AS CHAR(60)) AS anon_1\n",
      "2021-04-05 15:54:15,244 INFO sqlalchemy.engine.base.Engine {}\n",
      "2021-04-05 15:54:15,600 INFO sqlalchemy.engine.base.Engine SELECT CAST('test unicode returns' AS CHAR(60)) AS anon_1\n",
      "2021-04-05 15:54:15,601 INFO sqlalchemy.engine.base.Engine {}\n",
      "2021-04-05 15:54:16,059 INFO sqlalchemy.engine.base.Engine DESCRIBE `SELECT * FROM wheelieGood.dynamic_bikes;`\n",
      "2021-04-05 15:54:16,060 INFO sqlalchemy.engine.base.Engine {}\n",
      "2021-04-05 15:54:16,170 INFO sqlalchemy.engine.base.Engine ROLLBACK\n",
      "2021-04-05 15:54:16,619 INFO sqlalchemy.engine.base.OptionEngine SELECT * FROM wheelieGood.dynamic_bikes;\n",
      "2021-04-05 15:54:16,620 INFO sqlalchemy.engine.base.OptionEngine {}\n"
     ]
    },
    {
     "data": {
      "text/html": [
       "<div>\n",
       "<style scoped>\n",
       "    .dataframe tbody tr th:only-of-type {\n",
       "        vertical-align: middle;\n",
       "    }\n",
       "\n",
       "    .dataframe tbody tr th {\n",
       "        vertical-align: top;\n",
       "    }\n",
       "\n",
       "    .dataframe thead th {\n",
       "        text-align: right;\n",
       "    }\n",
       "</style>\n",
       "<table border=\"1\" class=\"dataframe\">\n",
       "  <thead>\n",
       "    <tr style=\"text-align: right;\">\n",
       "      <th></th>\n",
       "      <th>number</th>\n",
       "      <th>available_bike_stands</th>\n",
       "      <th>available_bikes</th>\n",
       "      <th>last_update</th>\n",
       "    </tr>\n",
       "  </thead>\n",
       "  <tbody>\n",
       "    <tr>\n",
       "      <th>0</th>\n",
       "      <td>42</td>\n",
       "      <td>22</td>\n",
       "      <td>8</td>\n",
       "      <td>2021-03-08 13:44:23</td>\n",
       "    </tr>\n",
       "    <tr>\n",
       "      <th>1</th>\n",
       "      <td>30</td>\n",
       "      <td>16</td>\n",
       "      <td>4</td>\n",
       "      <td>2021-03-08 13:45:14</td>\n",
       "    </tr>\n",
       "    <tr>\n",
       "      <th>2</th>\n",
       "      <td>54</td>\n",
       "      <td>31</td>\n",
       "      <td>2</td>\n",
       "      <td>2021-03-08 13:36:34</td>\n",
       "    </tr>\n",
       "    <tr>\n",
       "      <th>3</th>\n",
       "      <td>108</td>\n",
       "      <td>37</td>\n",
       "      <td>3</td>\n",
       "      <td>2021-03-08 13:44:45</td>\n",
       "    </tr>\n",
       "    <tr>\n",
       "      <th>4</th>\n",
       "      <td>56</td>\n",
       "      <td>31</td>\n",
       "      <td>9</td>\n",
       "      <td>2021-03-08 13:44:20</td>\n",
       "    </tr>\n",
       "    <tr>\n",
       "      <th>5</th>\n",
       "      <td>6</td>\n",
       "      <td>15</td>\n",
       "      <td>5</td>\n",
       "      <td>2021-03-08 13:43:43</td>\n",
       "    </tr>\n",
       "    <tr>\n",
       "      <th>6</th>\n",
       "      <td>18</td>\n",
       "      <td>16</td>\n",
       "      <td>14</td>\n",
       "      <td>2021-03-08 13:43:29</td>\n",
       "    </tr>\n",
       "    <tr>\n",
       "      <th>7</th>\n",
       "      <td>32</td>\n",
       "      <td>14</td>\n",
       "      <td>16</td>\n",
       "      <td>2021-03-08 13:43:44</td>\n",
       "    </tr>\n",
       "    <tr>\n",
       "      <th>8</th>\n",
       "      <td>52</td>\n",
       "      <td>24</td>\n",
       "      <td>8</td>\n",
       "      <td>2021-03-08 13:37:56</td>\n",
       "    </tr>\n",
       "    <tr>\n",
       "      <th>9</th>\n",
       "      <td>48</td>\n",
       "      <td>25</td>\n",
       "      <td>15</td>\n",
       "      <td>2021-03-08 13:30:02</td>\n",
       "    </tr>\n",
       "  </tbody>\n",
       "</table>\n",
       "</div>"
      ],
      "text/plain": [
       "   number  available_bike_stands  available_bikes         last_update\n",
       "0      42                     22                8 2021-03-08 13:44:23\n",
       "1      30                     16                4 2021-03-08 13:45:14\n",
       "2      54                     31                2 2021-03-08 13:36:34\n",
       "3     108                     37                3 2021-03-08 13:44:45\n",
       "4      56                     31                9 2021-03-08 13:44:20\n",
       "5       6                     15                5 2021-03-08 13:43:43\n",
       "6      18                     16               14 2021-03-08 13:43:29\n",
       "7      32                     14               16 2021-03-08 13:43:44\n",
       "8      52                     24                8 2021-03-08 13:37:56\n",
       "9      48                     25               15 2021-03-08 13:30:02"
      ]
     },
     "execution_count": 5,
     "metadata": {},
     "output_type": "execute_result"
    }
   ],
   "source": [
    "weather = dynamic_weather()\n",
    "bikes = dynamic_bikes()\n",
    "\n",
    "bikes.head(10)"
   ]
  },
  {
   "cell_type": "code",
   "execution_count": 7,
   "metadata": {},
   "outputs": [
    {
     "data": {
      "text/plain": [
       "coord_lon                     float64\n",
       "coord_lat                     float64\n",
       "weather_main                   object\n",
       "weather_description            object\n",
       "weather_icon                   object\n",
       "main_temp                     float64\n",
       "main_pressure                   int64\n",
       "main_humidity                   int64\n",
       "main_temp_min                 float64\n",
       "main_temp_max                 float64\n",
       "visibility                      int64\n",
       "wind_speed                    float64\n",
       "wind_deg                        int64\n",
       "clouds_all                      int64\n",
       "dt                     datetime64[ns]\n",
       "sys_type                        int64\n",
       "sys_id                          int64\n",
       "sys_country                    object\n",
       "sys_sunrise            datetime64[ns]\n",
       "sys_sunset             datetime64[ns]\n",
       "city_id                         int64\n",
       "city_name                      object\n",
       "cod                             int64\n",
       "Current Time           datetime64[ns]\n",
       "dtype: object"
      ]
     },
     "execution_count": 7,
     "metadata": {},
     "output_type": "execute_result"
    }
   ],
   "source": [
    "weather.dtypes"
   ]
  },
  {
   "cell_type": "code",
   "execution_count": 55,
   "metadata": {},
   "outputs": [],
   "source": [
    "# Select columns containing categorical data\n",
    "weather_categorical_columns = weather[['weather_description', 'weather_icon', 'sys_country']].columns\n",
    "\n",
    "# Convert data type to category for these columns\n",
    "for column in weather_categorical_columns:\n",
    "    weather[column] = weather[column].astype('category')"
   ]
  },
  {
   "cell_type": "code",
   "execution_count": 56,
   "metadata": {},
   "outputs": [],
   "source": [
    "weather_datetime_columns = weather[['Current Time', 'dt', 'sys_sunset', 'sys_sunrise']].columns\n",
    "\n",
    "# Convert data type to datetime for these columns\n",
    "for column in weather_datetime_columns:\n",
    "    weather[column] = weather[column].astype('datetime64[ns]')"
   ]
  },
  {
   "cell_type": "code",
   "execution_count": 57,
   "metadata": {},
   "outputs": [],
   "source": [
    "bikes.sort_values('last_update', inplace=True)\n",
    "weather.sort_values('dt', inplace=True)"
   ]
  },
  {
   "cell_type": "code",
   "execution_count": 58,
   "metadata": {},
   "outputs": [],
   "source": [
    "weatherTrim = weather[[\"weather_main\", \"wind_speed\", \"main_temp\", \"main_humidity\", \"dt\"]]"
   ]
  },
  {
   "cell_type": "markdown",
   "metadata": {},
   "source": [
    "adding weather types to weather table"
   ]
  },
  {
   "cell_type": "code",
   "execution_count": 59,
   "metadata": {},
   "outputs": [
    {
     "data": {
      "text/html": [
       "<div>\n",
       "<style scoped>\n",
       "    .dataframe tbody tr th:only-of-type {\n",
       "        vertical-align: middle;\n",
       "    }\n",
       "\n",
       "    .dataframe tbody tr th {\n",
       "        vertical-align: top;\n",
       "    }\n",
       "\n",
       "    .dataframe thead th {\n",
       "        text-align: right;\n",
       "    }\n",
       "</style>\n",
       "<table border=\"1\" class=\"dataframe\">\n",
       "  <thead>\n",
       "    <tr style=\"text-align: right;\">\n",
       "      <th></th>\n",
       "      <th>weather_main</th>\n",
       "      <th>wind_speed</th>\n",
       "      <th>main_temp</th>\n",
       "      <th>main_humidity</th>\n",
       "      <th>dt</th>\n",
       "      <th>Clouds</th>\n",
       "      <th>Clear</th>\n",
       "      <th>Snow</th>\n",
       "      <th>Rain</th>\n",
       "      <th>Drizzle</th>\n",
       "      <th>Thunderstorm</th>\n",
       "    </tr>\n",
       "  </thead>\n",
       "  <tbody>\n",
       "    <tr>\n",
       "      <th>0</th>\n",
       "      <td>Clouds</td>\n",
       "      <td>4.63</td>\n",
       "      <td>283.48</td>\n",
       "      <td>62</td>\n",
       "      <td>2021-03-08 13:37:42</td>\n",
       "      <td>1.0</td>\n",
       "      <td>0.0</td>\n",
       "      <td>0.0</td>\n",
       "      <td>0.0</td>\n",
       "      <td>0.0</td>\n",
       "      <td>0.0</td>\n",
       "    </tr>\n",
       "    <tr>\n",
       "      <th>1</th>\n",
       "      <td>Clouds</td>\n",
       "      <td>4.63</td>\n",
       "      <td>283.48</td>\n",
       "      <td>62</td>\n",
       "      <td>2021-03-08 13:38:36</td>\n",
       "      <td>1.0</td>\n",
       "      <td>0.0</td>\n",
       "      <td>0.0</td>\n",
       "      <td>0.0</td>\n",
       "      <td>0.0</td>\n",
       "      <td>0.0</td>\n",
       "    </tr>\n",
       "  </tbody>\n",
       "</table>\n",
       "</div>"
      ],
      "text/plain": [
       "  weather_main  wind_speed  main_temp  main_humidity                  dt  \\\n",
       "0       Clouds        4.63     283.48             62 2021-03-08 13:37:42   \n",
       "1       Clouds        4.63     283.48             62 2021-03-08 13:38:36   \n",
       "\n",
       "   Clouds  Clear  Snow  Rain  Drizzle  Thunderstorm  \n",
       "0     1.0    0.0   0.0   0.0      0.0           0.0  \n",
       "1     1.0    0.0   0.0   0.0      0.0           0.0  "
      ]
     },
     "execution_count": 59,
     "metadata": {},
     "output_type": "execute_result"
    }
   ],
   "source": [
    "weatherConditions = [\"Clouds\", \"Clear\", \"Snow\", \"Rain\", \"Drizzle\", \"Thunderstorm\"]\n",
    "\n",
    "\n",
    "weatherTrim = weatherTrim.reindex(weatherTrim.columns.tolist() + weatherConditions, axis=1)\n",
    "for col in weatherConditions:\n",
    "    weatherTrim[col] = weatherTrim[col].replace(np.nan).fillna(0)\n",
    "    \n",
    "weatherTrim.loc[(weatherTrim['weather_main'] == 'Clouds'), 'Clouds'] = 1\n",
    "weatherTrim.loc[(weatherTrim['weather_main'] == 'Clear'), 'Clear'] = 1\n",
    "weatherTrim.loc[(weatherTrim['weather_main'] == 'Snow'), 'Snow'] = 1\n",
    "weatherTrim.loc[(weatherTrim['weather_main'] == 'Rain'), 'Rain'] = 1\n",
    "weatherTrim.loc[(weatherTrim['weather_main'] == 'Drizzle'), 'Drizzle'] = 1\n",
    "weatherTrim.loc[(weatherTrim['weather_main'] == 'Thunderstorm'), 'Thunderstorm'] = 1\n",
    "weatherTrim.head(2)"
   ]
  },
  {
   "cell_type": "code",
   "execution_count": 84,
   "metadata": {},
   "outputs": [],
   "source": [
    "weatherTrim = weatherTrim.drop(columns=\"weather_main\")"
   ]
  },
  {
   "cell_type": "code",
   "execution_count": 85,
   "metadata": {},
   "outputs": [
    {
     "data": {
      "text/plain": [
       "number                            int64\n",
       "available_bike_stands             int64\n",
       "available_bikes                   int64\n",
       "last_update              datetime64[ns]\n",
       "dtype: object"
      ]
     },
     "execution_count": 85,
     "metadata": {},
     "output_type": "execute_result"
    }
   ],
   "source": [
    "bikes.dtypes"
   ]
  },
  {
   "cell_type": "code",
   "execution_count": 86,
   "metadata": {},
   "outputs": [
    {
     "data": {
      "text/plain": [
       "wind_speed              float64\n",
       "main_temp               float64\n",
       "main_humidity             int64\n",
       "dt               datetime64[ns]\n",
       "Clouds                  float64\n",
       "Clear                   float64\n",
       "Snow                    float64\n",
       "Rain                    float64\n",
       "Drizzle                 float64\n",
       "Thunderstorm            float64\n",
       "dtype: object"
      ]
     },
     "execution_count": 86,
     "metadata": {},
     "output_type": "execute_result"
    }
   ],
   "source": [
    "weatherTrim.dtypes"
   ]
  },
  {
   "cell_type": "code",
   "execution_count": 87,
   "metadata": {},
   "outputs": [],
   "source": [
    "merged_data = pd.merge_asof(bikes, weatherTrim, left_on=\"last_update\", right_on=\"dt\")"
   ]
  },
  {
   "cell_type": "code",
   "execution_count": 88,
   "metadata": {},
   "outputs": [],
   "source": [
    "# for inspection\n",
    "#merged_data.to_csv(\"test.csv\")"
   ]
  },
  {
   "cell_type": "code",
   "execution_count": 89,
   "metadata": {},
   "outputs": [
    {
     "data": {
      "text/plain": [
       "(878813, 4)"
      ]
     },
     "execution_count": 89,
     "metadata": {},
     "output_type": "execute_result"
    }
   ],
   "source": [
    "bikes.shape"
   ]
  },
  {
   "cell_type": "code",
   "execution_count": 90,
   "metadata": {},
   "outputs": [
    {
     "data": {
      "text/plain": [
       "(878813, 14)"
      ]
     },
     "execution_count": 90,
     "metadata": {},
     "output_type": "execute_result"
    }
   ],
   "source": [
    "merged_data.shape"
   ]
  },
  {
   "cell_type": "code",
   "execution_count": 91,
   "metadata": {},
   "outputs": [
    {
     "data": {
      "text/html": [
       "<div>\n",
       "<style scoped>\n",
       "    .dataframe tbody tr th:only-of-type {\n",
       "        vertical-align: middle;\n",
       "    }\n",
       "\n",
       "    .dataframe tbody tr th {\n",
       "        vertical-align: top;\n",
       "    }\n",
       "\n",
       "    .dataframe thead th {\n",
       "        text-align: right;\n",
       "    }\n",
       "</style>\n",
       "<table border=\"1\" class=\"dataframe\">\n",
       "  <thead>\n",
       "    <tr style=\"text-align: right;\">\n",
       "      <th></th>\n",
       "      <th>number</th>\n",
       "      <th>available_bike_stands</th>\n",
       "      <th>available_bikes</th>\n",
       "      <th>last_update</th>\n",
       "      <th>wind_speed</th>\n",
       "      <th>main_temp</th>\n",
       "      <th>main_humidity</th>\n",
       "      <th>dt</th>\n",
       "      <th>Clouds</th>\n",
       "      <th>Clear</th>\n",
       "      <th>Snow</th>\n",
       "      <th>Rain</th>\n",
       "      <th>Drizzle</th>\n",
       "      <th>Thunderstorm</th>\n",
       "    </tr>\n",
       "  </thead>\n",
       "  <tbody>\n",
       "    <tr>\n",
       "      <th>20</th>\n",
       "      <td>5</td>\n",
       "      <td>20</td>\n",
       "      <td>20</td>\n",
       "      <td>2021-03-08 13:40:07</td>\n",
       "      <td>4.63</td>\n",
       "      <td>283.48</td>\n",
       "      <td>62.0</td>\n",
       "      <td>2021-03-08 13:38:36</td>\n",
       "      <td>1.0</td>\n",
       "      <td>0.0</td>\n",
       "      <td>0.0</td>\n",
       "      <td>0.0</td>\n",
       "      <td>0.0</td>\n",
       "      <td>0.0</td>\n",
       "    </tr>\n",
       "    <tr>\n",
       "      <th>21</th>\n",
       "      <td>89</td>\n",
       "      <td>26</td>\n",
       "      <td>14</td>\n",
       "      <td>2021-03-08 13:42:06</td>\n",
       "      <td>4.63</td>\n",
       "      <td>283.48</td>\n",
       "      <td>62.0</td>\n",
       "      <td>2021-03-08 13:38:36</td>\n",
       "      <td>1.0</td>\n",
       "      <td>0.0</td>\n",
       "      <td>0.0</td>\n",
       "      <td>0.0</td>\n",
       "      <td>0.0</td>\n",
       "      <td>0.0</td>\n",
       "    </tr>\n",
       "  </tbody>\n",
       "</table>\n",
       "</div>"
      ],
      "text/plain": [
       "    number  available_bike_stands  available_bikes         last_update  \\\n",
       "20       5                     20               20 2021-03-08 13:40:07   \n",
       "21      89                     26               14 2021-03-08 13:42:06   \n",
       "\n",
       "    wind_speed  main_temp  main_humidity                  dt  Clouds  Clear  \\\n",
       "20        4.63     283.48           62.0 2021-03-08 13:38:36     1.0    0.0   \n",
       "21        4.63     283.48           62.0 2021-03-08 13:38:36     1.0    0.0   \n",
       "\n",
       "    Snow  Rain  Drizzle  Thunderstorm  \n",
       "20   0.0   0.0      0.0           0.0  \n",
       "21   0.0   0.0      0.0           0.0  "
      ]
     },
     "execution_count": 91,
     "metadata": {},
     "output_type": "execute_result"
    }
   ],
   "source": [
    "data = merged_data.loc[20:684575]\n",
    "data.head(2)"
   ]
  },
  {
   "cell_type": "code",
   "execution_count": 92,
   "metadata": {},
   "outputs": [
    {
     "name": "stderr",
     "output_type": "stream",
     "text": [
      "<ipython-input-92-ea40cb292515>:2: SettingWithCopyWarning: \n",
      "A value is trying to be set on a copy of a slice from a DataFrame.\n",
      "Try using .loc[row_indexer,col_indexer] = value instead\n",
      "\n",
      "See the caveats in the documentation: https://pandas.pydata.org/pandas-docs/stable/user_guide/indexing.html#returning-a-view-versus-a-copy\n",
      "  data['weekday'] = data['last_update'].dt.dayofweek\n",
      "<ipython-input-92-ea40cb292515>:4: SettingWithCopyWarning: \n",
      "A value is trying to be set on a copy of a slice from a DataFrame.\n",
      "Try using .loc[row_indexer,col_indexer] = value instead\n",
      "\n",
      "See the caveats in the documentation: https://pandas.pydata.org/pandas-docs/stable/user_guide/indexing.html#returning-a-view-versus-a-copy\n",
      "  data['hour'] = data['last_update'].dt.hour\n"
     ]
    },
    {
     "data": {
      "text/plain": [
       "number                      110\n",
       "available_bike_stands        41\n",
       "available_bikes              41\n",
       "last_update              281954\n",
       "wind_speed                   27\n",
       "main_temp                  1001\n",
       "main_humidity                24\n",
       "dt                         4609\n",
       "Clouds                        2\n",
       "Clear                         2\n",
       "Snow                          1\n",
       "Rain                          2\n",
       "Drizzle                       2\n",
       "Thunderstorm                  1\n",
       "weekday                       7\n",
       "hour                         24\n",
       "dtype: int64"
      ]
     },
     "execution_count": 92,
     "metadata": {},
     "output_type": "execute_result"
    }
   ],
   "source": [
    "# Create new column weekday\n",
    "data['weekday'] = data['last_update'].dt.dayofweek\n",
    "# Create new column hour\n",
    "data['hour'] = data['last_update'].dt.hour\n",
    "data.nunique()"
   ]
  },
  {
   "cell_type": "code",
   "execution_count": 93,
   "metadata": {},
   "outputs": [
    {
     "data": {
      "text/html": [
       "<div>\n",
       "<style scoped>\n",
       "    .dataframe tbody tr th:only-of-type {\n",
       "        vertical-align: middle;\n",
       "    }\n",
       "\n",
       "    .dataframe tbody tr th {\n",
       "        vertical-align: top;\n",
       "    }\n",
       "\n",
       "    .dataframe thead th {\n",
       "        text-align: right;\n",
       "    }\n",
       "</style>\n",
       "<table border=\"1\" class=\"dataframe\">\n",
       "  <thead>\n",
       "    <tr style=\"text-align: right;\">\n",
       "      <th></th>\n",
       "      <th>number</th>\n",
       "      <th>available_bike_stands</th>\n",
       "      <th>available_bikes</th>\n",
       "      <th>last_update</th>\n",
       "      <th>wind_speed</th>\n",
       "      <th>main_temp</th>\n",
       "      <th>main_humidity</th>\n",
       "      <th>dt</th>\n",
       "      <th>Clouds</th>\n",
       "      <th>Clear</th>\n",
       "      <th>Snow</th>\n",
       "      <th>Rain</th>\n",
       "      <th>Drizzle</th>\n",
       "      <th>Thunderstorm</th>\n",
       "      <th>weekday</th>\n",
       "      <th>hour</th>\n",
       "    </tr>\n",
       "  </thead>\n",
       "  <tbody>\n",
       "    <tr>\n",
       "      <th>20</th>\n",
       "      <td>5</td>\n",
       "      <td>20</td>\n",
       "      <td>20</td>\n",
       "      <td>2021-03-08 13:40:07</td>\n",
       "      <td>4.63</td>\n",
       "      <td>283.48</td>\n",
       "      <td>62.0</td>\n",
       "      <td>2021-03-08 13:38:36</td>\n",
       "      <td>1.0</td>\n",
       "      <td>0.0</td>\n",
       "      <td>0.0</td>\n",
       "      <td>0.0</td>\n",
       "      <td>0.0</td>\n",
       "      <td>0.0</td>\n",
       "      <td>0</td>\n",
       "      <td>13</td>\n",
       "    </tr>\n",
       "    <tr>\n",
       "      <th>21</th>\n",
       "      <td>89</td>\n",
       "      <td>26</td>\n",
       "      <td>14</td>\n",
       "      <td>2021-03-08 13:42:06</td>\n",
       "      <td>4.63</td>\n",
       "      <td>283.48</td>\n",
       "      <td>62.0</td>\n",
       "      <td>2021-03-08 13:38:36</td>\n",
       "      <td>1.0</td>\n",
       "      <td>0.0</td>\n",
       "      <td>0.0</td>\n",
       "      <td>0.0</td>\n",
       "      <td>0.0</td>\n",
       "      <td>0.0</td>\n",
       "      <td>0</td>\n",
       "      <td>13</td>\n",
       "    </tr>\n",
       "  </tbody>\n",
       "</table>\n",
       "</div>"
      ],
      "text/plain": [
       "    number  available_bike_stands  available_bikes         last_update  \\\n",
       "20       5                     20               20 2021-03-08 13:40:07   \n",
       "21      89                     26               14 2021-03-08 13:42:06   \n",
       "\n",
       "    wind_speed  main_temp  main_humidity                  dt  Clouds  Clear  \\\n",
       "20        4.63     283.48           62.0 2021-03-08 13:38:36     1.0    0.0   \n",
       "21        4.63     283.48           62.0 2021-03-08 13:38:36     1.0    0.0   \n",
       "\n",
       "    Snow  Rain  Drizzle  Thunderstorm  weekday  hour  \n",
       "20   0.0   0.0      0.0           0.0        0    13  \n",
       "21   0.0   0.0      0.0           0.0        0    13  "
      ]
     },
     "execution_count": 93,
     "metadata": {},
     "output_type": "execute_result"
    }
   ],
   "source": [
    "data.head(2)"
   ]
  },
  {
   "cell_type": "code",
   "execution_count": 94,
   "metadata": {},
   "outputs": [],
   "source": [
    "# X for the input data to be predicted on\n",
    "X = data.drop(columns = [\"available_bikes\", \"available_bike_stands\", \"last_update\", \"dt\"])\n",
    "# y for the out/goal set\n",
    "y = data[[\"available_bikes\", \"available_bike_stands\"]]"
   ]
  },
  {
   "cell_type": "code",
   "execution_count": 95,
   "metadata": {},
   "outputs": [
    {
     "data": {
      "text/html": [
       "<div>\n",
       "<style scoped>\n",
       "    .dataframe tbody tr th:only-of-type {\n",
       "        vertical-align: middle;\n",
       "    }\n",
       "\n",
       "    .dataframe tbody tr th {\n",
       "        vertical-align: top;\n",
       "    }\n",
       "\n",
       "    .dataframe thead th {\n",
       "        text-align: right;\n",
       "    }\n",
       "</style>\n",
       "<table border=\"1\" class=\"dataframe\">\n",
       "  <thead>\n",
       "    <tr style=\"text-align: right;\">\n",
       "      <th></th>\n",
       "      <th>number</th>\n",
       "      <th>wind_speed</th>\n",
       "      <th>main_temp</th>\n",
       "      <th>main_humidity</th>\n",
       "      <th>Clouds</th>\n",
       "      <th>Clear</th>\n",
       "      <th>Snow</th>\n",
       "      <th>Rain</th>\n",
       "      <th>Drizzle</th>\n",
       "      <th>Thunderstorm</th>\n",
       "      <th>weekday</th>\n",
       "      <th>hour</th>\n",
       "    </tr>\n",
       "  </thead>\n",
       "  <tbody>\n",
       "  </tbody>\n",
       "</table>\n",
       "</div>"
      ],
      "text/plain": [
       "Empty DataFrame\n",
       "Columns: [number, wind_speed, main_temp, main_humidity, Clouds, Clear, Snow, Rain, Drizzle, Thunderstorm, weekday, hour]\n",
       "Index: []"
      ]
     },
     "execution_count": 95,
     "metadata": {},
     "output_type": "execute_result"
    }
   ],
   "source": [
    "X.head(0)"
   ]
  },
  {
   "cell_type": "code",
   "execution_count": 96,
   "metadata": {},
   "outputs": [
    {
     "data": {
      "text/plain": [
       "DecisionTreeClassifier()"
      ]
     },
     "execution_count": 96,
     "metadata": {},
     "output_type": "execute_result"
    }
   ],
   "source": [
    "# fit the model with the \n",
    "model = DecisionTreeClassifier()\n",
    "model.fit(X, y)"
   ]
  },
  {
   "cell_type": "markdown",
   "metadata": {},
   "source": [
    "### _Sample Prediction_"
   ]
  },
  {
   "cell_type": "code",
   "execution_count": 98,
   "metadata": {},
   "outputs": [
    {
     "data": {
      "text/plain": [
       "array([[17,  3]], dtype=int64)"
      ]
     },
     "execution_count": 98,
     "metadata": {},
     "output_type": "execute_result"
    }
   ],
   "source": [
    "# give test predictor the stand number, the wind speed, the main temp (kelvin) \n",
    "# the humidity, the weekday number, and the hour of the day\n",
    "model.predict([[12, 40, 300, 80, 1, 0, 0, 0, 0, 0, 6, 20]])"
   ]
  },
  {
   "cell_type": "code",
   "execution_count": 99,
   "metadata": {},
   "outputs": [
    {
     "data": {
      "text/plain": [
       "<Response [200]>"
      ]
     },
     "execution_count": 99,
     "metadata": {},
     "output_type": "execute_result"
    }
   ],
   "source": [
    "forecast = requests.get(\"https://api.openweathermap.org/data/2.5/onecall?lat=53.33306&lon=-6.24889&exclude=current,minutely&appid=5cf5e19adac515b3f8510d2692fddc43\")\n",
    "forecast"
   ]
  },
  {
   "cell_type": "code",
   "execution_count": 120,
   "metadata": {},
   "outputs": [],
   "source": [
    "forecast_data = forecast.json()"
   ]
  },
  {
   "cell_type": "code",
   "execution_count": 122,
   "metadata": {},
   "outputs": [
    {
     "data": {
      "text/html": [
       "<div>\n",
       "<style scoped>\n",
       "    .dataframe tbody tr th:only-of-type {\n",
       "        vertical-align: middle;\n",
       "    }\n",
       "\n",
       "    .dataframe tbody tr th {\n",
       "        vertical-align: top;\n",
       "    }\n",
       "\n",
       "    .dataframe thead th {\n",
       "        text-align: right;\n",
       "    }\n",
       "</style>\n",
       "<table border=\"1\" class=\"dataframe\">\n",
       "  <thead>\n",
       "    <tr style=\"text-align: right;\">\n",
       "      <th></th>\n",
       "      <th>dt</th>\n",
       "      <th>temp</th>\n",
       "      <th>feels_like</th>\n",
       "      <th>pressure</th>\n",
       "      <th>humidity</th>\n",
       "      <th>dew_point</th>\n",
       "      <th>uvi</th>\n",
       "      <th>clouds</th>\n",
       "      <th>visibility</th>\n",
       "      <th>wind_speed</th>\n",
       "      <th>wind_deg</th>\n",
       "      <th>wind_gust</th>\n",
       "      <th>weather</th>\n",
       "      <th>pop</th>\n",
       "      <th>snow.1h</th>\n",
       "    </tr>\n",
       "  </thead>\n",
       "  <tbody>\n",
       "    <tr>\n",
       "      <th>0</th>\n",
       "      <td>1617634800</td>\n",
       "      <td>279.18</td>\n",
       "      <td>275.09</td>\n",
       "      <td>1026</td>\n",
       "      <td>49</td>\n",
       "      <td>269.72</td>\n",
       "      <td>1.88</td>\n",
       "      <td>20</td>\n",
       "      <td>10000</td>\n",
       "      <td>6.70</td>\n",
       "      <td>356</td>\n",
       "      <td>9.58</td>\n",
       "      <td>[{'id': 801, 'main': 'Clouds', 'description': ...</td>\n",
       "      <td>0.0</td>\n",
       "      <td>NaN</td>\n",
       "    </tr>\n",
       "    <tr>\n",
       "      <th>1</th>\n",
       "      <td>1617638400</td>\n",
       "      <td>278.96</td>\n",
       "      <td>274.74</td>\n",
       "      <td>1026</td>\n",
       "      <td>50</td>\n",
       "      <td>269.78</td>\n",
       "      <td>1.26</td>\n",
       "      <td>59</td>\n",
       "      <td>10000</td>\n",
       "      <td>6.91</td>\n",
       "      <td>354</td>\n",
       "      <td>9.56</td>\n",
       "      <td>[{'id': 803, 'main': 'Clouds', 'description': ...</td>\n",
       "      <td>0.0</td>\n",
       "      <td>NaN</td>\n",
       "    </tr>\n",
       "  </tbody>\n",
       "</table>\n",
       "</div>"
      ],
      "text/plain": [
       "           dt    temp  feels_like  pressure  humidity  dew_point   uvi  \\\n",
       "0  1617634800  279.18      275.09      1026        49     269.72  1.88   \n",
       "1  1617638400  278.96      274.74      1026        50     269.78  1.26   \n",
       "\n",
       "   clouds  visibility  wind_speed  wind_deg  wind_gust  \\\n",
       "0      20       10000        6.70       356       9.58   \n",
       "1      59       10000        6.91       354       9.56   \n",
       "\n",
       "                                             weather  pop  snow.1h  \n",
       "0  [{'id': 801, 'main': 'Clouds', 'description': ...  0.0      NaN  \n",
       "1  [{'id': 803, 'main': 'Clouds', 'description': ...  0.0      NaN  "
      ]
     },
     "execution_count": 122,
     "metadata": {},
     "output_type": "execute_result"
    }
   ],
   "source": [
    "# iterate over the json array to get the hourly data\n",
    "hourly_data = 0\n",
    "for k, v in forecast_data.items():\n",
    "    if k == \"hourly\":\n",
    "        hourly_data = v\n",
    "\n",
    "for x in range(len(hourly_data)):\n",
    "    hourly_data[x]\n",
    "\n",
    "# convert the hourly data to a dataframe\n",
    "df = pd.DataFrame.from_dict(pd.json_normalize(hourly_data), orient='columns')\n",
    "df.head(2)"
   ]
  },
  {
   "cell_type": "markdown",
   "metadata": {},
   "source": [
    "### Create a list of weather values that corresponds with the value in the inner array per row"
   ]
  },
  {
   "cell_type": "code",
   "execution_count": 112,
   "metadata": {},
   "outputs": [
    {
     "name": "stdout",
     "output_type": "stream",
     "text": [
      "['Clouds', 'Clouds', 'Clouds', 'Clouds', 'Clear', 'Clear', 'Clear', 'Clear', 'Clear', 'Clouds', 'Clouds', 'Clouds', 'Clouds', 'Clouds', 'Clouds', 'Clouds', 'Clouds', 'Clouds', 'Clouds', 'Snow', 'Snow', 'Clouds', 'Clouds', 'Clouds', 'Clouds', 'Clouds', 'Snow', 'Snow', 'Clouds', 'Clouds', 'Clouds', 'Clouds', 'Clouds', 'Clouds', 'Clouds', 'Clouds', 'Clouds', 'Clouds', 'Clouds', 'Clouds', 'Clouds', 'Clouds', 'Clouds', 'Clouds', 'Clouds', 'Clouds', 'Clouds', 'Clouds']\n"
     ]
    }
   ],
   "source": [
    "weatherValues = []\n",
    "for x in df[\"weather\"]:\n",
    "    currentRow = x[0]\n",
    "    for key, value in currentRow.items():\n",
    "        if key == \"main\":\n",
    "            weatherValues.append(value)\n",
    "            \n",
    "print(weatherValues)"
   ]
  },
  {
   "cell_type": "markdown",
   "metadata": {},
   "source": [
    "### As we did before, create rows that correspond to these values"
   ]
  },
  {
   "cell_type": "code",
   "execution_count": 125,
   "metadata": {},
   "outputs": [
    {
     "data": {
      "text/html": [
       "<div>\n",
       "<style scoped>\n",
       "    .dataframe tbody tr th:only-of-type {\n",
       "        vertical-align: middle;\n",
       "    }\n",
       "\n",
       "    .dataframe tbody tr th {\n",
       "        vertical-align: top;\n",
       "    }\n",
       "\n",
       "    .dataframe thead th {\n",
       "        text-align: right;\n",
       "    }\n",
       "</style>\n",
       "<table border=\"1\" class=\"dataframe\">\n",
       "  <thead>\n",
       "    <tr style=\"text-align: right;\">\n",
       "      <th></th>\n",
       "      <th>dt</th>\n",
       "      <th>temp</th>\n",
       "      <th>feels_like</th>\n",
       "      <th>pressure</th>\n",
       "      <th>humidity</th>\n",
       "      <th>dew_point</th>\n",
       "      <th>uvi</th>\n",
       "      <th>clouds</th>\n",
       "      <th>visibility</th>\n",
       "      <th>wind_speed</th>\n",
       "      <th>...</th>\n",
       "      <th>wind_gust</th>\n",
       "      <th>weather</th>\n",
       "      <th>pop</th>\n",
       "      <th>snow.1h</th>\n",
       "      <th>Clouds</th>\n",
       "      <th>Clear</th>\n",
       "      <th>Snow</th>\n",
       "      <th>Rain</th>\n",
       "      <th>Drizzle</th>\n",
       "      <th>Thunderstorm</th>\n",
       "    </tr>\n",
       "  </thead>\n",
       "  <tbody>\n",
       "    <tr>\n",
       "      <th>0</th>\n",
       "      <td>1617634800</td>\n",
       "      <td>279.18</td>\n",
       "      <td>275.09</td>\n",
       "      <td>1026</td>\n",
       "      <td>49</td>\n",
       "      <td>269.72</td>\n",
       "      <td>1.88</td>\n",
       "      <td>20</td>\n",
       "      <td>10000</td>\n",
       "      <td>6.70</td>\n",
       "      <td>...</td>\n",
       "      <td>9.58</td>\n",
       "      <td>[{'id': 801, 'main': 'Clouds', 'description': ...</td>\n",
       "      <td>0.0</td>\n",
       "      <td>0.0</td>\n",
       "      <td>0.0</td>\n",
       "      <td>0.0</td>\n",
       "      <td>0.0</td>\n",
       "      <td>0.0</td>\n",
       "      <td>0.0</td>\n",
       "      <td>0.0</td>\n",
       "    </tr>\n",
       "    <tr>\n",
       "      <th>1</th>\n",
       "      <td>1617638400</td>\n",
       "      <td>278.96</td>\n",
       "      <td>274.74</td>\n",
       "      <td>1026</td>\n",
       "      <td>50</td>\n",
       "      <td>269.78</td>\n",
       "      <td>1.26</td>\n",
       "      <td>59</td>\n",
       "      <td>10000</td>\n",
       "      <td>6.91</td>\n",
       "      <td>...</td>\n",
       "      <td>9.56</td>\n",
       "      <td>[{'id': 803, 'main': 'Clouds', 'description': ...</td>\n",
       "      <td>0.0</td>\n",
       "      <td>0.0</td>\n",
       "      <td>0.0</td>\n",
       "      <td>0.0</td>\n",
       "      <td>0.0</td>\n",
       "      <td>0.0</td>\n",
       "      <td>0.0</td>\n",
       "      <td>0.0</td>\n",
       "    </tr>\n",
       "  </tbody>\n",
       "</table>\n",
       "<p>2 rows × 21 columns</p>\n",
       "</div>"
      ],
      "text/plain": [
       "           dt    temp  feels_like  pressure  humidity  dew_point   uvi  \\\n",
       "0  1617634800  279.18      275.09      1026        49     269.72  1.88   \n",
       "1  1617638400  278.96      274.74      1026        50     269.78  1.26   \n",
       "\n",
       "   clouds  visibility  wind_speed  ...  wind_gust  \\\n",
       "0      20       10000        6.70  ...       9.58   \n",
       "1      59       10000        6.91  ...       9.56   \n",
       "\n",
       "                                             weather  pop  snow.1h  Clouds  \\\n",
       "0  [{'id': 801, 'main': 'Clouds', 'description': ...  0.0      0.0     0.0   \n",
       "1  [{'id': 803, 'main': 'Clouds', 'description': ...  0.0      0.0     0.0   \n",
       "\n",
       "   Clear  Snow  Rain  Drizzle  Thunderstorm  \n",
       "0    0.0   0.0   0.0      0.0           0.0  \n",
       "1    0.0   0.0   0.0      0.0           0.0  \n",
       "\n",
       "[2 rows x 21 columns]"
      ]
     },
     "execution_count": 125,
     "metadata": {},
     "output_type": "execute_result"
    }
   ],
   "source": [
    "df = df.reindex(df.columns.tolist() + weatherConditions, axis=1)\n",
    "for col in df:\n",
    "    df[col] = df[col].replace(np.nan).fillna(0)\n",
    "df.head(2)"
   ]
  },
  {
   "cell_type": "code",
   "execution_count": 127,
   "metadata": {},
   "outputs": [
    {
     "data": {
      "text/html": [
       "<div>\n",
       "<style scoped>\n",
       "    .dataframe tbody tr th:only-of-type {\n",
       "        vertical-align: middle;\n",
       "    }\n",
       "\n",
       "    .dataframe tbody tr th {\n",
       "        vertical-align: top;\n",
       "    }\n",
       "\n",
       "    .dataframe thead th {\n",
       "        text-align: right;\n",
       "    }\n",
       "</style>\n",
       "<table border=\"1\" class=\"dataframe\">\n",
       "  <thead>\n",
       "    <tr style=\"text-align: right;\">\n",
       "      <th></th>\n",
       "      <th>dt</th>\n",
       "      <th>temp</th>\n",
       "      <th>feels_like</th>\n",
       "      <th>pressure</th>\n",
       "      <th>humidity</th>\n",
       "      <th>dew_point</th>\n",
       "      <th>uvi</th>\n",
       "      <th>clouds</th>\n",
       "      <th>visibility</th>\n",
       "      <th>wind_speed</th>\n",
       "      <th>...</th>\n",
       "      <th>wind_gust</th>\n",
       "      <th>weather</th>\n",
       "      <th>pop</th>\n",
       "      <th>snow.1h</th>\n",
       "      <th>Clouds</th>\n",
       "      <th>Clear</th>\n",
       "      <th>Snow</th>\n",
       "      <th>Rain</th>\n",
       "      <th>Drizzle</th>\n",
       "      <th>Thunderstorm</th>\n",
       "    </tr>\n",
       "  </thead>\n",
       "  <tbody>\n",
       "    <tr>\n",
       "      <th>0</th>\n",
       "      <td>1617634800</td>\n",
       "      <td>279.18</td>\n",
       "      <td>275.09</td>\n",
       "      <td>1026</td>\n",
       "      <td>49</td>\n",
       "      <td>269.72</td>\n",
       "      <td>1.88</td>\n",
       "      <td>20</td>\n",
       "      <td>10000</td>\n",
       "      <td>6.70</td>\n",
       "      <td>...</td>\n",
       "      <td>9.58</td>\n",
       "      <td>[{'id': 801, 'main': 'Clouds', 'description': ...</td>\n",
       "      <td>0.0</td>\n",
       "      <td>0.0</td>\n",
       "      <td>1.0</td>\n",
       "      <td>0.0</td>\n",
       "      <td>0.0</td>\n",
       "      <td>0.0</td>\n",
       "      <td>0.0</td>\n",
       "      <td>0.0</td>\n",
       "    </tr>\n",
       "    <tr>\n",
       "      <th>1</th>\n",
       "      <td>1617638400</td>\n",
       "      <td>278.96</td>\n",
       "      <td>274.74</td>\n",
       "      <td>1026</td>\n",
       "      <td>50</td>\n",
       "      <td>269.78</td>\n",
       "      <td>1.26</td>\n",
       "      <td>59</td>\n",
       "      <td>10000</td>\n",
       "      <td>6.91</td>\n",
       "      <td>...</td>\n",
       "      <td>9.56</td>\n",
       "      <td>[{'id': 803, 'main': 'Clouds', 'description': ...</td>\n",
       "      <td>0.0</td>\n",
       "      <td>0.0</td>\n",
       "      <td>1.0</td>\n",
       "      <td>0.0</td>\n",
       "      <td>0.0</td>\n",
       "      <td>0.0</td>\n",
       "      <td>0.0</td>\n",
       "      <td>0.0</td>\n",
       "    </tr>\n",
       "  </tbody>\n",
       "</table>\n",
       "<p>2 rows × 21 columns</p>\n",
       "</div>"
      ],
      "text/plain": [
       "           dt    temp  feels_like  pressure  humidity  dew_point   uvi  \\\n",
       "0  1617634800  279.18      275.09      1026        49     269.72  1.88   \n",
       "1  1617638400  278.96      274.74      1026        50     269.78  1.26   \n",
       "\n",
       "   clouds  visibility  wind_speed  ...  wind_gust  \\\n",
       "0      20       10000        6.70  ...       9.58   \n",
       "1      59       10000        6.91  ...       9.56   \n",
       "\n",
       "                                             weather  pop  snow.1h  Clouds  \\\n",
       "0  [{'id': 801, 'main': 'Clouds', 'description': ...  0.0      0.0     1.0   \n",
       "1  [{'id': 803, 'main': 'Clouds', 'description': ...  0.0      0.0     1.0   \n",
       "\n",
       "   Clear  Snow  Rain  Drizzle  Thunderstorm  \n",
       "0    0.0   0.0   0.0      0.0           0.0  \n",
       "1    0.0   0.0   0.0      0.0           0.0  \n",
       "\n",
       "[2 rows x 21 columns]"
      ]
     },
     "execution_count": 127,
     "metadata": {},
     "output_type": "execute_result"
    }
   ],
   "source": [
    "for x in range(len(weatherValues)):\n",
    "    for column in df.columns:\n",
    "        if weatherValues[x] == column:\n",
    "            df.at[x, column] = 1\n",
    "df.head(2)"
   ]
  },
  {
   "cell_type": "markdown",
   "metadata": {},
   "source": [
    "### Dump un-needed columns"
   ]
  },
  {
   "cell_type": "code",
   "execution_count": 138,
   "metadata": {},
   "outputs": [
    {
     "data": {
      "text/html": [
       "<div>\n",
       "<style scoped>\n",
       "    .dataframe tbody tr th:only-of-type {\n",
       "        vertical-align: middle;\n",
       "    }\n",
       "\n",
       "    .dataframe tbody tr th {\n",
       "        vertical-align: top;\n",
       "    }\n",
       "\n",
       "    .dataframe thead th {\n",
       "        text-align: right;\n",
       "    }\n",
       "</style>\n",
       "<table border=\"1\" class=\"dataframe\">\n",
       "  <thead>\n",
       "    <tr style=\"text-align: right;\">\n",
       "      <th></th>\n",
       "      <th>dt</th>\n",
       "      <th>temp</th>\n",
       "      <th>wind_speed</th>\n",
       "      <th>humidity</th>\n",
       "      <th>Clouds</th>\n",
       "      <th>Clear</th>\n",
       "      <th>Snow</th>\n",
       "      <th>Rain</th>\n",
       "      <th>Drizzle</th>\n",
       "      <th>Thunderstorm</th>\n",
       "    </tr>\n",
       "  </thead>\n",
       "  <tbody>\n",
       "    <tr>\n",
       "      <th>0</th>\n",
       "      <td>1617634800</td>\n",
       "      <td>279.18</td>\n",
       "      <td>6.70</td>\n",
       "      <td>49</td>\n",
       "      <td>1.0</td>\n",
       "      <td>0.0</td>\n",
       "      <td>0.0</td>\n",
       "      <td>0.0</td>\n",
       "      <td>0.0</td>\n",
       "      <td>0.0</td>\n",
       "    </tr>\n",
       "    <tr>\n",
       "      <th>1</th>\n",
       "      <td>1617638400</td>\n",
       "      <td>278.96</td>\n",
       "      <td>6.91</td>\n",
       "      <td>50</td>\n",
       "      <td>1.0</td>\n",
       "      <td>0.0</td>\n",
       "      <td>0.0</td>\n",
       "      <td>0.0</td>\n",
       "      <td>0.0</td>\n",
       "      <td>0.0</td>\n",
       "    </tr>\n",
       "  </tbody>\n",
       "</table>\n",
       "</div>"
      ],
      "text/plain": [
       "           dt    temp  wind_speed  humidity  Clouds  Clear  Snow  Rain  \\\n",
       "0  1617634800  279.18        6.70        49     1.0    0.0   0.0   0.0   \n",
       "1  1617638400  278.96        6.91        50     1.0    0.0   0.0   0.0   \n",
       "\n",
       "   Drizzle  Thunderstorm  \n",
       "0      0.0           0.0  \n",
       "1      0.0           0.0  "
      ]
     },
     "execution_count": 138,
     "metadata": {},
     "output_type": "execute_result"
    }
   ],
   "source": [
    "# get rid of the unneeded rows\n",
    "weather_df = df[[\"dt\", \"temp\", \"wind_speed\", \"humidity\", \"Clouds\", \"Clear\", \"Snow\", \"Rain\", \"Drizzle\", \"Thunderstorm\"]]\n",
    "weather_df.head(2)"
   ]
  },
  {
   "cell_type": "code",
   "execution_count": 139,
   "metadata": {},
   "outputs": [
    {
     "data": {
      "text/plain": [
       "dt                int64\n",
       "temp            float64\n",
       "feels_like      float64\n",
       "pressure          int64\n",
       "humidity          int64\n",
       "dew_point       float64\n",
       "uvi             float64\n",
       "clouds            int64\n",
       "visibility        int64\n",
       "wind_speed      float64\n",
       "wind_deg          int64\n",
       "wind_gust       float64\n",
       "weather          object\n",
       "pop             float64\n",
       "snow.1h         float64\n",
       "Clouds          float64\n",
       "Clear           float64\n",
       "Snow            float64\n",
       "Rain            float64\n",
       "Drizzle         float64\n",
       "Thunderstorm    float64\n",
       "dtype: object"
      ]
     },
     "execution_count": 139,
     "metadata": {},
     "output_type": "execute_result"
    }
   ],
   "source": [
    "df.dtypes"
   ]
  },
  {
   "cell_type": "code",
   "execution_count": 140,
   "metadata": {},
   "outputs": [
    {
     "name": "stderr",
     "output_type": "stream",
     "text": [
      "<ipython-input-140-4c7db20836c9>:4: SettingWithCopyWarning: \n",
      "A value is trying to be set on a copy of a slice from a DataFrame.\n",
      "Try using .loc[row_indexer,col_indexer] = value instead\n",
      "\n",
      "See the caveats in the documentation: https://pandas.pydata.org/pandas-docs/stable/user_guide/indexing.html#returning-a-view-versus-a-copy\n",
      "  weather_df['datetime'] = weather_df.dt.apply(lambda x: start + timedelta(seconds=x))\n"
     ]
    }
   ],
   "source": [
    "# convert from unix epoch time to useable format...\n",
    "from datetime import datetime, timedelta\n",
    "start = datetime(1970, 1, 1)  # Unix epoch start time\n",
    "weather_df['datetime'] = weather_df.dt.apply(lambda x: start + timedelta(seconds=x))"
   ]
  },
  {
   "cell_type": "code",
   "execution_count": 141,
   "metadata": {},
   "outputs": [
    {
     "data": {
      "text/plain": [
       "temp                   float64\n",
       "wind_speed             float64\n",
       "humidity                 int64\n",
       "Clouds                 float64\n",
       "Clear                  float64\n",
       "Snow                   float64\n",
       "Rain                   float64\n",
       "Drizzle                float64\n",
       "Thunderstorm           float64\n",
       "datetime        datetime64[ns]\n",
       "dtype: object"
      ]
     },
     "execution_count": 141,
     "metadata": {},
     "output_type": "execute_result"
    }
   ],
   "source": [
    "# dt is no longer needed\n",
    "weather_df = weather_df.drop(columns= [\"dt\"])\n",
    "weather_df.dtypes"
   ]
  },
  {
   "cell_type": "code",
   "execution_count": 142,
   "metadata": {},
   "outputs": [],
   "source": [
    "# Create new column weekday\n",
    "weather_df['weekday'] = weather_df['datetime'].dt.dayofweek\n",
    "# Create new column hour\n",
    "weather_df['hour'] = weather_df['datetime'].dt.hour\n",
    "\n",
    "# dump now defunct datetime column\n",
    "weather_df = weather_df.drop(columns= [\"datetime\"])"
   ]
  },
  {
   "cell_type": "code",
   "execution_count": 143,
   "metadata": {},
   "outputs": [
    {
     "data": {
      "text/html": [
       "<div>\n",
       "<style scoped>\n",
       "    .dataframe tbody tr th:only-of-type {\n",
       "        vertical-align: middle;\n",
       "    }\n",
       "\n",
       "    .dataframe tbody tr th {\n",
       "        vertical-align: top;\n",
       "    }\n",
       "\n",
       "    .dataframe thead th {\n",
       "        text-align: right;\n",
       "    }\n",
       "</style>\n",
       "<table border=\"1\" class=\"dataframe\">\n",
       "  <thead>\n",
       "    <tr style=\"text-align: right;\">\n",
       "      <th></th>\n",
       "      <th>temp</th>\n",
       "      <th>wind_speed</th>\n",
       "      <th>humidity</th>\n",
       "      <th>Clouds</th>\n",
       "      <th>Clear</th>\n",
       "      <th>Snow</th>\n",
       "      <th>Rain</th>\n",
       "      <th>Drizzle</th>\n",
       "      <th>Thunderstorm</th>\n",
       "      <th>weekday</th>\n",
       "      <th>hour</th>\n",
       "    </tr>\n",
       "  </thead>\n",
       "  <tbody>\n",
       "    <tr>\n",
       "      <th>0</th>\n",
       "      <td>279.18</td>\n",
       "      <td>6.70</td>\n",
       "      <td>49</td>\n",
       "      <td>1.0</td>\n",
       "      <td>0.0</td>\n",
       "      <td>0.0</td>\n",
       "      <td>0.0</td>\n",
       "      <td>0.0</td>\n",
       "      <td>0.0</td>\n",
       "      <td>0</td>\n",
       "      <td>15</td>\n",
       "    </tr>\n",
       "    <tr>\n",
       "      <th>1</th>\n",
       "      <td>278.96</td>\n",
       "      <td>6.91</td>\n",
       "      <td>50</td>\n",
       "      <td>1.0</td>\n",
       "      <td>0.0</td>\n",
       "      <td>0.0</td>\n",
       "      <td>0.0</td>\n",
       "      <td>0.0</td>\n",
       "      <td>0.0</td>\n",
       "      <td>0</td>\n",
       "      <td>16</td>\n",
       "    </tr>\n",
       "  </tbody>\n",
       "</table>\n",
       "</div>"
      ],
      "text/plain": [
       "     temp  wind_speed  humidity  Clouds  Clear  Snow  Rain  Drizzle  \\\n",
       "0  279.18        6.70        49     1.0    0.0   0.0   0.0      0.0   \n",
       "1  278.96        6.91        50     1.0    0.0   0.0   0.0      0.0   \n",
       "\n",
       "   Thunderstorm  weekday  hour  \n",
       "0           0.0        0    15  \n",
       "1           0.0        0    16  "
      ]
     },
     "execution_count": 143,
     "metadata": {},
     "output_type": "execute_result"
    }
   ],
   "source": [
    "weather_df.head(2)"
   ]
  },
  {
   "cell_type": "code",
   "execution_count": 144,
   "metadata": {},
   "outputs": [
    {
     "data": {
      "text/plain": [
       "temp            45\n",
       "wind_speed      46\n",
       "humidity        31\n",
       "Clouds           2\n",
       "Clear            2\n",
       "Snow             2\n",
       "Rain             1\n",
       "Drizzle          1\n",
       "Thunderstorm     1\n",
       "weekday          3\n",
       "hour            24\n",
       "dtype: int64"
      ]
     },
     "execution_count": 144,
     "metadata": {},
     "output_type": "execute_result"
    }
   ],
   "source": [
    "weather_df.nunique()"
   ]
  },
  {
   "cell_type": "code",
   "execution_count": 145,
   "metadata": {},
   "outputs": [
    {
     "data": {
      "text/plain": [
       "(48, 11)"
      ]
     },
     "execution_count": 145,
     "metadata": {},
     "output_type": "execute_result"
    }
   ],
   "source": [
    "weather_df.shape"
   ]
  },
  {
   "cell_type": "markdown",
   "metadata": {},
   "source": [
    "# create a dummy weather data set and insert a dummy station number at FIRST INDEX"
   ]
  },
  {
   "cell_type": "code",
   "execution_count": 146,
   "metadata": {},
   "outputs": [],
   "source": [
    "desired_row = weather_df.iloc[1].tolist()\n",
    "desired_row.insert(0, 12)"
   ]
  },
  {
   "cell_type": "code",
   "execution_count": null,
   "metadata": {},
   "outputs": [],
   "source": [
    "# give test predictor the list of user input variables (in this case, a dummy set)\n",
    "prediction = model.predict([desired_row])\n",
    "prediction_values = prediction[0]\n",
    "\n",
    "#sample output\n",
    "print(f\"Station number {desired_row[0]}\")\n",
    "print(\"-------------------\")\n",
    "print(f\"Predicted available bikes at  : {prediction_values[0]} \")\n",
    "print(f\"Predicted available bike stands : {prediction_values[1]}\")"
   ]
  },
  {
   "cell_type": "code",
   "execution_count": null,
   "metadata": {},
   "outputs": [],
   "source": []
  }
 ],
 "metadata": {
  "kernelspec": {
   "display_name": "Python 3",
   "language": "python",
   "name": "python3"
  },
  "language_info": {
   "codemirror_mode": {
    "name": "ipython",
    "version": 3
   },
   "file_extension": ".py",
   "mimetype": "text/x-python",
   "name": "python",
   "nbconvert_exporter": "python",
   "pygments_lexer": "ipython3",
   "version": "3.8.8"
  }
 },
 "nbformat": 4,
 "nbformat_minor": 4
}
