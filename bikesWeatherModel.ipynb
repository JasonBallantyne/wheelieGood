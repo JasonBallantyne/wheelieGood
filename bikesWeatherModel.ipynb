{
 "cells": [
  {
   "cell_type": "code",
   "execution_count": 1,
   "metadata": {},
   "outputs": [],
   "source": [
    "user = \"admin\"\n",
    "passw = \"AsH3saUzNX\"\n",
    "uri = \"wheeliegood.cpd1upycyviv.us-east-1.rds.amazonaws.com\"\n",
    "# APIKEY = \"faa0b3cb4ae90aba340567484b057e59c72b1a37\"\n",
    "APIKEY = \"937848f62521aa822495dbe1716d5ca9ecf84fba\"\n",
    "NAME = \"Dublin\"\n",
    "STATIONS = \"https://api.jcdecaux.com/vls/v1/stations\"\n",
    "WEATHER_INFO = \"https://api.openweathermap.org/data/2.5/weather\"\n",
    "FORECAST_INFO = \"https://api.openweathermap.org/data/2.5/onecall\"\n",
    "FORECAST_API = \"5cf5e19adac515b3f8510d2692fddc43\"\n",
    "WAPIKEY = \"4f52f429445505a8554ffaf9b514990d\"\n",
    "WNAME = \"2964574\"\n",
    "#https://api.openweathermap.org/data/2.5/onecall?lat=53.33306&lon=-6.24889&appid=5cf5e19adac515b3f8510d2692fddc43"
   ]
  },
  {
   "cell_type": "code",
   "execution_count": 58,
   "metadata": {},
   "outputs": [],
   "source": [
    "from sqlalchemy import create_engine\n",
    "from pandas import pandas as pd\n",
    "from functools import lru_cache\n",
    "from sklearn.tree import DecisionTreeClassifier\n",
    "from sklearn.model_selection import train_test_split\n",
    "from sklearn.metrics import accuracy_score\n",
    "from sklearn.ensemble import RandomForestClassifier\n",
    "from sklearn.neighbors import KNeighborsClassifier\n",
    "from sklearn.metrics import confusion_matrix\n",
    "from sklearn.metrics import plot_confusion_matrix\n",
    "from sklearn.metrics import classification_report\n",
    "from sklearn.linear_model import LinearRegression\n",
    "from sklearn.metrics import f1_score\n",
    "import matplotlib.pyplot as plt\n",
    "import pickle\n",
    "import requests\n",
    "import json\n",
    "import numpy as np\n",
    "import datetime"
   ]
  },
  {
   "cell_type": "code",
   "execution_count": 3,
   "metadata": {},
   "outputs": [],
   "source": [
    "def static_bikes():\n",
    "    # Request Data from API\n",
    "    engine = create_engine(f\"mysql+mysqlconnector://{user}:{passw}@{uri}:3306/wheelieGood\",\n",
    "                           echo=True)\n",
    "    # Using static bike table\n",
    "    bike_data = pd.read_sql(\"SELECT * FROM wheelieGood.static_bikes;\", engine)\n",
    "    return bike_data\n",
    "\n",
    "def dynamic_bikes():\n",
    "    # Request Data from API\n",
    "    engine = create_engine(f\"mysql+mysqlconnector://{user}:{passw}@{uri}:3306/wheelieGood\",\n",
    "                           echo=True)\n",
    "    # Using static bike table\n",
    "    bike_data = pd.read_sql(\"SELECT * FROM wheelieGood.dynamic_bikes;\", engine)\n",
    "    return bike_data\n",
    "\n",
    "def dynamic_weather():\n",
    "    # Request Data from API\n",
    "    engine = create_engine(f\"mysql+mysqlconnector://{user}:{passw}@{uri}:3306/wheelieGood\",\n",
    "                           echo=True)\n",
    "    # Using static bike table\n",
    "    weather_data = pd.read_sql(\"SELECT * from weather\", engine)\n",
    "    return weather_data"
   ]
  },
  {
   "cell_type": "code",
   "execution_count": 4,
   "metadata": {},
   "outputs": [
    {
     "name": "stdout",
     "output_type": "stream",
     "text": [
      "2021-04-06 18:04:40,692 INFO sqlalchemy.engine.base.Engine SHOW VARIABLES LIKE 'sql_mode'\n",
      "2021-04-06 18:04:40,694 INFO sqlalchemy.engine.base.Engine {}\n",
      "2021-04-06 18:04:41,268 INFO sqlalchemy.engine.base.Engine SHOW VARIABLES LIKE 'lower_case_table_names'\n",
      "2021-04-06 18:04:41,269 INFO sqlalchemy.engine.base.Engine {}\n",
      "2021-04-06 18:04:41,978 INFO sqlalchemy.engine.base.Engine SELECT DATABASE()\n",
      "2021-04-06 18:04:41,979 INFO sqlalchemy.engine.base.Engine {}\n",
      "2021-04-06 18:04:44,415 INFO sqlalchemy.engine.base.Engine SELECT CAST('test plain returns' AS CHAR(60)) AS anon_1\n",
      "2021-04-06 18:04:44,416 INFO sqlalchemy.engine.base.Engine {}\n",
      "2021-04-06 18:04:44,904 INFO sqlalchemy.engine.base.Engine SELECT CAST('test unicode returns' AS CHAR(60)) AS anon_1\n",
      "2021-04-06 18:04:44,907 INFO sqlalchemy.engine.base.Engine {}\n",
      "2021-04-06 18:04:45,471 INFO sqlalchemy.engine.base.Engine DESCRIBE `SELECT * from weather`\n",
      "2021-04-06 18:04:45,472 INFO sqlalchemy.engine.base.Engine {}\n",
      "2021-04-06 18:04:45,599 INFO sqlalchemy.engine.base.Engine ROLLBACK\n",
      "2021-04-06 18:04:46,063 INFO sqlalchemy.engine.base.OptionEngine SELECT * from weather\n",
      "2021-04-06 18:04:46,064 INFO sqlalchemy.engine.base.OptionEngine {}\n",
      "2021-04-06 18:04:48,779 INFO sqlalchemy.engine.base.Engine SHOW VARIABLES LIKE 'sql_mode'\n",
      "2021-04-06 18:04:48,780 INFO sqlalchemy.engine.base.Engine {}\n",
      "2021-04-06 18:04:49,217 INFO sqlalchemy.engine.base.Engine SHOW VARIABLES LIKE 'lower_case_table_names'\n",
      "2021-04-06 18:04:49,218 INFO sqlalchemy.engine.base.Engine {}\n",
      "2021-04-06 18:04:49,887 INFO sqlalchemy.engine.base.Engine SELECT DATABASE()\n",
      "2021-04-06 18:04:49,888 INFO sqlalchemy.engine.base.Engine {}\n",
      "2021-04-06 18:04:50,777 INFO sqlalchemy.engine.base.Engine SELECT CAST('test plain returns' AS CHAR(60)) AS anon_1\n",
      "2021-04-06 18:04:50,778 INFO sqlalchemy.engine.base.Engine {}\n",
      "2021-04-06 18:04:51,109 INFO sqlalchemy.engine.base.Engine SELECT CAST('test unicode returns' AS CHAR(60)) AS anon_1\n",
      "2021-04-06 18:04:51,110 INFO sqlalchemy.engine.base.Engine {}\n",
      "2021-04-06 18:04:51,553 INFO sqlalchemy.engine.base.Engine DESCRIBE `SELECT * FROM wheelieGood.dynamic_bikes;`\n",
      "2021-04-06 18:04:51,554 INFO sqlalchemy.engine.base.Engine {}\n",
      "2021-04-06 18:04:51,684 INFO sqlalchemy.engine.base.Engine ROLLBACK\n",
      "2021-04-06 18:04:52,270 INFO sqlalchemy.engine.base.OptionEngine SELECT * FROM wheelieGood.dynamic_bikes;\n",
      "2021-04-06 18:04:52,271 INFO sqlalchemy.engine.base.OptionEngine {}\n",
      "2021-04-06 18:05:12,325 INFO sqlalchemy.engine.base.Engine SHOW VARIABLES LIKE 'sql_mode'\n",
      "2021-04-06 18:05:12,325 INFO sqlalchemy.engine.base.Engine {}\n",
      "2021-04-06 18:05:12,662 INFO sqlalchemy.engine.base.Engine SHOW VARIABLES LIKE 'lower_case_table_names'\n",
      "2021-04-06 18:05:12,663 INFO sqlalchemy.engine.base.Engine {}\n",
      "2021-04-06 18:05:13,329 INFO sqlalchemy.engine.base.Engine SELECT DATABASE()\n",
      "2021-04-06 18:05:13,330 INFO sqlalchemy.engine.base.Engine {}\n",
      "2021-04-06 18:05:14,013 INFO sqlalchemy.engine.base.Engine SELECT CAST('test plain returns' AS CHAR(60)) AS anon_1\n",
      "2021-04-06 18:05:14,015 INFO sqlalchemy.engine.base.Engine {}\n",
      "2021-04-06 18:05:14,347 INFO sqlalchemy.engine.base.Engine SELECT CAST('test unicode returns' AS CHAR(60)) AS anon_1\n",
      "2021-04-06 18:05:14,348 INFO sqlalchemy.engine.base.Engine {}\n",
      "2021-04-06 18:05:14,821 INFO sqlalchemy.engine.base.Engine DESCRIBE `SELECT * FROM wheelieGood.static_bikes;`\n",
      "2021-04-06 18:05:14,821 INFO sqlalchemy.engine.base.Engine {}\n",
      "2021-04-06 18:05:14,932 INFO sqlalchemy.engine.base.Engine ROLLBACK\n",
      "2021-04-06 18:05:15,370 INFO sqlalchemy.engine.base.OptionEngine SELECT * FROM wheelieGood.static_bikes;\n",
      "2021-04-06 18:05:15,371 INFO sqlalchemy.engine.base.OptionEngine {}\n"
     ]
    }
   ],
   "source": [
    "weather = dynamic_weather()\n",
    "bikes = dynamic_bikes()\n",
    "static = static_bikes()\n",
    "#bikes.head(2)"
   ]
  },
  {
   "cell_type": "code",
   "execution_count": 5,
   "metadata": {},
   "outputs": [
    {
     "data": {
      "text/plain": [
       "coord_lon                     float64\n",
       "coord_lat                     float64\n",
       "weather_main                   object\n",
       "weather_description            object\n",
       "weather_icon                   object\n",
       "main_temp                     float64\n",
       "main_pressure                   int64\n",
       "main_humidity                   int64\n",
       "main_temp_min                 float64\n",
       "main_temp_max                 float64\n",
       "visibility                      int64\n",
       "wind_speed                    float64\n",
       "wind_deg                        int64\n",
       "clouds_all                      int64\n",
       "dt                     datetime64[ns]\n",
       "sys_type                        int64\n",
       "sys_id                          int64\n",
       "sys_country                    object\n",
       "sys_sunrise            datetime64[ns]\n",
       "sys_sunset             datetime64[ns]\n",
       "city_id                         int64\n",
       "city_name                      object\n",
       "cod                             int64\n",
       "Current Time           datetime64[ns]\n",
       "dtype: object"
      ]
     },
     "execution_count": 5,
     "metadata": {},
     "output_type": "execute_result"
    }
   ],
   "source": [
    "weather.dtypes"
   ]
  },
  {
   "cell_type": "code",
   "execution_count": 6,
   "metadata": {},
   "outputs": [
    {
     "name": "stdout",
     "output_type": "stream",
     "text": [
      "number\n",
      "available_bike_stands\n",
      "available_bikes\n",
      "last_update\n"
     ]
    }
   ],
   "source": [
    "total_stands = []\n",
    "for column in bikes:\n",
    "    print(column)"
   ]
  },
  {
   "cell_type": "code",
   "execution_count": 7,
   "metadata": {},
   "outputs": [],
   "source": [
    "# Select columns containing categorical data\n",
    "weather_categorical_columns = weather[['weather_description', 'weather_icon', 'sys_country']].columns\n",
    "\n",
    "# Convert data type to category for these columns\n",
    "for column in weather_categorical_columns:\n",
    "    weather[column] = weather[column].astype('category')"
   ]
  },
  {
   "cell_type": "code",
   "execution_count": 8,
   "metadata": {},
   "outputs": [],
   "source": [
    "weather_datetime_columns = weather[['Current Time', 'dt', 'sys_sunset', 'sys_sunrise']].columns\n",
    "\n",
    "# Convert data type to datetime for these columns\n",
    "for column in weather_datetime_columns:\n",
    "    weather[column] = weather[column].astype('datetime64[ns]')"
   ]
  },
  {
   "cell_type": "code",
   "execution_count": 9,
   "metadata": {},
   "outputs": [],
   "source": [
    "bikes.sort_values('last_update', inplace=True)\n",
    "weather.sort_values('dt', inplace=True)"
   ]
  },
  {
   "cell_type": "code",
   "execution_count": 10,
   "metadata": {},
   "outputs": [],
   "source": [
    "weatherTrim = weather[[\"weather_main\", \"wind_speed\", \"main_temp\", \"main_humidity\", \"dt\"]]"
   ]
  },
  {
   "cell_type": "markdown",
   "metadata": {},
   "source": [
    "adding weather types to weather table"
   ]
  },
  {
   "cell_type": "code",
   "execution_count": 11,
   "metadata": {},
   "outputs": [
    {
     "data": {
      "text/html": [
       "<div>\n",
       "<style scoped>\n",
       "    .dataframe tbody tr th:only-of-type {\n",
       "        vertical-align: middle;\n",
       "    }\n",
       "\n",
       "    .dataframe tbody tr th {\n",
       "        vertical-align: top;\n",
       "    }\n",
       "\n",
       "    .dataframe thead th {\n",
       "        text-align: right;\n",
       "    }\n",
       "</style>\n",
       "<table border=\"1\" class=\"dataframe\">\n",
       "  <thead>\n",
       "    <tr style=\"text-align: right;\">\n",
       "      <th></th>\n",
       "      <th>weather_main</th>\n",
       "      <th>wind_speed</th>\n",
       "      <th>main_temp</th>\n",
       "      <th>main_humidity</th>\n",
       "      <th>dt</th>\n",
       "      <th>Clouds</th>\n",
       "      <th>Clear</th>\n",
       "      <th>Snow</th>\n",
       "      <th>Rain</th>\n",
       "      <th>Drizzle</th>\n",
       "      <th>Thunderstorm</th>\n",
       "    </tr>\n",
       "  </thead>\n",
       "  <tbody>\n",
       "    <tr>\n",
       "      <th>0</th>\n",
       "      <td>Clouds</td>\n",
       "      <td>4.63</td>\n",
       "      <td>283.48</td>\n",
       "      <td>62</td>\n",
       "      <td>2021-03-08 13:37:42</td>\n",
       "      <td>1.0</td>\n",
       "      <td>0.0</td>\n",
       "      <td>0.0</td>\n",
       "      <td>0.0</td>\n",
       "      <td>0.0</td>\n",
       "      <td>0.0</td>\n",
       "    </tr>\n",
       "    <tr>\n",
       "      <th>1</th>\n",
       "      <td>Clouds</td>\n",
       "      <td>4.63</td>\n",
       "      <td>283.48</td>\n",
       "      <td>62</td>\n",
       "      <td>2021-03-08 13:38:36</td>\n",
       "      <td>1.0</td>\n",
       "      <td>0.0</td>\n",
       "      <td>0.0</td>\n",
       "      <td>0.0</td>\n",
       "      <td>0.0</td>\n",
       "      <td>0.0</td>\n",
       "    </tr>\n",
       "  </tbody>\n",
       "</table>\n",
       "</div>"
      ],
      "text/plain": [
       "  weather_main  wind_speed  main_temp  main_humidity                  dt  \\\n",
       "0       Clouds        4.63     283.48             62 2021-03-08 13:37:42   \n",
       "1       Clouds        4.63     283.48             62 2021-03-08 13:38:36   \n",
       "\n",
       "   Clouds  Clear  Snow  Rain  Drizzle  Thunderstorm  \n",
       "0     1.0    0.0   0.0   0.0      0.0           0.0  \n",
       "1     1.0    0.0   0.0   0.0      0.0           0.0  "
      ]
     },
     "execution_count": 11,
     "metadata": {},
     "output_type": "execute_result"
    }
   ],
   "source": [
    "weatherConditions = [\"Clouds\", \"Clear\", \"Snow\", \"Rain\", \"Drizzle\", \"Thunderstorm\"]\n",
    "\n",
    "\n",
    "weatherTrim = weatherTrim.reindex(weatherTrim.columns.tolist() + weatherConditions, axis=1)\n",
    "for col in weatherConditions:\n",
    "    weatherTrim[col] = weatherTrim[col].replace(np.nan).fillna(0)\n",
    "    \n",
    "weatherTrim.loc[(weatherTrim['weather_main'] == 'Clouds'), 'Clouds'] = 1\n",
    "weatherTrim.loc[(weatherTrim['weather_main'] == 'Clear'), 'Clear'] = 1\n",
    "weatherTrim.loc[(weatherTrim['weather_main'] == 'Snow'), 'Snow'] = 1\n",
    "weatherTrim.loc[(weatherTrim['weather_main'] == 'Rain'), 'Rain'] = 1\n",
    "weatherTrim.loc[(weatherTrim['weather_main'] == 'Drizzle'), 'Drizzle'] = 1\n",
    "weatherTrim.loc[(weatherTrim['weather_main'] == 'Thunderstorm'), 'Thunderstorm'] = 1\n",
    "weatherTrim.head(2)"
   ]
  },
  {
   "cell_type": "code",
   "execution_count": 12,
   "metadata": {},
   "outputs": [],
   "source": [
    "weatherTrim = weatherTrim.drop(columns=\"weather_main\")"
   ]
  },
  {
   "cell_type": "code",
   "execution_count": 13,
   "metadata": {},
   "outputs": [
    {
     "data": {
      "text/plain": [
       "number                            int64\n",
       "available_bike_stands             int64\n",
       "available_bikes                   int64\n",
       "last_update              datetime64[ns]\n",
       "dtype: object"
      ]
     },
     "execution_count": 13,
     "metadata": {},
     "output_type": "execute_result"
    }
   ],
   "source": [
    "bikes.dtypes"
   ]
  },
  {
   "cell_type": "code",
   "execution_count": 14,
   "metadata": {},
   "outputs": [
    {
     "data": {
      "text/plain": [
       "wind_speed              float64\n",
       "main_temp               float64\n",
       "main_humidity             int64\n",
       "dt               datetime64[ns]\n",
       "Clouds                  float64\n",
       "Clear                   float64\n",
       "Snow                    float64\n",
       "Rain                    float64\n",
       "Drizzle                 float64\n",
       "Thunderstorm            float64\n",
       "dtype: object"
      ]
     },
     "execution_count": 14,
     "metadata": {},
     "output_type": "execute_result"
    }
   ],
   "source": [
    "weatherTrim.dtypes"
   ]
  },
  {
   "cell_type": "code",
   "execution_count": 15,
   "metadata": {},
   "outputs": [],
   "source": [
    "merged_data = pd.merge_asof(bikes, weatherTrim, left_on=\"last_update\", right_on=\"dt\")"
   ]
  },
  {
   "cell_type": "code",
   "execution_count": 16,
   "metadata": {},
   "outputs": [],
   "source": [
    "# for inspection\n",
    "#merged_data.to_csv(\"test.csv\")"
   ]
  },
  {
   "cell_type": "code",
   "execution_count": 17,
   "metadata": {},
   "outputs": [
    {
     "data": {
      "text/plain": [
       "(913039, 4)"
      ]
     },
     "execution_count": 17,
     "metadata": {},
     "output_type": "execute_result"
    }
   ],
   "source": [
    "bikes.shape"
   ]
  },
  {
   "cell_type": "code",
   "execution_count": 18,
   "metadata": {},
   "outputs": [
    {
     "data": {
      "text/plain": [
       "(913039, 14)"
      ]
     },
     "execution_count": 18,
     "metadata": {},
     "output_type": "execute_result"
    }
   ],
   "source": [
    "merged_data.shape"
   ]
  },
  {
   "cell_type": "code",
   "execution_count": 19,
   "metadata": {},
   "outputs": [
    {
     "data": {
      "text/html": [
       "<div>\n",
       "<style scoped>\n",
       "    .dataframe tbody tr th:only-of-type {\n",
       "        vertical-align: middle;\n",
       "    }\n",
       "\n",
       "    .dataframe tbody tr th {\n",
       "        vertical-align: top;\n",
       "    }\n",
       "\n",
       "    .dataframe thead th {\n",
       "        text-align: right;\n",
       "    }\n",
       "</style>\n",
       "<table border=\"1\" class=\"dataframe\">\n",
       "  <thead>\n",
       "    <tr style=\"text-align: right;\">\n",
       "      <th></th>\n",
       "      <th>number</th>\n",
       "      <th>available_bike_stands</th>\n",
       "      <th>available_bikes</th>\n",
       "      <th>last_update</th>\n",
       "      <th>wind_speed</th>\n",
       "      <th>main_temp</th>\n",
       "      <th>main_humidity</th>\n",
       "      <th>dt</th>\n",
       "      <th>Clouds</th>\n",
       "      <th>Clear</th>\n",
       "      <th>Snow</th>\n",
       "      <th>Rain</th>\n",
       "      <th>Drizzle</th>\n",
       "      <th>Thunderstorm</th>\n",
       "    </tr>\n",
       "  </thead>\n",
       "  <tbody>\n",
       "    <tr>\n",
       "      <th>20</th>\n",
       "      <td>5</td>\n",
       "      <td>20</td>\n",
       "      <td>20</td>\n",
       "      <td>2021-03-08 13:40:07</td>\n",
       "      <td>4.63</td>\n",
       "      <td>283.48</td>\n",
       "      <td>62.0</td>\n",
       "      <td>2021-03-08 13:38:36</td>\n",
       "      <td>1.0</td>\n",
       "      <td>0.0</td>\n",
       "      <td>0.0</td>\n",
       "      <td>0.0</td>\n",
       "      <td>0.0</td>\n",
       "      <td>0.0</td>\n",
       "    </tr>\n",
       "    <tr>\n",
       "      <th>21</th>\n",
       "      <td>89</td>\n",
       "      <td>26</td>\n",
       "      <td>14</td>\n",
       "      <td>2021-03-08 13:42:06</td>\n",
       "      <td>4.63</td>\n",
       "      <td>283.48</td>\n",
       "      <td>62.0</td>\n",
       "      <td>2021-03-08 13:38:36</td>\n",
       "      <td>1.0</td>\n",
       "      <td>0.0</td>\n",
       "      <td>0.0</td>\n",
       "      <td>0.0</td>\n",
       "      <td>0.0</td>\n",
       "      <td>0.0</td>\n",
       "    </tr>\n",
       "  </tbody>\n",
       "</table>\n",
       "</div>"
      ],
      "text/plain": [
       "    number  available_bike_stands  available_bikes         last_update  \\\n",
       "20       5                     20               20 2021-03-08 13:40:07   \n",
       "21      89                     26               14 2021-03-08 13:42:06   \n",
       "\n",
       "    wind_speed  main_temp  main_humidity                  dt  Clouds  Clear  \\\n",
       "20        4.63     283.48           62.0 2021-03-08 13:38:36     1.0    0.0   \n",
       "21        4.63     283.48           62.0 2021-03-08 13:38:36     1.0    0.0   \n",
       "\n",
       "    Snow  Rain  Drizzle  Thunderstorm  \n",
       "20   0.0   0.0      0.0           0.0  \n",
       "21   0.0   0.0      0.0           0.0  "
      ]
     },
     "execution_count": 19,
     "metadata": {},
     "output_type": "execute_result"
    }
   ],
   "source": [
    "data = merged_data.loc[20:684575]\n",
    "data.head(2)"
   ]
  },
  {
   "cell_type": "code",
   "execution_count": 20,
   "metadata": {},
   "outputs": [
    {
     "name": "stderr",
     "output_type": "stream",
     "text": [
      "<ipython-input-20-ea40cb292515>:2: SettingWithCopyWarning: \n",
      "A value is trying to be set on a copy of a slice from a DataFrame.\n",
      "Try using .loc[row_indexer,col_indexer] = value instead\n",
      "\n",
      "See the caveats in the documentation: https://pandas.pydata.org/pandas-docs/stable/user_guide/indexing.html#returning-a-view-versus-a-copy\n",
      "  data['weekday'] = data['last_update'].dt.dayofweek\n",
      "<ipython-input-20-ea40cb292515>:4: SettingWithCopyWarning: \n",
      "A value is trying to be set on a copy of a slice from a DataFrame.\n",
      "Try using .loc[row_indexer,col_indexer] = value instead\n",
      "\n",
      "See the caveats in the documentation: https://pandas.pydata.org/pandas-docs/stable/user_guide/indexing.html#returning-a-view-versus-a-copy\n",
      "  data['hour'] = data['last_update'].dt.hour\n"
     ]
    },
    {
     "data": {
      "text/plain": [
       "number                      110\n",
       "available_bike_stands        41\n",
       "available_bikes              41\n",
       "last_update              281954\n",
       "wind_speed                   27\n",
       "main_temp                  1001\n",
       "main_humidity                24\n",
       "dt                         4609\n",
       "Clouds                        2\n",
       "Clear                         2\n",
       "Snow                          1\n",
       "Rain                          2\n",
       "Drizzle                       2\n",
       "Thunderstorm                  1\n",
       "weekday                       7\n",
       "hour                         24\n",
       "dtype: int64"
      ]
     },
     "execution_count": 20,
     "metadata": {},
     "output_type": "execute_result"
    }
   ],
   "source": [
    "# Create new column weekday\n",
    "data['weekday'] = data['last_update'].dt.dayofweek\n",
    "# Create new column hour\n",
    "data['hour'] = data['last_update'].dt.hour\n",
    "data.nunique()"
   ]
  },
  {
   "cell_type": "code",
   "execution_count": 21,
   "metadata": {},
   "outputs": [
    {
     "data": {
      "text/html": [
       "<div>\n",
       "<style scoped>\n",
       "    .dataframe tbody tr th:only-of-type {\n",
       "        vertical-align: middle;\n",
       "    }\n",
       "\n",
       "    .dataframe tbody tr th {\n",
       "        vertical-align: top;\n",
       "    }\n",
       "\n",
       "    .dataframe thead th {\n",
       "        text-align: right;\n",
       "    }\n",
       "</style>\n",
       "<table border=\"1\" class=\"dataframe\">\n",
       "  <thead>\n",
       "    <tr style=\"text-align: right;\">\n",
       "      <th></th>\n",
       "      <th>number</th>\n",
       "      <th>available_bike_stands</th>\n",
       "      <th>available_bikes</th>\n",
       "      <th>last_update</th>\n",
       "      <th>wind_speed</th>\n",
       "      <th>main_temp</th>\n",
       "      <th>main_humidity</th>\n",
       "      <th>dt</th>\n",
       "      <th>Clouds</th>\n",
       "      <th>Clear</th>\n",
       "      <th>Snow</th>\n",
       "      <th>Rain</th>\n",
       "      <th>Drizzle</th>\n",
       "      <th>Thunderstorm</th>\n",
       "      <th>weekday</th>\n",
       "      <th>hour</th>\n",
       "    </tr>\n",
       "  </thead>\n",
       "  <tbody>\n",
       "    <tr>\n",
       "      <th>20</th>\n",
       "      <td>5</td>\n",
       "      <td>20</td>\n",
       "      <td>20</td>\n",
       "      <td>2021-03-08 13:40:07</td>\n",
       "      <td>4.63</td>\n",
       "      <td>283.48</td>\n",
       "      <td>62.0</td>\n",
       "      <td>2021-03-08 13:38:36</td>\n",
       "      <td>1.0</td>\n",
       "      <td>0.0</td>\n",
       "      <td>0.0</td>\n",
       "      <td>0.0</td>\n",
       "      <td>0.0</td>\n",
       "      <td>0.0</td>\n",
       "      <td>0</td>\n",
       "      <td>13</td>\n",
       "    </tr>\n",
       "    <tr>\n",
       "      <th>21</th>\n",
       "      <td>89</td>\n",
       "      <td>26</td>\n",
       "      <td>14</td>\n",
       "      <td>2021-03-08 13:42:06</td>\n",
       "      <td>4.63</td>\n",
       "      <td>283.48</td>\n",
       "      <td>62.0</td>\n",
       "      <td>2021-03-08 13:38:36</td>\n",
       "      <td>1.0</td>\n",
       "      <td>0.0</td>\n",
       "      <td>0.0</td>\n",
       "      <td>0.0</td>\n",
       "      <td>0.0</td>\n",
       "      <td>0.0</td>\n",
       "      <td>0</td>\n",
       "      <td>13</td>\n",
       "    </tr>\n",
       "  </tbody>\n",
       "</table>\n",
       "</div>"
      ],
      "text/plain": [
       "    number  available_bike_stands  available_bikes         last_update  \\\n",
       "20       5                     20               20 2021-03-08 13:40:07   \n",
       "21      89                     26               14 2021-03-08 13:42:06   \n",
       "\n",
       "    wind_speed  main_temp  main_humidity                  dt  Clouds  Clear  \\\n",
       "20        4.63     283.48           62.0 2021-03-08 13:38:36     1.0    0.0   \n",
       "21        4.63     283.48           62.0 2021-03-08 13:38:36     1.0    0.0   \n",
       "\n",
       "    Snow  Rain  Drizzle  Thunderstorm  weekday  hour  \n",
       "20   0.0   0.0      0.0           0.0        0    13  \n",
       "21   0.0   0.0      0.0           0.0        0    13  "
      ]
     },
     "execution_count": 21,
     "metadata": {},
     "output_type": "execute_result"
    }
   ],
   "source": [
    "data.head(2)"
   ]
  },
  {
   "cell_type": "code",
   "execution_count": 59,
   "metadata": {},
   "outputs": [],
   "source": [
    "# X for the input data to be predicted on\n",
    "X = data.drop(columns = [\"available_bikes\", \"available_bike_stands\", \"last_update\", \"dt\"])\n",
    "# y for the out/goal set\n",
    "y = data[[\"available_bikes\"]]"
   ]
  },
  {
   "cell_type": "code",
   "execution_count": 60,
   "metadata": {},
   "outputs": [
    {
     "data": {
      "text/html": [
       "<div>\n",
       "<style scoped>\n",
       "    .dataframe tbody tr th:only-of-type {\n",
       "        vertical-align: middle;\n",
       "    }\n",
       "\n",
       "    .dataframe tbody tr th {\n",
       "        vertical-align: top;\n",
       "    }\n",
       "\n",
       "    .dataframe thead th {\n",
       "        text-align: right;\n",
       "    }\n",
       "</style>\n",
       "<table border=\"1\" class=\"dataframe\">\n",
       "  <thead>\n",
       "    <tr style=\"text-align: right;\">\n",
       "      <th></th>\n",
       "      <th>number</th>\n",
       "      <th>wind_speed</th>\n",
       "      <th>main_temp</th>\n",
       "      <th>main_humidity</th>\n",
       "      <th>Clouds</th>\n",
       "      <th>Clear</th>\n",
       "      <th>Snow</th>\n",
       "      <th>Rain</th>\n",
       "      <th>Drizzle</th>\n",
       "      <th>Thunderstorm</th>\n",
       "      <th>weekday</th>\n",
       "      <th>hour</th>\n",
       "    </tr>\n",
       "  </thead>\n",
       "  <tbody>\n",
       "  </tbody>\n",
       "</table>\n",
       "</div>"
      ],
      "text/plain": [
       "Empty DataFrame\n",
       "Columns: [number, wind_speed, main_temp, main_humidity, Clouds, Clear, Snow, Rain, Drizzle, Thunderstorm, weekday, hour]\n",
       "Index: []"
      ]
     },
     "execution_count": 60,
     "metadata": {},
     "output_type": "execute_result"
    }
   ],
   "source": [
    "X.head(0)"
   ]
  },
  {
   "cell_type": "markdown",
   "metadata": {},
   "source": [
    "### _Divide into training and testing set, and test for accuracy_"
   ]
  },
  {
   "cell_type": "code",
   "execution_count": 61,
   "metadata": {},
   "outputs": [],
   "source": [
    "X_train, X_test, y_train, y_test = train_test_split(X, y, test_size=0.2, random_state=20)\n",
    "decisionTree = DecisionTreeClassifier()\n",
    "decisionTree.fit(X_train, y_train)\n",
    "predictions = decisionTree.predict(X_test)\n",
    "score = accuracy_score(y_test, predictions)\n",
    "# f1 = f1_score(y_test, predictions)\n",
    "# print(score)"
   ]
  },
  {
   "cell_type": "markdown",
   "metadata": {},
   "source": [
    "### _Save as Pickle file_"
   ]
  },
  {
   "cell_type": "code",
   "execution_count": 62,
   "metadata": {},
   "outputs": [],
   "source": [
    "pickle.dump(decisionTree, open('decisionTreeModel.pkl','wb'))"
   ]
  },
  {
   "cell_type": "code",
   "execution_count": 63,
   "metadata": {},
   "outputs": [
    {
     "data": {
      "text/plain": [
       "array([ 0, 20, 14, ...,  7, 14, 28], dtype=int64)"
      ]
     },
     "execution_count": 63,
     "metadata": {},
     "output_type": "execute_result"
    }
   ],
   "source": [
    "predictions"
   ]
  },
  {
   "cell_type": "code",
   "execution_count": 65,
   "metadata": {},
   "outputs": [
    {
     "data": {
      "image/png": "[encoded data removed]",
      "text/plain": [
       "<Figure size 1080x1080 with 2 Axes>"
      ]
     },
     "metadata": {
      "needs_background": "light"
     },
     "output_type": "display_data"
    }
   ],
   "source": [
    "matrix = confusion_matrix(y_test, predictions)\n",
    "fig, ax = plt.subplots(figsize=(15, 15))\n",
    "plot_confusion_matrix(decisionTree, X_test, y_test, ax=ax)  \n",
    "plt.show() "
   ]
  },
  {
   "cell_type": "code",
   "execution_count": 28,
   "metadata": {},
   "outputs": [],
   "source": [
    "#print(classification_report(X_test, y_test.values))"
   ]
  },
  {
   "cell_type": "markdown",
   "metadata": {},
   "source": [
    "### _Sample Prediction_"
   ]
  },
  {
   "cell_type": "code",
   "execution_count": 66,
   "metadata": {},
   "outputs": [
    {
     "data": {
      "text/plain": [
       "17"
      ]
     },
     "execution_count": 66,
     "metadata": {},
     "output_type": "execute_result"
    }
   ],
   "source": [
    "# give test predictor the stand number, the wind speed, the main temp (kelvin) \n",
    "# the humidity, the weekday number, and the hour of the day\n",
    "userInput = 12\n",
    "prediction = decisionTree.predict([[userInput, 40, 300, 80, 1, 0, 0, 0, 0, 0, 6, 20]])\n",
    "prediction_values = prediction[0]\n",
    "prediction_values"
   ]
  },
  {
   "cell_type": "markdown",
   "metadata": {},
   "source": [
    "### Sample Output"
   ]
  },
  {
   "cell_type": "markdown",
   "metadata": {},
   "source": [
    "test sample row"
   ]
  },
  {
   "cell_type": "code",
   "execution_count": 30,
   "metadata": {},
   "outputs": [
    {
     "data": {
      "text/html": [
       "<div>\n",
       "<style scoped>\n",
       "    .dataframe tbody tr th:only-of-type {\n",
       "        vertical-align: middle;\n",
       "    }\n",
       "\n",
       "    .dataframe tbody tr th {\n",
       "        vertical-align: top;\n",
       "    }\n",
       "\n",
       "    .dataframe thead th {\n",
       "        text-align: right;\n",
       "    }\n",
       "</style>\n",
       "<table border=\"1\" class=\"dataframe\">\n",
       "  <thead>\n",
       "    <tr style=\"text-align: right;\">\n",
       "      <th></th>\n",
       "      <th>number</th>\n",
       "      <th>name</th>\n",
       "      <th>address</th>\n",
       "      <th>pos_lat</th>\n",
       "      <th>pos_lng</th>\n",
       "      <th>bike_stands</th>\n",
       "    </tr>\n",
       "  </thead>\n",
       "  <tbody>\n",
       "    <tr>\n",
       "      <th>76</th>\n",
       "      <td>12</td>\n",
       "      <td>ECCLES STREET</td>\n",
       "      <td>Eccles Street</td>\n",
       "      <td>53.3592</td>\n",
       "      <td>-6.26978</td>\n",
       "      <td>20</td>\n",
       "    </tr>\n",
       "  </tbody>\n",
       "</table>\n",
       "</div>"
      ],
      "text/plain": [
       "    number           name        address  pos_lat  pos_lng  bike_stands\n",
       "76      12  ECCLES STREET  Eccles Street  53.3592 -6.26978           20"
      ]
     },
     "execution_count": 30,
     "metadata": {},
     "output_type": "execute_result"
    }
   ],
   "source": [
    "static[static[\"number\"] == userInput]"
   ]
  },
  {
   "cell_type": "markdown",
   "metadata": {},
   "source": [
    "Output"
   ]
  },
  {
   "cell_type": "code",
   "execution_count": 31,
   "metadata": {},
   "outputs": [
    {
     "ename": "NameError",
     "evalue": "name 'prediction_values' is not defined",
     "output_type": "error",
     "traceback": [
      "\u001b[1;31m---------------------------------------------------------------------------\u001b[0m",
      "\u001b[1;31mNameError\u001b[0m                                 Traceback (most recent call last)",
      "\u001b[1;32m<ipython-input-31-04e4fd477c36>\u001b[0m in \u001b[0;36m<module>\u001b[1;34m\u001b[0m\n\u001b[0;32m      1\u001b[0m \u001b[1;31m# apply the user's chosen station to the static table\u001b[0m\u001b[1;33m\u001b[0m\u001b[1;33m\u001b[0m\u001b[1;33m\u001b[0m\u001b[0m\n\u001b[0;32m      2\u001b[0m \u001b[0muserStation\u001b[0m \u001b[1;33m=\u001b[0m \u001b[0mstatic\u001b[0m\u001b[1;33m[\u001b[0m\u001b[0mstatic\u001b[0m\u001b[1;33m[\u001b[0m\u001b[1;34m\"number\"\u001b[0m\u001b[1;33m]\u001b[0m \u001b[1;33m==\u001b[0m \u001b[0muserInput\u001b[0m\u001b[1;33m]\u001b[0m\u001b[1;33m\u001b[0m\u001b[1;33m\u001b[0m\u001b[0m\n\u001b[1;32m----> 3\u001b[1;33m \u001b[0mprint\u001b[0m\u001b[1;33m(\u001b[0m\u001b[1;34mf\"Predicted Bikes: {prediction_values[0]}\"\u001b[0m\u001b[1;33m)\u001b[0m\u001b[1;33m\u001b[0m\u001b[1;33m\u001b[0m\u001b[0m\n\u001b[0m\u001b[0;32m      4\u001b[0m \u001b[1;33m\u001b[0m\u001b[0m\n\u001b[0;32m      5\u001b[0m \u001b[1;31m# subtact predicted bikes avail from total bike stands\u001b[0m\u001b[1;33m\u001b[0m\u001b[1;33m\u001b[0m\u001b[1;33m\u001b[0m\u001b[0m\n",
      "\u001b[1;31mNameError\u001b[0m: name 'prediction_values' is not defined"
     ]
    }
   ],
   "source": [
    "# apply the user's chosen station to the static table\n",
    "userStation = static[static[\"number\"] == userInput]\n",
    "print(f\"Predicted Bikes: {prediction_values[0]}\")\n",
    "\n",
    "# subtact predicted bikes avail from total bike stands\n",
    "remaining_stands = userStation[\"bike_stands\"].values.tolist() - prediction_values[0]\n",
    "print(f\"Predicted Remaining Stands: {remaining_stands[0]}\")"
   ]
  },
  {
   "cell_type": "markdown",
   "metadata": {},
   "source": [
    "## _Random Forest_"
   ]
  },
  {
   "cell_type": "code",
   "execution_count": 67,
   "metadata": {},
   "outputs": [
    {
     "data": {
      "text/plain": [
       "array([11], dtype=int64)"
      ]
     },
     "execution_count": 67,
     "metadata": {},
     "output_type": "execute_result"
    }
   ],
   "source": [
    "randForestModel = RandomForestClassifier(n_estimators = 10, random_state=30)\n",
    "randForestModel.fit(X_train, y_train.values.ravel())\n",
    "forestPrediction = randForestModel.predict([[12, 40, 300, 80, 1, 0, 0, 0, 0, 0, 6, 20]])\n",
    "forestPrediction"
   ]
  },
  {
   "cell_type": "code",
   "execution_count": 68,
   "metadata": {},
   "outputs": [],
   "source": [
    "pickle.dump(randForestModel, open('randomForestModel.pkl','wb'))"
   ]
  },
  {
   "cell_type": "code",
   "execution_count": 34,
   "metadata": {},
   "outputs": [
    {
     "ename": "NameError",
     "evalue": "name 'model' is not defined",
     "output_type": "error",
     "traceback": [
      "\u001b[1;31m---------------------------------------------------------------------------\u001b[0m",
      "\u001b[1;31mNameError\u001b[0m                                 Traceback (most recent call last)",
      "\u001b[1;32m<ipython-input-34-d052be82f538>\u001b[0m in \u001b[0;36m<module>\u001b[1;34m\u001b[0m\n\u001b[1;32m----> 1\u001b[1;33m \u001b[0mpredictionTest\u001b[0m \u001b[1;33m=\u001b[0m \u001b[0mmodel\u001b[0m\u001b[1;33m.\u001b[0m\u001b[0mpredict\u001b[0m\u001b[1;33m(\u001b[0m\u001b[0mX_test\u001b[0m\u001b[1;33m)\u001b[0m\u001b[1;33m\u001b[0m\u001b[1;33m\u001b[0m\u001b[0m\n\u001b[0m\u001b[0;32m      2\u001b[0m \u001b[0mforestScore\u001b[0m \u001b[1;33m=\u001b[0m \u001b[0maccuracy_score\u001b[0m\u001b[1;33m(\u001b[0m\u001b[0my_test\u001b[0m\u001b[1;33m,\u001b[0m \u001b[0mpredictionTest\u001b[0m\u001b[1;33m)\u001b[0m\u001b[1;33m\u001b[0m\u001b[1;33m\u001b[0m\u001b[0m\n\u001b[0;32m      3\u001b[0m \u001b[0mforestScore\u001b[0m\u001b[1;33m\u001b[0m\u001b[1;33m\u001b[0m\u001b[0m\n",
      "\u001b[1;31mNameError\u001b[0m: name 'model' is not defined"
     ]
    }
   ],
   "source": [
    "predictionTest = model.predict(X_test)\n",
    "forestScore = accuracy_score(y_test, predictionTest)\n",
    "forestScore"
   ]
  },
  {
   "cell_type": "code",
   "execution_count": null,
   "metadata": {},
   "outputs": [],
   "source": [
    "predictionTest"
   ]
  },
  {
   "cell_type": "markdown",
   "metadata": {},
   "source": [
    "### Check feature importances"
   ]
  },
  {
   "cell_type": "code",
   "execution_count": null,
   "metadata": {},
   "outputs": [],
   "source": [
    "feature_list = list(X.columns)\n",
    "feature_imp = pd.Series(model.feature_importances_, index=feature_list)\n",
    "feature_imp.sort_values(ascending=False)"
   ]
  },
  {
   "cell_type": "markdown",
   "metadata": {},
   "source": [
    "## K-Nearest Neighbour"
   ]
  },
  {
   "cell_type": "code",
   "execution_count": null,
   "metadata": {},
   "outputs": [],
   "source": [
    "knn_model = KNeighborsClassifier(n_neighbors = 10)\n",
    "knn_model.fit(X_train, y_train.values.ravel())\n",
    "knn_prediction = knn_model.predict([[12, 40, 300, 80, 1, 0, 0, 0, 0, 0, 6, 20]])\n",
    "knn_prediction"
   ]
  },
  {
   "cell_type": "code",
   "execution_count": null,
   "metadata": {},
   "outputs": [],
   "source": [
    "knnTest = model.predict(X_test)\n",
    "knnScore = accuracy_score(y_test, knnTest)\n",
    "knnScore"
   ]
  },
  {
   "cell_type": "code",
   "execution_count": null,
   "metadata": {},
   "outputs": [],
   "source": [
    "pickle.dump(knn_model, open('knnModel.pkl','wb'))"
   ]
  },
  {
   "cell_type": "code",
   "execution_count": null,
   "metadata": {},
   "outputs": [],
   "source": [
    "knnTest"
   ]
  },
  {
   "cell_type": "markdown",
   "metadata": {},
   "source": [
    "## Linear Regression"
   ]
  },
  {
   "cell_type": "code",
   "execution_count": null,
   "metadata": {},
   "outputs": [],
   "source": [
    "linearModel = LinearRegression()\n",
    "linearModel.fit(X_train, y_train)\n",
    "linear_prediction = linearModel.predict([[userInput, 40, 300, 80, 1, 0, 0, 0, 0, 0, 6, 20]])\n",
    "linear_prediction"
   ]
  },
  {
   "cell_type": "markdown",
   "metadata": {},
   "source": [
    "# 2. _Take incoming data and format to meet model requirements_"
   ]
  },
  {
   "cell_type": "code",
   "execution_count": 35,
   "metadata": {},
   "outputs": [
    {
     "data": {
      "text/plain": [
       "<Response [200]>"
      ]
     },
     "execution_count": 35,
     "metadata": {},
     "output_type": "execute_result"
    }
   ],
   "source": [
    "forecast = requests.get(\"https://api.openweathermap.org/data/2.5/onecall?lat=53.33306&lon=-6.24889&exclude=current,minutely&appid=5cf5e19adac515b3f8510d2692fddc43\")\n",
    "forecast"
   ]
  },
  {
   "cell_type": "code",
   "execution_count": 36,
   "metadata": {},
   "outputs": [],
   "source": [
    "forecast_data = forecast.json()"
   ]
  },
  {
   "cell_type": "code",
   "execution_count": 45,
   "metadata": {},
   "outputs": [
    {
     "name": "stdout",
     "output_type": "stream",
     "text": [
      "<class 'list'>\n"
     ]
    }
   ],
   "source": [
    "# iterate over the json array to get the hourly data\n",
    "hourly_data = 0\n",
    "for k, v in forecast_data.items():\n",
    "    if k == \"hourly\":\n",
    "        hourly_data = v\n",
    "\n",
    "# for x in range(len(hourly_data)):\n",
    "#     hourly_data[x]\n",
    "print(type(hourly_data))"
   ]
  },
  {
   "cell_type": "code",
   "execution_count": 42,
   "metadata": {},
   "outputs": [
    {
     "data": {
      "text/html": [
       "<div>\n",
       "<style scoped>\n",
       "    .dataframe tbody tr th:only-of-type {\n",
       "        vertical-align: middle;\n",
       "    }\n",
       "\n",
       "    .dataframe tbody tr th {\n",
       "        vertical-align: top;\n",
       "    }\n",
       "\n",
       "    .dataframe thead th {\n",
       "        text-align: right;\n",
       "    }\n",
       "</style>\n",
       "<table border=\"1\" class=\"dataframe\">\n",
       "  <thead>\n",
       "    <tr style=\"text-align: right;\">\n",
       "      <th></th>\n",
       "      <th>dt</th>\n",
       "      <th>temp</th>\n",
       "      <th>feels_like</th>\n",
       "      <th>pressure</th>\n",
       "      <th>humidity</th>\n",
       "      <th>dew_point</th>\n",
       "      <th>uvi</th>\n",
       "      <th>clouds</th>\n",
       "      <th>visibility</th>\n",
       "      <th>wind_speed</th>\n",
       "      <th>wind_deg</th>\n",
       "      <th>wind_gust</th>\n",
       "      <th>weather</th>\n",
       "      <th>pop</th>\n",
       "      <th>rain.1h</th>\n",
       "      <th>snow.1h</th>\n",
       "    </tr>\n",
       "  </thead>\n",
       "  <tbody>\n",
       "    <tr>\n",
       "      <th>0</th>\n",
       "      <td>1617728400</td>\n",
       "      <td>280.13</td>\n",
       "      <td>276.27</td>\n",
       "      <td>1024</td>\n",
       "      <td>45</td>\n",
       "      <td>269.49</td>\n",
       "      <td>0.56</td>\n",
       "      <td>75</td>\n",
       "      <td>10000</td>\n",
       "      <td>6.82</td>\n",
       "      <td>340</td>\n",
       "      <td>15.78</td>\n",
       "      <td>[{'id': 500, 'main': 'Rain', 'description': 'l...</td>\n",
       "      <td>0.2</td>\n",
       "      <td>0.10</td>\n",
       "      <td>NaN</td>\n",
       "    </tr>\n",
       "    <tr>\n",
       "      <th>1</th>\n",
       "      <td>1617732000</td>\n",
       "      <td>279.17</td>\n",
       "      <td>275.25</td>\n",
       "      <td>1025</td>\n",
       "      <td>52</td>\n",
       "      <td>270.42</td>\n",
       "      <td>0.18</td>\n",
       "      <td>67</td>\n",
       "      <td>10000</td>\n",
       "      <td>6.23</td>\n",
       "      <td>337</td>\n",
       "      <td>13.72</td>\n",
       "      <td>[{'id': 500, 'main': 'Rain', 'description': 'l...</td>\n",
       "      <td>0.2</td>\n",
       "      <td>0.27</td>\n",
       "      <td>NaN</td>\n",
       "    </tr>\n",
       "  </tbody>\n",
       "</table>\n",
       "</div>"
      ],
      "text/plain": [
       "           dt    temp  feels_like  pressure  humidity  dew_point   uvi  \\\n",
       "0  1617728400  280.13      276.27      1024        45     269.49  0.56   \n",
       "1  1617732000  279.17      275.25      1025        52     270.42  0.18   \n",
       "\n",
       "   clouds  visibility  wind_speed  wind_deg  wind_gust  \\\n",
       "0      75       10000        6.82       340      15.78   \n",
       "1      67       10000        6.23       337      13.72   \n",
       "\n",
       "                                             weather  pop  rain.1h  snow.1h  \n",
       "0  [{'id': 500, 'main': 'Rain', 'description': 'l...  0.2     0.10      NaN  \n",
       "1  [{'id': 500, 'main': 'Rain', 'description': 'l...  0.2     0.27      NaN  "
      ]
     },
     "execution_count": 42,
     "metadata": {},
     "output_type": "execute_result"
    }
   ],
   "source": [
    "# convert the hourly data to a dataframe\n",
    "df = pd.DataFrame.from_dict(pd.json_normalize(hourly_data), orient='columns')\n",
    "df.head(2)"
   ]
  },
  {
   "cell_type": "markdown",
   "metadata": {},
   "source": [
    "### Create a list of weather values that corresponds with the value in the inner array per row"
   ]
  },
  {
   "cell_type": "code",
   "execution_count": 46,
   "metadata": {},
   "outputs": [
    {
     "name": "stdout",
     "output_type": "stream",
     "text": [
      "['Rain', 'Rain', 'Rain', 'Clouds', 'Clouds', 'Snow', 'Snow', 'Snow', 'Snow', 'Clouds', 'Clouds', 'Clouds', 'Clouds', 'Clouds', 'Clouds', 'Clouds', 'Clouds', 'Clouds', 'Clouds', 'Clouds', 'Clouds', 'Clouds', 'Clouds', 'Clouds', 'Clouds', 'Clouds', 'Clouds', 'Clouds', 'Clouds', 'Clouds', 'Clouds', 'Clouds', 'Clouds', 'Clouds', 'Clouds', 'Clouds', 'Clouds', 'Clouds', 'Clouds', 'Clouds', 'Clouds', 'Clouds', 'Clouds', 'Clouds', 'Clouds', 'Clouds', 'Clouds', 'Clouds']\n"
     ]
    }
   ],
   "source": [
    "weatherValues = []\n",
    "for x in df[\"weather\"]:\n",
    "    currentRow = x[0]\n",
    "    for key, value in currentRow.items():\n",
    "        if key == \"main\":\n",
    "            weatherValues.append(value)\n",
    "            \n",
    "print(weatherValues)"
   ]
  },
  {
   "cell_type": "markdown",
   "metadata": {},
   "source": [
    "### As we did before, create rows that correspond to these values"
   ]
  },
  {
   "cell_type": "code",
   "execution_count": 47,
   "metadata": {},
   "outputs": [
    {
     "data": {
      "text/html": [
       "<div>\n",
       "<style scoped>\n",
       "    .dataframe tbody tr th:only-of-type {\n",
       "        vertical-align: middle;\n",
       "    }\n",
       "\n",
       "    .dataframe tbody tr th {\n",
       "        vertical-align: top;\n",
       "    }\n",
       "\n",
       "    .dataframe thead th {\n",
       "        text-align: right;\n",
       "    }\n",
       "</style>\n",
       "<table border=\"1\" class=\"dataframe\">\n",
       "  <thead>\n",
       "    <tr style=\"text-align: right;\">\n",
       "      <th></th>\n",
       "      <th>dt</th>\n",
       "      <th>temp</th>\n",
       "      <th>feels_like</th>\n",
       "      <th>pressure</th>\n",
       "      <th>humidity</th>\n",
       "      <th>dew_point</th>\n",
       "      <th>uvi</th>\n",
       "      <th>clouds</th>\n",
       "      <th>visibility</th>\n",
       "      <th>wind_speed</th>\n",
       "      <th>...</th>\n",
       "      <th>weather</th>\n",
       "      <th>pop</th>\n",
       "      <th>rain.1h</th>\n",
       "      <th>snow.1h</th>\n",
       "      <th>Clouds</th>\n",
       "      <th>Clear</th>\n",
       "      <th>Snow</th>\n",
       "      <th>Rain</th>\n",
       "      <th>Drizzle</th>\n",
       "      <th>Thunderstorm</th>\n",
       "    </tr>\n",
       "  </thead>\n",
       "  <tbody>\n",
       "    <tr>\n",
       "      <th>0</th>\n",
       "      <td>1617728400</td>\n",
       "      <td>280.13</td>\n",
       "      <td>276.27</td>\n",
       "      <td>1024</td>\n",
       "      <td>45</td>\n",
       "      <td>269.49</td>\n",
       "      <td>0.56</td>\n",
       "      <td>75</td>\n",
       "      <td>10000</td>\n",
       "      <td>6.82</td>\n",
       "      <td>...</td>\n",
       "      <td>[{'id': 500, 'main': 'Rain', 'description': 'l...</td>\n",
       "      <td>0.2</td>\n",
       "      <td>0.10</td>\n",
       "      <td>0.0</td>\n",
       "      <td>0.0</td>\n",
       "      <td>0.0</td>\n",
       "      <td>0.0</td>\n",
       "      <td>0.0</td>\n",
       "      <td>0.0</td>\n",
       "      <td>0.0</td>\n",
       "    </tr>\n",
       "    <tr>\n",
       "      <th>1</th>\n",
       "      <td>1617732000</td>\n",
       "      <td>279.17</td>\n",
       "      <td>275.25</td>\n",
       "      <td>1025</td>\n",
       "      <td>52</td>\n",
       "      <td>270.42</td>\n",
       "      <td>0.18</td>\n",
       "      <td>67</td>\n",
       "      <td>10000</td>\n",
       "      <td>6.23</td>\n",
       "      <td>...</td>\n",
       "      <td>[{'id': 500, 'main': 'Rain', 'description': 'l...</td>\n",
       "      <td>0.2</td>\n",
       "      <td>0.27</td>\n",
       "      <td>0.0</td>\n",
       "      <td>0.0</td>\n",
       "      <td>0.0</td>\n",
       "      <td>0.0</td>\n",
       "      <td>0.0</td>\n",
       "      <td>0.0</td>\n",
       "      <td>0.0</td>\n",
       "    </tr>\n",
       "  </tbody>\n",
       "</table>\n",
       "<p>2 rows × 22 columns</p>\n",
       "</div>"
      ],
      "text/plain": [
       "           dt    temp  feels_like  pressure  humidity  dew_point   uvi  \\\n",
       "0  1617728400  280.13      276.27      1024        45     269.49  0.56   \n",
       "1  1617732000  279.17      275.25      1025        52     270.42  0.18   \n",
       "\n",
       "   clouds  visibility  wind_speed  ...  \\\n",
       "0      75       10000        6.82  ...   \n",
       "1      67       10000        6.23  ...   \n",
       "\n",
       "                                             weather  pop rain.1h  snow.1h  \\\n",
       "0  [{'id': 500, 'main': 'Rain', 'description': 'l...  0.2    0.10      0.0   \n",
       "1  [{'id': 500, 'main': 'Rain', 'description': 'l...  0.2    0.27      0.0   \n",
       "\n",
       "   Clouds  Clear  Snow  Rain  Drizzle  Thunderstorm  \n",
       "0     0.0    0.0   0.0   0.0      0.0           0.0  \n",
       "1     0.0    0.0   0.0   0.0      0.0           0.0  \n",
       "\n",
       "[2 rows x 22 columns]"
      ]
     },
     "execution_count": 47,
     "metadata": {},
     "output_type": "execute_result"
    }
   ],
   "source": [
    "df = df.reindex(df.columns.tolist() + weatherConditions, axis=1)\n",
    "for col in df:\n",
    "    df[col] = df[col].replace(np.nan).fillna(0)\n",
    "df.head(2)"
   ]
  },
  {
   "cell_type": "code",
   "execution_count": 48,
   "metadata": {},
   "outputs": [
    {
     "data": {
      "text/html": [
       "<div>\n",
       "<style scoped>\n",
       "    .dataframe tbody tr th:only-of-type {\n",
       "        vertical-align: middle;\n",
       "    }\n",
       "\n",
       "    .dataframe tbody tr th {\n",
       "        vertical-align: top;\n",
       "    }\n",
       "\n",
       "    .dataframe thead th {\n",
       "        text-align: right;\n",
       "    }\n",
       "</style>\n",
       "<table border=\"1\" class=\"dataframe\">\n",
       "  <thead>\n",
       "    <tr style=\"text-align: right;\">\n",
       "      <th></th>\n",
       "      <th>dt</th>\n",
       "      <th>temp</th>\n",
       "      <th>feels_like</th>\n",
       "      <th>pressure</th>\n",
       "      <th>humidity</th>\n",
       "      <th>dew_point</th>\n",
       "      <th>uvi</th>\n",
       "      <th>clouds</th>\n",
       "      <th>visibility</th>\n",
       "      <th>wind_speed</th>\n",
       "      <th>...</th>\n",
       "      <th>weather</th>\n",
       "      <th>pop</th>\n",
       "      <th>rain.1h</th>\n",
       "      <th>snow.1h</th>\n",
       "      <th>Clouds</th>\n",
       "      <th>Clear</th>\n",
       "      <th>Snow</th>\n",
       "      <th>Rain</th>\n",
       "      <th>Drizzle</th>\n",
       "      <th>Thunderstorm</th>\n",
       "    </tr>\n",
       "  </thead>\n",
       "  <tbody>\n",
       "    <tr>\n",
       "      <th>0</th>\n",
       "      <td>1617728400</td>\n",
       "      <td>280.13</td>\n",
       "      <td>276.27</td>\n",
       "      <td>1024</td>\n",
       "      <td>45</td>\n",
       "      <td>269.49</td>\n",
       "      <td>0.56</td>\n",
       "      <td>75</td>\n",
       "      <td>10000</td>\n",
       "      <td>6.82</td>\n",
       "      <td>...</td>\n",
       "      <td>[{'id': 500, 'main': 'Rain', 'description': 'l...</td>\n",
       "      <td>0.2</td>\n",
       "      <td>0.10</td>\n",
       "      <td>0.0</td>\n",
       "      <td>0.0</td>\n",
       "      <td>0.0</td>\n",
       "      <td>0.0</td>\n",
       "      <td>1.0</td>\n",
       "      <td>0.0</td>\n",
       "      <td>0.0</td>\n",
       "    </tr>\n",
       "    <tr>\n",
       "      <th>1</th>\n",
       "      <td>1617732000</td>\n",
       "      <td>279.17</td>\n",
       "      <td>275.25</td>\n",
       "      <td>1025</td>\n",
       "      <td>52</td>\n",
       "      <td>270.42</td>\n",
       "      <td>0.18</td>\n",
       "      <td>67</td>\n",
       "      <td>10000</td>\n",
       "      <td>6.23</td>\n",
       "      <td>...</td>\n",
       "      <td>[{'id': 500, 'main': 'Rain', 'description': 'l...</td>\n",
       "      <td>0.2</td>\n",
       "      <td>0.27</td>\n",
       "      <td>0.0</td>\n",
       "      <td>0.0</td>\n",
       "      <td>0.0</td>\n",
       "      <td>0.0</td>\n",
       "      <td>1.0</td>\n",
       "      <td>0.0</td>\n",
       "      <td>0.0</td>\n",
       "    </tr>\n",
       "  </tbody>\n",
       "</table>\n",
       "<p>2 rows × 22 columns</p>\n",
       "</div>"
      ],
      "text/plain": [
       "           dt    temp  feels_like  pressure  humidity  dew_point   uvi  \\\n",
       "0  1617728400  280.13      276.27      1024        45     269.49  0.56   \n",
       "1  1617732000  279.17      275.25      1025        52     270.42  0.18   \n",
       "\n",
       "   clouds  visibility  wind_speed  ...  \\\n",
       "0      75       10000        6.82  ...   \n",
       "1      67       10000        6.23  ...   \n",
       "\n",
       "                                             weather  pop rain.1h  snow.1h  \\\n",
       "0  [{'id': 500, 'main': 'Rain', 'description': 'l...  0.2    0.10      0.0   \n",
       "1  [{'id': 500, 'main': 'Rain', 'description': 'l...  0.2    0.27      0.0   \n",
       "\n",
       "   Clouds  Clear  Snow  Rain  Drizzle  Thunderstorm  \n",
       "0     0.0    0.0   0.0   1.0      0.0           0.0  \n",
       "1     0.0    0.0   0.0   1.0      0.0           0.0  \n",
       "\n",
       "[2 rows x 22 columns]"
      ]
     },
     "execution_count": 48,
     "metadata": {},
     "output_type": "execute_result"
    }
   ],
   "source": [
    "for x in range(len(weatherValues)):\n",
    "    for column in df.columns:\n",
    "        if weatherValues[x] == column:\n",
    "            df.at[x, column] = 1\n",
    "df.head(2)"
   ]
  },
  {
   "cell_type": "markdown",
   "metadata": {},
   "source": [
    "### Dump un-needed columns"
   ]
  },
  {
   "cell_type": "code",
   "execution_count": 49,
   "metadata": {},
   "outputs": [
    {
     "data": {
      "text/html": [
       "<div>\n",
       "<style scoped>\n",
       "    .dataframe tbody tr th:only-of-type {\n",
       "        vertical-align: middle;\n",
       "    }\n",
       "\n",
       "    .dataframe tbody tr th {\n",
       "        vertical-align: top;\n",
       "    }\n",
       "\n",
       "    .dataframe thead th {\n",
       "        text-align: right;\n",
       "    }\n",
       "</style>\n",
       "<table border=\"1\" class=\"dataframe\">\n",
       "  <thead>\n",
       "    <tr style=\"text-align: right;\">\n",
       "      <th></th>\n",
       "      <th>dt</th>\n",
       "      <th>temp</th>\n",
       "      <th>wind_speed</th>\n",
       "      <th>humidity</th>\n",
       "      <th>Clouds</th>\n",
       "      <th>Clear</th>\n",
       "      <th>Snow</th>\n",
       "      <th>Rain</th>\n",
       "      <th>Drizzle</th>\n",
       "      <th>Thunderstorm</th>\n",
       "    </tr>\n",
       "  </thead>\n",
       "  <tbody>\n",
       "    <tr>\n",
       "      <th>0</th>\n",
       "      <td>1617728400</td>\n",
       "      <td>280.13</td>\n",
       "      <td>6.82</td>\n",
       "      <td>45</td>\n",
       "      <td>0.0</td>\n",
       "      <td>0.0</td>\n",
       "      <td>0.0</td>\n",
       "      <td>1.0</td>\n",
       "      <td>0.0</td>\n",
       "      <td>0.0</td>\n",
       "    </tr>\n",
       "    <tr>\n",
       "      <th>1</th>\n",
       "      <td>1617732000</td>\n",
       "      <td>279.17</td>\n",
       "      <td>6.23</td>\n",
       "      <td>52</td>\n",
       "      <td>0.0</td>\n",
       "      <td>0.0</td>\n",
       "      <td>0.0</td>\n",
       "      <td>1.0</td>\n",
       "      <td>0.0</td>\n",
       "      <td>0.0</td>\n",
       "    </tr>\n",
       "  </tbody>\n",
       "</table>\n",
       "</div>"
      ],
      "text/plain": [
       "           dt    temp  wind_speed  humidity  Clouds  Clear  Snow  Rain  \\\n",
       "0  1617728400  280.13        6.82        45     0.0    0.0   0.0   1.0   \n",
       "1  1617732000  279.17        6.23        52     0.0    0.0   0.0   1.0   \n",
       "\n",
       "   Drizzle  Thunderstorm  \n",
       "0      0.0           0.0  \n",
       "1      0.0           0.0  "
      ]
     },
     "execution_count": 49,
     "metadata": {},
     "output_type": "execute_result"
    }
   ],
   "source": [
    "# get rid of the unneeded rows\n",
    "weather_df = df[[\"dt\", \"temp\", \"wind_speed\", \"humidity\", \"Clouds\", \"Clear\", \"Snow\", \"Rain\", \"Drizzle\", \"Thunderstorm\"]]\n",
    "weather_df.head(2)"
   ]
  },
  {
   "cell_type": "code",
   "execution_count": 50,
   "metadata": {},
   "outputs": [
    {
     "data": {
      "text/plain": [
       "dt                int64\n",
       "temp            float64\n",
       "feels_like      float64\n",
       "pressure          int64\n",
       "humidity          int64\n",
       "dew_point       float64\n",
       "uvi             float64\n",
       "clouds            int64\n",
       "visibility        int64\n",
       "wind_speed      float64\n",
       "wind_deg          int64\n",
       "wind_gust       float64\n",
       "weather          object\n",
       "pop             float64\n",
       "rain.1h         float64\n",
       "snow.1h         float64\n",
       "Clouds          float64\n",
       "Clear           float64\n",
       "Snow            float64\n",
       "Rain            float64\n",
       "Drizzle         float64\n",
       "Thunderstorm    float64\n",
       "dtype: object"
      ]
     },
     "execution_count": 50,
     "metadata": {},
     "output_type": "execute_result"
    }
   ],
   "source": [
    "df.dtypes"
   ]
  },
  {
   "cell_type": "code",
   "execution_count": 53,
   "metadata": {},
   "outputs": [
    {
     "name": "stderr",
     "output_type": "stream",
     "text": [
      "<ipython-input-53-a1718b1c541c>:4: SettingWithCopyWarning: \n",
      "A value is trying to be set on a copy of a slice from a DataFrame.\n",
      "Try using .loc[row_indexer,col_indexer] = value instead\n",
      "\n",
      "See the caveats in the documentation: https://pandas.pydata.org/pandas-docs/stable/user_guide/indexing.html#returning-a-view-versus-a-copy\n",
      "  weather_df['dt'] = weather_df.dt.apply(lambda x: start + timedelta(seconds=x))\n"
     ]
    }
   ],
   "source": [
    "# convert from unix epoch time to useable format...\n",
    "from datetime import datetime, timedelta\n",
    "start = datetime(1970, 1, 1)  # Unix epoch start time\n",
    "weather_df['dt'] = weather_df.dt.apply(lambda x: start + timedelta(seconds=x))"
   ]
  },
  {
   "cell_type": "code",
   "execution_count": 54,
   "metadata": {},
   "outputs": [
    {
     "data": {
      "text/html": [
       "<div>\n",
       "<style scoped>\n",
       "    .dataframe tbody tr th:only-of-type {\n",
       "        vertical-align: middle;\n",
       "    }\n",
       "\n",
       "    .dataframe tbody tr th {\n",
       "        vertical-align: top;\n",
       "    }\n",
       "\n",
       "    .dataframe thead th {\n",
       "        text-align: right;\n",
       "    }\n",
       "</style>\n",
       "<table border=\"1\" class=\"dataframe\">\n",
       "  <thead>\n",
       "    <tr style=\"text-align: right;\">\n",
       "      <th></th>\n",
       "      <th>dt</th>\n",
       "      <th>temp</th>\n",
       "      <th>wind_speed</th>\n",
       "      <th>humidity</th>\n",
       "      <th>Clouds</th>\n",
       "      <th>Clear</th>\n",
       "      <th>Snow</th>\n",
       "      <th>Rain</th>\n",
       "      <th>Drizzle</th>\n",
       "      <th>Thunderstorm</th>\n",
       "      <th>datetime</th>\n",
       "    </tr>\n",
       "  </thead>\n",
       "  <tbody>\n",
       "    <tr>\n",
       "      <th>0</th>\n",
       "      <td>2021-04-06 17:00:00</td>\n",
       "      <td>280.13</td>\n",
       "      <td>6.82</td>\n",
       "      <td>45</td>\n",
       "      <td>0.0</td>\n",
       "      <td>0.0</td>\n",
       "      <td>0.0</td>\n",
       "      <td>1.0</td>\n",
       "      <td>0.0</td>\n",
       "      <td>0.0</td>\n",
       "      <td>2021-04-06 17:00:00</td>\n",
       "    </tr>\n",
       "    <tr>\n",
       "      <th>1</th>\n",
       "      <td>2021-04-06 18:00:00</td>\n",
       "      <td>279.17</td>\n",
       "      <td>6.23</td>\n",
       "      <td>52</td>\n",
       "      <td>0.0</td>\n",
       "      <td>0.0</td>\n",
       "      <td>0.0</td>\n",
       "      <td>1.0</td>\n",
       "      <td>0.0</td>\n",
       "      <td>0.0</td>\n",
       "      <td>2021-04-06 18:00:00</td>\n",
       "    </tr>\n",
       "  </tbody>\n",
       "</table>\n",
       "</div>"
      ],
      "text/plain": [
       "                   dt    temp  wind_speed  humidity  Clouds  Clear  Snow  \\\n",
       "0 2021-04-06 17:00:00  280.13        6.82        45     0.0    0.0   0.0   \n",
       "1 2021-04-06 18:00:00  279.17        6.23        52     0.0    0.0   0.0   \n",
       "\n",
       "   Rain  Drizzle  Thunderstorm            datetime  \n",
       "0   1.0      0.0           0.0 2021-04-06 17:00:00  \n",
       "1   1.0      0.0           0.0 2021-04-06 18:00:00  "
      ]
     },
     "execution_count": 54,
     "metadata": {},
     "output_type": "execute_result"
    }
   ],
   "source": [
    "weather_df.head(2)"
   ]
  },
  {
   "cell_type": "code",
   "execution_count": 55,
   "metadata": {},
   "outputs": [
    {
     "name": "stderr",
     "output_type": "stream",
     "text": [
      "<ipython-input-55-802ae916f920>:2: SettingWithCopyWarning: \n",
      "A value is trying to be set on a copy of a slice from a DataFrame.\n",
      "Try using .loc[row_indexer,col_indexer] = value instead\n",
      "\n",
      "See the caveats in the documentation: https://pandas.pydata.org/pandas-docs/stable/user_guide/indexing.html#returning-a-view-versus-a-copy\n",
      "  weather_df['weekday'] = weather_df['dt'].dt.dayofweek\n",
      "<ipython-input-55-802ae916f920>:4: SettingWithCopyWarning: \n",
      "A value is trying to be set on a copy of a slice from a DataFrame.\n",
      "Try using .loc[row_indexer,col_indexer] = value instead\n",
      "\n",
      "See the caveats in the documentation: https://pandas.pydata.org/pandas-docs/stable/user_guide/indexing.html#returning-a-view-versus-a-copy\n",
      "  weather_df['hour'] = weather_df['dt'].dt.hour\n"
     ]
    }
   ],
   "source": [
    "# Create new column weekday\n",
    "weather_df['weekday'] = weather_df['dt'].dt.dayofweek\n",
    "# Create new column hour\n",
    "weather_df['hour'] = weather_df['dt'].dt.hour\n",
    "\n",
    "# dump now defunct datetime column\n",
    "weather_df = weather_df.drop(columns= [\"dt\"])"
   ]
  },
  {
   "cell_type": "code",
   "execution_count": 57,
   "metadata": {},
   "outputs": [
    {
     "data": {
      "text/html": [
       "<div>\n",
       "<style scoped>\n",
       "    .dataframe tbody tr th:only-of-type {\n",
       "        vertical-align: middle;\n",
       "    }\n",
       "\n",
       "    .dataframe tbody tr th {\n",
       "        vertical-align: top;\n",
       "    }\n",
       "\n",
       "    .dataframe thead th {\n",
       "        text-align: right;\n",
       "    }\n",
       "</style>\n",
       "<table border=\"1\" class=\"dataframe\">\n",
       "  <thead>\n",
       "    <tr style=\"text-align: right;\">\n",
       "      <th></th>\n",
       "      <th>temp</th>\n",
       "      <th>wind_speed</th>\n",
       "      <th>humidity</th>\n",
       "      <th>Clouds</th>\n",
       "      <th>Clear</th>\n",
       "      <th>Snow</th>\n",
       "      <th>Rain</th>\n",
       "      <th>Drizzle</th>\n",
       "      <th>Thunderstorm</th>\n",
       "      <th>datetime</th>\n",
       "      <th>weekday</th>\n",
       "      <th>hour</th>\n",
       "    </tr>\n",
       "  </thead>\n",
       "  <tbody>\n",
       "    <tr>\n",
       "      <th>0</th>\n",
       "      <td>280.13</td>\n",
       "      <td>6.82</td>\n",
       "      <td>45</td>\n",
       "      <td>0.0</td>\n",
       "      <td>0.0</td>\n",
       "      <td>0.0</td>\n",
       "      <td>1.0</td>\n",
       "      <td>0.0</td>\n",
       "      <td>0.0</td>\n",
       "      <td>2021-04-06 17:00:00</td>\n",
       "      <td>1</td>\n",
       "      <td>17</td>\n",
       "    </tr>\n",
       "    <tr>\n",
       "      <th>1</th>\n",
       "      <td>279.17</td>\n",
       "      <td>6.23</td>\n",
       "      <td>52</td>\n",
       "      <td>0.0</td>\n",
       "      <td>0.0</td>\n",
       "      <td>0.0</td>\n",
       "      <td>1.0</td>\n",
       "      <td>0.0</td>\n",
       "      <td>0.0</td>\n",
       "      <td>2021-04-06 18:00:00</td>\n",
       "      <td>1</td>\n",
       "      <td>18</td>\n",
       "    </tr>\n",
       "    <tr>\n",
       "      <th>2</th>\n",
       "      <td>277.50</td>\n",
       "      <td>5.05</td>\n",
       "      <td>63</td>\n",
       "      <td>0.0</td>\n",
       "      <td>0.0</td>\n",
       "      <td>0.0</td>\n",
       "      <td>1.0</td>\n",
       "      <td>0.0</td>\n",
       "      <td>0.0</td>\n",
       "      <td>2021-04-06 19:00:00</td>\n",
       "      <td>1</td>\n",
       "      <td>19</td>\n",
       "    </tr>\n",
       "    <tr>\n",
       "      <th>3</th>\n",
       "      <td>276.02</td>\n",
       "      <td>4.12</td>\n",
       "      <td>76</td>\n",
       "      <td>1.0</td>\n",
       "      <td>0.0</td>\n",
       "      <td>0.0</td>\n",
       "      <td>0.0</td>\n",
       "      <td>0.0</td>\n",
       "      <td>0.0</td>\n",
       "      <td>2021-04-06 20:00:00</td>\n",
       "      <td>1</td>\n",
       "      <td>20</td>\n",
       "    </tr>\n",
       "    <tr>\n",
       "      <th>4</th>\n",
       "      <td>274.72</td>\n",
       "      <td>2.78</td>\n",
       "      <td>96</td>\n",
       "      <td>1.0</td>\n",
       "      <td>0.0</td>\n",
       "      <td>0.0</td>\n",
       "      <td>0.0</td>\n",
       "      <td>0.0</td>\n",
       "      <td>0.0</td>\n",
       "      <td>2021-04-06 21:00:00</td>\n",
       "      <td>1</td>\n",
       "      <td>21</td>\n",
       "    </tr>\n",
       "    <tr>\n",
       "      <th>5</th>\n",
       "      <td>275.34</td>\n",
       "      <td>2.36</td>\n",
       "      <td>98</td>\n",
       "      <td>0.0</td>\n",
       "      <td>0.0</td>\n",
       "      <td>1.0</td>\n",
       "      <td>0.0</td>\n",
       "      <td>0.0</td>\n",
       "      <td>0.0</td>\n",
       "      <td>2021-04-06 22:00:00</td>\n",
       "      <td>1</td>\n",
       "      <td>22</td>\n",
       "    </tr>\n",
       "    <tr>\n",
       "      <th>6</th>\n",
       "      <td>275.65</td>\n",
       "      <td>1.99</td>\n",
       "      <td>98</td>\n",
       "      <td>0.0</td>\n",
       "      <td>0.0</td>\n",
       "      <td>1.0</td>\n",
       "      <td>0.0</td>\n",
       "      <td>0.0</td>\n",
       "      <td>0.0</td>\n",
       "      <td>2021-04-06 23:00:00</td>\n",
       "      <td>1</td>\n",
       "      <td>23</td>\n",
       "    </tr>\n",
       "    <tr>\n",
       "      <th>7</th>\n",
       "      <td>275.23</td>\n",
       "      <td>2.95</td>\n",
       "      <td>98</td>\n",
       "      <td>0.0</td>\n",
       "      <td>0.0</td>\n",
       "      <td>1.0</td>\n",
       "      <td>0.0</td>\n",
       "      <td>0.0</td>\n",
       "      <td>0.0</td>\n",
       "      <td>2021-04-07 00:00:00</td>\n",
       "      <td>2</td>\n",
       "      <td>0</td>\n",
       "    </tr>\n",
       "    <tr>\n",
       "      <th>8</th>\n",
       "      <td>274.62</td>\n",
       "      <td>2.57</td>\n",
       "      <td>97</td>\n",
       "      <td>0.0</td>\n",
       "      <td>0.0</td>\n",
       "      <td>1.0</td>\n",
       "      <td>0.0</td>\n",
       "      <td>0.0</td>\n",
       "      <td>0.0</td>\n",
       "      <td>2021-04-07 01:00:00</td>\n",
       "      <td>2</td>\n",
       "      <td>1</td>\n",
       "    </tr>\n",
       "    <tr>\n",
       "      <th>9</th>\n",
       "      <td>274.26</td>\n",
       "      <td>2.74</td>\n",
       "      <td>97</td>\n",
       "      <td>1.0</td>\n",
       "      <td>0.0</td>\n",
       "      <td>0.0</td>\n",
       "      <td>0.0</td>\n",
       "      <td>0.0</td>\n",
       "      <td>0.0</td>\n",
       "      <td>2021-04-07 02:00:00</td>\n",
       "      <td>2</td>\n",
       "      <td>2</td>\n",
       "    </tr>\n",
       "    <tr>\n",
       "      <th>10</th>\n",
       "      <td>273.32</td>\n",
       "      <td>2.83</td>\n",
       "      <td>95</td>\n",
       "      <td>1.0</td>\n",
       "      <td>0.0</td>\n",
       "      <td>0.0</td>\n",
       "      <td>0.0</td>\n",
       "      <td>0.0</td>\n",
       "      <td>0.0</td>\n",
       "      <td>2021-04-07 03:00:00</td>\n",
       "      <td>2</td>\n",
       "      <td>3</td>\n",
       "    </tr>\n",
       "    <tr>\n",
       "      <th>11</th>\n",
       "      <td>272.13</td>\n",
       "      <td>2.84</td>\n",
       "      <td>95</td>\n",
       "      <td>1.0</td>\n",
       "      <td>0.0</td>\n",
       "      <td>0.0</td>\n",
       "      <td>0.0</td>\n",
       "      <td>0.0</td>\n",
       "      <td>0.0</td>\n",
       "      <td>2021-04-07 04:00:00</td>\n",
       "      <td>2</td>\n",
       "      <td>4</td>\n",
       "    </tr>\n",
       "    <tr>\n",
       "      <th>12</th>\n",
       "      <td>271.62</td>\n",
       "      <td>2.95</td>\n",
       "      <td>96</td>\n",
       "      <td>1.0</td>\n",
       "      <td>0.0</td>\n",
       "      <td>0.0</td>\n",
       "      <td>0.0</td>\n",
       "      <td>0.0</td>\n",
       "      <td>0.0</td>\n",
       "      <td>2021-04-07 05:00:00</td>\n",
       "      <td>2</td>\n",
       "      <td>5</td>\n",
       "    </tr>\n",
       "    <tr>\n",
       "      <th>13</th>\n",
       "      <td>271.12</td>\n",
       "      <td>2.92</td>\n",
       "      <td>96</td>\n",
       "      <td>1.0</td>\n",
       "      <td>0.0</td>\n",
       "      <td>0.0</td>\n",
       "      <td>0.0</td>\n",
       "      <td>0.0</td>\n",
       "      <td>0.0</td>\n",
       "      <td>2021-04-07 06:00:00</td>\n",
       "      <td>2</td>\n",
       "      <td>6</td>\n",
       "    </tr>\n",
       "    <tr>\n",
       "      <th>14</th>\n",
       "      <td>272.51</td>\n",
       "      <td>2.80</td>\n",
       "      <td>93</td>\n",
       "      <td>1.0</td>\n",
       "      <td>0.0</td>\n",
       "      <td>0.0</td>\n",
       "      <td>0.0</td>\n",
       "      <td>0.0</td>\n",
       "      <td>0.0</td>\n",
       "      <td>2021-04-07 07:00:00</td>\n",
       "      <td>2</td>\n",
       "      <td>7</td>\n",
       "    </tr>\n",
       "    <tr>\n",
       "      <th>15</th>\n",
       "      <td>274.81</td>\n",
       "      <td>3.28</td>\n",
       "      <td>84</td>\n",
       "      <td>1.0</td>\n",
       "      <td>0.0</td>\n",
       "      <td>0.0</td>\n",
       "      <td>0.0</td>\n",
       "      <td>0.0</td>\n",
       "      <td>0.0</td>\n",
       "      <td>2021-04-07 08:00:00</td>\n",
       "      <td>2</td>\n",
       "      <td>8</td>\n",
       "    </tr>\n",
       "    <tr>\n",
       "      <th>16</th>\n",
       "      <td>276.67</td>\n",
       "      <td>3.64</td>\n",
       "      <td>76</td>\n",
       "      <td>1.0</td>\n",
       "      <td>0.0</td>\n",
       "      <td>0.0</td>\n",
       "      <td>0.0</td>\n",
       "      <td>0.0</td>\n",
       "      <td>0.0</td>\n",
       "      <td>2021-04-07 09:00:00</td>\n",
       "      <td>2</td>\n",
       "      <td>9</td>\n",
       "    </tr>\n",
       "    <tr>\n",
       "      <th>17</th>\n",
       "      <td>277.97</td>\n",
       "      <td>3.71</td>\n",
       "      <td>68</td>\n",
       "      <td>1.0</td>\n",
       "      <td>0.0</td>\n",
       "      <td>0.0</td>\n",
       "      <td>0.0</td>\n",
       "      <td>0.0</td>\n",
       "      <td>0.0</td>\n",
       "      <td>2021-04-07 10:00:00</td>\n",
       "      <td>2</td>\n",
       "      <td>10</td>\n",
       "    </tr>\n",
       "    <tr>\n",
       "      <th>18</th>\n",
       "      <td>279.07</td>\n",
       "      <td>3.63</td>\n",
       "      <td>62</td>\n",
       "      <td>1.0</td>\n",
       "      <td>0.0</td>\n",
       "      <td>0.0</td>\n",
       "      <td>0.0</td>\n",
       "      <td>0.0</td>\n",
       "      <td>0.0</td>\n",
       "      <td>2021-04-07 11:00:00</td>\n",
       "      <td>2</td>\n",
       "      <td>11</td>\n",
       "    </tr>\n",
       "    <tr>\n",
       "      <th>19</th>\n",
       "      <td>278.97</td>\n",
       "      <td>3.34</td>\n",
       "      <td>62</td>\n",
       "      <td>1.0</td>\n",
       "      <td>0.0</td>\n",
       "      <td>0.0</td>\n",
       "      <td>0.0</td>\n",
       "      <td>0.0</td>\n",
       "      <td>0.0</td>\n",
       "      <td>2021-04-07 12:00:00</td>\n",
       "      <td>2</td>\n",
       "      <td>12</td>\n",
       "    </tr>\n",
       "  </tbody>\n",
       "</table>\n",
       "</div>"
      ],
      "text/plain": [
       "      temp  wind_speed  humidity  Clouds  Clear  Snow  Rain  Drizzle  \\\n",
       "0   280.13        6.82        45     0.0    0.0   0.0   1.0      0.0   \n",
       "1   279.17        6.23        52     0.0    0.0   0.0   1.0      0.0   \n",
       "2   277.50        5.05        63     0.0    0.0   0.0   1.0      0.0   \n",
       "3   276.02        4.12        76     1.0    0.0   0.0   0.0      0.0   \n",
       "4   274.72        2.78        96     1.0    0.0   0.0   0.0      0.0   \n",
       "5   275.34        2.36        98     0.0    0.0   1.0   0.0      0.0   \n",
       "6   275.65        1.99        98     0.0    0.0   1.0   0.0      0.0   \n",
       "7   275.23        2.95        98     0.0    0.0   1.0   0.0      0.0   \n",
       "8   274.62        2.57        97     0.0    0.0   1.0   0.0      0.0   \n",
       "9   274.26        2.74        97     1.0    0.0   0.0   0.0      0.0   \n",
       "10  273.32        2.83        95     1.0    0.0   0.0   0.0      0.0   \n",
       "11  272.13        2.84        95     1.0    0.0   0.0   0.0      0.0   \n",
       "12  271.62        2.95        96     1.0    0.0   0.0   0.0      0.0   \n",
       "13  271.12        2.92        96     1.0    0.0   0.0   0.0      0.0   \n",
       "14  272.51        2.80        93     1.0    0.0   0.0   0.0      0.0   \n",
       "15  274.81        3.28        84     1.0    0.0   0.0   0.0      0.0   \n",
       "16  276.67        3.64        76     1.0    0.0   0.0   0.0      0.0   \n",
       "17  277.97        3.71        68     1.0    0.0   0.0   0.0      0.0   \n",
       "18  279.07        3.63        62     1.0    0.0   0.0   0.0      0.0   \n",
       "19  278.97        3.34        62     1.0    0.0   0.0   0.0      0.0   \n",
       "\n",
       "    Thunderstorm            datetime  weekday  hour  \n",
       "0            0.0 2021-04-06 17:00:00        1    17  \n",
       "1            0.0 2021-04-06 18:00:00        1    18  \n",
       "2            0.0 2021-04-06 19:00:00        1    19  \n",
       "3            0.0 2021-04-06 20:00:00        1    20  \n",
       "4            0.0 2021-04-06 21:00:00        1    21  \n",
       "5            0.0 2021-04-06 22:00:00        1    22  \n",
       "6            0.0 2021-04-06 23:00:00        1    23  \n",
       "7            0.0 2021-04-07 00:00:00        2     0  \n",
       "8            0.0 2021-04-07 01:00:00        2     1  \n",
       "9            0.0 2021-04-07 02:00:00        2     2  \n",
       "10           0.0 2021-04-07 03:00:00        2     3  \n",
       "11           0.0 2021-04-07 04:00:00        2     4  \n",
       "12           0.0 2021-04-07 05:00:00        2     5  \n",
       "13           0.0 2021-04-07 06:00:00        2     6  \n",
       "14           0.0 2021-04-07 07:00:00        2     7  \n",
       "15           0.0 2021-04-07 08:00:00        2     8  \n",
       "16           0.0 2021-04-07 09:00:00        2     9  \n",
       "17           0.0 2021-04-07 10:00:00        2    10  \n",
       "18           0.0 2021-04-07 11:00:00        2    11  \n",
       "19           0.0 2021-04-07 12:00:00        2    12  "
      ]
     },
     "execution_count": 57,
     "metadata": {},
     "output_type": "execute_result"
    }
   ],
   "source": [
    "weather_df.head(20)"
   ]
  },
  {
   "cell_type": "code",
   "execution_count": null,
   "metadata": {},
   "outputs": [],
   "source": [
    "weather_df.nunique()"
   ]
  },
  {
   "cell_type": "code",
   "execution_count": null,
   "metadata": {},
   "outputs": [],
   "source": [
    "weather_df.shape"
   ]
  },
  {
   "cell_type": "markdown",
   "metadata": {},
   "source": [
    "# create a dummy weather data set and insert a dummy station number at FIRST INDEX"
   ]
  },
  {
   "cell_type": "code",
   "execution_count": null,
   "metadata": {},
   "outputs": [],
   "source": [
    "# insert station number\n",
    "desired_row = weather_df.iloc[1].tolist()\n",
    "desired_row.insert(0, 12)"
   ]
  },
  {
   "cell_type": "code",
   "execution_count": null,
   "metadata": {},
   "outputs": [],
   "source": [
    "# give test predictor the list of user input variables (in this case, a dummy set)\n",
    "prediction = model.predict([desired_row])\n",
    "prediction_values = prediction[0]\n",
    "\n",
    "#sample output\n",
    "print(f\"Station number {desired_row[0]}\")\n",
    "print(\"-------------------\")\n",
    "print(f\"Predicted available bikes at  : {prediction_values[0]} \")\n",
    "print(f\"Predicted available bike stands : {prediction_values[1]}\")"
   ]
  },
  {
   "cell_type": "code",
   "execution_count": null,
   "metadata": {},
   "outputs": [],
   "source": []
  }
 ],
 "metadata": {
  "kernelspec": {
   "display_name": "Python 3",
   "language": "python",
   "name": "python3"
  },
  "language_info": {
   "codemirror_mode": {
    "name": "ipython",
    "version": 3
   },
   "file_extension": ".py",
   "mimetype": "text/x-python",
   "name": "python",
   "nbconvert_exporter": "python",
   "pygments_lexer": "ipython3",
   "version": "3.8.8"
  }
 },
 "nbformat": 4,
 "nbformat_minor": 4
}
